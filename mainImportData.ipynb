{
 "cells": [
  {
   "cell_type": "markdown",
   "id": "67ff49ff",
   "metadata": {},
   "source": [
    "# Import"
   ]
  },
  {
   "cell_type": "code",
   "execution_count": 1,
   "id": "840806cd",
   "metadata": {},
   "outputs": [],
   "source": [
    "import pandas as pd\n",
    "pd.set_option('display.max_columns', None)\n",
    "pd.set_option('display.max_rows', None)"
   ]
  },
  {
   "cell_type": "markdown",
   "id": "3383af63",
   "metadata": {},
   "source": [
    "**Import des données préfiltrées (score positif, réponses, favoris, vues) via la requête SQL suivante :**\n",
    "\n",
    "SELECT TOP 50000 Title, Body, Tags, Id, Score, ViewCount, FavoriteCount, AnswerCount\n",
    "\n",
    "FROM Posts \n",
    "\n",
    "WHERE PostTypeId = 1 AND ViewCount > 0 AND FavoriteCount > 0\n",
    "\n",
    "AND Score > 0 AND AnswerCount > 0 AND Id < 1000000\n",
    "\n",
    "**On effectue plusieurs requêtes en filtrant sur l'ID pour avoir environ 100.000 résultats.**"
   ]
  },
  {
   "cell_type": "code",
   "execution_count": 2,
   "id": "081ff2a4",
   "metadata": {},
   "outputs": [
    {
     "data": {
      "text/html": [
       "<div>\n",
       "<style scoped>\n",
       "    .dataframe tbody tr th:only-of-type {\n",
       "        vertical-align: middle;\n",
       "    }\n",
       "\n",
       "    .dataframe tbody tr th {\n",
       "        vertical-align: top;\n",
       "    }\n",
       "\n",
       "    .dataframe thead th {\n",
       "        text-align: right;\n",
       "    }\n",
       "</style>\n",
       "<table border=\"1\" class=\"dataframe\">\n",
       "  <thead>\n",
       "    <tr style=\"text-align: right;\">\n",
       "      <th></th>\n",
       "      <th>Title</th>\n",
       "      <th>Body</th>\n",
       "      <th>Tags</th>\n",
       "      <th>Id</th>\n",
       "      <th>Score</th>\n",
       "      <th>ViewCount</th>\n",
       "      <th>FavoriteCount</th>\n",
       "      <th>AnswerCount</th>\n",
       "    </tr>\n",
       "  </thead>\n",
       "  <tbody>\n",
       "    <tr>\n",
       "      <th>0</th>\n",
       "      <td>Swap two bits in given integer</td>\n",
       "      <td>&lt;p&gt;I saw a some solutions but its look complex...</td>\n",
       "      <td>&lt;c&gt;&lt;bit-manipulation&gt;&lt;byte&gt;&lt;bitwise-operators&gt;...</td>\n",
       "      <td>38501432</td>\n",
       "      <td>3</td>\n",
       "      <td>3915</td>\n",
       "      <td>1</td>\n",
       "      <td>5</td>\n",
       "    </tr>\n",
       "    <tr>\n",
       "      <th>1</th>\n",
       "      <td>BigBlueButton: unmet dependencies on Ubuntu 10.04</td>\n",
       "      <td>&lt;p&gt;I try to install the last version of BigBlu...</td>\n",
       "      <td>&lt;ubuntu&gt;&lt;ubuntu-10.04&gt;&lt;bigbluebutton&gt;</td>\n",
       "      <td>20097781</td>\n",
       "      <td>1</td>\n",
       "      <td>3378</td>\n",
       "      <td>1</td>\n",
       "      <td>1</td>\n",
       "    </tr>\n",
       "    <tr>\n",
       "      <th>2</th>\n",
       "      <td>error while locating .sdf file on ASP.NET server</td>\n",
       "      <td>&lt;p&gt;I have done a web project ( using C# + SQL ...</td>\n",
       "      <td>&lt;c#&gt;&lt;asp.net&gt;&lt;sql-server-2005&gt;&lt;sql-server-ce&gt;</td>\n",
       "      <td>3994119</td>\n",
       "      <td>1</td>\n",
       "      <td>1194</td>\n",
       "      <td>1</td>\n",
       "      <td>3</td>\n",
       "    </tr>\n",
       "    <tr>\n",
       "      <th>3</th>\n",
       "      <td>Can I customize Elastic Search to use my own S...</td>\n",
       "      <td>&lt;p&gt;specifically, I want to index everything (e...</td>\n",
       "      <td>&lt;lucene&gt;&lt;stop-words&gt;&lt;elasticsearch&gt;</td>\n",
       "      <td>4927629</td>\n",
       "      <td>11</td>\n",
       "      <td>7670</td>\n",
       "      <td>3</td>\n",
       "      <td>4</td>\n",
       "    </tr>\n",
       "    <tr>\n",
       "      <th>4</th>\n",
       "      <td>Are \"popper\" and \"popper.js\" two different pac...</td>\n",
       "      <td>&lt;p&gt;I am following a tutorial that uses this co...</td>\n",
       "      <td>&lt;npm&gt;&lt;bootstrap-4&gt;&lt;popper.js&gt;&lt;react-popper&gt;&lt;po...</td>\n",
       "      <td>56225444</td>\n",
       "      <td>4</td>\n",
       "      <td>1016</td>\n",
       "      <td>1</td>\n",
       "      <td>1</td>\n",
       "    </tr>\n",
       "  </tbody>\n",
       "</table>\n",
       "</div>"
      ],
      "text/plain": [
       "                                               Title  \\\n",
       "0                     Swap two bits in given integer   \n",
       "1  BigBlueButton: unmet dependencies on Ubuntu 10.04   \n",
       "2   error while locating .sdf file on ASP.NET server   \n",
       "3  Can I customize Elastic Search to use my own S...   \n",
       "4  Are \"popper\" and \"popper.js\" two different pac...   \n",
       "\n",
       "                                                Body  \\\n",
       "0  <p>I saw a some solutions but its look complex...   \n",
       "1  <p>I try to install the last version of BigBlu...   \n",
       "2  <p>I have done a web project ( using C# + SQL ...   \n",
       "3  <p>specifically, I want to index everything (e...   \n",
       "4  <p>I am following a tutorial that uses this co...   \n",
       "\n",
       "                                                Tags        Id  Score  \\\n",
       "0  <c><bit-manipulation><byte><bitwise-operators>...  38501432      3   \n",
       "1              <ubuntu><ubuntu-10.04><bigbluebutton>  20097781      1   \n",
       "2      <c#><asp.net><sql-server-2005><sql-server-ce>   3994119      1   \n",
       "3                <lucene><stop-words><elasticsearch>   4927629     11   \n",
       "4  <npm><bootstrap-4><popper.js><react-popper><po...  56225444      4   \n",
       "\n",
       "   ViewCount  FavoriteCount  AnswerCount  \n",
       "0       3915              1            5  \n",
       "1       3378              1            1  \n",
       "2       1194              1            3  \n",
       "3       7670              3            4  \n",
       "4       1016              1            1  "
      ]
     },
     "execution_count": 2,
     "metadata": {},
     "output_type": "execute_result"
    }
   ],
   "source": [
    "# Import des données tronquées pour les tests\n",
    "data = pd.read_csv('QueryResults_NEW_LIGHT.csv')\n",
    "\n",
    "data.head(5)"
   ]
  },
  {
   "cell_type": "markdown",
   "id": "96bea21f",
   "metadata": {},
   "source": [
    "On supprime un certain nombre de lignes pour réduire la place dans la RAM :"
   ]
  },
  {
   "cell_type": "code",
   "execution_count": 3,
   "id": "53523f5f",
   "metadata": {},
   "outputs": [],
   "source": [
    "# N_LIGNES = 1000\n",
    "# data = data.iloc[:N_LIGNES, :]"
   ]
  },
  {
   "cell_type": "markdown",
   "id": "9c25c002",
   "metadata": {},
   "source": [
    "# Nettoyage des données\n",
    "\n",
    "### Filtrage\n",
    "\n",
    "On choisis de supprimer certaines des lignes comme suit :\n",
    "\n",
    "- Suppression des doublons,\n",
    "- Score positif,\n",
    "- Ayant des réponses.\n",
    "\n",
    "On supprime les colonnes qui ne sont pas pertinentes.\n",
    "\n",
    "Fonction de nettoyage du texte HTML :"
   ]
  },
  {
   "cell_type": "code",
   "execution_count": 4,
   "id": "7b3433bb",
   "metadata": {},
   "outputs": [
    {
     "name": "stdout",
     "output_type": "stream",
     "text": [
      "Avant : 10000\n",
      "Après : 10000\n"
     ]
    },
    {
     "data": {
      "text/html": [
       "<div>\n",
       "<style scoped>\n",
       "    .dataframe tbody tr th:only-of-type {\n",
       "        vertical-align: middle;\n",
       "    }\n",
       "\n",
       "    .dataframe tbody tr th {\n",
       "        vertical-align: top;\n",
       "    }\n",
       "\n",
       "    .dataframe thead th {\n",
       "        text-align: right;\n",
       "    }\n",
       "</style>\n",
       "<table border=\"1\" class=\"dataframe\">\n",
       "  <thead>\n",
       "    <tr style=\"text-align: right;\">\n",
       "      <th></th>\n",
       "      <th>Title</th>\n",
       "      <th>Body</th>\n",
       "      <th>Tags</th>\n",
       "    </tr>\n",
       "  </thead>\n",
       "  <tbody>\n",
       "    <tr>\n",
       "      <th>0</th>\n",
       "      <td>Swap two bits in given integer</td>\n",
       "      <td>&lt;p&gt;I saw a some solutions but its look complex...</td>\n",
       "      <td>&lt;c&gt;&lt;bit-manipulation&gt;&lt;byte&gt;&lt;bitwise-operators&gt;...</td>\n",
       "    </tr>\n",
       "    <tr>\n",
       "      <th>1</th>\n",
       "      <td>BigBlueButton: unmet dependencies on Ubuntu 10.04</td>\n",
       "      <td>&lt;p&gt;I try to install the last version of BigBlu...</td>\n",
       "      <td>&lt;ubuntu&gt;&lt;ubuntu-10.04&gt;&lt;bigbluebutton&gt;</td>\n",
       "    </tr>\n",
       "    <tr>\n",
       "      <th>2</th>\n",
       "      <td>error while locating .sdf file on ASP.NET server</td>\n",
       "      <td>&lt;p&gt;I have done a web project ( using C# + SQL ...</td>\n",
       "      <td>&lt;c#&gt;&lt;asp.net&gt;&lt;sql-server-2005&gt;&lt;sql-server-ce&gt;</td>\n",
       "    </tr>\n",
       "    <tr>\n",
       "      <th>3</th>\n",
       "      <td>Can I customize Elastic Search to use my own S...</td>\n",
       "      <td>&lt;p&gt;specifically, I want to index everything (e...</td>\n",
       "      <td>&lt;lucene&gt;&lt;stop-words&gt;&lt;elasticsearch&gt;</td>\n",
       "    </tr>\n",
       "    <tr>\n",
       "      <th>4</th>\n",
       "      <td>Are \"popper\" and \"popper.js\" two different pac...</td>\n",
       "      <td>&lt;p&gt;I am following a tutorial that uses this co...</td>\n",
       "      <td>&lt;npm&gt;&lt;bootstrap-4&gt;&lt;popper.js&gt;&lt;react-popper&gt;&lt;po...</td>\n",
       "    </tr>\n",
       "  </tbody>\n",
       "</table>\n",
       "</div>"
      ],
      "text/plain": [
       "                                               Title  \\\n",
       "0                     Swap two bits in given integer   \n",
       "1  BigBlueButton: unmet dependencies on Ubuntu 10.04   \n",
       "2   error while locating .sdf file on ASP.NET server   \n",
       "3  Can I customize Elastic Search to use my own S...   \n",
       "4  Are \"popper\" and \"popper.js\" two different pac...   \n",
       "\n",
       "                                                Body  \\\n",
       "0  <p>I saw a some solutions but its look complex...   \n",
       "1  <p>I try to install the last version of BigBlu...   \n",
       "2  <p>I have done a web project ( using C# + SQL ...   \n",
       "3  <p>specifically, I want to index everything (e...   \n",
       "4  <p>I am following a tutorial that uses this co...   \n",
       "\n",
       "                                                Tags  \n",
       "0  <c><bit-manipulation><byte><bitwise-operators>...  \n",
       "1              <ubuntu><ubuntu-10.04><bigbluebutton>  \n",
       "2      <c#><asp.net><sql-server-2005><sql-server-ce>  \n",
       "3                <lucene><stop-words><elasticsearch>  \n",
       "4  <npm><bootstrap-4><popper.js><react-popper><po...  "
      ]
     },
     "execution_count": 4,
     "metadata": {},
     "output_type": "execute_result"
    }
   ],
   "source": [
    "import numpy as np\n",
    "\n",
    "print(f'Avant : {data.shape[0]}')\n",
    "\n",
    "# Doublons\n",
    "data.drop_duplicates(inplace=True)\n",
    "\n",
    "# Score positif\n",
    "data.drop(data[data.Score < 0].index, inplace=True)\n",
    "\n",
    "# Ayant des réponses\n",
    "data.dropna(subset = ['AnswerCount'], inplace=True)\n",
    "print(f'Après : {data.shape[0]}')\n",
    "\n",
    "# Réindexaction\n",
    "data.reset_index(inplace=True)\n",
    "\n",
    "# Suppression de certaines colonnes pour alléger le dataframe\n",
    "data.drop(['index', 'Id', 'Score', 'ViewCount', 'AnswerCount', 'FavoriteCount'], axis=1, inplace=True)\n",
    "\n",
    "# Affichage\n",
    "data.head(5)"
   ]
  },
  {
   "cell_type": "markdown",
   "id": "43675c7d",
   "metadata": {},
   "source": [
    "La filtrage n'a plus d'impact sur les données d'entrée car elles ont déjà été filtrées par SQL."
   ]
  },
  {
   "cell_type": "markdown",
   "id": "621e5a0d",
   "metadata": {},
   "source": [
    "### Valeurs manquantes"
   ]
  },
  {
   "cell_type": "code",
   "execution_count": 5,
   "id": "c061db0c",
   "metadata": {},
   "outputs": [
    {
     "name": "stdout",
     "output_type": "stream",
     "text": [
      "Pourcentage de NaN Body = 0.0%\n",
      " \r",
      "Pourcentage de NaN Title = 0.0%\n",
      " \r",
      "Pourcentage de NaN Tag = 0.0%\n",
      "\n"
     ]
    }
   ],
   "source": [
    "# Calcul des valeurs manquantes sur chaque colonne\n",
    "isna_body = data['Body'].isna().sum()\n",
    "isna_title = data['Title'].isna().sum()\n",
    "isna_tag = data['Tags'].isna().sum()\n",
    "\n",
    "# Ratios en %\n",
    "isna_body = round(isna_body*100/data.shape[0], 2)\n",
    "isna_title = round(isna_title*100/data.shape[0], 2)\n",
    "isna_tag = round(isna_tag*100/data.shape[0], 2)\n",
    "\n",
    "# Affichage\n",
    "print(f'Pourcentage de NaN Body = {isna_body}%\\n',\n",
    "      f'\\rPourcentage de NaN Title = {isna_title}%\\n',\n",
    "      f'\\rPourcentage de NaN Tag = {isna_tag}%\\n')"
   ]
  },
  {
   "cell_type": "markdown",
   "id": "6006d621",
   "metadata": {},
   "source": [
    "### Traitement des tags\n",
    "\n",
    "On cherche ici à parser les tags entre chevrons et à les transformer en simples listes de mots."
   ]
  },
  {
   "cell_type": "code",
   "execution_count": 6,
   "id": "b566e3df",
   "metadata": {},
   "outputs": [],
   "source": [
    "def parsingTags(tags):\n",
    "    \n",
    "    # En enlève le premier et le dernier chevron\n",
    "    tags = tags[1:-1]\n",
    "    \n",
    "    # On sépare le string par \"><\"\n",
    "    tags = tags.split('><')\n",
    "    \n",
    "    # Retour\n",
    "    return tags"
   ]
  },
  {
   "cell_type": "markdown",
   "id": "5fe4a41c",
   "metadata": {},
   "source": [
    "Application de la fonction et aperçu :"
   ]
  },
  {
   "cell_type": "code",
   "execution_count": 7,
   "id": "bc0b8207",
   "metadata": {},
   "outputs": [
    {
     "data": {
      "text/html": [
       "<div>\n",
       "<style scoped>\n",
       "    .dataframe tbody tr th:only-of-type {\n",
       "        vertical-align: middle;\n",
       "    }\n",
       "\n",
       "    .dataframe tbody tr th {\n",
       "        vertical-align: top;\n",
       "    }\n",
       "\n",
       "    .dataframe thead th {\n",
       "        text-align: right;\n",
       "    }\n",
       "</style>\n",
       "<table border=\"1\" class=\"dataframe\">\n",
       "  <thead>\n",
       "    <tr style=\"text-align: right;\">\n",
       "      <th></th>\n",
       "      <th>Title</th>\n",
       "      <th>Body</th>\n",
       "      <th>Tags</th>\n",
       "    </tr>\n",
       "  </thead>\n",
       "  <tbody>\n",
       "    <tr>\n",
       "      <th>0</th>\n",
       "      <td>Swap two bits in given integer</td>\n",
       "      <td>&lt;p&gt;I saw a some solutions but its look complex...</td>\n",
       "      <td>[c, bit-manipulation, byte, bitwise-operators,...</td>\n",
       "    </tr>\n",
       "    <tr>\n",
       "      <th>1</th>\n",
       "      <td>BigBlueButton: unmet dependencies on Ubuntu 10.04</td>\n",
       "      <td>&lt;p&gt;I try to install the last version of BigBlu...</td>\n",
       "      <td>[ubuntu, ubuntu-10.04, bigbluebutton]</td>\n",
       "    </tr>\n",
       "    <tr>\n",
       "      <th>2</th>\n",
       "      <td>error while locating .sdf file on ASP.NET server</td>\n",
       "      <td>&lt;p&gt;I have done a web project ( using C# + SQL ...</td>\n",
       "      <td>[c#, asp.net, sql-server-2005, sql-server-ce]</td>\n",
       "    </tr>\n",
       "    <tr>\n",
       "      <th>3</th>\n",
       "      <td>Can I customize Elastic Search to use my own S...</td>\n",
       "      <td>&lt;p&gt;specifically, I want to index everything (e...</td>\n",
       "      <td>[lucene, stop-words, elasticsearch]</td>\n",
       "    </tr>\n",
       "    <tr>\n",
       "      <th>4</th>\n",
       "      <td>Are \"popper\" and \"popper.js\" two different pac...</td>\n",
       "      <td>&lt;p&gt;I am following a tutorial that uses this co...</td>\n",
       "      <td>[npm, bootstrap-4, popper.js, react-popper, po...</td>\n",
       "    </tr>\n",
       "  </tbody>\n",
       "</table>\n",
       "</div>"
      ],
      "text/plain": [
       "                                               Title  \\\n",
       "0                     Swap two bits in given integer   \n",
       "1  BigBlueButton: unmet dependencies on Ubuntu 10.04   \n",
       "2   error while locating .sdf file on ASP.NET server   \n",
       "3  Can I customize Elastic Search to use my own S...   \n",
       "4  Are \"popper\" and \"popper.js\" two different pac...   \n",
       "\n",
       "                                                Body  \\\n",
       "0  <p>I saw a some solutions but its look complex...   \n",
       "1  <p>I try to install the last version of BigBlu...   \n",
       "2  <p>I have done a web project ( using C# + SQL ...   \n",
       "3  <p>specifically, I want to index everything (e...   \n",
       "4  <p>I am following a tutorial that uses this co...   \n",
       "\n",
       "                                                Tags  \n",
       "0  [c, bit-manipulation, byte, bitwise-operators,...  \n",
       "1              [ubuntu, ubuntu-10.04, bigbluebutton]  \n",
       "2      [c#, asp.net, sql-server-2005, sql-server-ce]  \n",
       "3                [lucene, stop-words, elasticsearch]  \n",
       "4  [npm, bootstrap-4, popper.js, react-popper, po...  "
      ]
     },
     "execution_count": 7,
     "metadata": {},
     "output_type": "execute_result"
    }
   ],
   "source": [
    "data['Tags'] = data['Tags'].apply(parsingTags)\n",
    "data.head(5)"
   ]
  },
  {
   "cell_type": "markdown",
   "id": "3e740b24",
   "metadata": {},
   "source": [
    "Maintenant que nous avons les tags sous forme de liste pour chaque ligne, nous décidons de ne conserver que les tags les plus fréquents en effectuant les opérations suivantes :\n",
    "\n",
    "- Création d'une liste totale de tous les tags du dataframe par concaténation des listes de toutes les lignes,\n",
    "- Comptage des occurences des tags sur tout le dataframe,\n",
    "- Suppression des tags qui apparaissent moins de SEUIL fois,\n",
    "- Affichage de la répartition des tags retenus,\n",
    "- Création d'une liste unique des tags les plus fréquents.\n",
    "\n",
    "Seuil du nombre d'apparitions d'un tag pour qu'il soit retenu :"
   ]
  },
  {
   "cell_type": "code",
   "execution_count": 8,
   "id": "2d2520d6",
   "metadata": {},
   "outputs": [],
   "source": [
    "SEUIL_TAGS = 200"
   ]
  },
  {
   "cell_type": "markdown",
   "id": "db74a3bf",
   "metadata": {},
   "source": [
    "Application du tri :"
   ]
  },
  {
   "cell_type": "code",
   "execution_count": 9,
   "id": "4aa6fe70",
   "metadata": {},
   "outputs": [
    {
     "name": "stdout",
     "output_type": "stream",
     "text": [
      "6830 tags en entrée\n"
     ]
    },
    {
     "data": {
      "image/png": "[encoded data removed]",
      "text/plain": [
       "<Figure size 1152x288 with 1 Axes>"
      ]
     },
     "metadata": {
      "needs_background": "light"
     },
     "output_type": "display_data"
    },
    {
     "name": "stdout",
     "output_type": "stream",
     "text": [
      "19 tags en sortie\n"
     ]
    },
    {
     "data": {
      "text/html": [
       "<div>\n",
       "<style scoped>\n",
       "    .dataframe tbody tr th:only-of-type {\n",
       "        vertical-align: middle;\n",
       "    }\n",
       "\n",
       "    .dataframe tbody tr th {\n",
       "        vertical-align: top;\n",
       "    }\n",
       "\n",
       "    .dataframe thead th {\n",
       "        text-align: right;\n",
       "    }\n",
       "</style>\n",
       "<table border=\"1\" class=\"dataframe\">\n",
       "  <thead>\n",
       "    <tr style=\"text-align: right;\">\n",
       "      <th></th>\n",
       "      <th>Title</th>\n",
       "      <th>Body</th>\n",
       "      <th>Tags</th>\n",
       "    </tr>\n",
       "  </thead>\n",
       "  <tbody>\n",
       "    <tr>\n",
       "      <th>0</th>\n",
       "      <td>Swap two bits in given integer</td>\n",
       "      <td>&lt;p&gt;I saw a some solutions but its look complex...</td>\n",
       "      <td>[c, bit-manipulation, byte, bitwise-operators,...</td>\n",
       "    </tr>\n",
       "    <tr>\n",
       "      <th>1</th>\n",
       "      <td>BigBlueButton: unmet dependencies on Ubuntu 10.04</td>\n",
       "      <td>&lt;p&gt;I try to install the last version of BigBlu...</td>\n",
       "      <td>[ubuntu, ubuntu-10.04, bigbluebutton]</td>\n",
       "    </tr>\n",
       "    <tr>\n",
       "      <th>2</th>\n",
       "      <td>error while locating .sdf file on ASP.NET server</td>\n",
       "      <td>&lt;p&gt;I have done a web project ( using C# + SQL ...</td>\n",
       "      <td>[c#, asp.net, sql-server-2005, sql-server-ce]</td>\n",
       "    </tr>\n",
       "    <tr>\n",
       "      <th>3</th>\n",
       "      <td>Can I customize Elastic Search to use my own S...</td>\n",
       "      <td>&lt;p&gt;specifically, I want to index everything (e...</td>\n",
       "      <td>[lucene, stop-words, elasticsearch]</td>\n",
       "    </tr>\n",
       "    <tr>\n",
       "      <th>4</th>\n",
       "      <td>Are \"popper\" and \"popper.js\" two different pac...</td>\n",
       "      <td>&lt;p&gt;I am following a tutorial that uses this co...</td>\n",
       "      <td>[npm, bootstrap-4, popper.js, react-popper, po...</td>\n",
       "    </tr>\n",
       "  </tbody>\n",
       "</table>\n",
       "</div>"
      ],
      "text/plain": [
       "                                               Title  \\\n",
       "0                     Swap two bits in given integer   \n",
       "1  BigBlueButton: unmet dependencies on Ubuntu 10.04   \n",
       "2   error while locating .sdf file on ASP.NET server   \n",
       "3  Can I customize Elastic Search to use my own S...   \n",
       "4  Are \"popper\" and \"popper.js\" two different pac...   \n",
       "\n",
       "                                                Body  \\\n",
       "0  <p>I saw a some solutions but its look complex...   \n",
       "1  <p>I try to install the last version of BigBlu...   \n",
       "2  <p>I have done a web project ( using C# + SQL ...   \n",
       "3  <p>specifically, I want to index everything (e...   \n",
       "4  <p>I am following a tutorial that uses this co...   \n",
       "\n",
       "                                                Tags  \n",
       "0  [c, bit-manipulation, byte, bitwise-operators,...  \n",
       "1              [ubuntu, ubuntu-10.04, bigbluebutton]  \n",
       "2      [c#, asp.net, sql-server-2005, sql-server-ce]  \n",
       "3                [lucene, stop-words, elasticsearch]  \n",
       "4  [npm, bootstrap-4, popper.js, react-popper, po...  "
      ]
     },
     "execution_count": 9,
     "metadata": {},
     "output_type": "execute_result"
    }
   ],
   "source": [
    "import matplotlib.pyplot as plt\n",
    "\n",
    "# Concaténation de tous les tags du dataframe\n",
    "totalTags = []\n",
    "for index, x in data.iterrows():\n",
    "    totalTags = totalTags + x['Tags']\n",
    "\n",
    "# Nombre total de tags en entrée\n",
    "print(f'{len(set(totalTags))} tags en entrée')\n",
    "\n",
    "# Conversion en dataframe pour l'affichage du bargraph\n",
    "totalTags = pd.DataFrame(totalTags, columns=['Tags'])\n",
    "\n",
    "# On supprime les tags qui apparraissent peu\n",
    "counts = totalTags['Tags'].value_counts()\n",
    "totalTags = totalTags[~totalTags['Tags'].isin(counts[counts < SEUIL_TAGS].index)]\n",
    "\n",
    "# Affichage\n",
    "fig, axes = plt.subplots(figsize=(16, 4))\n",
    "fig.suptitle('Répartition des tags')\n",
    "totalTags['Tags'].value_counts(normalize=False).plot(kind='bar', width=0.1)\n",
    "plt.show()\n",
    "\n",
    "# Concaténation des tags retenus\n",
    "tagsRetenus = []\n",
    "for index, x in totalTags.iterrows():\n",
    "    tagsRetenus.append(x['Tags'])\n",
    "\n",
    "# Création d'une liste unique de tags retenus\n",
    "tagsRetenus = list(set(tagsRetenus))\n",
    "\n",
    "# Nombre total de tags en sortie\n",
    "print(f'{len(tagsRetenus)} tags en sortie')\n",
    "\n",
    "data.head(5)"
   ]
  },
  {
   "cell_type": "markdown",
   "id": "70e0bcea",
   "metadata": {},
   "source": [
    "Ensuite, une fonction de suppression des ces tags sur toutes les lignes est créée et appliquée :"
   ]
  },
  {
   "cell_type": "code",
   "execution_count": 10,
   "id": "f8da7afe",
   "metadata": {},
   "outputs": [
    {
     "data": {
      "text/html": [
       "<div>\n",
       "<style scoped>\n",
       "    .dataframe tbody tr th:only-of-type {\n",
       "        vertical-align: middle;\n",
       "    }\n",
       "\n",
       "    .dataframe tbody tr th {\n",
       "        vertical-align: top;\n",
       "    }\n",
       "\n",
       "    .dataframe thead th {\n",
       "        text-align: right;\n",
       "    }\n",
       "</style>\n",
       "<table border=\"1\" class=\"dataframe\">\n",
       "  <thead>\n",
       "    <tr style=\"text-align: right;\">\n",
       "      <th></th>\n",
       "      <th>Title</th>\n",
       "      <th>Body</th>\n",
       "      <th>Tags</th>\n",
       "    </tr>\n",
       "  </thead>\n",
       "  <tbody>\n",
       "    <tr>\n",
       "      <th>0</th>\n",
       "      <td>Swap two bits in given integer</td>\n",
       "      <td>&lt;p&gt;I saw a some solutions but its look complex...</td>\n",
       "      <td>[c]</td>\n",
       "    </tr>\n",
       "    <tr>\n",
       "      <th>1</th>\n",
       "      <td>BigBlueButton: unmet dependencies on Ubuntu 10.04</td>\n",
       "      <td>&lt;p&gt;I try to install the last version of BigBlu...</td>\n",
       "      <td>[]</td>\n",
       "    </tr>\n",
       "    <tr>\n",
       "      <th>2</th>\n",
       "      <td>error while locating .sdf file on ASP.NET server</td>\n",
       "      <td>&lt;p&gt;I have done a web project ( using C# + SQL ...</td>\n",
       "      <td>[c#, asp.net]</td>\n",
       "    </tr>\n",
       "    <tr>\n",
       "      <th>3</th>\n",
       "      <td>Can I customize Elastic Search to use my own S...</td>\n",
       "      <td>&lt;p&gt;specifically, I want to index everything (e...</td>\n",
       "      <td>[]</td>\n",
       "    </tr>\n",
       "    <tr>\n",
       "      <th>4</th>\n",
       "      <td>Are \"popper\" and \"popper.js\" two different pac...</td>\n",
       "      <td>&lt;p&gt;I am following a tutorial that uses this co...</td>\n",
       "      <td>[]</td>\n",
       "    </tr>\n",
       "  </tbody>\n",
       "</table>\n",
       "</div>"
      ],
      "text/plain": [
       "                                               Title  \\\n",
       "0                     Swap two bits in given integer   \n",
       "1  BigBlueButton: unmet dependencies on Ubuntu 10.04   \n",
       "2   error while locating .sdf file on ASP.NET server   \n",
       "3  Can I customize Elastic Search to use my own S...   \n",
       "4  Are \"popper\" and \"popper.js\" two different pac...   \n",
       "\n",
       "                                                Body           Tags  \n",
       "0  <p>I saw a some solutions but its look complex...            [c]  \n",
       "1  <p>I try to install the last version of BigBlu...             []  \n",
       "2  <p>I have done a web project ( using C# + SQL ...  [c#, asp.net]  \n",
       "3  <p>specifically, I want to index everything (e...             []  \n",
       "4  <p>I am following a tutorial that uses this co...             []  "
      ]
     },
     "execution_count": 10,
     "metadata": {},
     "output_type": "execute_result"
    }
   ],
   "source": [
    "def suppressionTags(tags):\n",
    "    return list(set(tags).intersection(set(tagsRetenus)))\n",
    "\n",
    "data['Tags'] = data['Tags'].apply(suppressionTags)\n",
    "data.head(5)"
   ]
  },
  {
   "cell_type": "markdown",
   "id": "eaf3394e",
   "metadata": {},
   "source": [
    "Enfin, on supprime les lignes qui ne contiennent plus de tags :"
   ]
  },
  {
   "cell_type": "code",
   "execution_count": 11,
   "id": "93d79c21",
   "metadata": {},
   "outputs": [
    {
     "name": "stdout",
     "output_type": "stream",
     "text": [
      "3217 individus supprimés (10000 → 6783)\n"
     ]
    },
    {
     "data": {
      "text/html": [
       "<div>\n",
       "<style scoped>\n",
       "    .dataframe tbody tr th:only-of-type {\n",
       "        vertical-align: middle;\n",
       "    }\n",
       "\n",
       "    .dataframe tbody tr th {\n",
       "        vertical-align: top;\n",
       "    }\n",
       "\n",
       "    .dataframe thead th {\n",
       "        text-align: right;\n",
       "    }\n",
       "</style>\n",
       "<table border=\"1\" class=\"dataframe\">\n",
       "  <thead>\n",
       "    <tr style=\"text-align: right;\">\n",
       "      <th></th>\n",
       "      <th>Title</th>\n",
       "      <th>Body</th>\n",
       "      <th>Tags</th>\n",
       "    </tr>\n",
       "  </thead>\n",
       "  <tbody>\n",
       "    <tr>\n",
       "      <th>0</th>\n",
       "      <td>Swap two bits in given integer</td>\n",
       "      <td>&lt;p&gt;I saw a some solutions but its look complex...</td>\n",
       "      <td>[c]</td>\n",
       "    </tr>\n",
       "    <tr>\n",
       "      <th>1</th>\n",
       "      <td>error while locating .sdf file on ASP.NET server</td>\n",
       "      <td>&lt;p&gt;I have done a web project ( using C# + SQL ...</td>\n",
       "      <td>[c#, asp.net]</td>\n",
       "    </tr>\n",
       "    <tr>\n",
       "      <th>2</th>\n",
       "      <td>How to store a tree in SQL database</td>\n",
       "      <td>&lt;p&gt;I have to store a tree in a database, so wh...</td>\n",
       "      <td>[sql-server, sql]</td>\n",
       "    </tr>\n",
       "    <tr>\n",
       "      <th>3</th>\n",
       "      <td>Can you call a C# function from JavaScript?</td>\n",
       "      <td>&lt;blockquote&gt;\\n  &lt;p&gt;&lt;strong&gt;Possible Duplicate:...</td>\n",
       "      <td>[c#, asp.net, javascript]</td>\n",
       "    </tr>\n",
       "    <tr>\n",
       "      <th>4</th>\n",
       "      <td>SQL Search a Numeric Field for non whole numbers</td>\n",
       "      <td>&lt;p&gt;I have a DB that has a numeric field and I ...</td>\n",
       "      <td>[sql]</td>\n",
       "    </tr>\n",
       "  </tbody>\n",
       "</table>\n",
       "</div>"
      ],
      "text/plain": [
       "                                              Title  \\\n",
       "0                    Swap two bits in given integer   \n",
       "1  error while locating .sdf file on ASP.NET server   \n",
       "2               How to store a tree in SQL database   \n",
       "3       Can you call a C# function from JavaScript?   \n",
       "4  SQL Search a Numeric Field for non whole numbers   \n",
       "\n",
       "                                                Body  \\\n",
       "0  <p>I saw a some solutions but its look complex...   \n",
       "1  <p>I have done a web project ( using C# + SQL ...   \n",
       "2  <p>I have to store a tree in a database, so wh...   \n",
       "3  <blockquote>\\n  <p><strong>Possible Duplicate:...   \n",
       "4  <p>I have a DB that has a numeric field and I ...   \n",
       "\n",
       "                        Tags  \n",
       "0                        [c]  \n",
       "1              [c#, asp.net]  \n",
       "2          [sql-server, sql]  \n",
       "3  [c#, asp.net, javascript]  \n",
       "4                      [sql]  "
      ]
     },
     "execution_count": 11,
     "metadata": {},
     "output_type": "execute_result"
    }
   ],
   "source": [
    "indexSuppr = []\n",
    "for i, x in data.iterrows():\n",
    "    if data.iloc[i, 2] == []:\n",
    "        indexSuppr.append(i)\n",
    "\n",
    "s1 = data.shape[0]\n",
    "\n",
    "data = data.drop(index=indexSuppr)  \n",
    "data.reset_index(inplace=True)\n",
    "\n",
    "s2 = data.shape[0]\n",
    "print(f'{s1-s2} individus supprimés ({s1} → {s2})')\n",
    "data.drop(['index'], axis=1, inplace=True)\n",
    "data.head(5)"
   ]
  },
  {
   "cell_type": "markdown",
   "id": "4f1dc0e0",
   "metadata": {},
   "source": [
    "### Traitement du texte\n",
    "\n",
    "Import d'un dictionnaire de mots relatifs à la programmation informatique. Ce sont des mots importants, par exemple ceux relatifs à des langages de programmation, qui nous aideront pour cibler nos tags :"
   ]
  },
  {
   "cell_type": "code",
   "execution_count": 12,
   "id": "fef24190",
   "metadata": {},
   "outputs": [],
   "source": [
    "import numpy as np\n",
    "filename = 'dicoProgramming.txt'\n",
    "\n",
    "# Récupération des mots du fichier texte\n",
    "texte = []\n",
    "with open(filename, 'r') as f:\n",
    "    for line in f.readlines():\n",
    "        texte.append(line.replace(\"\\n\", \"\"))\n",
    "\n",
    "# Mise en minuscule\n",
    "dictionnaireInfo = []\n",
    "for i in range(len(texte)):\n",
    "    dictionnaireInfo.append(texte[i].lower())"
   ]
  },
  {
   "cell_type": "markdown",
   "id": "40023563",
   "metadata": {},
   "source": [
    "On va maintenant nettoyer le texte des champs Body et Title en effectuant les actions suivantes :\n",
    "\n",
    "- Suppression des balises HTML avec BeautifulSoup,\n",
    "- Mise en minuscule,\n",
    "- Suppression des liens hypertexte,\n",
    "- Suppression des mots qui ne sont pas dans le dictionnaire ou qui ne sont pas reliés à l'informatique,\n",
    "- Suppression des contractions,\n",
    "- Retrait des nombres et de la ponctuation,\n",
    "- Retrait des caractères isolés qui en résultent ('s, 't, etc) sauf la lettre C qui est un langage de programmation,\n",
    "- Retrait des stopwords,\n",
    "- Stemming et Lemming des mots (on ne garde que la lemme). \"trying\" devient \"try\" par exemple.\n",
    "- Retrait des espaces en trop qui résulteraient des précédentes opérations.\n",
    "- Suppression des adjectifs et adverbes."
   ]
  },
  {
   "cell_type": "code",
   "execution_count": 13,
   "id": "982ba082",
   "metadata": {},
   "outputs": [],
   "source": [
    "from bs4 import BeautifulSoup\n",
    "import re\n",
    "import html as ihtml\n",
    "import nltk\n",
    "import contractions\n",
    "\n",
    "\"\"\"nltk.download('wordnet')\n",
    "nltk.download('punkt')\n",
    "nltk.download('averaged_perceptron_tagger')\n",
    "nltk.download('words')\n",
    "nltk.download('omw-1.4')\"\"\"\n",
    "\n",
    "# Mots du dictionnaire anglais\n",
    "from nltk.corpus import words\n",
    "dictionnaire = words.words()\n",
    "\n",
    "# Ajout des mots relatifs à l'informatique\n",
    "dictionnaire = dictionnaire + dictionnaireInfo\n",
    "\n",
    "import gensim\n",
    "from gensim.parsing.preprocessing import STOPWORDS as stopwords\n",
    "from nltk.tokenize import ToktokTokenizer\n",
    "from nltk.tokenize import RegexpTokenizer\n",
    "from autocorrect import Speller\n",
    "from nltk.stem.wordnet import WordNetLemmatizer\n",
    "from nltk.stem.snowball import SnowballStemmer\n",
    "from nltk.stem import PorterStemmer\n",
    "\n",
    "# Transformation des stopwords en liste\n",
    "stopwords = list(stopwords)\n",
    "\n",
    "# Regex qui ne conserve que les lettres\n",
    "tokenizerLettres = RegexpTokenizer(r'[a-z]+')\n",
    "\n",
    "# Alphabet sans la lettre c (langage de programmation)\n",
    "alphabetSansC = ['a', 'b', 'd', 'e', 'f', 'g', 'h', 'i', 'j', 'k',\n",
    "                 'l', 'm', 'n', 'o', 'p', 'q', 'r', 's', 't', 'u',\n",
    "                 'v', 'w', 'x', 'y', 'z']\n",
    "\n",
    "# Initialisation du lemmatizer\n",
    "lemmatizer = WordNetLemmatizer()\n",
    "\n",
    "# Initialisation du stemmer\n",
    "# stemmer = PorterStemmer()\n",
    "stemmer = SnowballStemmer(language='english')\n",
    "\n",
    "# Initialisation du correcteur\n",
    "spell = Speller(lang='en')\n",
    "\n",
    "\n",
    "# Retrait des stopwords\n",
    "def removeWords(text, words):\n",
    "    \n",
    "    # Tokenisation du texte\n",
    "    text = nltk.word_tokenize(text)\n",
    "    # Retrait des stopwords en passant par des sets\n",
    "    text = list(set(text) - set(words))\n",
    "    # Regroupement du textes\n",
    "    text = \" \".join(text)\n",
    "    return text\n",
    "\n",
    "\n",
    "# Conservation uniquement des mots du dictionnaire\n",
    "def motsCorrects(text):\n",
    "    \n",
    "    # Tokenisation du texte\n",
    "    text = nltk.word_tokenize(text)\n",
    "    # On garde uniquement les mots du dictionnaire\n",
    "    text = list(set(text) & set(dictionnaire))\n",
    "    # Regroupement du textes\n",
    "    text = \" \".join(text)\n",
    "    return text\n",
    "\n",
    "\n",
    "# Lemmatizaion des mots en fonction de leur type (nom, verbe, etc)\n",
    "def lemmatize_text(text):\n",
    "    \n",
    "    # Découpage des mots en liste associé au tag du type de mot\n",
    "    tokens_tagged = nltk.pos_tag(nltk.word_tokenize(text))\n",
    "    \n",
    "    # Vecteur du texte lemmatisé\n",
    "    lemmatized_text = []\n",
    "    \n",
    "    # Boucle sur les mots et leurs tags\n",
    "    for word, tag in tokens_tagged:\n",
    "        # Adjectifs\n",
    "        if tag.startswith('J'):\n",
    "            # lemmatized_text.append(lemmatizer.lemmatize(word, 'a'))\n",
    "            lemmatized_text.append('')\n",
    "        # Adverbes\n",
    "        elif tag.startswith('R'):\n",
    "            # lemmatized_text.append(lemmatizer.lemmatize(word, 'r'))\n",
    "            lemmatized_text.append('')\n",
    "        # Verbes\n",
    "        elif tag.startswith('V'):\n",
    "            lemmatized_text.append(lemmatizer.lemmatize(word, 'v'))\n",
    "        # Noms\n",
    "        elif tag.startswith('N'):\n",
    "            lemmatized_text.append(lemmatizer.lemmatize(word, 'n'))\n",
    "        # Lematization simple pour le reste\n",
    "        else:\n",
    "            lemmatized_text.append(lemmatizer.lemmatize(word))\n",
    "    \n",
    "    # Recollement du texte\n",
    "    return \" \".join(lemmatized_text)\n",
    "\n",
    "\n",
    "# Stemming du texte\n",
    "def stemming_text(text):\n",
    "\n",
    "    text = nltk.word_tokenize(text)\n",
    "    stem_text = []\n",
    "    for word in text:\n",
    "        stem_text.append(stemmer.stem(word))\n",
    "    return \" \".join(stem_text)\n",
    "\n",
    "\n",
    "# Retrait des contractions et du slang\n",
    "def suppressionContractions(text):\n",
    "\n",
    "    # Tokenisation du texte\n",
    "    text = contractions.fix(text)\n",
    "    return text\n",
    "\n",
    "\n",
    "# Fonction de nettoyage du texte qui regroupe plusieurs opérations\n",
    "def clean_text(text):\n",
    "    \n",
    "    # Retrait du HTML par BeautifulSoup\n",
    "    text = BeautifulSoup(ihtml.unescape(text)).text\n",
    "    \n",
    "    # Mise en minuscule\n",
    "    text = text.lower()\n",
    "    \n",
    "    # Retrait des liens\n",
    "    text = re.sub(r\"http[s]?://\\S+\", \"\", text)\n",
    "    \n",
    "    # Retrait des contractions (doesn't) avant la ponctuation\n",
    "    text = suppressionContractions(text)\n",
    "    \n",
    "    # Retrait des lettres seules sauf le C\n",
    "    text = removeWords(text, alphabetSansC)\n",
    "    \n",
    "    # On ne garde que les mots de la langue anglaise\n",
    "    text = motsCorrects(text)\n",
    "    \n",
    "    # Retrait de la ponctuation\n",
    "    text = tokenizerLettres.tokenize(text)\n",
    "    text = \" \".join(text)\n",
    "    \n",
    "    # Correction de l'orthographe (très couteux en ressources)\n",
    "    # text = spell(text)\n",
    "    \n",
    "    # Stemming des mots\n",
    "    # text = stemming_text(text)\n",
    "    \n",
    "    # Lemmatisation des mots\n",
    "    text = lemmatize_text(text)\n",
    "    \n",
    "    # Retrait des stopwords\n",
    "    text = removeWords(text, stopwords)\n",
    "    \n",
    "    # Retrait des espaces en trop \n",
    "    text = re.sub(r\"\\s+\", \" \", text)\n",
    "    \n",
    "    # Retour\n",
    "    return text"
   ]
  },
  {
   "cell_type": "markdown",
   "id": "9d766b4e",
   "metadata": {},
   "source": [
    "Affichage des stopwords :"
   ]
  },
  {
   "cell_type": "code",
   "execution_count": 14,
   "id": "2693356c",
   "metadata": {
    "scrolled": false
   },
   "outputs": [
    {
     "name": "stdout",
     "output_type": "stream",
     "text": [
      "337\n",
      "['a', 'about', 'above', 'across', 'after', 'afterwards', 'again', 'against', 'all', 'almost', 'alone', 'along', 'already', 'also', 'although', 'always', 'am', 'among', 'amongst', 'amoungst', 'amount', 'an', 'and', 'another', 'any', 'anyhow', 'anyone', 'anything', 'anyway', 'anywhere', 'are', 'around', 'as', 'at', 'back', 'be', 'became', 'because', 'become', 'becomes', 'becoming', 'been', 'before', 'beforehand', 'behind', 'being', 'below', 'beside', 'besides', 'between', 'beyond', 'bill', 'both', 'bottom', 'but', 'by', 'call', 'can', 'cannot', 'cant', 'co', 'computer', 'con', 'could', 'couldnt', 'cry', 'de', 'describe', 'detail', 'did', 'didn', 'do', 'does', 'doesn', 'doing', 'don', 'done', 'down', 'due', 'during', 'each', 'eg', 'eight', 'either', 'eleven', 'else', 'elsewhere', 'empty', 'enough', 'etc', 'even', 'ever', 'every', 'everyone', 'everything', 'everywhere', 'except', 'few', 'fifteen', 'fifty', 'fill', 'find', 'fire', 'first', 'five', 'for', 'former', 'formerly', 'forty', 'found', 'four', 'from', 'front', 'full', 'further', 'get', 'give', 'go', 'had', 'has', 'hasnt', 'have', 'he', 'hence', 'her', 'here', 'hereafter', 'hereby', 'herein', 'hereupon', 'hers', 'herself', 'him', 'himself', 'his', 'how', 'however', 'hundred', 'i', 'ie', 'if', 'in', 'inc', 'indeed', 'interest', 'into', 'is', 'it', 'its', 'itself', 'just', 'keep', 'kg', 'km', 'last', 'latter', 'latterly', 'least', 'less', 'ltd', 'made', 'make', 'many', 'may', 'me', 'meanwhile', 'might', 'mill', 'mine', 'more', 'moreover', 'most', 'mostly', 'move', 'much', 'must', 'my', 'myself', 'name', 'namely', 'neither', 'never', 'nevertheless', 'next', 'nine', 'no', 'nobody', 'none', 'noone', 'nor', 'not', 'nothing', 'now', 'nowhere', 'of', 'off', 'often', 'on', 'once', 'one', 'only', 'onto', 'or', 'other', 'others', 'otherwise', 'our', 'ours', 'ourselves', 'out', 'over', 'own', 'part', 'per', 'perhaps', 'please', 'put', 'quite', 'rather', 're', 'really', 'regarding', 'same', 'say', 'see', 'seem', 'seemed', 'seeming', 'seems', 'serious', 'several', 'she', 'should', 'show', 'side', 'since', 'sincere', 'six', 'sixty', 'so', 'some', 'somehow', 'someone', 'something', 'sometime', 'sometimes', 'somewhere', 'still', 'such', 'system', 'take', 'ten', 'than', 'that', 'the', 'their', 'them', 'themselves', 'then', 'thence', 'there', 'thereafter', 'thereby', 'therefore', 'therein', 'thereupon', 'these', 'they', 'thick', 'thin', 'third', 'this', 'those', 'though', 'three', 'through', 'throughout', 'thru', 'thus', 'to', 'together', 'too', 'top', 'toward', 'towards', 'twelve', 'twenty', 'two', 'un', 'under', 'unless', 'until', 'up', 'upon', 'us', 'used', 'using', 'various', 'very', 'via', 'was', 'we', 'well', 'were', 'what', 'whatever', 'when', 'whence', 'whenever', 'where', 'whereafter', 'whereas', 'whereby', 'wherein', 'whereupon', 'wherever', 'whether', 'which', 'while', 'whither', 'who', 'whoever', 'whole', 'whom', 'whose', 'why', 'will', 'with', 'within', 'without', 'would', 'yet', 'you', 'your', 'yours', 'yourself', 'yourselves']\n"
     ]
    }
   ],
   "source": [
    "print(len(stopwords))\n",
    "print(sorted(stopwords))"
   ]
  },
  {
   "cell_type": "markdown",
   "id": "22d0a453",
   "metadata": {},
   "source": [
    "Application de la fonction et exemple :"
   ]
  },
  {
   "cell_type": "code",
   "execution_count": 15,
   "id": "f6b27985",
   "metadata": {
    "scrolled": true
   },
   "outputs": [
    {
     "name": "stdout",
     "output_type": "stream",
     "text": [
      "\u001b[1mAvant traitement\u001b[0m : Swap two bits in given integer\n",
      "\n",
      "<p>I saw a some solutions but its look complex.</p>\n",
      "\n",
      "<p>What are the most effective way to swap between two bits in n,m postions?</p>\n",
      "\n",
      "<pre><code>int swapBits(int num, int nPostion, int mPosition);\n",
      "</code></pre>\n",
      "\n",
      "\n",
      "\u001b[1mAprès traitement\u001b[0m : integer swap\n",
      "\n",
      "look int way swap saw\n"
     ]
    }
   ],
   "source": [
    "# Ligne 1 avant traitement\n",
    "print('\\033[1mAvant traitement\\033[0m :', data['Title'][0])\n",
    "print()\n",
    "print(data['Body'][0])\n",
    "\n",
    "# Application de la fonction de nettoyage du texte\n",
    "data['Body'] = data['Body'].apply(clean_text)\n",
    "data['Title'] = data['Title'].apply(clean_text)\n",
    "\n",
    "# Ligne 1 après traitement\n",
    "print()\n",
    "print('\\033[1mAprès traitement\\033[0m :', data['Title'][0])\n",
    "print()\n",
    "print(data['Body'][0])"
   ]
  },
  {
   "cell_type": "markdown",
   "id": "e8961261",
   "metadata": {},
   "source": [
    "Vérification de l'extraction des contractions :"
   ]
  },
  {
   "cell_type": "code",
   "execution_count": 16,
   "id": "8dea9ef4",
   "metadata": {},
   "outputs": [
    {
     "name": "stdout",
     "output_type": "stream",
     "text": [
      "does not\n"
     ]
    }
   ],
   "source": [
    "print(suppressionContractions(\"doesn't\"))"
   ]
  },
  {
   "cell_type": "markdown",
   "id": "6c7fbf8d",
   "metadata": {},
   "source": [
    "Concaténation des colonnes Body et Title qui contiennent les mots. Pas de réelle nécessité de discerner les deux."
   ]
  },
  {
   "cell_type": "code",
   "execution_count": 17,
   "id": "71951c89",
   "metadata": {},
   "outputs": [],
   "source": [
    "data['TitleBody'] = data['Title'] + ' ' + data['Body']"
   ]
  },
  {
   "cell_type": "markdown",
   "id": "9f2fa07f",
   "metadata": {},
   "source": [
    "On supprime les lignes au TitleBody vide :"
   ]
  },
  {
   "cell_type": "code",
   "execution_count": 18,
   "id": "5cb4643b",
   "metadata": {},
   "outputs": [
    {
     "name": "stdout",
     "output_type": "stream",
     "text": [
      "1 individus supprimés (6783 → 6782)\n"
     ]
    }
   ],
   "source": [
    "indexSuppr = []\n",
    "for i, x in data.iterrows():\n",
    "    if x['Title'] == '' and x['Body'] == '':\n",
    "        indexSuppr.append(i)\n",
    "\n",
    "s1 = data.shape[0]\n",
    "\n",
    "data = data.drop(index=indexSuppr)\n",
    "data.reset_index()\n",
    "\n",
    "s2 = data.shape[0]\n",
    "print(f'{s1-s2} individus supprimés ({s1} → {s2})')"
   ]
  },
  {
   "cell_type": "markdown",
   "id": "98b912a3",
   "metadata": {},
   "source": [
    "Suppression des colonnes Title et Body, on va travailler sur TitleBody seulement pour plus de simplicité :"
   ]
  },
  {
   "cell_type": "code",
   "execution_count": 19,
   "id": "089b3e6d",
   "metadata": {},
   "outputs": [
    {
     "data": {
      "text/html": [
       "<div>\n",
       "<style scoped>\n",
       "    .dataframe tbody tr th:only-of-type {\n",
       "        vertical-align: middle;\n",
       "    }\n",
       "\n",
       "    .dataframe tbody tr th {\n",
       "        vertical-align: top;\n",
       "    }\n",
       "\n",
       "    .dataframe thead th {\n",
       "        text-align: right;\n",
       "    }\n",
       "</style>\n",
       "<table border=\"1\" class=\"dataframe\">\n",
       "  <thead>\n",
       "    <tr style=\"text-align: right;\">\n",
       "      <th></th>\n",
       "      <th>Tags</th>\n",
       "      <th>TitleBody</th>\n",
       "    </tr>\n",
       "  </thead>\n",
       "  <tbody>\n",
       "    <tr>\n",
       "      <th>0</th>\n",
       "      <td>[c]</td>\n",
       "      <td>integer swap look int way swap saw</td>\n",
       "    </tr>\n",
       "    <tr>\n",
       "      <th>1</th>\n",
       "      <td>[c#, asp.net]</td>\n",
       "      <td>error file server c project persist idea try s...</td>\n",
       "    </tr>\n",
       "    <tr>\n",
       "      <th>2</th>\n",
       "      <td>[sql-server, sql]</td>\n",
       "      <td>tree database store sql tree server database m...</td>\n",
       "    </tr>\n",
       "    <tr>\n",
       "      <th>3</th>\n",
       "      <td>[c#, asp.net, javascript]</td>\n",
       "      <td>c function javascript javascript interviewer f...</td>\n",
       "    </tr>\n",
       "    <tr>\n",
       "      <th>4</th>\n",
       "      <td>[sql]</td>\n",
       "      <td>search field sql non return table search try f...</td>\n",
       "    </tr>\n",
       "  </tbody>\n",
       "</table>\n",
       "</div>"
      ],
      "text/plain": [
       "                        Tags  \\\n",
       "0                        [c]   \n",
       "1              [c#, asp.net]   \n",
       "2          [sql-server, sql]   \n",
       "3  [c#, asp.net, javascript]   \n",
       "4                      [sql]   \n",
       "\n",
       "                                           TitleBody  \n",
       "0                 integer swap look int way swap saw  \n",
       "1  error file server c project persist idea try s...  \n",
       "2  tree database store sql tree server database m...  \n",
       "3  c function javascript javascript interviewer f...  \n",
       "4  search field sql non return table search try f...  "
      ]
     },
     "execution_count": 19,
     "metadata": {},
     "output_type": "execute_result"
    }
   ],
   "source": [
    "data.drop(['Title', 'Body'], axis=1, inplace=True)\n",
    "data.head(5)"
   ]
  },
  {
   "cell_type": "markdown",
   "id": "7051cb87",
   "metadata": {},
   "source": [
    "# Extraction de features\n",
    "\n",
    "### Texte\n",
    "\n",
    "Création du corpus :"
   ]
  },
  {
   "cell_type": "code",
   "execution_count": 20,
   "id": "b09df732",
   "metadata": {},
   "outputs": [],
   "source": [
    "# Concaténation de toutes les chaines de caractère du dataframe\n",
    "# Ou de toute les lignes pour faire le countvectorizer\n",
    "corpus_LIGNES = []\n",
    "corpus_MOTS = []\n",
    "for i, x in data.iterrows():\n",
    "    mots = nltk.word_tokenize(x['TitleBody'])\n",
    "    corpus_MOTS = corpus_MOTS + mots\n",
    "    corpus_LIGNES.append(x['TitleBody'])"
   ]
  },
  {
   "cell_type": "markdown",
   "id": "847239c2",
   "metadata": {},
   "source": [
    "Affichage du corpus des mots **après filtrage** dans l'ordre alphébatique :"
   ]
  },
  {
   "cell_type": "code",
   "execution_count": 21,
   "id": "2923f08c",
   "metadata": {},
   "outputs": [
    {
     "name": "stdout",
     "output_type": "stream",
     "text": [
      "5369\n",
      "['aa', 'aardvark', 'abacus', 'abandon', 'abbreviation', 'ability', 'abnormal', 'abort', 'absence', 'absent', 'absolute', 'abstract', 'abstraction', 'abuse', 'abyss', 'academic', 'accelerate', 'acceleration', 'accelerator', 'accent', 'accept', 'acceptable', 'acceptance', 'acceptor', 'access', 'accessibility', 'accessory', 'accident', 'accommodate', 'accomplish', 'accomplished', 'accord', 'accordance', 'accordion', 'account', 'accounting', 'accumulate', 'accumulator', 'accuracy', 'accurate', 'accustom', 'achieve', 'achievement', 'acid', 'acknowledge', 'acm', 'acme', 'acquaint', 'acquire', 'acquisition', 'acrobat', 'act', 'action', 'actionscript', 'activate', 'activation', 'activex', 'activity', 'actor', 'actuator', 'ad', 'adapt', 'adaptation', 'adapter', 'adaptive', 'adaptor', 'add', 'addendum', 'addict', 'addition', 'address', 'adequate', 'adherence', 'adjacency', 'adjust', 'adjustment', 'administration', 'administrator', 'admit', 'ado', 'adobe', 'adopt', 'adoption', 'adorn', 'adorner', 'advance', 'advantage', 'adventure', 'adverse', 'advertise', 'advertisement', 'advice', 'advise', 'advisor', 'advocate', 'aes', 'aesthetic', 'affair', 'affect', 'affiliate', 'affine', 'affinity', 'afford', 'afghani', 'afraid', 'afternoon', 'age', 'agency', 'agent', 'aggregate', 'aggregation', 'ago', 'agree', 'agreed', 'agreement', 'agua', 'ahem', 'ahoy', 'ai', 'aid', 'aim', 'air', 'aircraft', 'aka', 'al', 'ala', 'alan', 'alarm', 'alas', 'albeit', 'album', 'alert', 'alfa', 'algebraic', 'algorithm', 'algorithmic', 'alias', 'align', 'alignment', 'alike', 'alison', 'alive', 'allele', 'alliance', 'allocate', 'allocation', 'allocator', 'allow', 'alloy', 'alongside', 'alpha', 'alphabet', 'alpine', 'alright', 'alt', 'altair', 'alter', 'alternate', 'alternating', 'alternative', 'altitude', 'altogether', 'amateur', 'amaze', 'amazing', 'ambiguity', 'ampersand', 'amplifier', 'amplitude', 'amy', 'ana', 'anaconda', 'analyse', 'analysis', 'analyst', 'analytics', 'analyze', 'analyzer', 'anchor', 'android', 'anger', 'angle', 'angular', 'anil', 'animal', 'animate', 'animation', 'annex', 'annotation', 'announce', 'announcement', 'annoy', 'annoyance', 'anon', 'anonymous', 'answer', 'ant', 'anti', 'anticipate', 'antivirus', 'anybody', 'anyways', 'aop', 'apache', 'apart', 'apartment', 'api', 'apk', 'apologize', 'apology', 'apostrophe', 'apparent', 'appear', 'appearance', 'appeasing', 'append', 'appendage', 'appendix', 'apple', 'applet', 'appliance', 'application', 'apply', 'appointment', 'appreciable', 'appreciate', 'approach', 'approaching', 'appropriate', 'approval', 'approve', 'approximate', 'apropos', 'aptitude', 'ar', 'arbitrary', 'arc', 'arcane', 'arch', 'archfiend', 'architectural', 'architecture', 'archive', 'area', 'arena', 'argue', 'argument', 'arise', 'arm', 'armor', 'arn', 'arrange', 'arrangement', 'array', 'arrival', 'arrive', 'arrow', 'arrows', 'art', 'artefact', 'article', 'artifact', 'artisan', 'artist', 'asana', 'ascend', 'ascertain', 'ascii', 'aside', 'ask', 'asmack', 'asp', 'aspect', 'ass', 'assembler', 'assembly', 'assert', 'assertion', 'assessment', 'asset', 'assign', 'assignment', 'assist', 'assistance', 'associate', 'association', 'associative', 'assume', 'assumption', 'assure', 'ast', 'asteroid', 'astroid', 'astrometry', 'asynchronous', 'atlas', 'atmos', 'atom', 'atomic', 'atop', 'attach', 'attached', 'attachment', 'attack', 'attacker', 'attempt', 'attend', 'attendance', 'attention', 'attribute', 'audience', 'audio', 'audit', 'augment', 'augmentation', 'authenticate', 'authentication', 'authenticator', 'authenticity', 'author', 'authority', 'authorization', 'authorize', 'auto', 'autoloading', 'automate', 'automatic', 'automation', 'auxiliary', 'avail', 'availability', 'avast', 'avenue', 'average', 'aviation', 'avoid', 'avoidance', 'await', 'awake', 'award', 'aware', 'awareness', 'awesome', 'awful', 'awhile', 'awkward', 'ax', 'axis', 'ay', 'azure', 'b', 'ba', 'baa', 'baar', 'babel', 'baby', 'backbone', 'background', 'backing', 'backlog', 'backup', 'backwards', 'badge', 'baffle', 'bake', 'balance', 'balancer', 'balancing', 'ball', 'balloon', 'bam', 'bamboo', 'ban', 'banana', 'band', 'bank', 'banker', 'banking', 'banner', 'bap', 'bar', 'barcelona', 'bare', 'bark', 'barking', 'barrier', 'base', 'baseball', 'bash', 'basic', 'basically', 'basis', 'basketball', 'bat', 'batch', 'batik', 'batman', 'battery', 'battle', 'bazaar', 'beam', 'bean', 'beanstalk', 'bear', 'bearer', 'bearing', 'beast', 'beat', 'beautiful', 'beautify', 'beauty', 'bed', 'beer', 'beg', 'begin', 'beginner', 'beginning', 'behalf', 'behave', 'behavior', 'behaviour', 'behold', 'bel', 'belief', 'believe', 'believer', 'bell', 'bellow', 'belong', 'belonging', 'ben', 'bend', 'beneath', 'benefit', 'bent', 'berg', 'bespeak', 'best', 'bet', 'beta', 'better', 'bevel', 'bias', 'bidirectional', 'billboard', 'billing', 'billion', 'bimester', 'bimodal', 'bimodality', 'bin', 'binary', 'bind', 'binder', 'binding', 'biography', 'biology', 'biri', 'birth', 'birthday', 'bisect', 'bisection', 'bison', 'bit', 'bite', 'bitwise', 'blackberry', 'blackout', 'blad', 'blade', 'blah', 'blame', 'blank', 'blas', 'blast', 'blaze', 'blazer', 'bleed', 'blend', 'blimp', 'blind', 'blink', 'bloat', 'blob', 'block', 'blocker', 'blocking', 'blood', 'bloody', 'blow', 'blowing', 'blown', 'blue', 'bluebird', 'bluefish', 'blueprint', 'blur', 'bo', 'board', 'boat', 'bob', 'bobby', 'body', 'boil', 'boiler', 'bold', 'bom', 'bomb', 'bonus', 'boo', 'book', 'bookkeeping', 'bookmark', 'bool', 'boolean', 'boon', 'boost', 'boot', 'booting', 'bootstrap', 'border', 'bore', 'boring', 'boron', 'borrow', 'borrower', 'borrowing', 'bos', 'boss', 'boston', 'bot', 'bother', 'bottleneck', 'bounce', 'bound', 'boundary', 'bounty', 'bow', 'bower', 'bowl', 'box', 'boy', 'brace', 'brach', 'bracket', 'brad', 'brain', 'branch', 'branching', 'brand', 'brass', 'brazil', 'breadth', 'break', 'breakdown', 'breaking', 'breakout', 'breed', 'breeze', 'breezy', 'brevity', 'brew', 'brick', 'bridge', 'bridging', 'brief', 'briefly', 'bright', 'brightness', 'bring', 'broadcast', 'broke', 'broken', 'broker', 'bronze', 'brown', 'browse', 'browser', 'browsing', 'bruise', 'brulee', 'brute', 'bu', 'bubble', 'bucket', 'buddy', 'buffer', 'bug', 'buggy', 'build', 'builder', 'building', 'built', 'bulk', 'bulky', 'bull', 'bullet', 'bump', 'bunch', 'bundle', 'bunny', 'burden', 'burn', 'burro', 'bury', 'bus', 'business', 'button', 'buy', 'buzz', 'bye', 'bypass', 'bytecode', 'c', 'ca', 'cab', 'cable', 'cache', 'cad', 'cake', 'calais', 'calculate', 'calculating', 'calculation', 'calculator', 'calendar', 'calender', 'callback', 'caller', 'cam', 'camel', 'camelcase', 'camera', 'camp', 'campaign', 'canada', 'cancel', 'cancellation', 'candidate', 'candlestick', 'canvas', 'cap', 'capability', 'capacitance', 'capacity', 'capital', 'capitalization', 'capitalize', 'capitan', 'caption', 'capture', 'car', 'carbon', 'card', 'cardboard', 'cardholder', 'care', 'career', 'caret', 'cargo', 'carl', 'carol', 'carrot', 'carry', 'cart', 'carte', 'cartel', 'cascade', 'case', 'cash', 'cast', 'casting', 'castle', 'castor', 'cat', 'cataclysm', 'catalina', 'catalogue', 'catch', 'catchable', 'catchall', 'category', 'cater', 'caught', 'cause', 'causing', 'caution', 'caveat', 'cay', 'cc', 'ce', 'cease', 'ceil', 'ceiling', 'celery', 'cell', 'cellular', 'census', 'center', 'centroid', 'century', 'certainty', 'certificate', 'certification', 'certify', 'cha', 'chad', 'chaff', 'chain', 'chaining', 'challenge', 'champ', 'chance', 'change', 'channel', 'chaos', 'chapter', 'char', 'character', 'charge', 'charm', 'chart', 'charting', 'chase', 'chat', 'cheap', 'cheaply', 'cheat', 'cheating', 'check', 'checkage', 'checker', 'checkerboard', 'cheerio', 'chef', 'chemistry', 'chessboard', 'chi', 'chicken', 'child', 'chin', 'chip', 'choice', 'choose', 'chooser', 'choosing', 'chop', 'chose', 'chosen', 'chrome', 'chromium', 'chromosome', 'chuck', 'chunk', 'church', 'cipher', 'circle', 'circuit', 'circular', 'circumference', 'circumflex', 'circumstance', 'circumstantial', 'circumvent', 'citation', 'citizen', 'city', 'claim', 'clang', 'clarification', 'clarify', 'clarity', 'clash', 'class', 'classic', 'classification', 'classifier', 'classify', 'classpath', 'clause', 'clean', 'cleaner', 'cleaning', 'cleanly', 'cleanup', 'clear', 'clearer', 'clearing', 'clerk', 'clever', 'click', 'client', 'climb', 'clint', 'clip', 'clobber', 'clock', 'clockwise', 'clog', 'clojure', 'clone', 'close', 'closer', 'closing', 'closure', 'cloud', 'clr', 'club', 'clue', 'clumsy', 'cluster', 'clustering', 'clutter', 'coach', 'coalesce', 'coast', 'cobol', 'coco', 'cocoa', 'cod', 'code', 'codepage', 'coder', 'coding', 'codon', 'coefficient', 'coercion', 'coexist', 'coffee', 'coffeescript', 'coherence', 'coherent', 'coin', 'coincide', 'col', 'cola', 'cold', 'coll', 'collaborate', 'collaboration', 'collapse', 'collate', 'collateral', 'collation', 'colleague', 'collect', 'collection', 'collector', 'college', 'collide', 'collision', 'colon', 'color', 'colorize', 'colour', 'column', 'coma', 'comb', 'combat', 'combination', 'combine', 'combining', 'come', 'comer', 'comet', 'comfort', 'comfortable', 'comfy', 'comma', 'command', 'comment', 'commenter', 'commit', 'committee', 'common', 'commonality', 'communicate', 'communication', 'community', 'compact', 'companion', 'company', 'comparator', 'compare', 'comparer', 'comparison', 'compatibility', 'compel', 'compelling', 'compensation', 'competent', 'competition', 'competitor', 'compilation', 'compile', 'compiler', 'complain', 'complaint', 'complement', 'complementary', 'complete', 'completeness', 'completion', 'complex', 'complexity', 'compliance', 'compliant', 'complicate', 'complication', 'comply', 'component', 'compose', 'composer', 'composite', 'compound', 'comprehension', 'comprehensive', 'compress', 'compression', 'comprise', 'compromise', 'computation', 'computational', 'compute', 'concat', 'concatenate', 'concatenation', 'concave', 'concentrate', 'concentration', 'concept', 'conceptual', 'concern', 'conch', 'concise', 'conclude', 'conclusion', 'concrete', 'concurrency', 'concurrent', 'concurrently', 'cond', 'condense', 'condition', 'conditional', 'conditionally', 'conduct', 'conductance', 'cone', 'confess', 'confidence', 'confidentiality', 'configuration', 'configure', 'confirm', 'confirmation', 'conflict', 'conflicting', 'conform', 'conformance', 'confuse', 'confusion', 'conjecture', 'conjunction', 'conn', 'connect', 'connectable', 'connection', 'connectivity', 'connector', 'connexion', 'conquer', 'conscience', 'consecutive', 'consensus', 'consent', 'consequence', 'consequent', 'conserve', 'consider', 'consideration', 'consist', 'consistency', 'consistent', 'console', 'consolidate', 'constant', 'constituent', 'constitute', 'constrain', 'constraint', 'construct', 'construction', 'constructor', 'consult', 'consultant', 'consultation', 'consumable', 'consume', 'consumer', 'consumption', 'contact', 'contain', 'container', 'containment', 'contend', 'content', 'contention', 'context', 'continent', 'continuation', 'continue', 'continuity', 'contour', 'contract', 'contradict', 'contradiction', 'contradictory', 'contrary', 'contrast', 'contribute', 'contribution', 'control', 'controller', 'controversy', 'conundrum', 'convenience', 'convenient', 'convention', 'converge', 'conversation', 'converse', 'conversion', 'convert', 'converter', 'converting', 'convex', 'convince', 'convincing', 'convolute', 'convolution', 'convolve', 'coo', 'cook', 'cookbook', 'cool', 'cooler', 'cope', 'copied', 'copy', 'copyright', 'core', 'corner', 'corolla', 'corp', 'corporation', 'corpus', 'correct', 'correction', 'correctly', 'correctness', 'correlate', 'correlation', 'correspond', 'corresponding', 'corrupt', 'corruption', 'cosine', 'cost', 'count', 'counter', 'counterpart', 'counting', 'countless', 'country', 'county', 'coupe', 'couple', 'coupon', 'course', 'covariance', 'cover', 'coverage', 'covered', 'coz', 'cpan', 'crack', 'crackle', 'crafty', 'crank', 'crap', 'crash', 'crawl', 'crawler', 'crazy', 'create', 'creation', 'creator', 'credit', 'crisis', 'crisp', 'criteria', 'criterion', 'criticism', 'criticize', 'critique', 'crop', 'cross', 'crossroad', 'crow', 'crowd', 'crucial', 'crude', 'cruise', 'crunching', 'crush', 'crypt', 'cryptography', 'crystal', 'cs', 'css', 'cube', 'cubic', 'cull', 'culling', 'culprit', 'culture', 'cumbersome', 'cumulative', 'cunningly', 'cup', 'curb', 'cure', 'curiosity', 'curious', 'curl', 'curr', 'currency', 'curriculum', 'cursor', 'cursory', 'curtain', 'curve', 'custom', 'customer', 'cut', 'cute', 'cutoff', 'cutting', 'cv', 'cvs', 'cycle', 'cyclic', 'cycling', 'cygwin', 'cylinder', 'da', 'dabble', 'dad', 'daemon', 'dag', 'dagger', 'dags', 'dal', 'dale', 'damage', 'damn', 'damp', 'dan', 'dance', 'dandy', 'danger', 'dangle', 'dao', 'dare', 'dark', 'darn', 'dart', 'dash', 'dashboard', 'data', 'database', 'dataflow', 'date', 'daughter', 'day', 'daylight', 'deactivate', 'dead', 'deadlock', 'deal', 'dealt', 'dearth', 'death', 'deb', 'debate', 'debit', 'debug', 'debugger', 'debugging', 'debut', 'decay', 'decent', 'decide', 'decimal', 'decipher', 'decision', 'declaration', 'declarative', 'declare', 'decline', 'decode', 'decompiler', 'decompose', 'decomposition', 'decompress', 'decorate', 'decoration', 'decorator', 'decrease', 'decrement', 'deduce', 'deduction', 'deep', 'deeply', 'default', 'defeat', 'defect', 'defence', 'defend', 'defer', 'deficit', 'define', 'definite', 'definition', 'definitive', 'deflate', 'deflection', 'defunct', 'deg', 'degenerate', 'degree', 'delay', 'delegate', 'delegation', 'delete', 'deletion', 'delicious', 'delimiter', 'deliver', 'delivery', 'dell', 'delta', 'demand', 'demarcation', 'demo', 'demonstrate', 'demonstration', 'demote', 'denial', 'denominator', 'denote', 'dense', 'density', 'deny', 'department', 'depend', 'dependency', 'dependent', 'depending', 'depict', 'deploy', 'deployment', 'depot', 'deprecate', 'deprecation', 'depth', 'derby', 'dereference', 'derivation', 'derivative', 'derive', 'descend', 'descendant', 'descending', 'descent', 'description', 'descriptive', 'descriptor', 'deserve', 'design', 'designate', 'designer', 'designing', 'desirable', 'desire', 'desired', 'desperation', 'despite', 'destination', 'destroy', 'destruction', 'destructor', 'detach', 'detect', 'detection', 'detector', 'determinate', 'determine', 'dev', 'develop', 'developer', 'development', 'deviation', 'device', 'devise', 'devote', 'di', 'diagnose', 'diagram', 'dial', 'dialect', 'dialogue', 'diameter', 'diamond', 'dice', 'dichotomy', 'dictate', 'dictionary', 'die', 'diff', 'differ', 'difference', 'differentiate', 'difficulty', 'diffusion', 'dig', 'digestible', 'digging', 'digit', 'dilemma', 'dim', 'dimension', 'dimensional', 'dimensionality', 'dimple', 'dinar', 'dip', 'direct', 'direction', 'directional', 'directive', 'director', 'directory', 'dirty', 'dis', 'disable', 'disadvantage', 'disagree', 'disagreement', 'disallow', 'disappear', 'disappoint', 'disappointing', 'disappointment', 'disassemble', 'disaster', 'disc', 'discard', 'disclaimer', 'disclose', 'disclosure', 'disconnect', 'discord', 'discourage', 'discover', 'discovery', 'discrepancy', 'discriminator', 'discus', 'discussion', 'disguise', 'disgust', 'disk', 'dislike', 'dismiss', 'dismissible', 'disparate', 'dispatch', 'dispatcher', 'dispersion', 'display', 'displayed', 'displayer', 'dispose', 'disposer', 'disposition', 'disruption', 'dissatisfy', 'dissipate', 'distance', 'distinct', 'distinction', 'distinctive', 'distinguish', 'distort', 'distortion', 'distribute', 'distribution', 'distributor', 'disturb', 'dit', 'ditto', 'div', 'dive', 'diverge', 'diversify', 'diversity', 'divide', 'divider', 'diving', 'division', 'divisor', 'django', 'dml', 'doable', 'dob', 'doc', 'dock', 'docker', 'docket', 'doctor', 'doctrine', 'document', 'documentary', 'documentation', 'doe', 'dog', 'dollar', 'dolor', 'dolphin', 'dom', 'domain', 'donkey', 'door', 'dose', 'dot', 'double', 'doubt', 'dout', 'dow', 'downside', 'downstream', 'downward', 'doze', 'dozen', 'draft', 'drag', 'dragging', 'drain', 'drake', 'drama', 'draw', 'drawable', 'drawback', 'drawer', 'drawing', 'drawn', 'drawpoint', 'dream', 'drew', 'drill', 'drip', 'drive', 'driven', 'driver', 'driving', 'drizzle', 'drone', 'drop', 'dropping', 'drug', 'drupal', 'duck', 'duff', 'dug', 'dumb', 'dummy', 'dump', 'dumping', 'dup', 'duplicate', 'duplication', 'duration', 'dust', 'duty', 'dwarf', 'dwell', 'dword', 'dynamic', 'dynamically', 'e', 'ea', 'eager', 'ear', 'earth', 'earthquake', 'ease', 'easer', 'easier', 'easiest', 'east', 'easter', 'easy', 'eats', 'echo', 'eclipse', 'ecmascript', 'economy', 'edge', 'edit', 'edition', 'editor', 'education', 'ee', 'effect', 'efficiency', 'efficient', 'efficiently', 'effort', 'egg', 'eigenvalue', 'el', 'elaborate', 'elaboration', 'elect', 'electricity', 'electron', 'electronics', 'electrostatics', 'elegance', 'elegant', 'element', 'elevate', 'elevation', 'elf', 'eligibility', 'eligible', 'eliminate', 'elimination', 'elite', 'ellipse', 'ellipses', 'ellipsis', 'elm', 'eloquent', 'elucidate', 'embark', 'embarrass', 'embed', 'ember', 'embrace', 'emergency', 'emit', 'emitter', 'emma', 'emphasis', 'emphasize', 'emplace', 'employ', 'employee', 'employer', 'employment', 'emulate', 'emulation', 'emulator', 'en', 'enable', 'encapsulate', 'encapsulation', 'enclose', 'encode', 'encoding', 'encounter', 'encourage', 'encrypt', 'encryption', 'end', 'endless', 'endorse', 'enemy', 'energy', 'enforce', 'enforcement', 'engage', 'engine', 'engineer', 'engineering', 'enhance', 'enhancement', 'enjoy', 'enlarge', 'enlighten', 'enlightenment', 'enrage', 'enrollment', 'ensure', 'entangle', 'enter', 'entering', 'enterprise', 'entirety', 'entity', 'entrance', 'entropy', 'entry', 'enumerable', 'enumerate', 'enumeration', 'enumerator', 'envelope', 'environment', 'envision', 'envy', 'eof', 'episode', 'epitome', 'epoch', 'epsilon', 'eq', 'equal', 'equality', 'equation', 'equip', 'equipment', 'equivalence', 'equivalent', 'er', 'erase', 'erasure', 'erd', 'err', 'error', 'errorlevel', 'es', 'escape', 'essay', 'essence', 'establish', 'estimate', 'estimation', 'estimator', 'eval', 'evaluate', 'evaluation', 'evangelist', 'eve', 'event', 'everybody', 'everyday', 'evidence', 'evident', 'evil', 'evolution', 'evolve', 'ex', 'exact', 'exam', 'examination', 'examine', 'example', 'exceed', 'excel', 'excellent', 'exception', 'exceptional', 'excerpt', 'excess', 'excessive', 'exchange', 'excite', 'exclamation', 'exclude', 'exclusion', 'excursion', 'excuse', 'exec', 'executable', 'execute', 'execution', 'executor', 'exemption', 'exercise', 'exhaust', 'exhaustion', 'exhaustive', 'exhibit', 'exist', 'existence', 'existent', 'exists', 'exit', 'expand', 'expander', 'expansion', 'expect', 'expectancy', 'expectation', 'expense', 'expensive', 'experience', 'experiment', 'experimental', 'experimentation', 'expert', 'expiration', 'expire', 'expiry', 'explain', 'explaining', 'explanation', 'explicit', 'explode', 'exploit', 'exploration', 'exploratory', 'explore', 'explorer', 'explosion', 'exponent', 'export', 'exporter', 'expose', 'exposure', 'express', 'expression', 'expressive', 'extend', 'extense', 'extension', 'extensive', 'extent', 'exterior', 'extern', 'external', 'extra', 'extract', 'extraction', 'extraneous', 'extrapolate', 'extreme', 'ey', 'eye', 'f', 'fa', 'facade', 'face', 'faced', 'facet', 'facilitate', 'facility', 'facing', 'fact', 'faction', 'factor', 'factorization', 'factorize', 'factory', 'fade', 'fader', 'fail', 'failing', 'failure', 'fair', 'fairy', 'fake', 'fall', 'fallback', 'false', 'familia', 'familiarity', 'family', 'fan', 'fancy', 'fantasy', 'farm', 'farther', 'fashion', 'fast', 'faster', 'fat', 'fatal', 'father', 'fathom', 'fault', 'faulty', 'favor', 'favorite', 'fe', 'fear', 'fearful', 'feasibility', 'feasible', 'feature', 'federation', 'fee', 'feed', 'feedback', 'feeding', 'feel', 'feeling', 'fell', 'fellow', 'felt', 'fence', 'fetch', 'fetching', 'fi', 'fiddle', 'fiddler', 'fiddling', 'field', 'fiend', 'fifo', 'fifteenth', 'fig', 'fight', 'figure', 'file', 'filter', 'filtering', 'fin', 'finale', 'finalize', 'finance', 'finder', 'finding', 'fine', 'finer', 'finger', 'fingerprint', 'finish', 'finite', 'fink', 'fireball', 'firebird', 'firebug', 'firing', 'firm', 'fish', 'fishing', 'fit', 'fitness', 'fitting', 'fix', 'fixable', 'fixing', 'fixture', 'flag', 'flake', 'flame', 'flare', 'flash', 'flask', 'flat', 'flatten', 'flavor', 'flaw', 'flawed', 'fleet', 'flex', 'flexibility', 'flexible', 'flick', 'flicker', 'flickering', 'flight', 'flip', 'flirt', 'float', 'floating', 'flock', 'flood', 'floor', 'flot', 'flow', 'fluctuate', 'fluent', 'fluffy', 'fluid', 'flurry', 'flush', 'flutter', 'fly', 'flyway', 'focus', 'foe', 'fog', 'fold', 'folder', 'folk', 'follow', 'following', 'font', 'foo', 'food', 'fool', 'foot', 'football', 'footer', 'footnote', 'footprint', 'forage', 'foray', 'forbid', 'forbidden', 'force', 'ford', 'foreach', 'forecast', 'foreground', 'foresee', 'forestry', 'forever', 'forge', 'forgery', 'forget', 'forgive', 'forgo', 'forgot', 'fork', 'form', 'format', 'formula', 'formular', 'forth', 'forthcoming', 'fortran', 'forum', 'forward', 'fot', 'foundation', 'fox', 'fraction', 'fragile', 'fragment', 'fragmentation', 'frame', 'framework', 'frank', 'free', 'freedom', 'freeing', 'freer', 'freeze', 'frequency', 'frequent', 'fresh', 'friction', 'frictionless', 'friend', 'friendship', 'fro', 'frontal', 'fruit', 'fruitless', 'frustration', 'fry', 'fudge', 'fuel', 'fulfill', 'fum', 'fun', 'function', 'functional', 'functionality', 'fundamental', 'funky', 'funnel', 'funny', 'furthermore', 'furthest', 'fuse', 'fusion', 'futile', 'future', 'fuzzy', 'ga', 'gadget', 'gain', 'gaining', 'galaxy', 'gallery', 'gamble', 'game', 'gamma', 'gap', 'garbage', 'garden', 'gasp', 'gate', 'gateway', 'gather', 'gathering', 'gauss', 'gaussian', 'gcc', 'ge', 'gear', 'gecko', 'gee', 'gem', 'gen', 'gender', 'gene', 'general', 'generality', 'generalize', 'generate', 'generating', 'generation', 'generator', 'generic', 'genre', 'gentle', 'genuineness', 'geo', 'geode', 'geographic', 'geography', 'geologist', 'geology', 'geometry', 'gesture', 'getter', 'ghost', 'giant', 'gib', 'gid', 'gif', 'gig', 'gigantic', 'giggle', 'gimp', 'gingerbread', 'gird', 'gist', 'git', 'github', 'glad', 'glade', 'glance', 'glare', 'glass', 'glassfish', 'glassy', 'glib', 'glide', 'glimpse', 'glob', 'glow', 'glut', 'glyph', 'gnat', 'gnome', 'gnu', 'goal', 'goback', 'goblin', 'god', 'gold', 'golf', 'golfer', 'goo', 'good', 'goodness', 'gory', 'gosh', 'got', 'goto', 'gotten', 'govern', 'government', 'gpl', 'grab', 'grabber', 'grace', 'grad', 'grade', 'gradient', 'graham', 'grain', 'grammar', 'grant', 'granular', 'granularity', 'grape', 'graph', 'graphic', 'grasp', 'grasping', 'grateful', 'grave', 'gravitation', 'gravity', 'gray', 'green', 'grey', 'grid', 'grind', 'grinder', 'gripe', 'gritty', 'groove', 'groovy', 'grotesque', 'ground', 'group', 'grouped', 'grouping', 'grow', 'growing', 'grown', 'growth', 'grunt', 'gt', 'gtk', 'guarantee', 'guard', 'guardian', 'guava', 'guess', 'guessing', 'guest', 'guidance', 'guide', 'guideline', 'gulp', 'gun', 'gunsmith', 'guru', 'gut', 'guy', 'guzzle', 'gym', 'ha', 'habit', 'hack', 'hacker', 'hair', 'hal', 'half', 'hall', 'halt', 'halting', 'hammer', 'hand', 'handbook', 'handful', 'handicap', 'handle', 'handler', 'handling', 'handshake', 'handshaking', 'handwrite', 'handy', 'hang', 'happen', 'happening', 'happily', 'happy', 'hard', 'harden', 'harder', 'hardware', 'harm', 'harmless', 'harness', 'harvest', 'hash', 'hasher', 'haskell', 'hassle', 'hat', 'hate', 'hater', 'haunt', 'havoc', 'haystack', 'haywire', 'hazard', 'hazy', 'head', 'headache', 'header', 'headfirst', 'heading', 'headless', 'headline', 'headquarters', 'headway', 'health', 'heap', 'hear', 'heart', 'heartbeat', 'heat', 'heaven', 'heavy', 'heavyweight', 'heck', 'height', 'hell', 'hello', 'helm', 'help', 'helper', 'helpful', 'hen', 'heparin', 'heresy', 'hero', 'heroku', 'herring', 'hesitant', 'hesitate', 'hesitating', 'hex', 'hexagon', 'hey', 'hi', 'hibernate', 'hidden', 'hide', 'hierarchy', 'high', 'highlight', 'hint', 'hippo', 'hire', 'hist', 'histogram', 'history', 'hit', 'hitch', 'hobby', 'hobgoblin', 'hog', 'hold', 'holder', 'holding', 'hole', 'holiday', 'holy', 'home', 'homeless', 'homemade', 'homework', 'homography', 'honda', 'honest', 'hood', 'hook', 'hop', 'hope', 'hoped', 'hopeful', 'horizon', 'horizontal', 'horrible', 'horribly', 'host', 'hosting', 'hot', 'hotel', 'hound', 'hour', 'hourglass', 'house', 'hover', 'html', 'hub', 'hud', 'huh', 'human', 'humane', 'humidity', 'hung', 'hunt', 'hurry', 'hurt', 'hut', 'hydrate', 'hydrologic', 'hyp', 'hypotenuse', 'hypotheses', 'hypothesis', 'iceland', 'icicle', 'icon', 'icons', 'id', 'ide', 'idea', 'ideal', 'identical', 'identification', 'identifier', 'identify', 'identity', 'ides', 'idiom', 'idiot', 'idle', 'igniter', 'ignorable', 'ignorance', 'ignorant', 'ignore', 'ill', 'illegal', 'illumination', 'illustrate', 'illustration', 'image', 'imagery', 'imagine', 'immediate', 'immune', 'immutable', 'impact', 'impala', 'impersonation', 'implement', 'implementation', 'implicit', 'imply', 'import', 'importance', 'importation', 'importer', 'impose', 'imposition', 'impossible', 'imprecise', 'impression', 'improve', 'improvement', 'impute', 'inability', 'inaccuracy', 'inactive', 'inadvertent', 'inappropriate', 'inbound', 'inbuilt', 'incantation', 'incarnation', 'incase', 'inch', 'incident', 'inclination', 'include', 'inclusion', 'incognito', 'income', 'incoming', 'incompatibility', 'incompatible', 'incomplete', 'inconclusive', 'inconsistency', 'inconsistent', 'inconvenience', 'inconvenient', 'incorporate', 'incorrect', 'increase', 'increment', 'incremental', 'incur', 'indent', 'indentation', 'index', 'indexed', 'indexer', 'indexing', 'indicate', 'indication', 'indicator', 'indices', 'indirect', 'indirection', 'individual', 'induce', 'inductance', 'industry', 'inefficiency', 'inefficient', 'inelegant', 'inequality', 'inexact', 'inexperienced', 'infer', 'inference', 'infinite', 'inflate', 'inflater', 'inflection', 'inflict', 'influence', 'inform', 'informal', 'information', 'informative', 'infrared', 'infrastructure', 'infrequent', 'ing', 'ingestion', 'inherit', 'inheritance', 'inhibit', 'initialize', 'initiate', 'inject', 'injection', 'injector', 'ink', 'inline', 'inn', 'inner', 'innovation', 'input', 'inquiry', 'insane', 'insanity', 'insecure', 'insecurity', 'insert', 'inserter', 'insertion', 'inset', 'inside', 'insight', 'insist', 'inspect', 'inspection', 'inspector', 'inspiration', 'inspire', 'install', 'installation', 'installer', 'instance', 'instant', 'instantiation', 'instinct', 'instruct', 'instruction', 'instrument', 'instrumentation', 'insufficient', 'insulate', 'insurance', 'int', 'intact', 'integer', 'integral', 'integrate', 'integration', 'integrity', 'intelligence', 'intellij', 'intend', 'intensity', 'intensive', 'intent', 'intention', 'inter', 'interact', 'interaction', 'interactive', 'interactivity', 'intercept', 'interception', 'interchange', 'interconnect', 'interesting', 'interface', 'interfere', 'interfering', 'interim', 'interlock', 'intermediate', 'intermittent', 'internalize', 'internals', 'internationalization', 'interpolate', 'interpolation', 'interpolator', 'interpret', 'interpretation', 'interpreter', 'interrelate', 'interrogate', 'interrogation', 'interrupt', 'interruptible', 'intersect', 'intersection', 'interval', 'intervene', 'intervention', 'interview', 'interviewer', 'intimate', 'intriguing', 'introduce', 'introduction', 'introductory', 'introgression', 'introspection', 'intruder', 'invalid', 'invalidate', 'invalidation', 'invaluable', 'invent', 'invention', 'inventory', 'inverse', 'inversion', 'invest', 'investigate', 'investigating', 'investigation', 'invitation', 'inviter', 'invocation', 'invoice', 'invoke', 'involve', 'io', 'ionic', 'ios', 'ipc', 'irregardless', 'irregular', 'irrelevant', 'irrespective', 'irritating', 'isapi', 'island', 'iso', 'isolate', 'isolation', 'isotope', 'issue', 'issuer', 'ist', 'italic', 'item', 'itemize', 'iter', 'iterate', 'iteration', 'j', 'jabber', 'jack', 'jag', 'jail', 'jake', 'jane', 'jar', 'jasmine', 'jasper', 'java', 'javac', 'javafx', 'javascript', 'javax', 'jazz', 'jdbc', 'jdk', 'jerky', 'jersey', 'jest', 'jet', 'jettison', 'jetty', 'jimmy', 'jit', 'jni', 'jo', 'job', 'join', 'joining', 'joint', 'joke', 'josh', 'journal', 'journey', 'joy', 'jre', 'js', 'jscript', 'json', 'jsp', 'julia', 'jump', 'junction', 'june', 'jungle', 'junk', 'junto', 'jupyter', 'jurisdiction', 'justification', 'justify', 'jvm', 'kale', 'keen', 'kept', 'kernel', 'key', 'keyboard', 'keylock', 'kick', 'kicker', 'kill', 'killer', 'kind', 'kinematics', 'kingdom', 'kiosk', 'kirk', 'kiss', 'kit', 'kitchen', 'kludge', 'knee', 'knew', 'knock', 'knockout', 'know', 'knowing', 'knowledge', 'knowledgeable', 'kotlin', 'kremlin', 'kudos', 'kung', 'kyle', 'la', 'lab', 'label', 'lack', 'lag', 'laid', 'lake', 'lamb', 'lambda', 'lame', 'lamp', 'lan', 'land', 'landing', 'landmark', 'landscape', 'lane', 'language', 'lark', 'lasso', 'lastly', 'lat', 'latch', 'late', 'latency', 'later', 'latex', 'latitude', 'laugh', 'launch', 'launcher', 'law', 'lay', 'layer', 'layman', 'layout', 'lazy', 'le', 'lead', 'leader', 'leaf', 'leaflet', 'leak', 'leaky', 'lean', 'leaning', 'leap', 'learn', 'learning', 'leave', 'lecture', 'left', 'legacy', 'legality', 'legend', 'legit', 'legitimate', 'leisure', 'lend', 'length', 'lengthy', 'lens', 'leopard', 'lerp', 'lesser', 'let', 'letter', 'lettuce', 'level', 'leverage', 'lexical', 'li', 'liberty', 'library', 'license', 'lie', 'lieu', 'life', 'lifetime', 'lifo', 'lift', 'light', 'lighten', 'lighthouse', 'lightweight', 'like', 'likewise', 'liking', 'limit', 'limitation', 'line', 'linear', 'linearly', 'liner', 'lining', 'link', 'linkable', 'linkage', 'linker', 'linking', 'lint', 'linux', 'lion', 'liquid', 'lisp', 'list', 'listen', 'listener', 'listing', 'literal', 'literate', 'literature', 'little', 'live', 'living', 'livre', 'llvm', 'lo', 'load', 'loader', 'loading', 'loan', 'lob', 'locale', 'locality', 'localization', 'localize', 'locate', 'location', 'locator', 'lock', 'locker', 'locking', 'log', 'logarithm', 'logged', 'logger', 'loggin', 'logging', 'logic', 'login', 'logo', 'lollipop', 'lone', 'long', 'longbow', 'longer', 'longevity', 'longitude', 'look', 'lookup', 'loop', 'looping', 'loose', 'loosing', 'lose', 'losing', 'loss', 'lossless', 'lot', 'lotus', 'loudness', 'lout', 'love', 'low', 'lower', 'lt', 'lua', 'luck', 'lucy', 'lump', 'lunar', 'ma', 'mac', 'machine', 'machinery', 'macro', 'mad', 'mag', 'magazine', 'mage', 'magic', 'magnitude', 'magpie', 'mail', 'mailbox', 'maintain', 'maintainable', 'maintenance', 'majority', 'making', 'male', 'malformed', 'mall', 'mallet', 'mambo', 'man', 'manage', 'management', 'manager', 'mandatory', 'mangle', 'manifest', 'manifesto', 'manipulate', 'manipulation', 'manipulator', 'manner', 'manual', 'manufacturer', 'mao', 'map', 'maple', 'mapo', 'mapper', 'mar', 'marathon', 'march', 'margin', 'mark', 'markdown', 'marker', 'market', 'marketing', 'markup', 'marshal', 'martin', 'mary', 'mash', 'mask', 'mason', 'masonry', 'masque', 'mass', 'massage', 'massive', 'master', 'mat', 'match', 'matcher', 'matching', 'mate', 'material', 'math', 'mathematical', 'mathematics', 'matlab', 'matrices', 'matrix', 'matte', 'matter', 'mature', 'maturity', 'maximize', 'maximum', 'maybe', 'mayday', 'maze', 'mean', 'meaning', 'meaningful', 'meaningless', 'meant', 'measure', 'measurement', 'measuring', 'mechanism', 'mechanize', 'medication', 'medium', 'meet', 'meeting', 'mel', 'melee', 'melon', 'melt', 'mem', 'member', 'membership', 'memento', 'memo', 'memorize', 'memory', 'men', 'mental', 'mention', 'menu', 'mere', 'merge', 'merit', 'merry', 'mess', 'message', 'messenger', 'messy', 'met', 'meta', 'metal', 'metallurgy', 'meteor', 'methinks', 'method', 'methodology', 'methods', 'metric', 'metrics', 'metro', 'mi', 'mib', 'micro', 'microphone', 'microscope', 'microsecond', 'microsoft', 'mid', 'middle', 'middleware', 'midnight', 'midsummer', 'midway', 'migrate', 'migration', 'mike', 'mild', 'mileage', 'millennium', 'million', 'millisecond', 'mime', 'mimic', 'min', 'mind', 'minification', 'minify', 'minimal', 'minimization', 'minimize', 'minimizer', 'minimum', 'mining', 'minium', 'minor', 'mint', 'minus', 'minute', 'minx', 'miracle', 'mirror', 'misconception', 'misinformation', 'mislead', 'misleading', 'mismatch', 'misread', 'miss', 'missing', 'misspell', 'mistake', 'misunderstand', 'misunderstanding', 'misunderstood', 'misuse', 'mix', 'mixed', 'mixer', 'mixture', 'mob', 'mobile', 'mobility', 'mocha', 'mock', 'mockery', 'mod', 'modal', 'mode', 'model', 'modeling', 'moderation', 'modern', 'modification', 'modifier', 'modify', 'modular', 'module', 'moist', 'mojo', 'moment', 'momentum', 'mon', 'money', 'mongoose', 'mongrel', 'monitor', 'monkey', 'mono', 'monochrome', 'monopoly', 'monorail', 'month', 'moo', 'moot', 'morning', 'moss', 'mother', 'motion', 'motivate', 'motivation', 'motorcycle', 'mount', 'mountain', 'mouse', 'mouth', 'mouthful', 'movable', 'movement', 'movie', 'msdn', 'msvc', 'mu', 'muddle', 'muddy', 'muffed', 'multidimensional', 'multiple', 'multiplication', 'multiplicity', 'multiply', 'multiplying', 'multithreaded', 'mundane', 'munge', 'murky', 'music', 'musical', 'mutable', 'mutate', 'mutation', 'mute', 'mutex', 'mystery', 'mythical', 'na', 'nag', 'nail', 'naive', 'naivety', 'naked', 'naming', 'nan', 'nancy', 'nant', 'narrow', 'nat', 'nationality', 'native', 'nature', 'naughty', 'nautilus', 'navigability', 'navigate', 'navigation', 'navigator', 'ne', 'near', 'neat', 'necessitate', 'neck', 'need', 'needing', 'needle', 'negate', 'negative', 'negotiate', 'negotiation', 'neighbor', 'nest', 'net', 'netty', 'network', 'neuron', 'newline', 'news', 'newsletter', 'newspaper', 'newton', 'nexus', 'ni', 'nice', 'niche', 'nick', 'nifty', 'night', 'nightmare', 'nil', 'nim', 'nimbus', 'nitty', 'nix', 'node', 'noise', 'noisy', 'nome', 'nominate', 'non', 'nonblocking', 'nope', 'normalization', 'normalize', 'notation', 'notch', 'note', 'notebook', 'notice', 'notification', 'notify', 'notion', 'novel', 'novice', 'nowadays', 'nth', 'nuisance', 'nuke', 'nul', 'null', 'nullable', 'number', 'numerator', 'numerical', 'nutshell', 'o', 'oasis', 'obfuscate', 'obfuscation', 'object', 'objective', 'obligation', 'oblige', 'obliger', 'obscure', 'obscurity', 'observation', 'observe', 'observer', 'obsession', 'obsolete', 'obstacle', 'obtain', 'obvious', 'occasion', 'occasional', 'occupation', 'occupy', 'occur', 'occurrence', 'och', 'od', 'odbc', 'odd', 'oddity', 'odds', 'ode', 'offense', 'offer', 'offering', 'office', 'official', 'offset', 'oh', 'oki', 'older', 'om', 'ombudsman', 'omit', 'oneself', 'ongoing', 'onmouseover', 'onwards', 'oop', 'opacity', 'opcode', 'open', 'opengl', 'opening', 'opera', 'operate', 'operating', 'operation', 'operator', 'opinion', 'opinionated', 'opportunity', 'oppose', 'opposite', 'opt', 'optic', 'optical', 'optimal', 'optimization', 'optimize', 'option', 'optional', 'oracle', 'orange', 'orchard', 'orchestrate', 'order', 'ordinal', 'ordinary', 'organization', 'organize', 'orient', 'orientation', 'origin', 'original', 'ortho', 'orthogonal', 'orthogonality', 'os', 'otto', 'ought', 'outage', 'outbound', 'outbounds', 'outcome', 'outdated', 'outer', 'outfit', 'outgo', 'outher', 'outline', 'outlook', 'outperform', 'output', 'outset', 'outside', 'outstream', 'overall', 'overcome', 'overflow', 'overhaul', 'overhead', 'overlap', 'overlay', 'overload', 'overloading', 'override', 'oversized', 'overstep', 'overtime', 'overuse', 'overview', 'overwrite', 'owner', 'ownership', 'ox', 'oxygen', 'pace', 'pacific', 'pack', 'package', 'packet', 'pad', 'padding', 'paddle', 'page', 'pager', 'paginate', 'pagination', 'paho', 'pain', 'painless', 'paint', 'pair', 'palette', 'palm', 'pan', 'panda', 'pane', 'panel', 'paper', 'par', 'para', 'parachute', 'paradigm', 'paradise', 'paragraph', 'parallax', 'parallel', 'parallelism', 'parallelization', 'param', 'parameter', 'parametric', 'paramount', 'paranoid', 'pardon', 'parent', 'parentheses', 'parenthesis', 'parity', 'park', 'parse', 'parser', 'partial', 'participate', 'participation', 'particle', 'particular', 'partition', 'partner', 'party', 'pas', 'pass', 'passage', 'passant', 'passing', 'passive', 'passport', 'password', 'past', 'paste', 'pastor', 'pat', 'patch', 'path', 'patience', 'pattern', 'paucity', 'pause', 'pay', 'payment', 'payroll', 'peace', 'peach', 'peachy', 'peak', 'peanut', 'pear', 'peaty', 'peculiar', 'peek', 'peer', 'peg', 'pen', 'penalize', 'penalty', 'pending', 'people', 'pep', 'perceivable', 'percent', 'percentage', 'perfect', 'perform', 'performance', 'performant', 'period', 'periodic', 'peripheral', 'perl', 'perm', 'permanent', 'permission', 'permit', 'permutation', 'persist', 'persistence', 'persistent', 'persister', 'persisting', 'person', 'persona', 'personality', 'perspective', 'persuade', 'pertain', 'pertinent', 'pervasive', 'pet', 'peter', 'phantom', 'phase', 'phenomenon', 'phew', 'philosophy', 'phoenix', 'phone', 'photo', 'photograph', 'photographer', 'php', 'phrase', 'physic', 'physical', 'physics', 'pi', 'pia', 'pic', 'pick', 'picker', 'pickle', 'pickup', 'picture', 'pie', 'piece', 'piecemeal', 'pig', 'pile', 'pilot', 'pin', 'pinch', 'pine', 'ping', 'pink', 'pip', 'pipe', 'pipeline', 'pistol', 'pita', 'pitch', 'pivot', 'pixel', 'pixilated', 'pizza', 'place', 'placement', 'plague', 'plain', 'plan', 'planar', 'plane', 'plate', 'platelet', 'platform', 'play', 'playable', 'playback', 'playbook', 'player', 'playground', 'pleasing', 'pleasure', 'plenty', 'plop', 'plot', 'plow', 'plug', 'pluggable', 'plumb', 'plunge', 'plunk', 'plus', 'ply', 'pocket', 'poco', 'pod', 'poi', 'point', 'pointer', 'pointers', 'pointing', 'pointless', 'poke', 'pole', 'policy', 'polite', 'poll', 'poller', 'polling', 'pollute', 'poly', 'polygon', 'polymer', 'polymorphic', 'polymorphism', 'pom', 'pon', 'pong', 'pool', 'pop', 'poplar', 'popover', 'populate', 'population', 'port', 'portability', 'portable', 'portal', 'portfolio', 'portion', 'porto', 'portrait', 'pose', 'posh', 'posing', 'posit', 'position', 'posse', 'possession', 'possibility', 'post', 'poster', 'posterity', 'postfix', 'posting', 'postman', 'potato', 'potential', 'pound', 'pour', 'pow', 'power', 'powered', 'practical', 'practice', 'praise', 'precaution', 'precede', 'precedence', 'precedent', 'precise', 'precision', 'precompilation', 'precondition', 'predicament', 'predicate', 'prediction', 'predispatch', 'prefab', 'preface', 'prefer', 'preferable', 'preferably', 'preference', 'prefix', 'prefixed', 'preflight', 'preform', 'prejudice', 'preliminarily', 'preliminary', 'premature', 'premium', 'prep', 'prepare', 'presence', 'present', 'presentation', 'presenter', 'preserve', 'press', 'pressing', 'pressure', 'presto', 'presumably', 'presume', 'pretend', 'prettify', 'pretty', 'prevent', 'prevention', 'preview', 'price', 'pride', 'primary', 'prime', 'primer', 'primitive', 'principle', 'print', 'printer', 'printf', 'printing', 'priority', 'privacy', 'privilege', 'privileged', 'pro', 'probability', 'probe', 'problem', 'problematic', 'procedure', 'proceed', 'proceeds', 'process', 'processing', 'processor', 'prod', 'produce', 'producer', 'product', 'productid', 'production', 'productive', 'productivity', 'professional', 'professor', 'proficient', 'profile', 'profiler', 'profusion', 'prog', 'program', 'programmatically', 'programmer', 'programming', 'progress', 'progression', 'project', 'projecting', 'projection', 'proliferation', 'prolific', 'prolog', 'prologue', 'promise', 'promising', 'promote', 'promotion', 'prompt', 'prone', 'proof', 'prop', 'propagate', 'propagation', 'proper', 'properly', 'property', 'proportion', 'proposal', 'propose', 'proprietary', 'prospect', 'protect', 'protection', 'protector', 'proto', 'protocol', 'prototype', 'protractor', 'prove', 'provide', 'provider', 'providing', 'province', 'provision', 'proximity', 'proxy', 'pseudo', 'pseudocode', 'pseudonym', 'pst', 'psychology', 'pu', 'public', 'publication', 'publish', 'publisher', 'pudding', 'pull', 'pulp', 'puma', 'pump', 'punch', 'punctuation', 'punt', 'puppeteer', 'purchase', 'pure', 'purge', 'purging', 'purify', 'purity', 'purpose', 'pursue', 'push', 'pushpin', 'puzzle', 'puzzling', 'pyro', 'python', 'pythonic', 'qt', 'quad', 'qualify', 'quality', 'quantify', 'quantity', 'quarter', 'quartz', 'query', 'querying', 'question', 'queue', 'quick', 'quicken', 'quiet', 'quieten', 'quip', 'quirk', 'quit', 'quiver', 'quiz', 'quotation', 'quote', 'ra', 'rabbit', 'race', 'rack', 'rad', 'radio', 'radius', 'raft', 'rag', 'raid', 'raise', 'rake', 'ram', 'ramp', 'ran', 'rand', 'random', 'randomly', 'randomness', 'range', 'rank', 'ranker', 'rap', 'rare', 'rasa', 'raspberry', 'rat', 'rate', 'rating', 'ratio', 'rationale', 'rave', 'raw', 'rax', 'ray', 'razor', 'reach', 'react', 'reactive', 'reactor', 'read', 'readability', 'readable', 'reader', 'readily', 'reading', 'ready', 'reality', 'realization', 'realize', 'realm', 'reappear', 'rearrange', 'reason', 'reasonably', 'reassign', 'reassignment', 'rebind', 'rebook', 'rebuild', 'rebuilt', 'recall', 'recap', 'receipt', 'receive', 'receiver', 'reception', 'recharge', 'recherche', 'recipe', 'recipient', 'reclaim', 'recognition', 'recognize', 'recognizer', 'recommend', 'recommendation', 'recompile', 'reconnect', 'record', 'recorder', 'recording', 'recover', 'recovery', 'recreate', 'recreation', 'rect', 'rectangle', 'rectangular', 'rectification', 'rectify', 'recur', 'recurrence', 'recurrency', 'recurse', 'recursion', 'recursive', 'recycle', 'red', 'redeem', 'redefine', 'redeploy', 'redesign', 'redirect', 'redirection', 'redistribute', 'redo', 'redraw', 'reduce', 'reducer', 'reducing', 'reduction', 'redundancy', 'redundant', 'redux', 'ref', 'refactoring', 'refer', 'reference', 'referrer', 'refill', 'refinement', 'reflect', 'reflection', 'reflector', 'reformulate', 'refresh', 'refresher', 'refuse', 'reg', 'regard', 'regardless', 'regenerate', 'regex', 'region', 'register', 'registrate', 'registration', 'registry', 'regression', 'regroup', 'regular', 'regularly', 'reinstall', 'reinstallation', 'reinstate', 'reintegrate', 'reinterpret', 'reinterpretation', 'reinvent', 'reiterate', 'reject', 'relate', 'relatedness', 'relation', 'relational', 'relationship', 'relative', 'relativity', 'relaunch', 'relax', 'relaxed', 'relay', 'release', 'relevance', 'relevant', 'reliability', 'reliable', 'reliably', 'relic', 'religious', 'reload', 'reluctant', 'remade', 'remain', 'remainder', 'remains', 'remake', 'remap', 'remark', 'remedy', 'remember', 'remind', 'reminder', 'remote', 'removal', 'remove', 'removing', 'rename', 'rend', 'render', 'renderer', 'rendering', 'renewal', 'reopen', 'reorder', 'reorganize', 'rep', 'repaint', 'repeat', 'repeater', 'repetition', 'repetitive', 'rephrase', 'repl', 'replace', 'replacement', 'replay', 'replica', 'replicate', 'replication', 'reply', 'repopulate', 'report', 'reporter', 'repository', 'repost', 'represent', 'representable', 'representation', 'representative', 'reproduce', 'reproducible', 'reputation', 'request', 'require', 'requirement', 'rerun', 'research', 'reseed', 'resend', 'reserve', 'reset', 'reshape', 'reside', 'resign', 'resilience', 'resin', 'resistance', 'resize', 'resolution', 'resolve', 'resolver', 'resort', 'resource', 'resp', 'respect', 'respecting', 'respective', 'respond', 'response', 'responsibility', 'responsive', 'responsiveness', 'rest', 'restart', 'restaurant', 'restauration', 'restful', 'restoration', 'restore', 'restrict', 'restriction', 'resubmit', 'result', 'resultant', 'resulting', 'resume', 'ret', 'retain', 'retention', 'rethrow', 'retina', 'retrace', 'retrain', 'retrieval', 'retrieve', 'retriever', 'retry', 'return', 'reuse', 'reutilization', 'rev', 'revamp', 'reveal', 'revelant', 'revenue', 'reverse', 'reversing', 'revert', 'review', 'revision', 'revoke', 'revolve', 'revolver', 'reward', 'rewind', 'rewire', 'reword', 'rework', 'rewrap', 'rewrite', 'rewriter', 'rhino', 'rhyme', 'ria', 'ribbon', 'rich', 'rid', 'riddle', 'ridge', 'ridiculous', 'rifle', 'rig', 'right', 'ring', 'rio', 'rip', 'ripple', 'rise', 'risk', 'river', 'road', 'roadblock', 'rob', 'robin', 'robot', 'robust', 'rock', 'rocket', 'role', 'roll', 'rollback', 'rom', 'rookie', 'room', 'root', 'rope', 'rory', 'roster', 'rotate', 'rotating', 'rotation', 'rotator', 'rough', 'round', 'roundup', 'rout', 'route', 'router', 'routine', 'routing', 'row', 'rowlock', 'rpg', 'rub', 'ruby', 'rude', 'rule', 'ruler', 'rumor', 'run', 'runnable', 'runner', 'running', 'rush', 'rust', 'rusty', 'sa', 'sacrifice', 'sad', 'safari', 'safe', 'safety', 'sage', 'sake', 'salamander', 'salary', 'sale', 'salt', 'salvager', 'sam', 'samba', 'samp', 'sample', 'sampler', 'san', 'sand', 'sandbox', 'sane', 'sanitize', 'sanity', 'sans', 'sao', 'sap', 'satisfactory', 'satisfy', 'satisfying', 'sauce', 'save', 'saver', 'saving', 'savior', 'savvy', 'saw', 'sax', 'scaffold', 'scala', 'scalar', 'scale', 'scaling', 'scan', 'scanf', 'scanner', 'scanning', 'scatter', 'scenario', 'scene', 'schedule', 'schema', 'scheme', 'schene', 'school', 'science', 'scintilla', 'scissors', 'scope', 'score', 'scorer', 'scour', 'scourge', 'scrap', 'scrapbook', 'scrape', 'scrapy', 'scratch', 'screen', 'screenplay', 'screw', 'screwing', 'scrip', 'script', 'scripting', 'scroll', 'scrounging', 'scrum', 'sdk', 'se', 'seal', 'seam', 'seamless', 'search', 'searcher', 'searching', 'season', 'seat', 'sec', 'second', 'secondary', 'secret', 'section', 'sector', 'secure', 'security', 'seed', 'seeing', 'seek', 'seg', 'segfault', 'segment', 'segmentation', 'segregate', 'select', 'selection', 'selective', 'selector', 'selenium', 'self', 'sell', 'selling', 'selva', 'semantics', 'semaphore', 'semblance', 'semester', 'semicolon', 'send', 'sender', 'sending', 'sense', 'sensible', 'sensitive', 'sensor', 'sent', 'sentence', 'sentiment', 'sentinel', 'sentry', 'separate', 'separating', 'separation', 'separator', 'sequence', 'sequencer', 'sequential', 'serial', 'serialization', 'serialize', 'series', 'serif', 'serve', 'server', 'service', 'servlet', 'sess', 'session', 'sessions', 'set', 'setter', 'setting', 'setup', 'seven', 'sever', 'severe', 'severity', 'sex', 'sexy', 'sh', 'sha', 'shade', 'shader', 'shadow', 'shady', 'shake', 'shaky', 'shall', 'shallow', 'shape', 'share', 'shark', 'shear', 'sheen', 'sheet', 'sherlock', 'shield', 'shift', 'shifting', 'shim', 'shine', 'shiny', 'ship', 'shipping', 'shoddy', 'shoot', 'shop', 'shopping', 'short', 'shortage', 'shortcoming', 'shorten', 'shortening', 'shorter', 'shorthand', 'shot', 'shotgun', 'showdown', 'showing', 'shrink', 'shrunk', 'shuffle', 'shut', 'shutdown', 'shutting', 'si', 'sibling', 'sick', 'sidenote', 'sideslip', 'sieve', 'sig', 'sigh', 'sight', 'sigma', 'sign', 'signal', 'signature', 'significance', 'signify', 'silence', 'silent', 'sill', 'silva', 'silver', 'similarity', 'simple', 'simpler', 'simplicity', 'simplify', 'simular', 'simulate', 'simulation', 'simulator', 'simultaneous', 'simultaneously', 'sin', 'singleton', 'sink', 'sip', 'sire', 'sit', 'site', 'situation', 'size', 'sizing', 'skater', 'skeet', 'skeleton', 'sketch', 'skill', 'skim', 'skin', 'skinny', 'skip', 'skipping', 'slab', 'slap', 'slash', 'slave', 'sleep', 'sleeping', 'slice', 'slick', 'slide', 'slider', 'slight', 'slim', 'slog', 'slot', 'slow', 'slowdown', 'slowly', 'slows', 'slug', 'smack', 'smalltalk', 'smart', 'smarty', 'smatter', 'smell', 'smile', 'smith', 'smooth', 'smoothing', 'smoothly', 'smoothness', 'snag', 'snap', 'snapping', 'snapshot', 'sniff', 'sniffer', 'snip', 'snippet', 'snoop', 'snow', 'snuff', 'soap', 'sob', 'soccer', 'socialite', 'sock', 'socket', 'soda', 'sofar', 'software', 'solace', 'solar', 'solid', 'solo', 'solution', 'solve', 'solver', 'somebody', 'someplace', 'someway', 'somewhat', 'son', 'sonar', 'song', 'sooner', 'sop', 'sorry', 'sort', 'sory', 'sound', 'soup', 'source', 'sourceforge', 'spa', 'space', 'spacing', 'spacy', 'spaghetti', 'span', 'spark', 'sparkle', 'sparse', 'spatial', 'spawn', 'speak', 'speaker', 'speaking', 'spec', 'special', 'specialization', 'specialize', 'specie', 'specific', 'specification', 'specifier', 'specify', 'specs', 'specter', 'spectrum', 'speculation', 'speech', 'speed', 'speedy', 'spell', 'spelling', 'spend', 'spending', 'spent', 'sphinx', 'spice', 'spider', 'spike', 'spin', 'spinnaker', 'spinner', 'spirit', 'spirograph', 'spit', 'splash', 'splice', 'spline', 'splint', 'splinter', 'split', 'splitter', 'splitting', 'spoil', 'spoiler', 'sponsor', 'sponsorship', 'spool', 'sport', 'spot', 'spread', 'spring', 'sprint', 'spurl', 'spy', 'sql', 'sqlite', 'square', 'squeeze', 'squid', 'st', 'stab', 'stability', 'stable', 'stack', 'staff', 'stag', 'stage', 'staging', 'stall', 'stamp', 'stand', 'standard', 'standardization', 'standardize', 'standpoint', 'star', 'start', 'starting', 'state', 'stateless', 'statement', 'static', 'station', 'statistic', 'status', 'stay', 'stdin', 'steal', 'steeper', 'step', 'stereo', 'stereotype', 'sterile', 'steven', 'stewardship', 'stick', 'stickiness', 'sticky', 'stimulate', 'sting', 'stitch', 'stock', 'stone', 'stood', 'stop', 'storage', 'store', 'story', 'straight', 'straightforward', 'strange', 'strangeness', 'stranger', 'strapper', 'strategy', 'streak', 'stream', 'streamer', 'streaming', 'streamline', 'street', 'strength', 'stress', 'stressful', 'stretch', 'stretchable', 'strict', 'strictly', 'strike', 'string', 'stringent', 'strip', 'stripping', 'stroke', 'structure', 'struggle', 'struggling', 'stub', 'stubborn', 'stuck', 'student', 'studio', 'study', 'stuff', 'stumble', 'stump', 'stupid', 'style', 'stylesheet', 'styling', 'sub', 'subclass', 'subelement', 'subform', 'subject', 'subjective', 'sublime', 'submission', 'submit', 'subplot', 'subrange', 'subroutine', 'subscribe', 'subscriber', 'subscript', 'subscription', 'subsection', 'subsequent', 'subset', 'subsonic', 'substance', 'substitute', 'substitution', 'substring', 'subsystem', 'subtle', 'subtlety', 'subtract', 'subtraction', 'subversion', 'subway', 'succeed', 'success', 'successfully', 'successive', 'succinct', 'suck', 'sucker', 'sue', 'suffer', 'suffice', 'sufficient', 'suffix', 'sugar', 'suggest', 'suggestion', 'suit', 'suitable', 'suite', 'sum', 'summarize', 'summary', 'summer', 'sun', 'sup', 'super', 'superclass', 'superimpose', 'superman', 'supplier', 'supply', 'support', 'supporting', 'suppose', 'supposedly', 'suppress', 'suppression', 'sur', 'sure', 'surf', 'surface', 'surgeon', 'surname', 'surprise', 'surrender', 'surrogate', 'surround', 'surveillance', 'survey', 'survive', 'survivor', 'suspect', 'suspend', 'suspension', 'suspicion', 'swagger', 'swan', 'swap', 'swapper', 'swapping', 'swear', 'sweep', 'sweet', 'swift', 'swig', 'swim', 'swing', 'swipe', 'switch', 'switching', 'symbol', 'symmetric', 'sync', 'synchronization', 'synchronize', 'syndicate', 'syndication', 'synonym', 'syntactical', 'syntax', 'synthesis', 'synthesize', 'synthesizer', 't', 'ta', 'tab', 'table', 'tablet', 'tabular', 'tabulation', 'tabulator', 'tache', 'tackle', 'tad', 'tag', 'tail', 'taking', 'tale', 'talk', 'tall', 'taller', 'tamper', 'tangle', 'tap', 'tar', 'target', 'task', 'taught', 'tax', 'taxing', 'tcl', 'te', 'teach', 'teacher', 'team', 'tear', 'tease', 'tech', 'technique', 'technology', 'tedious', 'tee', 'television', 'tell', 'temp', 'temperate', 'temperature', 'template', 'templater', 'temple', 'tempt', 'tenant', 'tend', 'tendency', 'tennis', 'tensor', 'teredo', 'term', 'terminal', 'terminate', 'termination', 'terminology', 'ternary', 'terry', 'terse', 'tesseract', 'test', 'tester', 'testing', 'text', 'textbook', 'textile', 'texture', 'th', 'tha', 'thank', 'thankful', 'thanks', 'thanksgiving', 'theater', 'theirs', 'theme', 'theory', 'therefor', 'thereof', 'thereon', 'theses', 'thesis', 'theta', 'thickness', 'thing', 'think', 'thinking', 'tho', 'thorough', 'thoroughly', 'thou', 'thought', 'thousand', 'thread', 'thready', 'threshold', 'threw', 'thrift', 'throbber', 'throttle', 'throughput', 'throw', 'throwaway', 'throwing', 'thrown', 'thrust', 'thumb', 'thumbnail', 'thunderbird', 'thwart', 'ti', 'tick', 'ticker', 'ticket', 'ticketing', 'tid', 'tidy', 'tie', 'tier', 'tiered', 'tiger', 'til', 'tile', 'till', 'tilt', 'time', 'timer', 'timing', 'tinker', 'tiny', 'tip', 'tire', 'titanium', 'title', 'titre', 'tk', 'toad', 'toast', 'today', 'toggle', 'toi', 'token', 'told', 'tolerance', 'tolerant', 'tomcat', 'tomorrow', 'ton', 'tone', 'tonight', 'tony', 'tool', 'toolbox', 'topic', 'topmost', 'tor', 'torch', 'torrent', 'toss', 'total', 'touch', 'touchy', 'tourism', 'town', 'toy', 'toying', 'trace', 'tracer', 'tracing', 'track', 'tracker', 'tracking', 'tractor', 'trade', 'traffic', 'trail', 'trailing', 'train', 'training', 'trait', 'trajectory', 'transact', 'transaction', 'transactional', 'transfer', 'transferring', 'transform', 'transformation', 'transformer', 'transient', 'transit', 'transition', 'translate', 'translation', 'translator', 'transmission', 'transmit', 'transparency', 'transparent', 'transport', 'transpose', 'trap', 'trapping', 'trash', 'travel', 'traversal', 'traverse', 'traversing', 'travis', 'tray', 'treat', 'treating', 'treatment', 'tree', 'trend', 'tri', 'triage', 'trial', 'triangle', 'triangulate', 'triangulation', 'trick', 'tricky', 'tried', 'trifle', 'trigger', 'trim', 'trimester', 'trip', 'triplet', 'trivial', 'trouble', 'troublesome', 'trough', 'truck', 'truncate', 'truncation', 'trunk', 'trust', 'truth', 'try', 'tue', 'tuition', 'tune', 'tungsten', 'tuning', 'tunnel', 'tup', 'tuple', 'turbidity', 'turbo', 'turing', 'turn', 'turning', 'tut', 'tutorial', 'tux', 'tweak', 'tweet', 'twice', 'twig', 'twist', 'twitch', 'twitter', 'twofold', 'type', 'typecast', 'typed', 'typescript', 'typeset', 'typical', 'typo', 'typography', 'u', 'ugh', 'ultimate', 'um', 'umbrella', 'unable', 'unaffected', 'unanswered', 'unassigned', 'unavailable', 'unbind', 'uncategorized', 'uncaught', 'uncertainty', 'uncheck', 'unchecked', 'unclear', 'unclosed', 'uncommented', 'uncommon', 'uncover', 'undefined', 'underlie', 'underline', 'underlying', 'underneath', 'underscore', 'understand', 'understanding', 'understood', 'underway', 'undesirable', 'undesired', 'undirected', 'undo', 'undocumented', 'unescaped', 'unexpected', 'unfinished', 'unfortunate', 'ungreedy', 'unhandled', 'uniform', 'uninitiated', 'uninstalled', 'unintended', 'union', 'unique', 'unit', 'unity', 'universal', 'universe', 'university', 'unknown', 'unlabeled', 'unlike', 'unlikely', 'unlimited', 'unlink', 'unload', 'unlock', 'unlocker', 'unmaintained', 'unmanaged', 'unnamed', 'unnecessary', 'unneeded', 'unordered', 'unpack', 'unpleasant', 'unprincipled', 'unprocessed', 'unprotected', 'unread', 'unrecognized', 'unreferenced', 'unrelated', 'unreleased', 'unresolved', 'unresponsive', 'unrooted', 'unsatisfied', 'unsent', 'unset', 'unsigned', 'unskilled', 'unsolved', 'unsorted', 'unspecific', 'unspecified', 'unsupported', 'unsure', 'untested', 'untidy', 'unuse', 'unused', 'unvalidated', 'unwanted', 'unwind', 'unwound', 'upcoming', 'update', 'upgrade', 'upkeep', 'upper', 'uppermost', 'upside', 'upstream', 'upward', 'upwards', 'urban', 'urn', 'usability', 'usage', 'use', 'useful', 'useless', 'user', 'usurp', 'utility', 'utilization', 'utilize', 'vagrant', 'vague', 'valid', 'validate', 'validation', 'validity', 'value', 'valve', 'van', 'vanilla', 'var', 'vara', 'variable', 'variance', 'variant', 'variation', 'variety', 'vary', 'vast', 'vat', 'vault', 'vb', 'vector', 'vehicle', 'velocity', 'vendor', 'veneer', 'venue', 'verb', 'verbatim', 'verbose', 'verbosity', 'verification', 'verify', 'verity', 'versatile', 'verse', 'version', 'versus', 'vertex', 'vertical', 'vessel', 'viable', 'vice', 'victim', 'video', 'view', 'viewable', 'viewer', 'viewpoint', 'vim', 'vintage', 'violate', 'violation', 'violet', 'viral', 'virtual', 'virtue', 'virus', 'visa', 'visibility', 'visible', 'vision', 'visit', 'visitor', 'vista', 'visual', 'visualization', 'visualize', 'visualizer', 'visually', 'vital', 'vocalize', 'voice', 'void', 'vol', 'volley', 'voltage', 'volume', 'vote', 'voter', 'vue', 'wa', 'wade', 'wagon', 'wagtail', 'wait', 'waiting', 'waitress', 'wake', 'walk', 'walking', 'wall', 'wallpaper', 'walnut', 'walter', 'wamp', 'wand', 'want', 'wanting', 'wap', 'war', 'warehouse', 'warm', 'warn', 'warning', 'warranty', 'warrior', 'waste', 'watch', 'watcher', 'watching', 'water', 'waterfall', 'watermark', 'watershed', 'wave', 'waw', 'way', 'wealth', 'weapon', 'weather', 'weave', 'web', 'wed', 'week', 'weekday', 'weekend', 'weigh', 'weight', 'weird', 'weirdness', 'welcome', 'wen', 'west', 'wet', 'wether', 'whan', 'whatnot', 'whatsoever', 'wheat', 'wheel', 'whew', 'whichever', 'whilst', 'whirl', 'whisper', 'wi', 'wicked', 'wicket', 'width', 'wife', 'wild', 'win', 'wind', 'window', 'wing', 'wink', 'wipe', 'wire', 'wireless', 'wisdom', 'wise', 'wiser', 'wish', 'witch', 'wiz', 'wizard', 'wonder', 'wonderful', 'wondering', 'wonderland', 'wonky', 'woof', 'woohoo', 'word', 'wordy', 'work', 'workbench', 'workbook', 'workday', 'worker', 'working', 'workout', 'workplace', 'workspace', 'worky', 'world', 'worry', 'worse', 'worsen', 'worst', 'worth', 'wow', 'wraith', 'wrap', 'wrapper', 'wrapping', 'wrinkle', 'write', 'writer', 'writing', 'wrong', 'x', 'xenon', 'xml', 'xna', 'xor', 'xsl', 'xslt', 'ya', 'yah', 'yahoo', 'yaml', 'yaw', 'yeah', 'year', 'yell', 'yellow', 'yeoman', 'yep', 'yes', 'yesterday', 'yesteryear', 'yield', 'yn', 'yo', 'york', 'yuck', 'z', 'zealot', 'zero', 'zip', 'zombie', 'zone', 'zoom']\n"
     ]
    }
   ],
   "source": [
    "# Affichage\n",
    "LONGUEUR_CORPUS = len(set(corpus_MOTS))\n",
    "print(LONGUEUR_CORPUS)\n",
    "print(sorted(set(corpus_MOTS)))"
   ]
  },
  {
   "cell_type": "markdown",
   "id": "b585a5d1",
   "metadata": {},
   "source": [
    "Affichage du corpus des lignes dans l'ordre du dataframe :"
   ]
  },
  {
   "cell_type": "code",
   "execution_count": 22,
   "id": "aa0d4e09",
   "metadata": {},
   "outputs": [
    {
     "name": "stdout",
     "output_type": "stream",
     "text": [
      "6782\n"
     ]
    }
   ],
   "source": [
    "print(len(corpus_LIGNES))\n",
    "# print(corpus_LIGNES)"
   ]
  },
  {
   "cell_type": "markdown",
   "id": "aa15f47c",
   "metadata": {},
   "source": [
    "On va maintenant extraire des features de ce corpus.\n",
    "On considère le seuil N comme le nombre minimum de l'apparition d'un mot dans le corpus pour qu'il soit pris en compte dans l'encodage des résultats. Cela permet de filtrer les mots peu utilisés, similairement à ce que l'on a fait pour les tags."
   ]
  },
  {
   "cell_type": "code",
   "execution_count": 23,
   "id": "b6f76a76",
   "metadata": {},
   "outputs": [],
   "source": [
    "# On filtre les mots qui apparaissent seulement plus de X fois\n",
    "SEUIL_MIN = 2\n",
    "\n",
    "# On filtre les mots qui apparaissent dans X% des cas\n",
    "SEUIL_MAX = 0.5"
   ]
  },
  {
   "cell_type": "markdown",
   "id": "e0f37701",
   "metadata": {},
   "source": [
    "On crée des fonctions d'extraction de features :"
   ]
  },
  {
   "cell_type": "code",
   "execution_count": 24,
   "id": "477ace5c",
   "metadata": {},
   "outputs": [],
   "source": [
    "from sklearn.feature_extraction.text import CountVectorizer\n",
    "from sklearn.feature_extraction.text import TfidfVectorizer\n",
    "\n",
    "\n",
    "def extractVectorizer(lignes, SEUIL_MIN, SEUIL_MAX, *args):\n",
    "\n",
    "    try:    \n",
    "        vectorizer = CountVectorizer(min_df=SEUIL_MIN, max_df=SEUIL_MAX, max_features=args[0])\n",
    "    except:\n",
    "        vectorizer = CountVectorizer(min_df=SEUIL_MIN, max_df=SEUIL_MAX)\n",
    "    \n",
    "    count_matrix = vectorizer.fit_transform(corpus_LIGNES)\n",
    "    count_array = count_matrix.toarray()\n",
    "    return pd.DataFrame(data=count_array, columns=vectorizer.get_feature_names_out())\n",
    "\n",
    "\n",
    "def extractTFIDF(lignes, SEUIL_MIN, SEUIL_MAX, *args):\n",
    "    \n",
    "    try:\n",
    "        vectorizer = TfidfVectorizer(min_df=SEUIL_MIN, max_df=SEUIL_MAX, max_features=args[0])\n",
    "    except:\n",
    "        vectorizer = TfidfVectorizer(min_df=SEUIL_MIN, max_df=SEUIL_MAX)\n",
    "    \n",
    "    vectors = vectorizer.fit_transform(corpus_LIGNES)\n",
    "    feature_names = vectorizer.get_feature_names_out()\n",
    "    dense = vectors.todense()\n",
    "    denselist = dense.tolist()\n",
    "    return pd.DataFrame(denselist, columns=feature_names)"
   ]
  },
  {
   "cell_type": "markdown",
   "id": "b2afdd5b",
   "metadata": {},
   "source": [
    "Application des fonctions :"
   ]
  },
  {
   "cell_type": "code",
   "execution_count": 25,
   "id": "013df137",
   "metadata": {
    "scrolled": true
   },
   "outputs": [
    {
     "name": "stdout",
     "output_type": "stream",
     "text": [
      "6782x3454\n",
      "6782x3454\n"
     ]
    }
   ],
   "source": [
    "dataCount = extractVectorizer(corpus_LIGNES, SEUIL_MIN, SEUIL_MAX)\n",
    "dataTF = extractTFIDF(corpus_LIGNES, SEUIL_MIN, SEUIL_MAX)\n",
    "\n",
    "print(f'{dataCount.shape[0]}x{dataCount.shape[1]}')\n",
    "print(f'{dataTF.shape[0]}x{dataTF.shape[1]}')"
   ]
  },
  {
   "cell_type": "markdown",
   "id": "9c0634e1",
   "metadata": {},
   "source": [
    "### Tags\n",
    "\n",
    "One hot encoding des tags :"
   ]
  },
  {
   "cell_type": "code",
   "execution_count": 26,
   "id": "4a66b907",
   "metadata": {},
   "outputs": [
    {
     "name": "stdout",
     "output_type": "stream",
     "text": [
      "6782x19\n"
     ]
    },
    {
     "data": {
      "text/html": [
       "<div>\n",
       "<style scoped>\n",
       "    .dataframe tbody tr th:only-of-type {\n",
       "        vertical-align: middle;\n",
       "    }\n",
       "\n",
       "    .dataframe tbody tr th {\n",
       "        vertical-align: top;\n",
       "    }\n",
       "\n",
       "    .dataframe thead th {\n",
       "        text-align: right;\n",
       "    }\n",
       "</style>\n",
       "<table border=\"1\" class=\"dataframe\">\n",
       "  <thead>\n",
       "    <tr style=\"text-align: right;\">\n",
       "      <th></th>\n",
       "      <th>.net</th>\n",
       "      <th>android</th>\n",
       "      <th>asp.net</th>\n",
       "      <th>c</th>\n",
       "      <th>c#</th>\n",
       "      <th>c++</th>\n",
       "      <th>css</th>\n",
       "      <th>html</th>\n",
       "      <th>ios</th>\n",
       "      <th>java</th>\n",
       "      <th>javascript</th>\n",
       "      <th>jquery</th>\n",
       "      <th>linux</th>\n",
       "      <th>mysql</th>\n",
       "      <th>php</th>\n",
       "      <th>python</th>\n",
       "      <th>sql</th>\n",
       "      <th>sql-server</th>\n",
       "      <th>windows</th>\n",
       "    </tr>\n",
       "  </thead>\n",
       "  <tbody>\n",
       "    <tr>\n",
       "      <th>0</th>\n",
       "      <td>0</td>\n",
       "      <td>0</td>\n",
       "      <td>0</td>\n",
       "      <td>1</td>\n",
       "      <td>0</td>\n",
       "      <td>0</td>\n",
       "      <td>0</td>\n",
       "      <td>0</td>\n",
       "      <td>0</td>\n",
       "      <td>0</td>\n",
       "      <td>0</td>\n",
       "      <td>0</td>\n",
       "      <td>0</td>\n",
       "      <td>0</td>\n",
       "      <td>0</td>\n",
       "      <td>0</td>\n",
       "      <td>0</td>\n",
       "      <td>0</td>\n",
       "      <td>0</td>\n",
       "    </tr>\n",
       "    <tr>\n",
       "      <th>1</th>\n",
       "      <td>0</td>\n",
       "      <td>0</td>\n",
       "      <td>1</td>\n",
       "      <td>0</td>\n",
       "      <td>1</td>\n",
       "      <td>0</td>\n",
       "      <td>0</td>\n",
       "      <td>0</td>\n",
       "      <td>0</td>\n",
       "      <td>0</td>\n",
       "      <td>0</td>\n",
       "      <td>0</td>\n",
       "      <td>0</td>\n",
       "      <td>0</td>\n",
       "      <td>0</td>\n",
       "      <td>0</td>\n",
       "      <td>0</td>\n",
       "      <td>0</td>\n",
       "      <td>0</td>\n",
       "    </tr>\n",
       "    <tr>\n",
       "      <th>2</th>\n",
       "      <td>0</td>\n",
       "      <td>0</td>\n",
       "      <td>0</td>\n",
       "      <td>0</td>\n",
       "      <td>0</td>\n",
       "      <td>0</td>\n",
       "      <td>0</td>\n",
       "      <td>0</td>\n",
       "      <td>0</td>\n",
       "      <td>0</td>\n",
       "      <td>0</td>\n",
       "      <td>0</td>\n",
       "      <td>0</td>\n",
       "      <td>0</td>\n",
       "      <td>0</td>\n",
       "      <td>0</td>\n",
       "      <td>1</td>\n",
       "      <td>1</td>\n",
       "      <td>0</td>\n",
       "    </tr>\n",
       "    <tr>\n",
       "      <th>3</th>\n",
       "      <td>0</td>\n",
       "      <td>0</td>\n",
       "      <td>1</td>\n",
       "      <td>0</td>\n",
       "      <td>1</td>\n",
       "      <td>0</td>\n",
       "      <td>0</td>\n",
       "      <td>0</td>\n",
       "      <td>0</td>\n",
       "      <td>0</td>\n",
       "      <td>1</td>\n",
       "      <td>0</td>\n",
       "      <td>0</td>\n",
       "      <td>0</td>\n",
       "      <td>0</td>\n",
       "      <td>0</td>\n",
       "      <td>0</td>\n",
       "      <td>0</td>\n",
       "      <td>0</td>\n",
       "    </tr>\n",
       "    <tr>\n",
       "      <th>4</th>\n",
       "      <td>0</td>\n",
       "      <td>0</td>\n",
       "      <td>0</td>\n",
       "      <td>0</td>\n",
       "      <td>0</td>\n",
       "      <td>0</td>\n",
       "      <td>0</td>\n",
       "      <td>0</td>\n",
       "      <td>0</td>\n",
       "      <td>0</td>\n",
       "      <td>0</td>\n",
       "      <td>0</td>\n",
       "      <td>0</td>\n",
       "      <td>0</td>\n",
       "      <td>0</td>\n",
       "      <td>0</td>\n",
       "      <td>1</td>\n",
       "      <td>0</td>\n",
       "      <td>0</td>\n",
       "    </tr>\n",
       "  </tbody>\n",
       "</table>\n",
       "</div>"
      ],
      "text/plain": [
       "   .net  android  asp.net  c  c#  c++  css  html  ios  java  javascript  \\\n",
       "0     0        0        0  1   0    0    0     0    0     0           0   \n",
       "1     0        0        1  0   1    0    0     0    0     0           0   \n",
       "2     0        0        0  0   0    0    0     0    0     0           0   \n",
       "3     0        0        1  0   1    0    0     0    0     0           1   \n",
       "4     0        0        0  0   0    0    0     0    0     0           0   \n",
       "\n",
       "   jquery  linux  mysql  php  python  sql  sql-server  windows  \n",
       "0       0      0      0    0       0    0           0        0  \n",
       "1       0      0      0    0       0    0           0        0  \n",
       "2       0      0      0    0       0    1           1        0  \n",
       "3       0      0      0    0       0    0           0        0  \n",
       "4       0      0      0    0       0    1           0        0  "
      ]
     },
     "execution_count": 26,
     "metadata": {},
     "output_type": "execute_result"
    }
   ],
   "source": [
    "# Encodage des tags multilabel\n",
    "from sklearn.preprocessing import MultiLabelBinarizer\n",
    "\n",
    "mlb = MultiLabelBinarizer()\n",
    "resultat = mlb.fit_transform(data['Tags'])\n",
    "dataTags = pd.DataFrame(resultat)\n",
    "dataTags.columns = mlb.classes_\n",
    "print(f'{dataTags.shape[0]}x{dataTags.shape[1]}')\n",
    "dataTags.head(5)"
   ]
  },
  {
   "cell_type": "markdown",
   "id": "b7854e9c",
   "metadata": {},
   "source": [
    "# ACP\n",
    "\n",
    "Afin de réduire la dimension, on affiche l'éboulis aux valeurs propres du problème, via une fonction."
   ]
  },
  {
   "cell_type": "code",
   "execution_count": 27,
   "id": "1a541ab6",
   "metadata": {},
   "outputs": [],
   "source": [
    "# Import des librairies\n",
    "from sklearn import decomposition\n",
    "from sklearn import preprocessing\n",
    "from fonctionsACP import *\n",
    "\n",
    "\n",
    "def affichageEboulis(n_comp, data):\n",
    "\n",
    "    # Export des colonnes quantitatives\n",
    "    data_pca = data\n",
    "\n",
    "    # Exctraction des données d'analyse\n",
    "    X = data_pca.values\n",
    "    names = data_pca.index\n",
    "    features = data_pca.columns\n",
    "\n",
    "    # Centrage et Réduction\n",
    "    std_scale = preprocessing.StandardScaler().fit(X)\n",
    "    X_scaled = std_scale.transform(X)\n",
    "\n",
    "    # Calcul des composantes principales (PCA)\n",
    "    pca = decomposition.PCA(n_components=n_comp)\n",
    "    pca.fit(X_scaled)\n",
    "\n",
    "    # Eboulis des valeurs propres\n",
    "    display_scree_plot(pca)"
   ]
  },
  {
   "cell_type": "markdown",
   "id": "f6e7175c",
   "metadata": {},
   "source": [
    "Application de la fonction aux deux bag of words :"
   ]
  },
  {
   "cell_type": "code",
   "execution_count": 28,
   "id": "f2c8200d",
   "metadata": {},
   "outputs": [
    {
     "data": {
      "image/png": "[encoded data removed]",
      "text/plain": [
       "<Figure size 432x288 with 1 Axes>"
      ]
     },
     "metadata": {
      "needs_background": "light"
     },
     "output_type": "display_data"
    },
    {
     "data": {
      "image/png": "[encoded data removed]",
      "text/plain": [
       "<Figure size 432x288 with 1 Axes>"
      ]
     },
     "metadata": {
      "needs_background": "light"
     },
     "output_type": "display_data"
    }
   ],
   "source": [
    "# Nombre de composantes principales\n",
    "n_comp = 2000\n",
    "\n",
    "# Application de la fonction\n",
    "affichageEboulis(n_comp, dataCount)\n",
    "affichageEboulis(n_comp, dataTF)"
   ]
  },
  {
   "cell_type": "markdown",
   "id": "4216c52b",
   "metadata": {},
   "source": [
    "Basé sur ces résultats, on refait une extraction de features avec un nombre max qui correspond à 80% de la variabilité :"
   ]
  },
  {
   "cell_type": "code",
   "execution_count": 29,
   "id": "d974ebdf",
   "metadata": {},
   "outputs": [],
   "source": [
    "dataCount = extractVectorizer(corpus_LIGNES, SEUIL_MIN, SEUIL_MAX, 1500)\n",
    "dataTF = extractTFIDF(corpus_LIGNES, SEUIL_MIN, SEUIL_MAX, 1500)"
   ]
  },
  {
   "cell_type": "markdown",
   "id": "5c3583d3",
   "metadata": {},
   "source": [
    "# Sauvegarde\n",
    "\n",
    "Concaténation des tags :"
   ]
  },
  {
   "cell_type": "code",
   "execution_count": 30,
   "id": "dfe3d13f",
   "metadata": {
    "scrolled": false
   },
   "outputs": [
    {
     "name": "stdout",
     "output_type": "stream",
     "text": [
      "6782x1500\n",
      "6782x1519\n",
      "6782x1500\n",
      "6782x1519\n"
     ]
    }
   ],
   "source": [
    "# Countvectorizer\n",
    "dataCountTags = pd.concat([dataCount, dataTags], axis=1)\n",
    "print(f'{dataCount.shape[0]}x{dataCount.shape[1]}')\n",
    "print(f'{dataCountTags.shape[0]}x{dataCountTags.shape[1]}')\n",
    "\n",
    "# TF-IDF\n",
    "dataTFTags = pd.concat([dataTF, dataTags], axis=1)\n",
    "print(f'{dataTF.shape[0]}x{dataTF.shape[1]}')\n",
    "print(f'{dataTFTags.shape[0]}x{dataTFTags.shape[1]}')"
   ]
  },
  {
   "cell_type": "markdown",
   "id": "f4210b5e",
   "metadata": {},
   "source": [
    "Export sans la colonne d'index :"
   ]
  },
  {
   "cell_type": "code",
   "execution_count": 31,
   "id": "857835c3",
   "metadata": {},
   "outputs": [],
   "source": [
    "data.to_csv('dataRaw_LIGHT.csv', index=False)\n",
    "dataCount.to_csv('CountVectorizer_LIGHT.csv', index=False)\n",
    "dataCountTags.to_csv('CountVectorizerTags_LIGHT.csv', index=False)\n",
    "dataTF.to_csv('TF-IDF_LIGHT.csv', index=False)\n",
    "dataTFTags.to_csv('TF-IDFTags_LIGHT.csv', index=False)"
   ]
  }
 ],
 "metadata": {
  "kernelspec": {
   "display_name": "Python 3 (ipykernel)",
   "language": "python",
   "name": "python3"
  },
  "language_info": {
   "codemirror_mode": {
    "name": "ipython",
    "version": 3
   },
   "file_extension": ".py",
   "mimetype": "text/x-python",
   "name": "python",
   "nbconvert_exporter": "python",
   "pygments_lexer": "ipython3",
   "version": "3.9.7"
  }
 },
 "nbformat": 4,
 "nbformat_minor": 5
}
