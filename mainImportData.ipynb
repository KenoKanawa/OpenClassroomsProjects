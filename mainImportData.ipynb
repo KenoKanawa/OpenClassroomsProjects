{
 "cells": [
  {
   "cell_type": "markdown",
   "id": "67ff49ff",
   "metadata": {},
   "source": [
    "# Import"
   ]
  },
  {
   "cell_type": "code",
   "execution_count": 1,
   "id": "840806cd",
   "metadata": {},
   "outputs": [],
   "source": [
    "import pandas as pd\n",
    "pd.set_option('display.max_columns', None)\n",
    "pd.set_option('display.max_rows', None)"
   ]
  },
  {
   "cell_type": "markdown",
   "id": "3383af63",
   "metadata": {},
   "source": [
    "**Import des données préfiltrées (score positif, réponses, favoris, vues) via la requête SQL suivante :**\n",
    "\n",
    "SELECT TOP 50000 Title, Body, Tags, Id, Score, ViewCount, FavoriteCount, AnswerCount\n",
    "\n",
    "FROM Posts \n",
    "\n",
    "WHERE PostTypeId = 1 AND ViewCount > 0 AND FavoriteCount > 0\n",
    "\n",
    "AND Score > 0 AND AnswerCount > 0 AND Id < 1000000\n",
    "\n",
    "**On effectue plusieurs requêtes en filtrant sur l'ID pour avoir environ 100.000 résultats.**"
   ]
  },
  {
   "cell_type": "code",
   "execution_count": 2,
   "id": "081ff2a4",
   "metadata": {},
   "outputs": [
    {
     "data": {
      "text/html": [
       "<div>\n",
       "<style scoped>\n",
       "    .dataframe tbody tr th:only-of-type {\n",
       "        vertical-align: middle;\n",
       "    }\n",
       "\n",
       "    .dataframe tbody tr th {\n",
       "        vertical-align: top;\n",
       "    }\n",
       "\n",
       "    .dataframe thead th {\n",
       "        text-align: right;\n",
       "    }\n",
       "</style>\n",
       "<table border=\"1\" class=\"dataframe\">\n",
       "  <thead>\n",
       "    <tr style=\"text-align: right;\">\n",
       "      <th></th>\n",
       "      <th>Title</th>\n",
       "      <th>Body</th>\n",
       "      <th>Tags</th>\n",
       "      <th>Id</th>\n",
       "      <th>Score</th>\n",
       "      <th>ViewCount</th>\n",
       "      <th>FavoriteCount</th>\n",
       "      <th>AnswerCount</th>\n",
       "    </tr>\n",
       "  </thead>\n",
       "  <tbody>\n",
       "    <tr>\n",
       "      <th>0</th>\n",
       "      <td>How to convert a Decimal to a Double in C#?</td>\n",
       "      <td>&lt;p&gt;I want to use a &lt;code&gt;Track-Bar&lt;/code&gt; to c...</td>\n",
       "      <td>&lt;c#&gt;&lt;floating-point&gt;&lt;type-conversion&gt;&lt;double&gt;&lt;...</td>\n",
       "      <td>4</td>\n",
       "      <td>759</td>\n",
       "      <td>63751</td>\n",
       "      <td>58</td>\n",
       "      <td>12</td>\n",
       "    </tr>\n",
       "    <tr>\n",
       "      <th>1</th>\n",
       "      <td>Why did the width collapse in the percentage w...</td>\n",
       "      <td>&lt;p&gt;I have an absolutely positioned &lt;code&gt;div&lt;/...</td>\n",
       "      <td>&lt;html&gt;&lt;css&gt;&lt;internet-explorer-7&gt;</td>\n",
       "      <td>6</td>\n",
       "      <td>313</td>\n",
       "      <td>22512</td>\n",
       "      <td>13</td>\n",
       "      <td>7</td>\n",
       "    </tr>\n",
       "    <tr>\n",
       "      <th>2</th>\n",
       "      <td>How do I calculate someone's age based on a Da...</td>\n",
       "      <td>&lt;p&gt;Given a &lt;code&gt;DateTime&lt;/code&gt; representing ...</td>\n",
       "      <td>&lt;c#&gt;&lt;.net&gt;&lt;datetime&gt;</td>\n",
       "      <td>9</td>\n",
       "      <td>2102</td>\n",
       "      <td>728867</td>\n",
       "      <td>485</td>\n",
       "      <td>70</td>\n",
       "    </tr>\n",
       "    <tr>\n",
       "      <th>3</th>\n",
       "      <td>Calculate relative time in C#</td>\n",
       "      <td>&lt;p&gt;Given a specific &lt;code&gt;DateTime&lt;/code&gt; valu...</td>\n",
       "      <td>&lt;c#&gt;&lt;datetime&gt;&lt;time&gt;&lt;datediff&gt;&lt;relative-time-s...</td>\n",
       "      <td>11</td>\n",
       "      <td>1611</td>\n",
       "      <td>188398</td>\n",
       "      <td>552</td>\n",
       "      <td>41</td>\n",
       "    </tr>\n",
       "    <tr>\n",
       "      <th>4</th>\n",
       "      <td>Determine a user's timezone</td>\n",
       "      <td>&lt;p&gt;Is there a standard way for a web server to...</td>\n",
       "      <td>&lt;html&gt;&lt;browser&gt;&lt;timezone&gt;&lt;user-agent&gt;&lt;timezone...</td>\n",
       "      <td>13</td>\n",
       "      <td>672</td>\n",
       "      <td>247258</td>\n",
       "      <td>157</td>\n",
       "      <td>27</td>\n",
       "    </tr>\n",
       "  </tbody>\n",
       "</table>\n",
       "</div>"
      ],
      "text/plain": [
       "                                               Title  \\\n",
       "0        How to convert a Decimal to a Double in C#?   \n",
       "1  Why did the width collapse in the percentage w...   \n",
       "2  How do I calculate someone's age based on a Da...   \n",
       "3                      Calculate relative time in C#   \n",
       "4                        Determine a user's timezone   \n",
       "\n",
       "                                                Body  \\\n",
       "0  <p>I want to use a <code>Track-Bar</code> to c...   \n",
       "1  <p>I have an absolutely positioned <code>div</...   \n",
       "2  <p>Given a <code>DateTime</code> representing ...   \n",
       "3  <p>Given a specific <code>DateTime</code> valu...   \n",
       "4  <p>Is there a standard way for a web server to...   \n",
       "\n",
       "                                                Tags  Id  Score  ViewCount  \\\n",
       "0  <c#><floating-point><type-conversion><double><...   4    759      63751   \n",
       "1                   <html><css><internet-explorer-7>   6    313      22512   \n",
       "2                               <c#><.net><datetime>   9   2102     728867   \n",
       "3  <c#><datetime><time><datediff><relative-time-s...  11   1611     188398   \n",
       "4  <html><browser><timezone><user-agent><timezone...  13    672     247258   \n",
       "\n",
       "   FavoriteCount  AnswerCount  \n",
       "0             58           12  \n",
       "1             13            7  \n",
       "2            485           70  \n",
       "3            552           41  \n",
       "4            157           27  "
      ]
     },
     "execution_count": 2,
     "metadata": {},
     "output_type": "execute_result"
    }
   ],
   "source": [
    "# Import des deux requêtes\n",
    "data1 = pd.read_csv('FILTERED_QueryResults.csv')\n",
    "# data2 = pd.read_csv('FILTERED_QueryResults-2.csv')\n",
    "# data3 = pd.read_csv('FILTERED_QueryResults-3.csv')\n",
    "\n",
    "# Concaténation\n",
    "data = pd.concat([data1])\n",
    "\n",
    "# Import des données tronquées pour les tests\n",
    "# data = pd.read_csv('QueryResults_NEW_LIGHT.csv')\n",
    "\n",
    "data.head(5)"
   ]
  },
  {
   "cell_type": "markdown",
   "id": "96bea21f",
   "metadata": {},
   "source": [
    "On supprime un certain nombre de lignes pour réduire la place dans la RAM :"
   ]
  },
  {
   "cell_type": "code",
   "execution_count": 3,
   "id": "53523f5f",
   "metadata": {},
   "outputs": [],
   "source": [
    "N_LIGNES = 20000\n",
    "data = data.iloc[:N_LIGNES, :]"
   ]
  },
  {
   "cell_type": "markdown",
   "id": "9c25c002",
   "metadata": {},
   "source": [
    "# Nettoyage des données\n",
    "\n",
    "### Filtrage\n",
    "\n",
    "On choisis de supprimer certaines des lignes comme suit :\n",
    "\n",
    "- Suppression des doublons,\n",
    "- Score positif,\n",
    "- Ayant des réponses.\n",
    "\n",
    "On supprime les colonnes qui ne sont pas pertinentes.\n",
    "\n",
    "Fonction de nettoyage du texte HTML :"
   ]
  },
  {
   "cell_type": "code",
   "execution_count": 4,
   "id": "7b3433bb",
   "metadata": {},
   "outputs": [
    {
     "name": "stdout",
     "output_type": "stream",
     "text": [
      "Avant : 20000\n",
      "Après : 20000\n"
     ]
    },
    {
     "data": {
      "text/html": [
       "<div>\n",
       "<style scoped>\n",
       "    .dataframe tbody tr th:only-of-type {\n",
       "        vertical-align: middle;\n",
       "    }\n",
       "\n",
       "    .dataframe tbody tr th {\n",
       "        vertical-align: top;\n",
       "    }\n",
       "\n",
       "    .dataframe thead th {\n",
       "        text-align: right;\n",
       "    }\n",
       "</style>\n",
       "<table border=\"1\" class=\"dataframe\">\n",
       "  <thead>\n",
       "    <tr style=\"text-align: right;\">\n",
       "      <th></th>\n",
       "      <th>Title</th>\n",
       "      <th>Body</th>\n",
       "      <th>Tags</th>\n",
       "    </tr>\n",
       "  </thead>\n",
       "  <tbody>\n",
       "    <tr>\n",
       "      <th>0</th>\n",
       "      <td>How to convert a Decimal to a Double in C#?</td>\n",
       "      <td>&lt;p&gt;I want to use a &lt;code&gt;Track-Bar&lt;/code&gt; to c...</td>\n",
       "      <td>&lt;c#&gt;&lt;floating-point&gt;&lt;type-conversion&gt;&lt;double&gt;&lt;...</td>\n",
       "    </tr>\n",
       "    <tr>\n",
       "      <th>1</th>\n",
       "      <td>Why did the width collapse in the percentage w...</td>\n",
       "      <td>&lt;p&gt;I have an absolutely positioned &lt;code&gt;div&lt;/...</td>\n",
       "      <td>&lt;html&gt;&lt;css&gt;&lt;internet-explorer-7&gt;</td>\n",
       "    </tr>\n",
       "    <tr>\n",
       "      <th>2</th>\n",
       "      <td>How do I calculate someone's age based on a Da...</td>\n",
       "      <td>&lt;p&gt;Given a &lt;code&gt;DateTime&lt;/code&gt; representing ...</td>\n",
       "      <td>&lt;c#&gt;&lt;.net&gt;&lt;datetime&gt;</td>\n",
       "    </tr>\n",
       "    <tr>\n",
       "      <th>3</th>\n",
       "      <td>Calculate relative time in C#</td>\n",
       "      <td>&lt;p&gt;Given a specific &lt;code&gt;DateTime&lt;/code&gt; valu...</td>\n",
       "      <td>&lt;c#&gt;&lt;datetime&gt;&lt;time&gt;&lt;datediff&gt;&lt;relative-time-s...</td>\n",
       "    </tr>\n",
       "    <tr>\n",
       "      <th>4</th>\n",
       "      <td>Determine a user's timezone</td>\n",
       "      <td>&lt;p&gt;Is there a standard way for a web server to...</td>\n",
       "      <td>&lt;html&gt;&lt;browser&gt;&lt;timezone&gt;&lt;user-agent&gt;&lt;timezone...</td>\n",
       "    </tr>\n",
       "  </tbody>\n",
       "</table>\n",
       "</div>"
      ],
      "text/plain": [
       "                                               Title  \\\n",
       "0        How to convert a Decimal to a Double in C#?   \n",
       "1  Why did the width collapse in the percentage w...   \n",
       "2  How do I calculate someone's age based on a Da...   \n",
       "3                      Calculate relative time in C#   \n",
       "4                        Determine a user's timezone   \n",
       "\n",
       "                                                Body  \\\n",
       "0  <p>I want to use a <code>Track-Bar</code> to c...   \n",
       "1  <p>I have an absolutely positioned <code>div</...   \n",
       "2  <p>Given a <code>DateTime</code> representing ...   \n",
       "3  <p>Given a specific <code>DateTime</code> valu...   \n",
       "4  <p>Is there a standard way for a web server to...   \n",
       "\n",
       "                                                Tags  \n",
       "0  <c#><floating-point><type-conversion><double><...  \n",
       "1                   <html><css><internet-explorer-7>  \n",
       "2                               <c#><.net><datetime>  \n",
       "3  <c#><datetime><time><datediff><relative-time-s...  \n",
       "4  <html><browser><timezone><user-agent><timezone...  "
      ]
     },
     "execution_count": 4,
     "metadata": {},
     "output_type": "execute_result"
    }
   ],
   "source": [
    "import numpy as np\n",
    "\n",
    "print(f'Avant : {data.shape[0]}')\n",
    "\n",
    "# Doublons\n",
    "data.drop_duplicates(inplace=True)\n",
    "\n",
    "# Score positif\n",
    "data.drop(data[data.Score < 0].index, inplace=True)\n",
    "\n",
    "# Ayant des réponses\n",
    "data.dropna(subset = ['AnswerCount'], inplace=True)\n",
    "print(f'Après : {data.shape[0]}')\n",
    "\n",
    "# Réindexaction\n",
    "data.reset_index(inplace=True)\n",
    "\n",
    "# Suppression de certaines colonnes pour alléger le dataframe\n",
    "data.drop(['index', 'Id', 'Score', 'ViewCount', 'AnswerCount', 'FavoriteCount'], axis=1, inplace=True)\n",
    "\n",
    "# Affichage\n",
    "data.head(5)"
   ]
  },
  {
   "cell_type": "markdown",
   "id": "43675c7d",
   "metadata": {},
   "source": [
    "La filtrage n'a plus d'impact sur les données d'entrée car elles ont déjà été filtrées par SQL."
   ]
  },
  {
   "cell_type": "markdown",
   "id": "621e5a0d",
   "metadata": {},
   "source": [
    "### Valeurs manquantes"
   ]
  },
  {
   "cell_type": "code",
   "execution_count": 5,
   "id": "c061db0c",
   "metadata": {},
   "outputs": [
    {
     "name": "stdout",
     "output_type": "stream",
     "text": [
      "Pourcentage de NaN Body = 0.0%\n",
      " \r",
      "Pourcentage de NaN Title = 0.0%\n",
      " \r",
      "Pourcentage de NaN Tag = 0.0%\n",
      "\n"
     ]
    }
   ],
   "source": [
    "# Calcul des valeurs manquantes sur chaque colonne\n",
    "isna_body = data['Body'].isna().sum()\n",
    "isna_title = data['Title'].isna().sum()\n",
    "isna_tag = data['Tags'].isna().sum()\n",
    "\n",
    "# Ratios en %\n",
    "isna_body = round(isna_body*100/data.shape[0], 2)\n",
    "isna_title = round(isna_title*100/data.shape[0], 2)\n",
    "isna_tag = round(isna_tag*100/data.shape[0], 2)\n",
    "\n",
    "# Affichage\n",
    "print(f'Pourcentage de NaN Body = {isna_body}%\\n',\n",
    "      f'\\rPourcentage de NaN Title = {isna_title}%\\n',\n",
    "      f'\\rPourcentage de NaN Tag = {isna_tag}%\\n')"
   ]
  },
  {
   "cell_type": "markdown",
   "id": "6006d621",
   "metadata": {},
   "source": [
    "### Traitement des tags\n",
    "\n",
    "On cherche ici à parser les tags entre chevrons et à les transformer en simples listes de mots."
   ]
  },
  {
   "cell_type": "code",
   "execution_count": 6,
   "id": "b566e3df",
   "metadata": {},
   "outputs": [],
   "source": [
    "def parsingTags(tags):\n",
    "    \n",
    "    # En enlève le premier et le dernier chevron\n",
    "    tags = tags[1:-1]\n",
    "    \n",
    "    # On sépare le string par \"><\"\n",
    "    tags = tags.split('><')\n",
    "    \n",
    "    # Retour\n",
    "    return tags"
   ]
  },
  {
   "cell_type": "markdown",
   "id": "5fe4a41c",
   "metadata": {},
   "source": [
    "Application de la fonction et aperçu :"
   ]
  },
  {
   "cell_type": "code",
   "execution_count": 7,
   "id": "bc0b8207",
   "metadata": {},
   "outputs": [
    {
     "data": {
      "text/html": [
       "<div>\n",
       "<style scoped>\n",
       "    .dataframe tbody tr th:only-of-type {\n",
       "        vertical-align: middle;\n",
       "    }\n",
       "\n",
       "    .dataframe tbody tr th {\n",
       "        vertical-align: top;\n",
       "    }\n",
       "\n",
       "    .dataframe thead th {\n",
       "        text-align: right;\n",
       "    }\n",
       "</style>\n",
       "<table border=\"1\" class=\"dataframe\">\n",
       "  <thead>\n",
       "    <tr style=\"text-align: right;\">\n",
       "      <th></th>\n",
       "      <th>Title</th>\n",
       "      <th>Body</th>\n",
       "      <th>Tags</th>\n",
       "    </tr>\n",
       "  </thead>\n",
       "  <tbody>\n",
       "    <tr>\n",
       "      <th>0</th>\n",
       "      <td>How to convert a Decimal to a Double in C#?</td>\n",
       "      <td>&lt;p&gt;I want to use a &lt;code&gt;Track-Bar&lt;/code&gt; to c...</td>\n",
       "      <td>[c#, floating-point, type-conversion, double, ...</td>\n",
       "    </tr>\n",
       "    <tr>\n",
       "      <th>1</th>\n",
       "      <td>Why did the width collapse in the percentage w...</td>\n",
       "      <td>&lt;p&gt;I have an absolutely positioned &lt;code&gt;div&lt;/...</td>\n",
       "      <td>[html, css, internet-explorer-7]</td>\n",
       "    </tr>\n",
       "    <tr>\n",
       "      <th>2</th>\n",
       "      <td>How do I calculate someone's age based on a Da...</td>\n",
       "      <td>&lt;p&gt;Given a &lt;code&gt;DateTime&lt;/code&gt; representing ...</td>\n",
       "      <td>[c#, .net, datetime]</td>\n",
       "    </tr>\n",
       "    <tr>\n",
       "      <th>3</th>\n",
       "      <td>Calculate relative time in C#</td>\n",
       "      <td>&lt;p&gt;Given a specific &lt;code&gt;DateTime&lt;/code&gt; valu...</td>\n",
       "      <td>[c#, datetime, time, datediff, relative-time-s...</td>\n",
       "    </tr>\n",
       "    <tr>\n",
       "      <th>4</th>\n",
       "      <td>Determine a user's timezone</td>\n",
       "      <td>&lt;p&gt;Is there a standard way for a web server to...</td>\n",
       "      <td>[html, browser, timezone, user-agent, timezone...</td>\n",
       "    </tr>\n",
       "  </tbody>\n",
       "</table>\n",
       "</div>"
      ],
      "text/plain": [
       "                                               Title  \\\n",
       "0        How to convert a Decimal to a Double in C#?   \n",
       "1  Why did the width collapse in the percentage w...   \n",
       "2  How do I calculate someone's age based on a Da...   \n",
       "3                      Calculate relative time in C#   \n",
       "4                        Determine a user's timezone   \n",
       "\n",
       "                                                Body  \\\n",
       "0  <p>I want to use a <code>Track-Bar</code> to c...   \n",
       "1  <p>I have an absolutely positioned <code>div</...   \n",
       "2  <p>Given a <code>DateTime</code> representing ...   \n",
       "3  <p>Given a specific <code>DateTime</code> valu...   \n",
       "4  <p>Is there a standard way for a web server to...   \n",
       "\n",
       "                                                Tags  \n",
       "0  [c#, floating-point, type-conversion, double, ...  \n",
       "1                   [html, css, internet-explorer-7]  \n",
       "2                               [c#, .net, datetime]  \n",
       "3  [c#, datetime, time, datediff, relative-time-s...  \n",
       "4  [html, browser, timezone, user-agent, timezone...  "
      ]
     },
     "execution_count": 7,
     "metadata": {},
     "output_type": "execute_result"
    }
   ],
   "source": [
    "data['Tags'] = data['Tags'].apply(parsingTags)\n",
    "data.head(5)"
   ]
  },
  {
   "cell_type": "markdown",
   "id": "3e740b24",
   "metadata": {},
   "source": [
    "Maintenant que nous avons les tags sous forme de liste pour chaque ligne, nous décidons de ne conserver que les tags les plus fréquents en effectuant les opérations suivantes :\n",
    "\n",
    "- Création d'une liste totale de tous les tags du dataframe par concaténation des listes de toutes les lignes,\n",
    "- Comptage des occurences des tags sur tout le dataframe,\n",
    "- Suppression des tags qui apparaissent moins de SEUIL fois,\n",
    "- Affichage de la répartition des tags retenus,\n",
    "- Création d'une liste unique des tags les plus fréquents.\n",
    "\n",
    "Seuil du nombre d'apparitions d'un tag pour qu'il soit retenu :"
   ]
  },
  {
   "cell_type": "code",
   "execution_count": 8,
   "id": "2d2520d6",
   "metadata": {},
   "outputs": [],
   "source": [
    "SEUIL_TAGS = 400"
   ]
  },
  {
   "cell_type": "markdown",
   "id": "db74a3bf",
   "metadata": {},
   "source": [
    "Application du tri :"
   ]
  },
  {
   "cell_type": "code",
   "execution_count": 9,
   "id": "4aa6fe70",
   "metadata": {},
   "outputs": [
    {
     "name": "stdout",
     "output_type": "stream",
     "text": [
      "5898 tags en entrée\n"
     ]
    },
    {
     "data": {
      "image/png": "[encoded data removed]",
      "text/plain": [
       "<Figure size 1152x288 with 1 Axes>"
      ]
     },
     "metadata": {
      "needs_background": "light"
     },
     "output_type": "display_data"
    },
    {
     "name": "stdout",
     "output_type": "stream",
     "text": [
      "15 tags en sortie\n"
     ]
    },
    {
     "data": {
      "text/html": [
       "<div>\n",
       "<style scoped>\n",
       "    .dataframe tbody tr th:only-of-type {\n",
       "        vertical-align: middle;\n",
       "    }\n",
       "\n",
       "    .dataframe tbody tr th {\n",
       "        vertical-align: top;\n",
       "    }\n",
       "\n",
       "    .dataframe thead th {\n",
       "        text-align: right;\n",
       "    }\n",
       "</style>\n",
       "<table border=\"1\" class=\"dataframe\">\n",
       "  <thead>\n",
       "    <tr style=\"text-align: right;\">\n",
       "      <th></th>\n",
       "      <th>Title</th>\n",
       "      <th>Body</th>\n",
       "      <th>Tags</th>\n",
       "    </tr>\n",
       "  </thead>\n",
       "  <tbody>\n",
       "    <tr>\n",
       "      <th>0</th>\n",
       "      <td>How to convert a Decimal to a Double in C#?</td>\n",
       "      <td>&lt;p&gt;I want to use a &lt;code&gt;Track-Bar&lt;/code&gt; to c...</td>\n",
       "      <td>[c#, floating-point, type-conversion, double, ...</td>\n",
       "    </tr>\n",
       "    <tr>\n",
       "      <th>1</th>\n",
       "      <td>Why did the width collapse in the percentage w...</td>\n",
       "      <td>&lt;p&gt;I have an absolutely positioned &lt;code&gt;div&lt;/...</td>\n",
       "      <td>[html, css, internet-explorer-7]</td>\n",
       "    </tr>\n",
       "    <tr>\n",
       "      <th>2</th>\n",
       "      <td>How do I calculate someone's age based on a Da...</td>\n",
       "      <td>&lt;p&gt;Given a &lt;code&gt;DateTime&lt;/code&gt; representing ...</td>\n",
       "      <td>[c#, .net, datetime]</td>\n",
       "    </tr>\n",
       "    <tr>\n",
       "      <th>3</th>\n",
       "      <td>Calculate relative time in C#</td>\n",
       "      <td>&lt;p&gt;Given a specific &lt;code&gt;DateTime&lt;/code&gt; valu...</td>\n",
       "      <td>[c#, datetime, time, datediff, relative-time-s...</td>\n",
       "    </tr>\n",
       "    <tr>\n",
       "      <th>4</th>\n",
       "      <td>Determine a user's timezone</td>\n",
       "      <td>&lt;p&gt;Is there a standard way for a web server to...</td>\n",
       "      <td>[html, browser, timezone, user-agent, timezone...</td>\n",
       "    </tr>\n",
       "  </tbody>\n",
       "</table>\n",
       "</div>"
      ],
      "text/plain": [
       "                                               Title  \\\n",
       "0        How to convert a Decimal to a Double in C#?   \n",
       "1  Why did the width collapse in the percentage w...   \n",
       "2  How do I calculate someone's age based on a Da...   \n",
       "3                      Calculate relative time in C#   \n",
       "4                        Determine a user's timezone   \n",
       "\n",
       "                                                Body  \\\n",
       "0  <p>I want to use a <code>Track-Bar</code> to c...   \n",
       "1  <p>I have an absolutely positioned <code>div</...   \n",
       "2  <p>Given a <code>DateTime</code> representing ...   \n",
       "3  <p>Given a specific <code>DateTime</code> valu...   \n",
       "4  <p>Is there a standard way for a web server to...   \n",
       "\n",
       "                                                Tags  \n",
       "0  [c#, floating-point, type-conversion, double, ...  \n",
       "1                   [html, css, internet-explorer-7]  \n",
       "2                               [c#, .net, datetime]  \n",
       "3  [c#, datetime, time, datediff, relative-time-s...  \n",
       "4  [html, browser, timezone, user-agent, timezone...  "
      ]
     },
     "execution_count": 9,
     "metadata": {},
     "output_type": "execute_result"
    }
   ],
   "source": [
    "import matplotlib.pyplot as plt\n",
    "\n",
    "# Concaténation de tous les tags du dataframe\n",
    "totalTags = []\n",
    "for index, x in data.iterrows():\n",
    "    totalTags = totalTags + x['Tags']\n",
    "\n",
    "# Nombre total de tags en entrée\n",
    "print(f'{len(set(totalTags))} tags en entrée')\n",
    "\n",
    "# Conversion en dataframe pour l'affichage du bargraph\n",
    "totalTags = pd.DataFrame(totalTags, columns=['Tags'])\n",
    "\n",
    "# On supprime les tags qui apparraissent peu\n",
    "counts = totalTags['Tags'].value_counts()\n",
    "totalTags = totalTags[~totalTags['Tags'].isin(counts[counts < SEUIL_TAGS].index)]\n",
    "\n",
    "# Affichage\n",
    "fig, axes = plt.subplots(figsize=(16, 4))\n",
    "fig.suptitle('Répartition des tags')\n",
    "totalTags['Tags'].value_counts(normalize=False).plot(kind='bar', width=0.1)\n",
    "plt.show()\n",
    "\n",
    "# Concaténation des tags retenus\n",
    "tagsRetenus = []\n",
    "for index, x in totalTags.iterrows():\n",
    "    tagsRetenus.append(x['Tags'])\n",
    "\n",
    "# Création d'une liste unique de tags retenus\n",
    "tagsRetenus = list(set(tagsRetenus))\n",
    "\n",
    "# Nombre total de tags en sortie\n",
    "print(f'{len(tagsRetenus)} tags en sortie')\n",
    "\n",
    "data.head(5)"
   ]
  },
  {
   "cell_type": "markdown",
   "id": "70e0bcea",
   "metadata": {},
   "source": [
    "Ensuite, une fonction de suppression des ces tags sur toutes les lignes est créée et appliquée :"
   ]
  },
  {
   "cell_type": "code",
   "execution_count": 10,
   "id": "f8da7afe",
   "metadata": {},
   "outputs": [
    {
     "data": {
      "text/html": [
       "<div>\n",
       "<style scoped>\n",
       "    .dataframe tbody tr th:only-of-type {\n",
       "        vertical-align: middle;\n",
       "    }\n",
       "\n",
       "    .dataframe tbody tr th {\n",
       "        vertical-align: top;\n",
       "    }\n",
       "\n",
       "    .dataframe thead th {\n",
       "        text-align: right;\n",
       "    }\n",
       "</style>\n",
       "<table border=\"1\" class=\"dataframe\">\n",
       "  <thead>\n",
       "    <tr style=\"text-align: right;\">\n",
       "      <th></th>\n",
       "      <th>Title</th>\n",
       "      <th>Body</th>\n",
       "      <th>Tags</th>\n",
       "    </tr>\n",
       "  </thead>\n",
       "  <tbody>\n",
       "    <tr>\n",
       "      <th>0</th>\n",
       "      <td>How to convert a Decimal to a Double in C#?</td>\n",
       "      <td>&lt;p&gt;I want to use a &lt;code&gt;Track-Bar&lt;/code&gt; to c...</td>\n",
       "      <td>[c#]</td>\n",
       "    </tr>\n",
       "    <tr>\n",
       "      <th>1</th>\n",
       "      <td>Why did the width collapse in the percentage w...</td>\n",
       "      <td>&lt;p&gt;I have an absolutely positioned &lt;code&gt;div&lt;/...</td>\n",
       "      <td>[html]</td>\n",
       "    </tr>\n",
       "    <tr>\n",
       "      <th>2</th>\n",
       "      <td>How do I calculate someone's age based on a Da...</td>\n",
       "      <td>&lt;p&gt;Given a &lt;code&gt;DateTime&lt;/code&gt; representing ...</td>\n",
       "      <td>[.net, c#]</td>\n",
       "    </tr>\n",
       "    <tr>\n",
       "      <th>3</th>\n",
       "      <td>Calculate relative time in C#</td>\n",
       "      <td>&lt;p&gt;Given a specific &lt;code&gt;DateTime&lt;/code&gt; valu...</td>\n",
       "      <td>[c#]</td>\n",
       "    </tr>\n",
       "    <tr>\n",
       "      <th>4</th>\n",
       "      <td>Determine a user's timezone</td>\n",
       "      <td>&lt;p&gt;Is there a standard way for a web server to...</td>\n",
       "      <td>[html]</td>\n",
       "    </tr>\n",
       "  </tbody>\n",
       "</table>\n",
       "</div>"
      ],
      "text/plain": [
       "                                               Title  \\\n",
       "0        How to convert a Decimal to a Double in C#?   \n",
       "1  Why did the width collapse in the percentage w...   \n",
       "2  How do I calculate someone's age based on a Da...   \n",
       "3                      Calculate relative time in C#   \n",
       "4                        Determine a user's timezone   \n",
       "\n",
       "                                                Body        Tags  \n",
       "0  <p>I want to use a <code>Track-Bar</code> to c...        [c#]  \n",
       "1  <p>I have an absolutely positioned <code>div</...      [html]  \n",
       "2  <p>Given a <code>DateTime</code> representing ...  [.net, c#]  \n",
       "3  <p>Given a specific <code>DateTime</code> valu...        [c#]  \n",
       "4  <p>Is there a standard way for a web server to...      [html]  "
      ]
     },
     "execution_count": 10,
     "metadata": {},
     "output_type": "execute_result"
    }
   ],
   "source": [
    "def suppressionTags(tags):\n",
    "    return list(set(tags).intersection(set(tagsRetenus)))\n",
    "\n",
    "data['Tags'] = data['Tags'].apply(suppressionTags)\n",
    "data.head(5)"
   ]
  },
  {
   "cell_type": "markdown",
   "id": "eaf3394e",
   "metadata": {},
   "source": [
    "Enfin, on supprime les lignes qui ne contiennent plus de tags :"
   ]
  },
  {
   "cell_type": "code",
   "execution_count": 11,
   "id": "93d79c21",
   "metadata": {},
   "outputs": [
    {
     "name": "stdout",
     "output_type": "stream",
     "text": [
      "7589 individus supprimés (20000 → 12411)\n"
     ]
    },
    {
     "data": {
      "text/html": [
       "<div>\n",
       "<style scoped>\n",
       "    .dataframe tbody tr th:only-of-type {\n",
       "        vertical-align: middle;\n",
       "    }\n",
       "\n",
       "    .dataframe tbody tr th {\n",
       "        vertical-align: top;\n",
       "    }\n",
       "\n",
       "    .dataframe thead th {\n",
       "        text-align: right;\n",
       "    }\n",
       "</style>\n",
       "<table border=\"1\" class=\"dataframe\">\n",
       "  <thead>\n",
       "    <tr style=\"text-align: right;\">\n",
       "      <th></th>\n",
       "      <th>Title</th>\n",
       "      <th>Body</th>\n",
       "      <th>Tags</th>\n",
       "    </tr>\n",
       "  </thead>\n",
       "  <tbody>\n",
       "    <tr>\n",
       "      <th>0</th>\n",
       "      <td>How to convert a Decimal to a Double in C#?</td>\n",
       "      <td>&lt;p&gt;I want to use a &lt;code&gt;Track-Bar&lt;/code&gt; to c...</td>\n",
       "      <td>[c#]</td>\n",
       "    </tr>\n",
       "    <tr>\n",
       "      <th>1</th>\n",
       "      <td>Why did the width collapse in the percentage w...</td>\n",
       "      <td>&lt;p&gt;I have an absolutely positioned &lt;code&gt;div&lt;/...</td>\n",
       "      <td>[html]</td>\n",
       "    </tr>\n",
       "    <tr>\n",
       "      <th>2</th>\n",
       "      <td>How do I calculate someone's age based on a Da...</td>\n",
       "      <td>&lt;p&gt;Given a &lt;code&gt;DateTime&lt;/code&gt; representing ...</td>\n",
       "      <td>[.net, c#]</td>\n",
       "    </tr>\n",
       "    <tr>\n",
       "      <th>3</th>\n",
       "      <td>Calculate relative time in C#</td>\n",
       "      <td>&lt;p&gt;Given a specific &lt;code&gt;DateTime&lt;/code&gt; valu...</td>\n",
       "      <td>[c#]</td>\n",
       "    </tr>\n",
       "    <tr>\n",
       "      <th>4</th>\n",
       "      <td>Determine a user's timezone</td>\n",
       "      <td>&lt;p&gt;Is there a standard way for a web server to...</td>\n",
       "      <td>[html]</td>\n",
       "    </tr>\n",
       "  </tbody>\n",
       "</table>\n",
       "</div>"
      ],
      "text/plain": [
       "                                               Title  \\\n",
       "0        How to convert a Decimal to a Double in C#?   \n",
       "1  Why did the width collapse in the percentage w...   \n",
       "2  How do I calculate someone's age based on a Da...   \n",
       "3                      Calculate relative time in C#   \n",
       "4                        Determine a user's timezone   \n",
       "\n",
       "                                                Body        Tags  \n",
       "0  <p>I want to use a <code>Track-Bar</code> to c...        [c#]  \n",
       "1  <p>I have an absolutely positioned <code>div</...      [html]  \n",
       "2  <p>Given a <code>DateTime</code> representing ...  [.net, c#]  \n",
       "3  <p>Given a specific <code>DateTime</code> valu...        [c#]  \n",
       "4  <p>Is there a standard way for a web server to...      [html]  "
      ]
     },
     "execution_count": 11,
     "metadata": {},
     "output_type": "execute_result"
    }
   ],
   "source": [
    "indexSuppr = []\n",
    "for i, x in data.iterrows():\n",
    "    if data.iloc[i, 2] == []:\n",
    "        indexSuppr.append(i)\n",
    "\n",
    "s1 = data.shape[0]\n",
    "\n",
    "data = data.drop(index=indexSuppr)  \n",
    "data.reset_index(inplace=True)\n",
    "\n",
    "s2 = data.shape[0]\n",
    "print(f'{s1-s2} individus supprimés ({s1} → {s2})')\n",
    "data.drop(['index'], axis=1, inplace=True)\n",
    "data.head(5)"
   ]
  },
  {
   "cell_type": "markdown",
   "id": "4f1dc0e0",
   "metadata": {},
   "source": [
    "### Traitement du texte\n",
    "\n",
    "Import d'un dictionnaire de mots relatifs à la programmation informatique. Ce sont des mots importants, par exemple ceux relatifs à des langages de programmation, qui nous aideront pour cibler nos tags :"
   ]
  },
  {
   "cell_type": "code",
   "execution_count": 12,
   "id": "fef24190",
   "metadata": {},
   "outputs": [],
   "source": [
    "import numpy as np\n",
    "filename = 'dicoProgramming.txt'\n",
    "\n",
    "# Récupération des mots du fichier texte\n",
    "texte = []\n",
    "with open(filename, 'r') as f:\n",
    "    for line in f.readlines():\n",
    "        texte.append(line.replace(\"\\n\", \"\"))\n",
    "\n",
    "# Mise en minuscule\n",
    "dictionnaireInfo = []\n",
    "for i in range(len(texte)):\n",
    "    dictionnaireInfo.append(texte[i].lower())"
   ]
  },
  {
   "cell_type": "markdown",
   "id": "40023563",
   "metadata": {},
   "source": [
    "On va maintenant nettoyer le texte des champs Body et Title en effectuant les actions suivantes :\n",
    "\n",
    "- Suppression des balises HTML avec BeautifulSoup,\n",
    "- Mise en minuscule,\n",
    "- Suppression des liens hypertexte,\n",
    "- Suppression des mots qui ne sont pas dans le dictionnaire ou qui ne sont pas reliés à l'informatique,\n",
    "- Suppression des contractions,\n",
    "- Retrait des nombres et de la ponctuation,\n",
    "- Retrait des caractères isolés qui en résultent ('s, 't, etc) sauf la lettre C qui est un langage de programmation,\n",
    "- Retrait des stopwords,\n",
    "- Stemming et Lemming des mots (on ne garde que la lemme). \"trying\" devient \"try\" par exemple.\n",
    "- Retrait des espaces en trop qui résulteraient des précédentes opérations.\n",
    "- Suppression des adjectifs et adverbes."
   ]
  },
  {
   "cell_type": "code",
   "execution_count": 13,
   "id": "982ba082",
   "metadata": {},
   "outputs": [],
   "source": [
    "from bs4 import BeautifulSoup\n",
    "import re\n",
    "import html as ihtml\n",
    "import nltk\n",
    "import contractions\n",
    "\n",
    "\"\"\"nltk.download('wordnet')\n",
    "nltk.download('punkt')\n",
    "nltk.download('averaged_perceptron_tagger')\n",
    "nltk.download('words')\n",
    "nltk.download('omw-1.4')\"\"\"\n",
    "\n",
    "# Mots du dictionnaire anglais\n",
    "from nltk.corpus import words\n",
    "dictionnaire = words.words()\n",
    "\n",
    "# Ajout des mots relatifs à l'informatique\n",
    "dictionnaire = dictionnaire + dictionnaireInfo\n",
    "\n",
    "import gensim\n",
    "from gensim.parsing.preprocessing import STOPWORDS as stopwords\n",
    "from nltk.tokenize import ToktokTokenizer\n",
    "from nltk.tokenize import RegexpTokenizer\n",
    "from autocorrect import Speller\n",
    "from nltk.stem.wordnet import WordNetLemmatizer\n",
    "from nltk.stem.snowball import SnowballStemmer\n",
    "from nltk.stem import PorterStemmer\n",
    "\n",
    "# Transformation des stopwords en liste\n",
    "stopwords = list(stopwords)\n",
    "\n",
    "# Regex qui ne conserve que les lettres\n",
    "tokenizerLettres = RegexpTokenizer(r'[a-z]+')\n",
    "\n",
    "# Alphabet sans la lettre c (langage de programmation)\n",
    "alphabetSansC = ['a', 'b', 'd', 'e', 'f', 'g', 'h', 'i', 'j', 'k',\n",
    "                 'l', 'm', 'n', 'o', 'p', 'q', 'r', 's', 't', 'u',\n",
    "                 'v', 'w', 'x', 'y', 'z']\n",
    "\n",
    "# Initialisation du lemmatizer\n",
    "lemmatizer = WordNetLemmatizer()\n",
    "\n",
    "# Initialisation du stemmer\n",
    "# stemmer = PorterStemmer()\n",
    "stemmer = SnowballStemmer(language='english')\n",
    "\n",
    "# Initialisation du correcteur\n",
    "spell = Speller(lang='en')\n",
    "\n",
    "\n",
    "# Retrait des stopwords\n",
    "def removeWords(text, words):\n",
    "    \n",
    "    # Tokenisation du texte\n",
    "    text = nltk.word_tokenize(text)\n",
    "    # Retrait des stopwords en passant par des sets\n",
    "    text = list(set(text) - set(words))\n",
    "    # Regroupement du textes\n",
    "    text = \" \".join(text)\n",
    "    return text\n",
    "\n",
    "\n",
    "# Conservation uniquement des mots du dictionnaire\n",
    "def motsCorrects(text):\n",
    "    \n",
    "    # Tokenisation du texte\n",
    "    text = nltk.word_tokenize(text)\n",
    "    # On garde uniquement les mots du dictionnaire\n",
    "    text = list(set(text) & set(dictionnaire))\n",
    "    # Regroupement du textes\n",
    "    text = \" \".join(text)\n",
    "    return text\n",
    "\n",
    "\n",
    "# Lemmatizaion des mots en fonction de leur type (nom, verbe, etc)\n",
    "def lemmatize_text(text):\n",
    "    \n",
    "    # Découpage des mots en liste associé au tag du type de mot\n",
    "    tokens_tagged = nltk.pos_tag(nltk.word_tokenize(text))\n",
    "    \n",
    "    # Vecteur du texte lemmatisé\n",
    "    lemmatized_text = []\n",
    "    \n",
    "    # Boucle sur les mots et leurs tags\n",
    "    for word, tag in tokens_tagged:\n",
    "        # Adjectifs\n",
    "        if tag.startswith('J'):\n",
    "            # lemmatized_text.append(lemmatizer.lemmatize(word, 'a'))\n",
    "            lemmatized_text.append('')\n",
    "        # Adverbes\n",
    "        elif tag.startswith('R'):\n",
    "            # lemmatized_text.append(lemmatizer.lemmatize(word, 'r'))\n",
    "            lemmatized_text.append('')\n",
    "        # Verbes\n",
    "        elif tag.startswith('V'):\n",
    "            lemmatized_text.append(lemmatizer.lemmatize(word, 'v'))\n",
    "        # Noms\n",
    "        elif tag.startswith('N'):\n",
    "            lemmatized_text.append(lemmatizer.lemmatize(word, 'n'))\n",
    "        # Lematization simple pour le reste\n",
    "        else:\n",
    "            lemmatized_text.append(lemmatizer.lemmatize(word))\n",
    "    \n",
    "    # Recollement du texte\n",
    "    return \" \".join(lemmatized_text)\n",
    "\n",
    "\n",
    "# Stemming du texte\n",
    "def stemming_text(text):\n",
    "\n",
    "    text = nltk.word_tokenize(text)\n",
    "    stem_text = []\n",
    "    for word in text:\n",
    "        stem_text.append(stemmer.stem(word))\n",
    "    return \" \".join(stem_text)\n",
    "\n",
    "\n",
    "# Retrait des contractions et du slang\n",
    "def suppressionContractions(text):\n",
    "\n",
    "    # Tokenisation du texte\n",
    "    text = contractions.fix(text)\n",
    "    return text\n",
    "\n",
    "\n",
    "# Fonction de nettoyage du texte qui regroupe plusieurs opérations\n",
    "def clean_text(text):\n",
    "    \n",
    "    # Retrait du HTML par BeautifulSoup\n",
    "    text = BeautifulSoup(ihtml.unescape(text)).text\n",
    "    \n",
    "    # Mise en minuscule\n",
    "    text = text.lower()\n",
    "    \n",
    "    # Retrait des liens\n",
    "    text = re.sub(r\"http[s]?://\\S+\", \"\", text)\n",
    "    \n",
    "    # Retrait des contractions (doesn't) avant la ponctuation\n",
    "    text = suppressionContractions(text)\n",
    "    \n",
    "    # Retrait des lettres seules sauf le C\n",
    "    text = removeWords(text, alphabetSansC)\n",
    "    \n",
    "    # On ne garde que les mots de la langue anglaise\n",
    "    text = motsCorrects(text)\n",
    "    \n",
    "    # Retrait de la ponctuation\n",
    "    text = tokenizerLettres.tokenize(text)\n",
    "    text = \" \".join(text)\n",
    "    \n",
    "    # Correction de l'orthographe (très couteux en ressources)\n",
    "    # text = spell(text)\n",
    "    \n",
    "    # Stemming des mots\n",
    "    # text = stemming_text(text)\n",
    "    \n",
    "    # Lemmatisation des mots\n",
    "    text = lemmatize_text(text)\n",
    "    \n",
    "    # Retrait des stopwords\n",
    "    text = removeWords(text, stopwords)\n",
    "    \n",
    "    # Retrait des espaces en trop \n",
    "    text = re.sub(r\"\\s+\", \" \", text)\n",
    "    \n",
    "    # Retour\n",
    "    return text"
   ]
  },
  {
   "cell_type": "markdown",
   "id": "9d766b4e",
   "metadata": {},
   "source": [
    "Affichage des stopwords :"
   ]
  },
  {
   "cell_type": "code",
   "execution_count": 14,
   "id": "2693356c",
   "metadata": {
    "scrolled": false
   },
   "outputs": [
    {
     "name": "stdout",
     "output_type": "stream",
     "text": [
      "337\n",
      "['a', 'about', 'above', 'across', 'after', 'afterwards', 'again', 'against', 'all', 'almost', 'alone', 'along', 'already', 'also', 'although', 'always', 'am', 'among', 'amongst', 'amoungst', 'amount', 'an', 'and', 'another', 'any', 'anyhow', 'anyone', 'anything', 'anyway', 'anywhere', 'are', 'around', 'as', 'at', 'back', 'be', 'became', 'because', 'become', 'becomes', 'becoming', 'been', 'before', 'beforehand', 'behind', 'being', 'below', 'beside', 'besides', 'between', 'beyond', 'bill', 'both', 'bottom', 'but', 'by', 'call', 'can', 'cannot', 'cant', 'co', 'computer', 'con', 'could', 'couldnt', 'cry', 'de', 'describe', 'detail', 'did', 'didn', 'do', 'does', 'doesn', 'doing', 'don', 'done', 'down', 'due', 'during', 'each', 'eg', 'eight', 'either', 'eleven', 'else', 'elsewhere', 'empty', 'enough', 'etc', 'even', 'ever', 'every', 'everyone', 'everything', 'everywhere', 'except', 'few', 'fifteen', 'fifty', 'fill', 'find', 'fire', 'first', 'five', 'for', 'former', 'formerly', 'forty', 'found', 'four', 'from', 'front', 'full', 'further', 'get', 'give', 'go', 'had', 'has', 'hasnt', 'have', 'he', 'hence', 'her', 'here', 'hereafter', 'hereby', 'herein', 'hereupon', 'hers', 'herself', 'him', 'himself', 'his', 'how', 'however', 'hundred', 'i', 'ie', 'if', 'in', 'inc', 'indeed', 'interest', 'into', 'is', 'it', 'its', 'itself', 'just', 'keep', 'kg', 'km', 'last', 'latter', 'latterly', 'least', 'less', 'ltd', 'made', 'make', 'many', 'may', 'me', 'meanwhile', 'might', 'mill', 'mine', 'more', 'moreover', 'most', 'mostly', 'move', 'much', 'must', 'my', 'myself', 'name', 'namely', 'neither', 'never', 'nevertheless', 'next', 'nine', 'no', 'nobody', 'none', 'noone', 'nor', 'not', 'nothing', 'now', 'nowhere', 'of', 'off', 'often', 'on', 'once', 'one', 'only', 'onto', 'or', 'other', 'others', 'otherwise', 'our', 'ours', 'ourselves', 'out', 'over', 'own', 'part', 'per', 'perhaps', 'please', 'put', 'quite', 'rather', 're', 'really', 'regarding', 'same', 'say', 'see', 'seem', 'seemed', 'seeming', 'seems', 'serious', 'several', 'she', 'should', 'show', 'side', 'since', 'sincere', 'six', 'sixty', 'so', 'some', 'somehow', 'someone', 'something', 'sometime', 'sometimes', 'somewhere', 'still', 'such', 'system', 'take', 'ten', 'than', 'that', 'the', 'their', 'them', 'themselves', 'then', 'thence', 'there', 'thereafter', 'thereby', 'therefore', 'therein', 'thereupon', 'these', 'they', 'thick', 'thin', 'third', 'this', 'those', 'though', 'three', 'through', 'throughout', 'thru', 'thus', 'to', 'together', 'too', 'top', 'toward', 'towards', 'twelve', 'twenty', 'two', 'un', 'under', 'unless', 'until', 'up', 'upon', 'us', 'used', 'using', 'various', 'very', 'via', 'was', 'we', 'well', 'were', 'what', 'whatever', 'when', 'whence', 'whenever', 'where', 'whereafter', 'whereas', 'whereby', 'wherein', 'whereupon', 'wherever', 'whether', 'which', 'while', 'whither', 'who', 'whoever', 'whole', 'whom', 'whose', 'why', 'will', 'with', 'within', 'without', 'would', 'yet', 'you', 'your', 'yours', 'yourself', 'yourselves']\n"
     ]
    }
   ],
   "source": [
    "print(len(stopwords))\n",
    "print(sorted(stopwords))"
   ]
  },
  {
   "cell_type": "markdown",
   "id": "22d0a453",
   "metadata": {},
   "source": [
    "Application de la fonction et exemple :"
   ]
  },
  {
   "cell_type": "code",
   "execution_count": 15,
   "id": "f6b27985",
   "metadata": {
    "scrolled": true
   },
   "outputs": [
    {
     "name": "stdout",
     "output_type": "stream",
     "text": [
      "\u001b[1mAvant traitement\u001b[0m : How to convert a Decimal to a Double in C#?\n",
      "\n",
      "<p>I want to use a <code>Track-Bar</code> to change a <code>Form</code>'s opacity.</p>\n",
      "<p>This is my code:</p>\n",
      "<pre class=\"lang-cs prettyprint-override\"><code>decimal trans = trackBar1.Value / 5000;\n",
      "this.Opacity = trans;\n",
      "</code></pre>\n",
      "<p>When I build the application, it gives the following error:</p>\n",
      "<blockquote>\n",
      "<pre class=\"lang-none prettyprint-override\"><code>Cannot implicitly convert type decimal to double\n",
      "</code></pre>\n",
      "</blockquote>\n",
      "<p>I have tried using <code>trans</code> and <code>double</code>, but then the <code>Control</code> doesn't work. This code worked fine in a past VB.NET project.</p>\n",
      "\n",
      "\n",
      "\u001b[1mAprès traitement\u001b[0m : convert decimal\n",
      "\n",
      "try work type application use form opacity control change build project past following error code\n"
     ]
    }
   ],
   "source": [
    "# Ligne 1 avant traitement\n",
    "print('\\033[1mAvant traitement\\033[0m :', data['Title'][0])\n",
    "print()\n",
    "print(data['Body'][0])\n",
    "\n",
    "# Application de la fonction de nettoyage du texte\n",
    "data['Body'] = data['Body'].apply(clean_text)\n",
    "data['Title'] = data['Title'].apply(clean_text)\n",
    "\n",
    "# Ligne 1 après traitement\n",
    "print()\n",
    "print('\\033[1mAprès traitement\\033[0m :', data['Title'][0])\n",
    "print()\n",
    "print(data['Body'][0])"
   ]
  },
  {
   "cell_type": "markdown",
   "id": "e8961261",
   "metadata": {},
   "source": [
    "Vérification de l'extraction des contractions :"
   ]
  },
  {
   "cell_type": "code",
   "execution_count": 16,
   "id": "8dea9ef4",
   "metadata": {},
   "outputs": [
    {
     "name": "stdout",
     "output_type": "stream",
     "text": [
      "does not\n"
     ]
    }
   ],
   "source": [
    "print(suppressionContractions(\"doesn't\"))"
   ]
  },
  {
   "cell_type": "markdown",
   "id": "6c7fbf8d",
   "metadata": {},
   "source": [
    "Concaténation des colonnes Body et Title qui contiennent les mots. Pas de réelle nécessité de discerner les deux."
   ]
  },
  {
   "cell_type": "code",
   "execution_count": 17,
   "id": "71951c89",
   "metadata": {},
   "outputs": [],
   "source": [
    "data['TitleBody'] = data['Title'] + ' ' + data['Body']"
   ]
  },
  {
   "cell_type": "markdown",
   "id": "9f2fa07f",
   "metadata": {},
   "source": [
    "On supprime les lignes au TitleBody vide :"
   ]
  },
  {
   "cell_type": "code",
   "execution_count": 18,
   "id": "5cb4643b",
   "metadata": {},
   "outputs": [
    {
     "name": "stdout",
     "output_type": "stream",
     "text": [
      "4 individus supprimés (12411 → 12407)\n"
     ]
    }
   ],
   "source": [
    "indexSuppr = []\n",
    "for i, x in data.iterrows():\n",
    "    if x['Title'] == '' and x['Body'] == '':\n",
    "        indexSuppr.append(i)\n",
    "\n",
    "s1 = data.shape[0]\n",
    "\n",
    "data = data.drop(index=indexSuppr)\n",
    "data.reset_index()\n",
    "\n",
    "s2 = data.shape[0]\n",
    "print(f'{s1-s2} individus supprimés ({s1} → {s2})')"
   ]
  },
  {
   "cell_type": "markdown",
   "id": "98b912a3",
   "metadata": {},
   "source": [
    "Suppression des colonnes Title et Body, on va travailler sur TitleBody seulement pour plus de simplicité :"
   ]
  },
  {
   "cell_type": "code",
   "execution_count": 19,
   "id": "089b3e6d",
   "metadata": {},
   "outputs": [
    {
     "data": {
      "text/html": [
       "<div>\n",
       "<style scoped>\n",
       "    .dataframe tbody tr th:only-of-type {\n",
       "        vertical-align: middle;\n",
       "    }\n",
       "\n",
       "    .dataframe tbody tr th {\n",
       "        vertical-align: top;\n",
       "    }\n",
       "\n",
       "    .dataframe thead th {\n",
       "        text-align: right;\n",
       "    }\n",
       "</style>\n",
       "<table border=\"1\" class=\"dataframe\">\n",
       "  <thead>\n",
       "    <tr style=\"text-align: right;\">\n",
       "      <th></th>\n",
       "      <th>Tags</th>\n",
       "      <th>TitleBody</th>\n",
       "    </tr>\n",
       "  </thead>\n",
       "  <tbody>\n",
       "    <tr>\n",
       "      <th>0</th>\n",
       "      <td>[c#]</td>\n",
       "      <td>convert decimal try work type application use ...</td>\n",
       "    </tr>\n",
       "    <tr>\n",
       "      <th>1</th>\n",
       "      <td>[html]</td>\n",
       "      <td>collapse explorer percentage parent element po...</td>\n",
       "    </tr>\n",
       "    <tr>\n",
       "      <th>2</th>\n",
       "      <td>[.net, c#]</td>\n",
       "      <td>type birthday calculate age base person birthd...</td>\n",
       "    </tr>\n",
       "    <tr>\n",
       "      <th>3</th>\n",
       "      <td>[c#]</td>\n",
       "      <td>c time calculate like time value month display...</td>\n",
       "    </tr>\n",
       "    <tr>\n",
       "      <th>4</th>\n",
       "      <td>[html]</td>\n",
       "      <td>user determine server way standard determine u...</td>\n",
       "    </tr>\n",
       "  </tbody>\n",
       "</table>\n",
       "</div>"
      ],
      "text/plain": [
       "         Tags                                          TitleBody\n",
       "0        [c#]  convert decimal try work type application use ...\n",
       "1      [html]  collapse explorer percentage parent element po...\n",
       "2  [.net, c#]  type birthday calculate age base person birthd...\n",
       "3        [c#]  c time calculate like time value month display...\n",
       "4      [html]  user determine server way standard determine u..."
      ]
     },
     "execution_count": 19,
     "metadata": {},
     "output_type": "execute_result"
    }
   ],
   "source": [
    "data.drop(['Title', 'Body'], axis=1, inplace=True)\n",
    "data.head(5)"
   ]
  },
  {
   "cell_type": "markdown",
   "id": "7051cb87",
   "metadata": {},
   "source": [
    "# Extraction de features\n",
    "\n",
    "### Texte\n",
    "\n",
    "Création du corpus :"
   ]
  },
  {
   "cell_type": "code",
   "execution_count": 20,
   "id": "b09df732",
   "metadata": {},
   "outputs": [],
   "source": [
    "# Concaténation de toutes les chaines de caractère du dataframe\n",
    "# Ou de toute les lignes pour faire le countvectorizer\n",
    "corpus_LIGNES = []\n",
    "corpus_MOTS = []\n",
    "for i, x in data.iterrows():\n",
    "    mots = nltk.word_tokenize(x['TitleBody'])\n",
    "    corpus_MOTS = corpus_MOTS + mots\n",
    "    corpus_LIGNES.append(x['TitleBody'])"
   ]
  },
  {
   "cell_type": "markdown",
   "id": "847239c2",
   "metadata": {},
   "source": [
    "Affichage du corpus des mots **après filtrage** dans l'ordre alphébatique :"
   ]
  },
  {
   "cell_type": "code",
   "execution_count": 21,
   "id": "2923f08c",
   "metadata": {},
   "outputs": [
    {
     "name": "stdout",
     "output_type": "stream",
     "text": [
      "5956\n",
      "['aa', 'aardvark', 'abandon', 'abbreviation', 'aberrant', 'ability', 'abnormal', 'abomination', 'abort', 'absence', 'absent', 'absolute', 'absorb', 'abstract', 'abstraction', 'absurd', 'abuse', 'academic', 'accelerate', 'acceleration', 'accelerator', 'accent', 'accept', 'acceptable', 'acceptance', 'accepter', 'acception', 'access', 'accessibility', 'accident', 'accommodate', 'accompany', 'accomplish', 'accord', 'accordance', 'account', 'accounting', 'accumulate', 'accuracy', 'accurate', 'accuse', 'accustom', 'ace', 'achieve', 'acid', 'acknowledge', 'acm', 'acme', 'acoustic', 'acquaint', 'acquire', 'acquisition', 'acrobat', 'acrobatics', 'acropolis', 'act', 'acting', 'action', 'actionscript', 'activate', 'activation', 'actively', 'activex', 'activity', 'actor', 'ad', 'ada', 'adapt', 'adapter', 'add', 'addend', 'addendum', 'addict', 'addition', 'address', 'adept', 'adequate', 'adherence', 'adjacent', 'adjust', 'adjustment', 'administration', 'administrative', 'administrator', 'admit', 'ado', 'adobe', 'adopt', 'adoption', 'adorn', 'adorner', 'adulation', 'advance', 'advantage', 'adventure', 'adverse', 'advert', 'advertise', 'advice', 'advise', 'advisor', 'advocate', 'aenean', 'aes', 'aesthetic', 'affect', 'affecting', 'affiliate', 'affinity', 'afford', 'afraid', 'afternoon', 'age', 'agency', 'agenda', 'agent', 'aggregate', 'agility', 'agnostic', 'ago', 'agree', 'agreed', 'agreement', 'ah', 'aha', 'ahem', 'ai', 'aid', 'aim', 'air', 'aircraft', 'ak', 'aka', 'akin', 'al', 'ala', 'alan', 'alarm', 'alas', 'albeit', 'album', 'alert', 'algebra', 'algebraic', 'algorithm', 'algorithmic', 'alias', 'alien', 'align', 'alignment', 'alike', 'alist', 'alive', 'allegro', 'allocate', 'allocation', 'allocator', 'allot', 'allow', 'allowance', 'alongside', 'alpha', 'alphabet', 'alphabetization', 'alphabetize', 'alright', 'alt', 'alter', 'alteration', 'alternate', 'alternating', 'alternative', 'altogether', 'alway', 'amateur', 'amaze', 'amazing', 'ambiguity', 'amenable', 'amendment', 'amnesia', 'ampersand', 'ample', 'amusement', 'analogue', 'analyse', 'analyser', 'analysis', 'analyst', 'analytics', 'analyze', 'analyzer', 'anatomy', 'ancestor', 'ancestry', 'anchor', 'ancient', 'android', 'anecdotal', 'anger', 'angle', 'animal', 'animate', 'animation', 'ankh', 'annotate', 'annotation', 'announcement', 'annoy', 'annoyance', 'annoying', 'anon', 'anonymous', 'answer', 'ant', 'ante', 'antenna', 'anti', 'anticipate', 'antiquate', 'antivirus', 'anybody', 'anyways', 'aop', 'apache', 'apart', 'apartment', 'api', 'apologize', 'apology', 'apostrophe', 'apparent', 'appeal', 'appealing', 'appear', 'appearance', 'append', 'appetite', 'apple', 'applet', 'appliance', 'applicable', 'application', 'apply', 'appointment', 'appreciate', 'apprenticeship', 'approach', 'approaching', 'appropriate', 'approval', 'approximate', 'approximation', 'apropos', 'ar', 'arbitrary', 'arc', 'arcane', 'archaic', 'archfiend', 'architect', 'architectural', 'architecture', 'archive', 'area', 'arena', 'argue', 'argument', 'arise', 'arisen', 'arm', 'army', 'arrange', 'array', 'arrival', 'arrive', 'arrogance', 'arrow', 'arse', 'art', 'artefact', 'article', 'articulate', 'artifact', 'artist', 'artistry', 'ascend', 'ascii', 'aside', 'ask', 'asker', 'asleep', 'asp', 'aspect', 'aspire', 'ass', 'assembler', 'assembly', 'assert', 'assertion', 'assessment', 'asset', 'assign', 'assignment', 'assist', 'assistance', 'assistant', 'associate', 'association', 'associative', 'assort', 'assortment', 'assume', 'assumed', 'assuming', 'assumption', 'assure', 'ast', 'asterisk', 'astray', 'asynchronous', 'atlas', 'atom', 'atomic', 'atomicity', 'atomics', 'attach', 'attachment', 'attack', 'attacker', 'attain', 'attempt', 'attend', 'attention', 'attitude', 'attractive', 'attractiveness', 'attribute', 'audacity', 'audible', 'audience', 'audio', 'audit', 'august', 'authenticate', 'authentication', 'authenticator', 'author', 'authorization', 'authorize', 'auto', 'autohotkey', 'automate', 'automatic', 'automatically', 'automation', 'automatize', 'autopsy', 'autosuggestion', 'auxiliary', 'avail', 'availability', 'avenue', 'average', 'averse', 'aversion', 'avid', 'avoid', 'avoidable', 'awake', 'aware', 'awareness', 'away', 'awesome', 'awful', 'awhile', 'awkward', 'ax', 'axis', 'azure', 'b', 'ba', 'baby', 'bac', 'backbone', 'background', 'backing', 'backlog', 'backspace', 'backtrack', 'backup', 'backward', 'backwards', 'bacon', 'badge', 'baffling', 'bag', 'baggage', 'bah', 'bake', 'baked', 'baker', 'balance', 'balancer', 'ball', 'balloon', 'bam', 'ban', 'banana', 'band', 'bang', 'banging', 'bank', 'banker', 'banner', 'bar', 'bare', 'bark', 'barker', 'barking', 'baroque', 'barrel', 'barrier', 'barry', 'base', 'bash', 'basic', 'basically', 'basis', 'basket', 'bast', 'bastard', 'bat', 'batch', 'batiste', 'battery', 'battle', 'baud', 'bay', 'bazaar', 'bazooka', 'bean', 'beanshell', 'bear', 'bearing', 'beast', 'beat', 'beating', 'beautification', 'beautifier', 'beautiful', 'beautify', 'beauty', 'bee', 'beer', 'beg', 'begin', 'beginner', 'beginning', 'behalf', 'behave', 'behavior', 'behaviour', 'behold', 'beige', 'belief', 'believe', 'believer', 'bell', 'bellow', 'belong', 'belonging', 'beloved', 'belt', 'ben', 'bend', 'beneath', 'beneficial', 'benefit', 'benign', 'bent', 'berg', 'berger', 'berry', 'bespeak', 'bespoke', 'best', 'bet', 'beta', 'better', 'beware', 'bewildering', 'bias', 'bid', 'bidirectional', 'biff', 'bike', 'bilinear', 'billion', 'bin', 'binary', 'bind', 'binding', 'binomial', 'biology', 'bios', 'bird', 'biri', 'birth', 'birthday', 'bisect', 'bisection', 'bison', 'bit', 'bite', 'bitten', 'bitwise', 'biz', 'bizarre', 'blackberry', 'blackjack', 'blah', 'blair', 'blame', 'blank', 'blast', 'blat', 'blaze', 'bleed', 'blend', 'bless', 'blind', 'blink', 'blinking', 'bliss', 'blister', 'bloat', 'blob', 'block', 'blocker', 'blocky', 'blood', 'bloodshed', 'bloom', 'blow', 'blowing', 'blown', 'blue', 'blueprint', 'blur', 'blurb', 'blurry', 'board', 'boast', 'boat', 'bob', 'body', 'bog', 'bogus', 'boil', 'boiler', 'bold', 'bom', 'bond', 'bonus', 'boo', 'book', 'bookkeeping', 'bookmark', 'bool', 'boolean', 'boomerang', 'boon', 'boost', 'boot', 'bootstrap', 'border', 'borderline', 'bore', 'boring', 'borrow', 'borrowing', 'bos', 'boss', 'boston', 'bot', 'bother', 'bottle', 'bottleneck', 'bought', 'bounce', 'bouncing', 'bound', 'boundary', 'bounding', 'bounty', 'bowel', 'bowl', 'bowling', 'box', 'boy', 'brace', 'bracket', 'brad', 'brail', 'brain', 'brake', 'branch', 'branching', 'brand', 'bravo', 'brazil', 'break', 'breakage', 'breakdown', 'breaker', 'breakfast', 'breaking', 'breath', 'breed', 'breeze', 'breezy', 'brevity', 'bribe', 'brick', 'bridge', 'brief', 'briefly', 'bright', 'brilliant', 'bring', 'brittle', 'broadcast', 'broke', 'broken', 'broker', 'brother', 'brought', 'brown', 'brownie', 'browse', 'browser', 'browsing', 'brulee', 'brush', 'brute', 'bu', 'bubble', 'buck', 'bucket', 'bucketing', 'buckle', 'budget', 'buff', 'buffer', 'bug', 'buggy', 'build', 'builder', 'building', 'buildup', 'built', 'bulb', 'bulk', 'bulky', 'bullet', 'bulletin', 'bulletproof', 'bummer', 'bump', 'bunch', 'bundle', 'bundler', 'bunny', 'burden', 'bureau', 'bureaucrat', 'buried', 'burn', 'burst', 'bury', 'bus', 'business', 'busy', 'butcher', 'button', 'buy', 'buzzy', 'bye', 'bypass', 'bytecode', 'c', 'ca', 'cab', 'cabin', 'cable', 'cache', 'cad', 'cade', 'caffeine', 'cag', 'cajole', 'cake', 'cal', 'calculate', 'calculating', 'calculation', 'calculator', 'calculus', 'calendar', 'caliber', 'calibrate', 'callable', 'callback', 'caller', 'calm', 'cam', 'camel', 'camelcase', 'camera', 'camp', 'campaign', 'canada', 'cancel', 'cancellation', 'candidate', 'candy', 'cannon', 'canon', 'canonical', 'canvas', 'cap', 'capability', 'capacity', 'capital', 'capitalization', 'capitalize', 'capsule', 'captain', 'caption', 'capture', 'car', 'carat', 'carbon', 'card', 'cardholder', 'care', 'career', 'careful', 'carefully', 'careless', 'caret', 'carl', 'carlo', 'carol', 'carriage', 'carrot', 'carry', 'cart', 'cascade', 'case', 'cash', 'casing', 'cast', 'casting', 'castle', 'castor', 'cat', 'catch', 'catchall', 'categorize', 'category', 'cater', 'caught', 'cause', 'causing', 'caveat', 'cc', 'ce', 'cee', 'ceil', 'ceiling', 'cell', 'census', 'center', 'centering', 'centralize', 'centric', 'centroid', 'century', 'cerebrum', 'certainty', 'certificate', 'certification', 'certify', 'cest', 'chaff', 'chain', 'chaining', 'challenge', 'champ', 'chance', 'change', 'channel', 'chaos', 'chap', 'chapter', 'char', 'character', 'characterization', 'characterize', 'charge', 'charm', 'chart', 'charting', 'chase', 'chat', 'cheap', 'cheaply', 'cheat', 'check', 'checked', 'checker', 'cheeky', 'cheese', 'chemistry', 'chess', 'chicanery', 'chicken', 'child', 'chime', 'china', 'chip', 'choice', 'choke', 'choking', 'cholesterol', 'chomp', 'choose', 'chooser', 'chop', 'chord', 'chore', 'chose', 'chosen', 'chrome', 'chromium', 'chuck', 'chunk', 'chunky', 'churn', 'cigar', 'cipher', 'circa', 'circle', 'circuit', 'circular', 'circumflex', 'circumstance', 'circumvent', 'cite', 'citizen', 'citizenship', 'city', 'claim', 'clang', 'clarification', 'clarify', 'clarity', 'clash', 'class', 'classic', 'classification', 'classpath', 'clause', 'clean', 'cleaner', 'cleaning', 'cleanup', 'clear', 'clearer', 'clearing', 'clever', 'cliche', 'click', 'client', 'climb', 'cling', 'clip', 'clipper', 'cloak', 'clobber', 'clock', 'clog', 'clojure', 'clone', 'close', 'closer', 'closing', 'closure', 'clothe', 'cloud', 'cloudy', 'clover', 'clr', 'club', 'clue', 'clumsy', 'cluster', 'clustering', 'clutch', 'clutter', 'coalesce', 'coat', 'coax', 'cobol', 'cobra', 'cocoa', 'cod', 'code', 'codepage', 'coder', 'coding', 'coerce', 'coexist', 'coffee', 'coffeescript', 'coherence', 'coherent', 'coherently', 'cohesive', 'coincide', 'coincidence', 'col', 'cola', 'collaborate', 'collaborative', 'collapse', 'collate', 'collation', 'colleague', 'collect', 'collection', 'collector', 'college', 'collide', 'collision', 'colon', 'color', 'colorization', 'colorize', 'colour', 'column', 'columnar', 'coma', 'comb', 'combat', 'combination', 'combinator', 'combine', 'combiner', 'combining', 'come', 'comet', 'comfort', 'comfy', 'comma', 'command', 'commander', 'comment', 'commenter', 'commercialize', 'commit', 'commitment', 'committee', 'commodity', 'commodore', 'common', 'commonality', 'communicate', 'communicating', 'communication', 'community', 'compact', 'compactness', 'companion', 'company', 'comparable', 'comparative', 'comparator', 'compare', 'comparer', 'comparison', 'compass', 'compatibility', 'compatible', 'compel', 'compensate', 'competency', 'competent', 'competition', 'competitor', 'compilation', 'compilator', 'compile', 'compiled', 'compiler', 'complain', 'complaint', 'complement', 'complete', 'completely', 'completeness', 'completion', 'complex', 'complexity', 'compliance', 'compliant', 'complicate', 'complication', 'comply', 'component', 'compose', 'composer', 'composite', 'composition', 'compound', 'compounding', 'comprehend', 'comprehension', 'comprehensive', 'compress', 'compression', 'compressor', 'comprise', 'compromise', 'compulsive', 'compulsory', 'computation', 'compute', 'concat', 'concatenate', 'concatenation', 'conceal', 'conceivably', 'concentrate', 'concept', 'conceptional', 'concern', 'concerning', 'concert', 'concise', 'conciseness', 'conclude', 'conclusion', 'concrete', 'concurrency', 'concurrent', 'condense', 'condition', 'conditional', 'conference', 'confess', 'confidence', 'confident', 'configuration', 'configure', 'confine', 'confirm', 'confirmation', 'confirmed', 'conflict', 'conflicting', 'conform', 'confound', 'confuse', 'confusion', 'conjecture', 'conjoin', 'conjunction', 'conn', 'connect', 'connection', 'connectivity', 'connector', 'conscience', 'consecutive', 'consensus', 'consent', 'consequence', 'conservation', 'consider', 'consideration', 'consist', 'consistency', 'consistent', 'console', 'consolidate', 'constant', 'constitute', 'constrain', 'constraint', 'construct', 'construction', 'constructor', 'consult', 'consultant', 'consulting', 'consumable', 'consume', 'consumer', 'consuming', 'consumption', 'contact', 'contain', 'container', 'contempt', 'content', 'contention', 'contest', 'context', 'contiguous', 'continuation', 'continue', 'continuous', 'continuously', 'contra', 'contract', 'contradict', 'contradictory', 'contrary', 'contrast', 'contribute', 'contributor', 'control', 'controller', 'controversy', 'conundrum', 'convenience', 'convenient', 'convention', 'conversation', 'converse', 'conversion', 'convert', 'converter', 'converting', 'convex', 'convey', 'convince', 'convincing', 'convolute', 'cook', 'cookbook', 'cool', 'cooler', 'cooper', 'cop', 'cope', 'copula', 'copy', 'copyright', 'core', 'corespondent', 'corner', 'cornerstone', 'corporation', 'corpus', 'correct', 'correcting', 'correction', 'correctly', 'correctness', 'correlate', 'correlation', 'correspond', 'correspondence', 'corresponding', 'corrupt', 'corrupting', 'corruption', 'corruptor', 'cos', 'cost', 'cotton', 'count', 'counter', 'counterpart', 'counting', 'countless', 'country', 'county', 'couple', 'coupling', 'coupon', 'courage', 'courier', 'course', 'court', 'courtesy', 'covariance', 'covariant', 'cover', 'coverage', 'covert', 'cpan', 'crack', 'cracker', 'craft', 'crafty', 'crank', 'crap', 'crash', 'crawl', 'crawler', 'crazy', 'cream', 'create', 'creation', 'creative', 'creativity', 'creator', 'creature', 'credential', 'credible', 'credit', 'creep', 'crept', 'crew', 'crib', 'crime', 'cringe', 'cripple', 'criteria', 'criterion', 'criticism', 'criticize', 'critique', 'crop', 'cross', 'crowd', 'crucial', 'cruel', 'cruise', 'crumb', 'crunch', 'crush', 'crutch', 'crypt', 'crypted', 'cryptographic', 'cryptography', 'crystal', 'cs', 'css', 'cube', 'cuckoo', 'cue', 'cull', 'culprit', 'culture', 'cumbersome', 'cup', 'cur', 'curiosity', 'curious', 'curl', 'curly', 'currency', 'curry', 'curse', 'cursor', 'cursory', 'curve', 'custom', 'customer', 'cut', 'cute', 'cutoff', 'cv', 'cvs', 'cycle', 'cyclic', 'cygwin', 'cylinder', 'da', 'dabble', 'daemon', 'daft', 'dag', 'dal', 'dale', 'damage', 'damn', 'dan', 'dance', 'dandy', 'dang', 'danger', 'dangerous', 'dao', 'dare', 'dark', 'darn', 'dash', 'data', 'database', 'dataflow', 'date', 'datum', 'daughter', 'daunt', 'dawdle', 'day', 'daylight', 'dead', 'deadline', 'deadlock', 'deal', 'dealer', 'dealing', 'dealt', 'dear', 'dearth', 'death', 'deb', 'debate', 'debug', 'debugger', 'debugging', 'decade', 'decay', 'deceive', 'decent', 'decide', 'decimal', 'decipher', 'decipherable', 'decision', 'deck', 'decker', 'declaration', 'declarative', 'declarator', 'declare', 'decline', 'decode', 'decompiler', 'decomposition', 'decompress', 'decompressing', 'decompression', 'decorate', 'decoration', 'decorator', 'decrease', 'decrement', 'dedication', 'deduce', 'deep', 'default', 'defeat', 'defend', 'defense', 'defer', 'define', 'definite', 'definition', 'deflate', 'degenerate', 'degradation', 'degrade', 'degree', 'deign', 'delay', 'delegate', 'delegation', 'delete', 'deletion', 'deliberate', 'delimit', 'delimiter', 'delineate', 'deliver', 'delivery', 'dell', 'delta', 'delve', 'demand', 'demarcation', 'demo', 'demographic', 'demonstrate', 'demonstration', 'demote', 'denominator', 'denote', 'dense', 'density', 'deny', 'department', 'depend', 'dependency', 'dependent', 'depending', 'deploy', 'deployment', 'deprecate', 'deprecation', 'depress', 'depth', 'derby', 'dereference', 'derive', 'descend', 'descendant', 'descending', 'description', 'descriptive', 'descriptor', 'desert', 'deserve', 'design', 'designation', 'designer', 'designing', 'desirable', 'desirably', 'desire', 'desired', 'desk', 'desperation', 'despise', 'despite', 'destination', 'destroy', 'destruction', 'destructor', 'detach', 'detect', 'detection', 'detector', 'determine', 'determinism', 'detour', 'dev', 'develop', 'developer', 'development', 'deviation', 'device', 'devise', 'devote', 'dhtml', 'di', 'diagnose', 'diagnostic', 'diagnostics', 'diagram', 'dialect', 'diameter', 'diamond', 'dice', 'dichotomy', 'dicing', 'dictate', 'dictionary', 'die', 'diet', 'diff', 'differ', 'difference', 'differential', 'differentiate', 'differently', 'difficulty', 'diffusion', 'dig', 'digest', 'digestible', 'digging', 'digit', 'digital', 'dilemma', 'dim', 'dimension', 'dimensional', 'din', 'diner', 'dip', 'dire', 'direct', 'direction', 'directional', 'directive', 'directory', 'dirt', 'dirty', 'dis', 'disable', 'disabled', 'disabuse', 'disadvantage', 'disagree', 'disagreement', 'disallow', 'disappear', 'disappoint', 'disaster', 'disc', 'discipline', 'disclaimer', 'disclosure', 'disconcert', 'disconnect', 'disconnection', 'discount', 'discourage', 'discover', 'discovery', 'discrepancy', 'discrete', 'discretion', 'discriminate', 'discriminator', 'discus', 'discuss', 'discussion', 'disguise', 'disgust', 'dish', 'disk', 'dislike', 'disorder', 'disorganize', 'disparate', 'dispatch', 'dispatcher', 'display', 'displayed', 'disposable', 'disposal', 'dispose', 'disposer', 'disproportionate', 'disprove', 'disqualify', 'disregard', 'disruption', 'disruptive', 'dissatisfy', 'dissect', 'dissent', 'dissimilar', 'distance', 'distant', 'distill', 'distinct', 'distinction', 'distinctive', 'distinguish', 'distort', 'distract', 'distribute', 'distribution', 'distributor', 'disturb', 'ditch', 'ditto', 'div', 'dive', 'diverge', 'diverse', 'diversify', 'diversity', 'divide', 'dividend', 'divider', 'dividing', 'division', 'divisor', 'django', 'dml', 'doable', 'dob', 'doc', 'dock', 'doctor', 'doctrine', 'document', 'documentation', 'dod', 'doe', 'dog', 'dollar', 'dolor', 'dolphin', 'dolt', 'dom', 'domain', 'domino', 'donate', 'donkey', 'door', 'dose', 'dot', 'double', 'doubt', 'dow', 'downside', 'dozen', 'draft', 'drag', 'dragged', 'dragging', 'dragon', 'drain', 'dramatic', 'draw', 'drawback', 'drawing', 'drawn', 'drawstring', 'dream', 'drift', 'drill', 'drilling', 'drink', 'drip', 'drive', 'driven', 'driver', 'driving', 'drizzle', 'drop', 'drove', 'drum', 'drupal', 'dry', 'duck', 'duff', 'dumb', 'dummy', 'dump', 'duo', 'dup', 'dupe', 'duplex', 'duplicate', 'duplication', 'duration', 'dust', 'duty', 'dwarf', 'dwell', 'dword', 'dynamic', 'dynamically', 'e', 'ea', 'eager', 'ear', 'earn', 'earth', 'ease', 'easer', 'easier', 'easiest', 'easy', 'eat', 'eats', 'echo', 'eclipse', 'ecmascript', 'economy', 'ecosystem', 'edge', 'edit', 'edition', 'editor', 'editorial', 'educate', 'education', 'educational', 'ee', 'effect', 'effectiveness', 'efficiency', 'efficient', 'efficiently', 'effort', 'egg', 'eighteen', 'eighty', 'eject', 'el', 'elaborate', 'elaboration', 'eldest', 'elect', 'election', 'electronics', 'elegance', 'elegant', 'element', 'elementary', 'elephant', 'elevate', 'elevation', 'elf', 'eliminate', 'elimination', 'ellipsis', 'eloquent', 'elsif', 'embark', 'embarrass', 'embed', 'embrace', 'emery', 'emit', 'emma', 'emphasis', 'emphasize', 'employ', 'employee', 'employer', 'employment', 'emulate', 'emulation', 'emulator', 'en', 'enable', 'encapsulate', 'encapsulation', 'enclose', 'enclosure', 'encode', 'encounter', 'encourage', 'encrypt', 'encryption', 'end', 'endless', 'endure', 'energy', 'enforce', 'enforcement', 'engage', 'engine', 'engineer', 'engineering', 'enhance', 'enhancement', 'enigmatic', 'enjoy', 'enjoying', 'enlarge', 'enlighten', 'enlightenment', 'enlist', 'ensure', 'entangle', 'enter', 'entering', 'enterprise', 'entertain', 'entirety', 'entity', 'entropy', 'entry', 'enumerate', 'enumeration', 'enumerator', 'envelope', 'environ', 'environment', 'envisage', 'envision', 'eof', 'episode', 'epoch', 'epsilon', 'eq', 'equal', 'equality', 'equation', 'equinox', 'equipment', 'equivalence', 'equivalency', 'equivalent', 'er', 'era', 'erase', 'erasure', 'erd', 'eric', 'erika', 'err', 'errant', 'error', 'es', 'escape', 'escrow', 'essence', 'essential', 'essentially', 'establish', 'estate', 'estimate', 'eta', 'eternity', 'etiquette', 'eu', 'eval', 'evaluate', 'evaluation', 'evangelism', 'evangelist', 'eve', 'event', 'eventual', 'eventuality', 'everlasting', 'everybody', 'everyday', 'evidence', 'evil', 'evolution', 'evolutionary', 'evolve', 'ex', 'exact', 'exactly', 'exaggerate', 'exam', 'examination', 'examine', 'example', 'exceed', 'excel', 'excellent', 'exception', 'excerpt', 'excessive', 'exchange', 'excite', 'exclamation', 'exclude', 'excluding', 'exclusion', 'excursion', 'excuse', 'exec', 'executable', 'execute', 'execution', 'executive', 'executor', 'exemplify', 'exercise', 'exhaust', 'exhibit', 'exist', 'existence', 'existent', 'exists', 'exit', 'expand', 'expander', 'expansion', 'expect', 'expectation', 'expedite', 'expense', 'expensive', 'experience', 'experiment', 'experimental', 'experimentation', 'expert', 'expiration', 'expire', 'expiry', 'explain', 'explaining', 'explanation', 'explanatory', 'explication', 'explicit', 'explicitly', 'explode', 'exploder', 'exploit', 'explore', 'explorer', 'exploring', 'explosion', 'exponent', 'exponentiation', 'export', 'exporter', 'expose', 'exposure', 'express', 'expression', 'expressive', 'expressiveness', 'extend', 'extender', 'extending', 'extensibility', 'extensible', 'extension', 'extensive', 'extent', 'extern', 'external', 'externalization', 'externalize', 'extol', 'extra', 'extract', 'extraction', 'extreme', 'eye', 'fabricate', 'fabrication', 'facade', 'face', 'faceted', 'facilitate', 'facility', 'facing', 'fact', 'factor', 'factory', 'fade', 'fail', 'failing', 'failure', 'fair', 'fake', 'fall', 'fallback', 'false', 'fame', 'familiarity', 'family', 'fan', 'fancy', 'fantastic', 'fantasy', 'farm', 'farther', 'fascination', 'fashion', 'fast', 'faster', 'fatal', 'father', 'fathom', 'fault', 'faulty', 'favor', 'favorite', 'fe', 'fear', 'feasibility', 'feasible', 'feature', 'fed', 'federation', 'fee', 'feed', 'feedback', 'feel', 'feeling', 'fell', 'felt', 'fence', 'fetch', 'fetching', 'fi', 'fiddle', 'fiddler', 'field', 'fiend', 'fifo', 'fifth', 'fight', 'figure', 'file', 'filemaker', 'filing', 'filling', 'filter', 'filterable', 'filtering', 'filtration', 'fin', 'finalize', 'finance', 'finder', 'finding', 'fine', 'finer', 'finesse', 'finger', 'fingerprint', 'finish', 'finished', 'finishing', 'finite', 'firebird', 'firebug', 'firing', 'firm', 'firmly', 'fish', 'fishing', 'fit', 'fitness', 'fitting', 'fix', 'fixation', 'fixing', 'fixture', 'fizz', 'flag', 'flair', 'flaky', 'flame', 'flash', 'flashy', 'flat', 'flatten', 'flattening', 'flavor', 'flaw', 'flesh', 'flex', 'flexibility', 'flexible', 'flick', 'flicker', 'flickering', 'flight', 'flimsy', 'flip', 'flirting', 'float', 'floating', 'flock', 'flood', 'flooding', 'floor', 'flory', 'flot', 'flotsam', 'flow', 'flower', 'fluent', 'fluff', 'fluffy', 'fluid', 'flush', 'flushing', 'flux', 'fly', 'focus', 'fold', 'folder', 'folk', 'follow', 'following', 'font', 'foo', 'food', 'fool', 'foolproof', 'foot', 'footer', 'footnote', 'footprint', 'fop', 'fora', 'forage', 'forbid', 'forbidden', 'force', 'forcing', 'foreach', 'foreground', 'foreknowledge', 'forename', 'foresee', 'forever', 'forge', 'forgery', 'forget', 'forgive', 'forgot', 'forgotten', 'fork', 'form', 'formal', 'formalism', 'formality', 'formalize', 'format', 'formula', 'forth', 'forthcoming', 'fortify', 'fortran', 'fortunate', 'forum', 'forward', 'foundation', 'fount', 'fowler', 'fox', 'fraction', 'fragile', 'fragment', 'fragmentation', 'frame', 'framework', 'franco', 'frank', 'frankly', 'free', 'freed', 'freedom', 'freeing', 'freeze', 'freezing', 'frenzy', 'frequency', 'frequent', 'fresh', 'friction', 'friend', 'friendly', 'friendship', 'fringe', 'fro', 'frog', 'frozen', 'fruit', 'frustration', 'fry', 'fudge', 'fulfill', 'fuller', 'fumbling', 'fun', 'function', 'functional', 'functionality', 'fundamental', 'funky', 'funnel', 'funny', 'funnyman', 'furthermore', 'fuse', 'fusion', 'fuss', 'fussy', 'futile', 'future', 'fuzz', 'fuzzy', 'ga', 'gain', 'gallery', 'galloway', 'galore', 'gamble', 'game', 'gaming', 'gamma', 'gamut', 'gap', 'garbage', 'garden', 'gat', 'gate', 'gateway', 'gather', 'gathering', 'gauge', 'gauss', 'gaussian', 'gcc', 'ge', 'gear', 'gecko', 'gee', 'gem', 'gen', 'gender', 'genealogy', 'general', 'generalization', 'generalize', 'generate', 'generation', 'generator', 'generic', 'genius', 'gentle', 'geo', 'geographic', 'geography', 'geology', 'geometry', 'gesture', 'getter', 'giant', 'gib', 'gibberish', 'gibbon', 'gif', 'gig', 'giraffe', 'gist', 'git', 'github', 'glad', 'glade', 'glance', 'glare', 'glass', 'glassfish', 'glean', 'glee', 'glib', 'glitch', 'glitter', 'glob', 'gloomy', 'gloss', 'glow', 'glue', 'glut', 'glyph', 'gnome', 'gnu', 'goal', 'god', 'godfather', 'gold', 'goo', 'good', 'goodness', 'goodwill', 'goofy', 'gorilla', 'gosh', 'gosling', 'got', 'goto', 'gotten', 'govern', 'government', 'gpl', 'grab', 'graceful', 'grad', 'grade', 'gradient', 'graduate', 'graft', 'graham', 'grain', 'grammar', 'granite', 'grant', 'granularity', 'grape', 'graph', 'graphic', 'graphically', 'graphics', 'grasp', 'grateful', 'gratify', 'gratuitous', 'grave', 'gravity', 'gray', 'greatly', 'green', 'greet', 'grey', 'grid', 'grief', 'grieve', 'griffon', 'grin', 'grind', 'grip', 'gripe', 'gritty', 'groove', 'groovy', 'ground', 'group', 'grouping', 'grow', 'growl', 'grown', 'growth', 'grunt', 'gt', 'gtk', 'guarantee', 'guard', 'guess', 'guessing', 'guesswork', 'guest', 'guidance', 'guide', 'guideline', 'guinea', 'guitar', 'gun', 'gunsmith', 'guru', 'gut', 'guy', 'h', 'ha', 'habit', 'hack', 'hacker', 'hackery', 'hacky', 'hade', 'hair', 'hairy', 'half', 'halfway', 'halt', 'ham', 'hammer', 'hammering', 'hand', 'handful', 'handle', 'handler', 'handling', 'handout', 'handshake', 'handy', 'hang', 'hanging', 'hank', 'haphazard', 'happen', 'harbour', 'hard', 'harden', 'harder', 'hardware', 'hardy', 'harm', 'harmful', 'harmless', 'harness', 'harvest', 'hash', 'haskell', 'hassle', 'haste', 'hasty', 'hat', 'hate', 'hater', 'hatred', 'haversine', 'havoc', 'haystack', 'haywire', 'hazard', 'hazy', 'head', 'headache', 'header', 'headfirst', 'heading', 'headless', 'headline', 'headlong', 'headphone', 'headroom', 'health', 'heap', 'heapy', 'hear', 'hearing', 'hearsay', 'heart', 'heartbeat', 'hearts', 'heat', 'heath', 'heaven', 'heavy', 'heavyweight', 'heck', 'height', 'hell', 'hello', 'helm', 'help', 'helper', 'helpful', 'henceforth', 'herald', 'herb', 'herd', 'heresy', 'heretic', 'heritage', 'hero', 'heroic', 'heroku', 'heron', 'herring', 'hesitant', 'hesitate', 'heterogeneous', 'hex', 'hey', 'hi', 'hibernate', 'hiccup', 'hidden', 'hide', 'hideous', 'hierarchal', 'hierarchical', 'hierarchy', 'high', 'highlight', 'hill', 'hinder', 'hindsight', 'hint', 'hip', 'hire', 'historian', 'historical', 'history', 'hit', 'hitch', 'hive', 'ho', 'hobby', 'hobbyist', 'hod', 'hog', 'hold', 'holder', 'holding', 'hole', 'holiday', 'holocaust', 'holy', 'home', 'homemade', 'homework', 'homogenize', 'honda', 'hong', 'honor', 'hood', 'hook', 'hookup', 'hop', 'hope', 'hoped', 'hopefully', 'hopeless', 'horizon', 'horizontal', 'horrible', 'horribly', 'horror', 'hose', 'host', 'hosting', 'hot', 'hotbox', 'hotel', 'hour', 'hourglass', 'house', 'housekeep', 'hover', 'html', 'hub', 'hue', 'huh', 'hull', 'humane', 'humor', 'hunch', 'hung', 'hunt', 'hurdle', 'hurt', 'hut', 'hybrid', 'hydrate', 'hyphen', 'hyphenate', 'hypothesize', 'hypothetical', 'ice', 'iceland', 'icon', 'icons', 'id', 'ide', 'idea', 'ideal', 'ideally', 'identical', 'identification', 'identifier', 'identify', 'identity', 'ides', 'idiom', 'idiot', 'idle', 'idol', 'iffy', 'ignorance', 'ignore', 'ill', 'illegal', 'illiterate', 'illuminate', 'illustrate', 'illustration', 'illustrator', 'image', 'imaginary', 'imagination', 'imagine', 'imitate', 'immature', 'immediate', 'immense', 'immunity', 'immutability', 'impact', 'imperative', 'imperfection', 'impersonate', 'impersonation', 'implement', 'implementation', 'implication', 'implicit', 'implode', 'imply', 'impolite', 'import', 'importance', 'importantly', 'impose', 'imposition', 'impossible', 'imprecise', 'impression', 'improve', 'improvement', 'inability', 'inaccuracy', 'inaccurate', 'inactive', 'inactivity', 'inadequate', 'inbound', 'inbuilt', 'incantation', 'incarnate', 'incarnation', 'incase', 'inch', 'inclination', 'include', 'included', 'inclusion', 'incoming', 'incompatibility', 'incomplete', 'inconsistency', 'inconsistent', 'inconvenience', 'inconvenient', 'incorporate', 'incorporation', 'incorrect', 'incorrectly', 'increase', 'incredible', 'increment', 'incremental', 'incrementation', 'incubator', 'incur', 'indent', 'indentation', 'indention', 'independence', 'index', 'indexed', 'indexer', 'indexing', 'indicate', 'indication', 'indicative', 'indicator', 'indices', 'indigo', 'indirection', 'individual', 'induce', 'industry', 'ineffective', 'inefficiency', 'inefficient', 'inequality', 'inertia', 'inevitable', 'inexperienced', 'infamous', 'infer', 'inference', 'inferior', 'infinite', 'infinity', 'inflection', 'influence', 'inform', 'informal', 'information', 'informative', 'infrared', 'infrastructure', 'infrequent', 'ing', 'ingrain', 'ingredient', 'inherit', 'inheritance', 'inheritor', 'inhibit', 'initialize', 'initiate', 'inject', 'injection', 'injector', 'inline', 'inn', 'inner', 'innermost', 'innovation', 'input', 'inquiry', 'insane', 'insanity', 'insecure', 'insensitive', 'insensitivity', 'insert', 'inserter', 'insertion', 'inset', 'inside', 'insight', 'insignificant', 'insist', 'insistent', 'insofar', 'inspect', 'inspection', 'inspector', 'inspiration', 'inspire', 'instability', 'install', 'installation', 'installer', 'instance', 'instant', 'instantiation', 'instantly', 'instinct', 'instruct', 'instruction', 'instructions', 'instructor', 'instrument', 'instrumentation', 'insufficient', 'insulate', 'insult', 'insurmountable', 'int', 'integer', 'integral', 'integrate', 'integration', 'integrity', 'intelligence', 'intelligent', 'intellij', 'intend', 'intending', 'intense', 'intensive', 'intent', 'intention', 'inter', 'interact', 'interaction', 'interactive', 'interactivity', 'intercept', 'intercepting', 'interception', 'interchange', 'interchangeable', 'interchangeably', 'interdependent', 'interesting', 'interface', 'interfere', 'interim', 'intermediary', 'intermediate', 'intermittent', 'intermittently', 'intermix', 'intern', 'internally', 'internals', 'internationalization', 'internship', 'interpolate', 'interpolation', 'interposing', 'interpret', 'interpretation', 'interpreter', 'interrelate', 'interrogate', 'interrogation', 'interrupt', 'interruptible', 'interruption', 'intersect', 'intersection', 'interval', 'intervention', 'interview', 'interviewee', 'interviewer', 'intimate', 'intricate', 'intrigue', 'intrinsically', 'introduce', 'introduction', 'introductory', 'introspect', 'introspection', 'intruder', 'intuition', 'intuitive', 'inturn', 'invalid', 'invalidate', 'invalidation', 'invariably', 'invent', 'inventory', 'inverse', 'inversion', 'invert', 'invest', 'investigate', 'investigation', 'investment', 'invitation', 'inviter', 'invocation', 'invoice', 'invoke', 'involve', 'involvement', 'io', 'ios', 'ipc', 'iron', 'irrational', 'irregular', 'irrelevant', 'irritate', 'irritating', 'isapi', 'island', 'iso', 'isolate', 'isolation', 'issue', 'ist', 'italic', 'itch', 'item', 'itemize', 'iter', 'iterate', 'iteration', 'ivy', 'jabber', 'jack', 'jag', 'jaggy', 'jail', 'jam', 'jane', 'jar', 'jarg', 'jasper', 'java', 'javac', 'javafx', 'javascript', 'jay', 'jazz', 'jdbc', 'jdk', 'jealous', 'jeff', 'jenna', 'jeopardize', 'jerk', 'jerry', 'jersey', 'jess', 'jet', 'jetty', 'jimmy', 'jingle', 'jit', 'jni', 'job', 'joe', 'join', 'joining', 'joint', 'joke', 'joker', 'josh', 'jot', 'journal', 'journey', 'joy', 'jre', 'jscript', 'json', 'jsp', 'jsr', 'judge', 'judgment', 'juggle', 'juggling', 'juice', 'juicy', 'jump', 'junction', 'june', 'junk', 'jurisdiction', 'justification', 'justify', 'jvm', 'keen', 'ken', 'kept', 'kernel', 'key', 'keyboard', 'keylock', 'khaki', 'kick', 'kicker', 'kickoff', 'kill', 'killer', 'kin', 'kind', 'king', 'kingdom', 'kiosk', 'kirk', 'kiss', 'kit', 'kitchen', 'kludge', 'kluge', 'knew', 'knife', 'knock', 'know', 'knowing', 'knowledge', 'known', 'kudos', 'kung', 'kyle', 'la', 'lab', 'label', 'lack', 'laconica', 'lady', 'lag', 'lamb', 'lambda', 'lame', 'lament', 'lamp', 'lan', 'land', 'landscape', 'language', 'languaged', 'languish', 'lapse', 'larry', 'laser', 'lat', 'latch', 'latency', 'later', 'latex', 'latitude', 'laugh', 'launch', 'launcher', 'law', 'lax', 'lay', 'layer', 'layman', 'layout', 'lazar', 'lazily', 'laziness', 'lazy', 'le', 'lea', 'lead', 'leader', 'leadership', 'leaf', 'leak', 'leakage', 'leaky', 'leal', 'lean', 'leaner', 'leaning', 'leap', 'learn', 'learning', 'learnt', 'leave', 'lecture', 'lee', 'left', 'leftover', 'leg', 'legacy', 'legend', 'legitimate', 'legitimize', 'lemonade', 'lend', 'length', 'lengthy', 'lenient', 'leopard', 'lesser', 'lest', 'let', 'lethargy', 'letter', 'level', 'leverage', 'lewis', 'lexical', 'li', 'liberty', 'library', 'license', 'lick', 'lie', 'lieu', 'life', 'lifeblood', 'lifetime', 'lifo', 'lift', 'light', 'lighter', 'lightning', 'lightweight', 'like', 'likelihood', 'likewise', 'limelight', 'limit', 'limitation', 'limiting', 'limp', 'line', 'linear', 'liner', 'lingua', 'link', 'linkage', 'linked', 'linker', 'linking', 'lint', 'linux', 'liquid', 'lis', 'lisp', 'list', 'listen', 'listener', 'listening', 'lister', 'listing', 'lite', 'literal', 'literally', 'literate', 'literature', 'live', 'living', 'llvm', 'lo', 'load', 'loader', 'loading', 'loan', 'loath', 'lob', 'locale', 'locality', 'localizable', 'localization', 'localize', 'locate', 'location', 'locator', 'lock', 'locker', 'locking', 'lockout', 'log', 'logger', 'logging', 'logic', 'login', 'logistics', 'logo', 'lone', 'long', 'longbow', 'longer', 'longevity', 'longitude', 'longs', 'look', 'lookup', 'loop', 'loophole', 'looping', 'loose', 'lop', 'lord', 'lose', 'losing', 'loss', 'lost', 'lot', 'lotus', 'loud', 'love', 'low', 'lowy', 'lt', 'lua', 'lucid', 'lucida', 'luck', 'lump', 'lunch', 'lunes', 'lurk', 'luxuriant', 'luxury', 'ma', 'mac', 'machine', 'machinery', 'macro', 'macrology', 'mad', 'madness', 'mag', 'magazine', 'magic', 'magical', 'magnitude', 'magpie', 'mail', 'mailbox', 'mailer', 'maintain', 'maintainer', 'maintenance', 'majority', 'maker', 'making', 'male', 'malformed', 'malicious', 'mall', 'mammoth', 'man', 'manage', 'management', 'manager', 'mandatory', 'mangle', 'manifest', 'manifesto', 'manipulate', 'manipulation', 'manner', 'manual', 'manufacturer', 'mao', 'map', 'mapper', 'mar', 'marc', 'march', 'margin', 'maria', 'marjoram', 'mark', 'markdown', 'marker', 'market', 'marketing', 'marking', 'markup', 'marquee', 'marry', 'marshal', 'marshaler', 'martin', 'mary', 'mask', 'mason', 'mass', 'massive', 'master', 'mastery', 'match', 'matching', 'material', 'materialize', 'math', 'matlab', 'matrix', 'matter', 'mature', 'maturity', 'maxim', 'maximize', 'maximum', 'maybe', 'mean', 'meaning', 'meaningless', 'meant', 'measure', 'measurement', 'measuring', 'mechanic', 'mechanism', 'mechanize', 'mediator', 'medium', 'meet', 'meeting', 'mel', 'melee', 'melt', 'mem', 'member', 'membership', 'memo', 'memoization', 'memory', 'men', 'mental', 'mentalis', 'mentality', 'mention', 'menu', 'merchant', 'mercurial', 'mercy', 'merge', 'merger', 'merit', 'merry', 'mesh', 'mess', 'message', 'messenger', 'messing', 'messy', 'meta', 'metaclass', 'metal', 'metallurgy', 'metaphor', 'methinks', 'method', 'methodology', 'methods', 'metric', 'metro', 'metronome', 'mi', 'mice', 'micro', 'microphone', 'microsecond', 'microsoft', 'mid', 'middle', 'middleman', 'middleware', 'midnight', 'midst', 'mighty', 'migrate', 'migration', 'mike', 'mil', 'mild', 'mile', 'mileage', 'milestone', 'milk', 'millennium', 'miller', 'million', 'millisecond', 'mime', 'min', 'mina', 'mind', 'ming', 'minification', 'minify', 'minimal', 'minimization', 'minimize', 'minimum', 'mining', 'minor', 'minority', 'minus', 'minute', 'minx', 'miny', 'miracle', 'mirror', 'misconception', 'misconfiguration', 'misery', 'mishmash', 'misinformation', 'mislead', 'mismatch', 'misnomer', 'miss', 'missile', 'missing', 'mission', 'misspell', 'mistake', 'mistaken', 'misunderstand', 'misunderstood', 'misuse', 'mitigate', 'mix', 'mixed', 'mixture', 'mnemonic', 'mo', 'moan', 'mob', 'mobile', 'mobility', 'mocha', 'mock', 'mocker', 'mod', 'modal', 'mode', 'model', 'moderate', 'moderation', 'moderator', 'modern', 'modernize', 'modification', 'modifier', 'modify', 'modular', 'module', 'modulus', 'moire', 'mojo', 'mole', 'molecular', 'molecule', 'moment', 'mon', 'money', 'mongrel', 'moniker', 'monitor', 'monkey', 'mono', 'monochrome', 'monorail', 'monotype', 'monster', 'month', 'moo', 'moot', 'moral', 'morning', 'morph', 'mortgage', 'moss', 'moth', 'mother', 'motion', 'motivate', 'motivation', 'motorcycle', 'motto', 'mould', 'mount', 'mountain', 'mouse', 'mousey', 'mout', 'mouth', 'movement', 'movie', 'moving', 'msdn', 'msvc', 'muck', 'mud', 'muddle', 'muff', 'muffy', 'mult', 'multicore', 'multidimensional', 'multilingual', 'multiple', 'multiplication', 'multiplicity', 'multiplier', 'multiply', 'multithreaded', 'multitude', 'mun', 'mundane', 'music', 'mustache', 'mutable', 'mutate', 'mutation', 'mute', 'mutex', 'myriad', 'mystery', 'myth', 'nag', 'nail', 'naming', 'nan', 'nant', 'narrow', 'narrower', 'nasty', 'nat', 'native', 'nature', 'naughty', 'nautilus', 'navigate', 'navigation', 'navigator', 'nay', 'nda', 'ne', 'near', 'nearest', 'neat', 'nebula', 'necessity', 'neck', 'need', 'needing', 'needle', 'negate', 'negation', 'negativity', 'neighbor', 'neophyte', 'nest', 'net', 'network', 'newing', 'newline', 'news', 'newspaper', 'newton', 'nexus', 'nice', 'niche', 'nickname', 'nid', 'nifty', 'niggling', 'night', 'nightmare', 'nil', 'nineteen', 'ninety', 'nit', 'nix', 'nob', 'noddy', 'node', 'nodelist', 'noise', 'nomenclature', 'nomination', 'non', 'nonblocking', 'nonportability', 'nonprofit', 'nonsense', 'nonzero', 'nope', 'normalization', 'normalize', 'notation', 'notch', 'note', 'notebook', 'noteworthy', 'nother', 'notice', 'notification', 'notify', 'notion', 'notwithstanding', 'novel', 'novice', 'nowadays', 'nu', 'nuance', 'nudge', 'nugget', 'nuisance', 'null', 'nullable', 'number', 'numerous', 'nutshell', 'o', 'oasis', 'obey', 'obfuscate', 'obfuscation', 'obfuscator', 'object', 'obligation', 'oblige', 'oblique', 'obscene', 'obscure', 'obscurity', 'observation', 'observe', 'observer', 'obsession', 'obsolete', 'obstacle', 'obtain', 'obtrusion', 'obtuse', 'ocaml', 'occasion', 'occasional', 'occupation', 'occupy', 'occur', 'occurrence', 'ocean', 'od', 'odbc', 'odd', 'oddity', 'odds', 'odometer', 'offer', 'offering', 'office', 'official', 'offset', 'oftentimes', 'ogre', 'oh', 'older', 'omit', 'omnipresent', 'ongoing', 'onion', 'onmouseover', 'ontogeny', 'onwards', 'oop', 'opacity', 'opaque', 'opcode', 'open', 'opener', 'opengl', 'opening', 'opera', 'operand', 'operate', 'operating', 'operation', 'operator', 'opinion', 'opportunity', 'oppose', 'opposite', 'opt', 'optimal', 'optimization', 'optimize', 'optimum', 'option', 'optional', 'oracle', 'orange', 'orbit', 'orchestration', 'order', 'ordered', 'ordinary', 'organization', 'organizational', 'organize', 'orient', 'orientate', 'orientation', 'origin', 'originate', 'orthogonality', 'os', 'oscilloscope', 'ought', 'outage', 'outbound', 'outcome', 'outdated', 'outer', 'outermost', 'outgo', 'outgoing', 'outline', 'outlook', 'outperform', 'output', 'outset', 'outside', 'outweigh', 'overall', 'overcome', 'overcrowd', 'overdone', 'overflow', 'overhaul', 'overhead', 'overlap', 'overlay', 'overload', 'overloading', 'overlook', 'overnight', 'override', 'overrun', 'overseen', 'oversight', 'oversized', 'overtime', 'overuse', 'overview', 'overwhelm', 'overwrite', 'ow', 'owd', 'owe', 'owl', 'owner', 'ownership', 'oxygen', 'p', 'pa', 'pablo', 'pace', 'pack', 'package', 'packet', 'pad', 'padding', 'paddle', 'page', 'pager', 'paginate', 'pagination', 'pain', 'painful', 'painless', 'painlessly', 'paint', 'painter', 'painting', 'pair', 'palatable', 'palette', 'pan', 'pane', 'panel', 'pant', 'paper', 'par', 'para', 'paradigm', 'paradox', 'paragraph', 'parallel', 'parallelism', 'parallelization', 'parallelize', 'param', 'parameter', 'paramount', 'paranoid', 'paraphrase', 'pardon', 'parent', 'parentage', 'parentheses', 'parenthesis', 'park', 'parley', 'parrot', 'parse', 'parsec', 'parser', 'partial', 'participate', 'particle', 'particular', 'partition', 'partitioning', 'partner', 'partnership', 'party', 'pas', 'pass', 'passage', 'passenger', 'passing', 'passion', 'passionate', 'password', 'past', 'paste', 'pastebin', 'paster', 'pasting', 'pat', 'pata', 'patch', 'patent', 'path', 'patience', 'patient', 'pattern', 'paucity', 'pause', 'pay', 'payment', 'payoff', 'peace', 'peachy', 'peak', 'pear', 'peculiar', 'peek', 'peer', 'peg', 'pen', 'penalize', 'penalty', 'pend', 'pending', 'penetration', 'penis', 'people', 'pep', 'percent', 'percentage', 'percentile', 'perception', 'perfect', 'perforce', 'perform', 'performance', 'performant', 'period', 'periodic', 'perl', 'perm', 'permanent', 'permanently', 'permission', 'permit', 'permutation', 'permute', 'perpetuate', 'persist', 'persistence', 'persistent', 'persister', 'persisting', 'person', 'persona', 'personally', 'personnel', 'perspective', 'persuade', 'pertain', 'pertaining', 'pertinent', 'perusal', 'pesky', 'pet', 'pete', 'peter', 'phantom', 'phase', 'phenomenal', 'phenomenon', 'phew', 'philosophical', 'philosophy', 'phone', 'photo', 'photography', 'php', 'phrase', 'physic', 'physical', 'pi', 'pic', 'pick', 'picked', 'picker', 'pickle', 'pickling', 'picky', 'picture', 'pidgin', 'piece', 'piecemeal', 'pig', 'pile', 'pilot', 'pimp', 'pin', 'ping', 'pink', 'pinpoint', 'pint', 'pioneer', 'pip', 'pipe', 'piped', 'pipeline', 'pistol', 'pita', 'pitch', 'pity', 'pivot', 'pivotal', 'pixel', 'pizza', 'place', 'placement', 'plague', 'plain', 'plan', 'plane', 'planet', 'plant', 'plate', 'platform', 'play', 'playback', 'player', 'pleasant', 'pleasure', 'pleb', 'plenty', 'plethora', 'plot', 'plug', 'pluggable', 'plugged', 'plumb', 'plumbing', 'plunge', 'plural', 'plus', 'ply', 'pocket', 'poco', 'pod', 'podge', 'poi', 'point', 'pointer', 'pointers', 'pointing', 'pointless', 'poison', 'poke', 'poking', 'police', 'policy', 'polish', 'poll', 'poller', 'polling', 'pollute', 'polygon', 'polymorphic', 'polymorphism', 'pom', 'pong', 'pool', 'pop', 'popularity', 'populate', 'population', 'pork', 'port', 'porta', 'portability', 'portable', 'portion', 'portman', 'portrait', 'pose', 'posh', 'posing', 'position', 'posse', 'possibility', 'possibly', 'post', 'postal', 'posted', 'poster', 'posterity', 'postfix', 'posting', 'postscript', 'potential', 'pour', 'pow', 'power', 'practical', 'practice', 'praise', 'prayer', 'preaching', 'precarious', 'precede', 'precedence', 'preceding', 'precise', 'precision', 'predecessor', 'predefine', 'predicate', 'predict', 'prefab', 'prefer', 'preferable', 'preferably', 'preference', 'prefix', 'prefixed', 'preform', 'premature', 'premise', 'premium', 'prep', 'preparation', 'prepare', 'prepared', 'prerequisite', 'presence', 'present', 'presentation', 'presenter', 'presently', 'preserve', 'preserver', 'preset', 'president', 'press', 'pressing', 'pressure', 'presto', 'presumably', 'presume', 'presuming', 'presumption', 'pretend', 'pretty', 'prevalent', 'prevent', 'prevention', 'preview', 'price', 'primality', 'primary', 'prime', 'primer', 'primitive', 'principal', 'principle', 'print', 'printer', 'printf', 'printing', 'prior', 'priority', 'prism', 'prius', 'privilege', 'prize', 'pro', 'prob', 'probability', 'probe', 'problem', 'problematic', 'procedural', 'procedure', 'proceed', 'proceeding', 'proceeds', 'process', 'processing', 'processor', 'proclaim', 'procurement', 'prod', 'produce', 'producer', 'product', 'productid', 'production', 'productivity', 'profanity', 'professional', 'professor', 'proficiency', 'proficient', 'profile', 'profiler', 'profit', 'profound', 'profusion', 'prog', 'program', 'programmatically', 'programmer', 'programming', 'progress', 'progression', 'prohibit', 'project', 'projection', 'proliferation', 'prolog', 'promise', 'promising', 'promote', 'prompt', 'prone', 'pronounce', 'proof', 'prop', 'propagate', 'propagation', 'proper', 'properly', 'property', 'proponent', 'proportion', 'proposal', 'propose', 'proprietary', 'prospect', 'protect', 'protection', 'protector', 'protocol', 'prototype', 'prove', 'proven', 'provide', 'provider', 'providing', 'province', 'proving', 'provision', 'proximity', 'proxy', 'prudent', 'prune', 'pseudo', 'pseudocode', 'psi', 'pst', 'pu', 'pub', 'public', 'publication', 'publicity', 'publish', 'publisher', 'pudding', 'pull', 'pump', 'pun', 'punch', 'punctuation', 'punt', 'puppet', 'purchase', 'pure', 'purge', 'purify', 'purist', 'purity', 'purple', 'purpose', 'purr', 'pursue', 'pursuit', 'push', 'pushpin', 'puzzle', 'pyramidal', 'python', 'pythonic', 'qt', 'quack', 'quad', 'quadruple', 'quake', 'qualifier', 'qualify', 'quality', 'quandary', 'quantifiable', 'quantify', 'quantity', 'quarrelsome', 'quarter', 'quartz', 'query', 'querying', 'question', 'queue', 'quick', 'quicken', 'quirk', 'quirky', 'quit', 'quits', 'quiz', 'quo', 'quota', 'quotation', 'quote', 'quotient', 'r', 'rabbit', 'race', 'racer', 'rack', 'rad', 'radar', 'radio', 'radius', 'rag', 'rage', 'raid', 'raise', 'rake', 'ram', 'ramp', 'ran', 'rand', 'random', 'randomize', 'randomly', 'randomness', 'range', 'ranging', 'rank', 'rant', 'rapid', 'rare', 'rarity', 'rat', 'rate', 'rating', 'ratio', 'rationale', 'rave', 'raw', 'rax', 'ray', 'razor', 'rcs', 'rdf', 'reach', 'reachable', 'reaching', 'react', 'reaction', 'reactive', 'reactor', 'read', 'readability', 'readable', 'readd', 'reader', 'reading', 'ready', 'realistic', 'reality', 'realization', 'realize', 'realizing', 'reallocation', 'realm', 'reap', 'rear', 'rearrange', 'reason', 'reasonable', 'reasonably', 'reasoning', 'reassign', 'reassure', 'rebind', 'rebook', 'rebuild', 'rebuilt', 'recalculate', 'recall', 'receipt', 'receive', 'receiver', 'recenter', 'recipe', 'recipient', 'reclaim', 'recode', 'recognition', 'recognize', 'recollection', 'recommend', 'recommendation', 'recompilation', 'recompile', 'recompute', 'recon', 'reconcile', 'reconnect', 'reconstruct', 'record', 'recorder', 'recover', 'recovery', 'recreate', 'recreation', 'recruit', 'rect', 'rectangle', 'rectangular', 'rectify', 'recur', 'recurse', 'recursion', 'recursive', 'recycle', 'red', 'redeem', 'redefine', 'redeploy', 'redesign', 'redirect', 'redirection', 'redisplay', 'redistribute', 'redistribution', 'redraw', 'reduce', 'reduction', 'redundancy', 'redundant', 'reel', 'ref', 'refactoring', 'refer', 'reference', 'referential', 'referrer', 'refinement', 'refining', 'reflect', 'reflection', 'reflective', 'reflector', 'refresh', 'refreshing', 'refuse', 'reg', 'regain', 'regard', 'regardless', 'regenerate', 'regex', 'region', 'register', 'registration', 'registry', 'regression', 'regret', 'regular', 'rehydrate', 'reimport', 'reinstall', 'reinterpret', 'reinvent', 'reiterate', 'reject', 'relate', 'relation', 'relational', 'relationship', 'relative', 'relativity', 'relaunch', 'relax', 'relaxation', 'relay', 'release', 'relevance', 'relevancy', 'relevant', 'reliability', 'reliable', 'reliably', 'reliance', 'relieve', 'relishing', 'relist', 'reload', 'relot', 'rely', 'remain', 'remainder', 'remains', 'remark', 'remedy', 'remember', 'remind', 'reminder', 'reminiscent', 'remote', 'removal', 'remove', 'removing', 'rename', 'render', 'renderer', 'rendering', 'renew', 'renumber', 'reopen', 'reorder', 'reorganize', 'rep', 'repaint', 'repair', 'repeat', 'repeatable', 'repeater', 'repertoire', 'repetition', 'repetitive', 'rephrase', 'repl', 'replace', 'replacement', 'replay', 'replica', 'replicate', 'replication', 'reply', 'repopulate', 'report', 'reporter', 'reposition', 'repository', 'represent', 'representation', 'representative', 'reproduce', 'reproduction', 'reps', 'reputation', 'request', 'requester', 'require', 'requirement', 'reread', 'rerun', 'rescue', 'research', 'reseed', 'resend', 'reservation', 'reserve', 'reset', 'reshuffle', 'reside', 'resin', 'resistance', 'resistant', 'resize', 'resizer', 'resolution', 'resolve', 'resolver', 'resort', 'resource', 'resp', 'respect', 'respective', 'respond', 'respondent', 'response', 'responsibility', 'responsive', 'rest', 'restart', 'restate', 'restaurant', 'restful', 'restore', 'restraint', 'restrict', 'restriction', 'restrictive', 'restring', 'result', 'resultant', 'resume', 'ret', 'retain', 'retaining', 'retention', 'rethrow', 'retrain', 'retrieval', 'retrieve', 'retrograde', 'retry', 'return', 'reuse', 'reutilization', 'rev', 'revamp', 'reveal', 'reversal', 'reverse', 'reversi', 'reversible', 'revert', 'review', 'revise', 'revision', 'revolve', 'rewind', 'rewire', 'reword', 'rework', 'rewrite', 'rewriter', 'rex', 'rhino', 'ria', 'ribbon', 'rich', 'richness', 'rick', 'rid', 'riddle', 'rig', 'right', 'rightmost', 'ring', 'rip', 'ripe', 'risk', 'river', 'riverside', 'road', 'roadblock', 'roam', 'roan', 'rob', 'robot', 'robust', 'robustness', 'rock', 'rocket', 'rogue', 'roi', 'role', 'roll', 'rollback', 'rookie', 'room', 'root', 'rope', 'rotate', 'rotation', 'rough', 'round', 'rounding', 'rout', 'route', 'router', 'routine', 'routing', 'rover', 'row', 'rub', 'rubber', 'ruby', 'ruin', 'rule', 'rumor', 'run', 'rune', 'runnable', 'runner', 'running', 'rush', 'rusty', 's', 'sacrifice', 'sad', 'sadly', 'safari', 'safe', 'safely', 'safety', 'sake', 'sale', 'salesman', 'salmon', 'salt', 'salvation', 'sam', 'samba', 'sample', 'sampler', 'san', 'sand', 'sandbox', 'sane', 'sanitize', 'sanity', 'sans', 'sat', 'satisfactory', 'satisfy', 'satisfying', 'sauce', 'sausage', 'save', 'saver', 'saving', 'savvy', 'saw', 'sax', 'scaffold', 'scala', 'scalable', 'scalar', 'scale', 'scaling', 'scan', 'scanf', 'scanner', 'scanning', 'scarce', 'scare', 'scary', 'scatter', 'scenario', 'scene', 'schedule', 'schema', 'scheme', 'schlemiel', 'school', 'science', 'scintilla', 'scope', 'score', 'scour', 'scout', 'scramble', 'scrap', 'scrapbook', 'scrape', 'scraper', 'scraping', 'scrapping', 'scratch', 'scream', 'screaming', 'screen', 'screw', 'screwy', 'script', 'scripting', 'scroll', 'scrounge', 'scrub', 'scrubber', 'scrum', 'scsi', 'sdk', 'se', 'sea', 'seal', 'seam', 'seamless', 'seamlessly', 'seamlessness', 'search', 'searcher', 'searching', 'season', 'seat', 'sec', 'second', 'secondarily', 'secondary', 'secret', 'section', 'secure', 'security', 'seed', 'seedy', 'seeing', 'seek', 'seemingly', 'seg', 'segfault', 'segment', 'segmentation', 'segregate', 'segregation', 'seidel', 'seldom', 'select', 'selection', 'selector', 'selenium', 'self', 'sell', 'selling', 'semantic', 'semantics', 'semaphore', 'semblance', 'semester', 'semicolon', 'send', 'sender', 'sending', 'sense', 'sensible', 'sensitive', 'sensor', 'sent', 'sentence', 'sentiment', 'sentinel', 'separate', 'separation', 'separator', 'sequence', 'sequential', 'ser', 'serge', 'serial', 'serialization', 'serialize', 'series', 'serif', 'serve', 'server', 'service', 'serving', 'servlet', 'sesame', 'sess', 'session', 'sessions', 'set', 'setter', 'setting', 'settle', 'setup', 'seven', 'sever', 'severe', 'severity', 'sex', 'sh', 'sha', 'shack', 'shade', 'shader', 'shadow', 'shady', 'shall', 'shallow', 'shame', 'shameless', 'shape', 'shard', 'sharded', 'share', 'shark', 'shebang', 'sheep', 'sheer', 'sheet', 'shell', 'shepherd', 'shift', 'shin', 'shine', 'shiny', 'ship', 'shipment', 'shipper', 'shipping', 'shiver', 'shock', 'shocker', 'shoehorn', 'shoeless', 'shoot', 'shop', 'shopping', 'shore', 'short', 'shortcoming', 'shorten', 'shorter', 'shorthand', 'shot', 'shotgun', 'shout', 'showdown', 'showing', 'shred', 'shrink', 'shrinking', 'shrunk', 'shudder', 'shuffle', 'shunt', 'shut', 'shutdown', 'shutoff', 'shy', 'si', 'sibling', 'sidenote', 'sieve', 'sift', 'sigh', 'sight', 'sign', 'signal', 'signature', 'signer', 'significance', 'signify', 'signum', 'silence', 'silent', 'silver', 'similarity', 'similarly', 'simile', 'simp', 'simple', 'simpler', 'simplex', 'simplicity', 'simplification', 'simplify', 'simulate', 'simulation', 'simulator', 'simultaneously', 'sin', 'sine', 'singleton', 'singular', 'sink', 'sip', 'sit', 'site', 'situate', 'situation', 'size', 'sizer', 'sizing', 'sizzle', 'skeet', 'skeleton', 'sketch', 'sketchy', 'skew', 'skill', 'skim', 'skin', 'skip', 'sky', 'slack', 'slap', 'slash', 'slave', 'sleeker', 'sleep', 'sleeve', 'slice', 'slicing', 'slick', 'slicker', 'slickness', 'slide', 'slider', 'slight', 'slim', 'slime', 'slip', 'slippery', 'slope', 'sloppy', 'slot', 'slow', 'slowdown', 'slows', 'slug', 'sluggishness', 'slurp', 'smack', 'smallish', 'smalltalk', 'smart', 'smartness', 'smarty', 'smash', 'smashery', 'smatter', 'smell', 'smith', 'smooth', 'smoothly', 'smorgasbord', 'snag', 'snail', 'snake', 'snap', 'snapshot', 'sneaky', 'sniff', 'sniffer', 'snip', 'snipe', 'snippet', 'snobbish', 'snoopy', 'snowball', 'soap', 'sock', 'socket', 'soft', 'softball', 'software', 'sole', 'solicit', 'solid', 'solo', 'solution', 'solve', 'solver', 'somebody', 'someday', 'someplace', 'someway', 'somewhat', 'somewhen', 'son', 'song', 'sonic', 'sooner', 'sop', 'sophisticate', 'sorry', 'sort', 'sortable', 'sorter', 'soul', 'sound', 'soup', 'source', 'sourceforge', 'space', 'spacer', 'spacing', 'spade', 'spaghetti', 'span', 'spare', 'spark', 'sparkle', 'sparky', 'sparse', 'spatial', 'spawn', 'speak', 'speaker', 'speaking', 'spec', 'special', 'specialization', 'specialize', 'specie', 'species', 'specific', 'specifically', 'specification', 'specificly', 'specifier', 'specify', 'specs', 'spectacular', 'specter', 'spectrum', 'speculate', 'speculation', 'speech', 'speed', 'speeding', 'speedy', 'spell', 'spelling', 'spend', 'spending', 'spent', 'spew', 'sphere', 'spice', 'spiffy', 'spike', 'spill', 'spin', 'spinner', 'spirit', 'spit', 'splash', 'splice', 'splicing', 'spline', 'splint', 'split', 'splitting', 'splotchy', 'splurge', 'spoil', 'spoken', 'spool', 'sport', 'sporty', 'spot', 'sprang', 'spread', 'spreading', 'spring', 'sprinkle', 'sprite', 'spruce', 'sql', 'sqlite', 'square', 'squeeze', 'sri', 'st', 'stab', 'stability', 'stable', 'stack', 'stackless', 'staff', 'stag', 'stage', 'stagger', 'stamp', 'stand', 'standard', 'standardization', 'standardize', 'standpoint', 'stapler', 'star', 'staring', 'start', 'starter', 'starting', 'startle', 'state', 'stateless', 'statement', 'static', 'station', 'statistic', 'statistics', 'status', 'stay', 'stdin', 'steady', 'steal', 'stealing', 'steam', 'steep', 'steeper', 'steer', 'stem', 'stemmer', 'step', 'stepped', 'stereotype', 'sterilize', 'steven', 'stick', 'stickiness', 'sticking', 'sticky', 'stifle', 'stime', 'sting', 'stinging', 'stink', 'stir', 'stock', 'stomach', 'stone', 'stop', 'stopped', 'stopping', 'storage', 'store', 'storm', 'story', 'straight', 'straightforward', 'strange', 'strapper', 'strategy', 'straw', 'strawberry', 'stream', 'streaming', 'streamline', 'street', 'strength', 'stress', 'stretch', 'strict', 'strictly', 'strictness', 'strike', 'string', 'strip', 'stripe', 'stripping', 'strive', 'stroke', 'strongly', 'structural', 'structure', 'struggle', 'struggling', 'stub', 'stubborn', 'stuck', 'student', 'studio', 'study', 'stuff', 'stuffed', 'stum', 'stumble', 'stupid', 'stupidity', 'style', 'stylesheet', 'styling', 'sub', 'subclass', 'subcontrol', 'subelement', 'subentry', 'subject', 'subjective', 'submission', 'submit', 'subpackage', 'subproblem', 'subquestion', 'subroutine', 'subscribe', 'subscriber', 'subscript', 'subscription', 'subsection', 'subsequent', 'subset', 'subsidiary', 'subsonic', 'substitute', 'substitution', 'substring', 'subsystem', 'subtitle', 'subtle', 'subtlety', 'subtract', 'subtraction', 'subtype', 'subversion', 'succeed', 'success', 'succession', 'successive', 'successor', 'succumb', 'suck', 'suds', 'sue', 'suffer', 'suffering', 'suffice', 'sufficient', 'suffix', 'sugar', 'suggest', 'suggesting', 'suggestion', 'suit', 'suitability', 'suitable', 'suite', 'sum', 'summarize', 'summary', 'summation', 'summer', 'summit', 'summon', 'sun', 'sunk', 'sunny', 'super', 'superb', 'superclass', 'superior', 'superiority', 'superscript', 'supplier', 'supply', 'support', 'supporting', 'suppose', 'supposition', 'suppress', 'suppression', 'sur', 'sure', 'surf', 'surface', 'surfboard', 'surgeon', 'surgery', 'surname', 'surprise', 'surprisingly', 'surrogate', 'surround', 'survey', 'survival', 'survive', 'suspect', 'suspend', 'suspicion', 'sustain', 'swab', 'swallow', 'swap', 'swapping', 'swear', 'sweat', 'sweet', 'swell', 'swift', 'swig', 'swim', 'swing', 'switch', 'switcher', 'switching', 'swoop', 'symbol', 'symbolic', 'symmetric', 'symmetry', 'symphony', 'symptom', 'sync', 'synch', 'synchronization', 'synchronize', 'synchronous', 'syndicate', 'syndication', 'synergy', 'synonym', 'syntactic', 'syntax', 'synthesis', 'synthesizer', 'tab', 'table', 'tableless', 'tablet', 'tabular', 'tabulate', 'tack', 'tackle', 'tacky', 'tactic', 'tad', 'tag', 'tai', 'tail', 'tailor', 'taint', 'taking', 'tal', 'talent', 'talk', 'tall', 'taller', 'tam', 'tan', 'tangle', 'tank', 'tap', 'tapestry', 'tar', 'target', 'task', 'taste', 'taught', 'tax', 'taxis', 'tcl', 'teach', 'teacher', 'teaching', 'team', 'teamwork', 'tear', 'tech', 'technica', 'technique', 'technology', 'ted', 'teen', 'teeth', 'telephone', 'tell', 'temp', 'temperamental', 'temperature', 'template', 'temple', 'tempo', 'temporal', 'tempt', 'tempting', 'tend', 'tendency', 'tense', 'teredo', 'term', 'terminal', 'terminate', 'termination', 'terminator', 'terminology', 'ternary', 'terrace', 'terrain', 'terrible', 'terribly', 'terrific', 'territory', 'terry', 'terse', 'tesseract', 'test', 'testa', 'tested', 'tester', 'testing', 'text', 'textbook', 'textile', 'texture', 'th', 'thank', 'thanks', 'theater', 'theirs', 'theme', 'theory', 'thereabouts', 'therefor', 'thereof', 'thicket', 'thing', 'thingy', 'think', 'thinking', 'thirty', 'tho', 'thorny', 'thorough', 'thought', 'thoughtful', 'thoughtless', 'thousand', 'thow', 'thrashing', 'thread', 'thready', 'threat', 'threshold', 'threw', 'thrice', 'thrift', 'throat', 'throbber', 'throttle', 'throughput', 'throw', 'throwing', 'thrown', 'thumb', 'thumbnail', 'thunderbird', 'thunderstorm', 'thunk', 'thwart', 'ti', 'tick', 'ticker', 'ticket', 'tidy', 'tie', 'tier', 'tiered', 'tiff', 'tiger', 'tight', 'til', 'tilde', 'tile', 'till', 'timbre', 'time', 'timed', 'timeliness', 'timer', 'timetable', 'timing', 'tinker', 'tiny', 'tip', 'tire', 'tiresome', 'title', 'tk', 'toad', 'today', 'toggle', 'token', 'told', 'tolerance', 'tolerate', 'tomahawk', 'tomcat', 'tomorrow', 'ton', 'tone', 'toner', 'tongue', 'tonight', 'tool', 'toolbox', 'tooling', 'topic', 'topmost', 'toran', 'torch', 'torn', 'torque', 'torrent', 'tortoise', 'toss', 'tossup', 'total', 'touch', 'tour', 'tourism', 'town', 'toy', 'toying', 'trace', 'tracer', 'tracing', 'track', 'tracker', 'tracking', 'traction', 'trade', 'trader', 'trading', 'tradition', 'traffic', 'trail', 'trailing', 'train', 'training', 'trampoline', 'transact', 'transaction', 'transactional', 'transceiver', 'transfer', 'transferring', 'transform', 'transformation', 'transformer', 'transient', 'transition', 'transitive', 'translate', 'translation', 'transmission', 'transmit', 'transparency', 'transparent', 'transport', 'transpose', 'trap', 'trapped', 'trash', 'travel', 'traversal', 'traverse', 'traversing', 'traversion', 'tray', 'tread', 'treat', 'treating', 'treatment', 'trebuchet', 'tree', 'tremendously', 'trend', 'triage', 'trial', 'triangle', 'triangulation', 'trick', 'trickery', 'trickle', 'tricky', 'tried', 'trigger', 'trim', 'trimming', 'trip', 'triple', 'trivial', 'trouble', 'troublesome', 'trough', 'trove', 'truck', 'truly', 'trump', 'truncate', 'truncation', 'trunk', 'trust', 'trusting', 'trustworthy', 'truth', 'try', 'tst', 'tue', 'tumble', 'tun', 'tune', 'tuner', 'tuning', 'tunnel', 'tup', 'tuple', 'turbo', 'turn', 'turner', 'turning', 'tut', 'tutorial', 'twain', 'tweak', 'tweet', 'twice', 'twiddle', 'twiddling', 'twin', 'twist', 'twister', 'twitter', 'twofold', 'type', 'typecast', 'typed', 'typical', 'typo', 'typography', 'u', 'ugliness', 'ugly', 'ultimate', 'umbrella', 'umlaut', 'unable', 'unaccepted', 'unaligned', 'unappealing', 'unauthenticated', 'unauthorized', 'unaware', 'unbind', 'unblock', 'unbound', 'unbounded', 'uncaught', 'uncertainty', 'unchanging', 'uncheck', 'unchecked', 'unclear', 'unclick', 'uncommitted', 'uncommon', 'unconfirmed', 'uncontrolled', 'undeclared', 'undefined', 'undergo', 'undergrad', 'underlie', 'underline', 'underlying', 'underneath', 'underscore', 'understand', 'understanding', 'understood', 'undo', 'undocumented', 'unescape', 'unexpected', 'unfinished', 'unfortunate', 'unfreed', 'unhandled', 'unhelpful', 'uniform', 'unify', 'uninitiated', 'uninstalled', 'unintended', 'uninterrupted', 'union', 'unique', 'uniquely', 'uniqueness', 'unit', 'unity', 'universal', 'university', 'unknow', 'unknown', 'unlearn', 'unlike', 'unlimited', 'unlink', 'unload', 'unlock', 'unlocker', 'unmanaged', 'unnamed', 'unneeded', 'unobtrusive', 'unordered', 'unpack', 'unpleasing', 'unplug', 'unprotected', 'unquote', 'unrecognized', 'unreferenced', 'unrelated', 'unreliable', 'unresolved', 'unresponsive', 'unsatisfactory', 'unsatisfying', 'unsaved', 'unsavory', 'unseasoned', 'unsecure', 'unset', 'unsetting', 'unsigned', 'unsorted', 'unstuck', 'unsupported', 'unsure', 'unterminated', 'untrusted', 'unuse', 'unused', 'unwanted', 'unwind', 'unwinding', 'unwise', 'unworthy', 'unwrap', 'upcoming', 'update', 'upgrade', 'upper', 'upset', 'upstairs', 'upstream', 'upwards', 'urge', 'usability', 'usage', 'use', 'useful', 'usefulness', 'useless', 'user', 'ut', 'utility', 'utilization', 'utilize', 'v', 'vague', 'vain', 'valid', 'validate', 'validation', 'validity', 'valuable', 'value', 'van', 'vanilla', 'vanish', 'vanishing', 'vanity', 'var', 'vara', 'vari', 'variable', 'variant', 'variation', 'variety', 'vary', 'vast', 'vault', 'vb', 'vector', 'vehicle', 'vein', 'velocity', 'vendor', 'venerable', 'venture', 'verb', 'verbatim', 'verbose', 'verbosity', 'verge', 'verification', 'verify', 'versatile', 'versatility', 'verse', 'version', 'versus', 'vertex', 'vertical', 'vertices', 'viability', 'vice', 'vicinity', 'victim', 'victory', 'video', 'vie', 'view', 'viewable', 'viewer', 'viewpoint', 'vigilant', 'villa', 'village', 'vim', 'vintage', 'violate', 'violation', 'virtual', 'virtue', 'virus', 'visa', 'visibility', 'visible', 'vision', 'visit', 'visitor', 'vista', 'visual', 'visualization', 'visualize', 'visualizer', 'vital', 'voice', 'void', 'volition', 'volume', 'volumetry', 'voodoo', 'vote', 'voting', 'wa', 'wab', 'wack', 'wad', 'wade', 'wagon', 'wait', 'waiting', 'wake', 'waken', 'walk', 'walker', 'walking', 'wall', 'wamp', 'wan', 'wand', 'wander', 'want', 'wanting', 'wap', 'war', 'ward', 'warehouse', 'warm', 'warn', 'warning', 'warrant', 'warranty', 'warrior', 'wary', 'waste', 'wasteful', 'watch', 'watching', 'water', 'watermark', 'wave', 'wavelet', 'way', 'weakly', 'weakness', 'wealth', 'wean', 'weapon', 'weather', 'weave', 'web', 'webby', 'wed', 'wedding', 'wedge', 'weed', 'week', 'weekday', 'weekend', 'weel', 'weigh', 'weight', 'weird', 'weirdness', 'welcome', 'wen', 'whack', 'whatnot', 'whatsoever', 'wheel', 'whew', 'whichever', 'whick', 'whilst', 'whip', 'whirling', 'whomever', 'whoop', 'whop', 'wicked', 'wicket', 'widespread', 'width', 'wife', 'wild', 'win', 'wince', 'wind', 'window', 'wine', 'wing', 'winkle', 'winner', 'winter', 'wipe', 'wire', 'wireless', 'wiring', 'wisdom', 'wise', 'wish', 'wither', 'witness', 'wizard', 'wml', 'wonder', 'wonderful', 'wondering', 'wong', 'wonky', 'woof', 'woohoo', 'word', 'wording', 'work', 'workbench', 'workbook', 'worked', 'worker', 'working', 'workplace', 'workspace', 'world', 'worry', 'worrying', 'worse', 'worst', 'worth', 'worthless', 'worthy', 'wound', 'wow', 'wrangle', 'wrap', 'wrapper', 'wrapping', 'wretched', 'write', 'writeable', 'writer', 'writing', 'wrong', 'x', 'xml', 'xna', 'xor', 'xsl', 'xslt', 'ya', 'yahoo', 'yaml', 'yank', 'yardstick', 'ye', 'yea', 'yeah', 'year', 'yearn', 'yell', 'yellow', 'yep', 'yes', 'yesterday', 'yield', 'yo', 'york', 'youth', 'yuck', 'yucky', 'z', 'zac', 'zealot', 'zebra', 'zero', 'zip', 'zombie', 'zone', 'zoom']\n"
     ]
    }
   ],
   "source": [
    "# Affichage\n",
    "LONGUEUR_CORPUS = len(set(corpus_MOTS))\n",
    "print(LONGUEUR_CORPUS)\n",
    "print(sorted(set(corpus_MOTS)))"
   ]
  },
  {
   "cell_type": "markdown",
   "id": "b585a5d1",
   "metadata": {},
   "source": [
    "Affichage du corpus des lignes dans l'ordre du dataframe :"
   ]
  },
  {
   "cell_type": "code",
   "execution_count": 22,
   "id": "aa0d4e09",
   "metadata": {},
   "outputs": [
    {
     "name": "stdout",
     "output_type": "stream",
     "text": [
      "12407\n"
     ]
    }
   ],
   "source": [
    "print(len(corpus_LIGNES))\n",
    "# print(corpus_LIGNES)"
   ]
  },
  {
   "cell_type": "markdown",
   "id": "aa15f47c",
   "metadata": {},
   "source": [
    "On va maintenant extraire des features de ce corpus.\n",
    "On considère le seuil N comme le nombre minimum de l'apparition d'un mot dans le corpus pour qu'il soit pris en compte dans l'encodage des résultats. Cela permet de filtrer les mots peu utilisés, similairement à ce que l'on a fait pour les tags."
   ]
  },
  {
   "cell_type": "code",
   "execution_count": 23,
   "id": "b6f76a76",
   "metadata": {},
   "outputs": [],
   "source": [
    "# On filtre les mots qui apparaissent seulement plus de X fois\n",
    "SEUIL_MIN = 2\n",
    "\n",
    "# On filtre les mots qui apparaissent dans X% des cas\n",
    "SEUIL_MAX = 0.5"
   ]
  },
  {
   "cell_type": "markdown",
   "id": "e0f37701",
   "metadata": {},
   "source": [
    "On crée des fonctions d'extraction de features :"
   ]
  },
  {
   "cell_type": "code",
   "execution_count": 24,
   "id": "477ace5c",
   "metadata": {},
   "outputs": [],
   "source": [
    "from sklearn.feature_extraction.text import TfidfVectorizer\n",
    "\n",
    "\n",
    "def extractTFIDF(lignes, SEUIL_MIN, SEUIL_MAX, *args):\n",
    "    \n",
    "    try:\n",
    "        vectorizer = TfidfVectorizer(min_df=SEUIL_MIN, max_df=SEUIL_MAX, max_features=args[0])\n",
    "    except:\n",
    "        vectorizer = TfidfVectorizer(min_df=SEUIL_MIN, max_df=SEUIL_MAX)\n",
    "    \n",
    "    vectors = vectorizer.fit_transform(corpus_LIGNES)\n",
    "    feature_names = vectorizer.get_feature_names_out()\n",
    "    dense = vectors.todense()\n",
    "    denselist = dense.tolist()\n",
    "    return pd.DataFrame(denselist, columns=feature_names)"
   ]
  },
  {
   "cell_type": "markdown",
   "id": "b2afdd5b",
   "metadata": {},
   "source": [
    "Application des fonctions :"
   ]
  },
  {
   "cell_type": "code",
   "execution_count": 25,
   "id": "013df137",
   "metadata": {
    "scrolled": true
   },
   "outputs": [
    {
     "name": "stdout",
     "output_type": "stream",
     "text": [
      "12407x4011\n"
     ]
    }
   ],
   "source": [
    "dataTF = extractTFIDF(corpus_LIGNES, SEUIL_MIN, SEUIL_MAX)\n",
    "\n",
    "print(f'{dataTF.shape[0]}x{dataTF.shape[1]}')"
   ]
  },
  {
   "cell_type": "markdown",
   "id": "9c0634e1",
   "metadata": {},
   "source": [
    "### Tags\n",
    "\n",
    "One hot encoding des tags :"
   ]
  },
  {
   "cell_type": "code",
   "execution_count": 26,
   "id": "4a66b907",
   "metadata": {},
   "outputs": [
    {
     "name": "stdout",
     "output_type": "stream",
     "text": [
      "12407x15\n"
     ]
    },
    {
     "data": {
      "text/html": [
       "<div>\n",
       "<style scoped>\n",
       "    .dataframe tbody tr th:only-of-type {\n",
       "        vertical-align: middle;\n",
       "    }\n",
       "\n",
       "    .dataframe tbody tr th {\n",
       "        vertical-align: top;\n",
       "    }\n",
       "\n",
       "    .dataframe thead th {\n",
       "        text-align: right;\n",
       "    }\n",
       "</style>\n",
       "<table border=\"1\" class=\"dataframe\">\n",
       "  <thead>\n",
       "    <tr style=\"text-align: right;\">\n",
       "      <th></th>\n",
       "      <th>.net</th>\n",
       "      <th>asp.net</th>\n",
       "      <th>c</th>\n",
       "      <th>c#</th>\n",
       "      <th>c++</th>\n",
       "      <th>database</th>\n",
       "      <th>html</th>\n",
       "      <th>java</th>\n",
       "      <th>javascript</th>\n",
       "      <th>php</th>\n",
       "      <th>python</th>\n",
       "      <th>sql</th>\n",
       "      <th>sql-server</th>\n",
       "      <th>visual-studio</th>\n",
       "      <th>windows</th>\n",
       "    </tr>\n",
       "  </thead>\n",
       "  <tbody>\n",
       "    <tr>\n",
       "      <th>0</th>\n",
       "      <td>0</td>\n",
       "      <td>0</td>\n",
       "      <td>0</td>\n",
       "      <td>1</td>\n",
       "      <td>0</td>\n",
       "      <td>0</td>\n",
       "      <td>0</td>\n",
       "      <td>0</td>\n",
       "      <td>0</td>\n",
       "      <td>0</td>\n",
       "      <td>0</td>\n",
       "      <td>0</td>\n",
       "      <td>0</td>\n",
       "      <td>0</td>\n",
       "      <td>0</td>\n",
       "    </tr>\n",
       "    <tr>\n",
       "      <th>1</th>\n",
       "      <td>0</td>\n",
       "      <td>0</td>\n",
       "      <td>0</td>\n",
       "      <td>0</td>\n",
       "      <td>0</td>\n",
       "      <td>0</td>\n",
       "      <td>1</td>\n",
       "      <td>0</td>\n",
       "      <td>0</td>\n",
       "      <td>0</td>\n",
       "      <td>0</td>\n",
       "      <td>0</td>\n",
       "      <td>0</td>\n",
       "      <td>0</td>\n",
       "      <td>0</td>\n",
       "    </tr>\n",
       "    <tr>\n",
       "      <th>2</th>\n",
       "      <td>1</td>\n",
       "      <td>0</td>\n",
       "      <td>0</td>\n",
       "      <td>1</td>\n",
       "      <td>0</td>\n",
       "      <td>0</td>\n",
       "      <td>0</td>\n",
       "      <td>0</td>\n",
       "      <td>0</td>\n",
       "      <td>0</td>\n",
       "      <td>0</td>\n",
       "      <td>0</td>\n",
       "      <td>0</td>\n",
       "      <td>0</td>\n",
       "      <td>0</td>\n",
       "    </tr>\n",
       "    <tr>\n",
       "      <th>3</th>\n",
       "      <td>0</td>\n",
       "      <td>0</td>\n",
       "      <td>0</td>\n",
       "      <td>1</td>\n",
       "      <td>0</td>\n",
       "      <td>0</td>\n",
       "      <td>0</td>\n",
       "      <td>0</td>\n",
       "      <td>0</td>\n",
       "      <td>0</td>\n",
       "      <td>0</td>\n",
       "      <td>0</td>\n",
       "      <td>0</td>\n",
       "      <td>0</td>\n",
       "      <td>0</td>\n",
       "    </tr>\n",
       "    <tr>\n",
       "      <th>4</th>\n",
       "      <td>0</td>\n",
       "      <td>0</td>\n",
       "      <td>0</td>\n",
       "      <td>0</td>\n",
       "      <td>0</td>\n",
       "      <td>0</td>\n",
       "      <td>1</td>\n",
       "      <td>0</td>\n",
       "      <td>0</td>\n",
       "      <td>0</td>\n",
       "      <td>0</td>\n",
       "      <td>0</td>\n",
       "      <td>0</td>\n",
       "      <td>0</td>\n",
       "      <td>0</td>\n",
       "    </tr>\n",
       "  </tbody>\n",
       "</table>\n",
       "</div>"
      ],
      "text/plain": [
       "   .net  asp.net  c  c#  c++  database  html  java  javascript  php  python  \\\n",
       "0     0        0  0   1    0         0     0     0           0    0       0   \n",
       "1     0        0  0   0    0         0     1     0           0    0       0   \n",
       "2     1        0  0   1    0         0     0     0           0    0       0   \n",
       "3     0        0  0   1    0         0     0     0           0    0       0   \n",
       "4     0        0  0   0    0         0     1     0           0    0       0   \n",
       "\n",
       "   sql  sql-server  visual-studio  windows  \n",
       "0    0           0              0        0  \n",
       "1    0           0              0        0  \n",
       "2    0           0              0        0  \n",
       "3    0           0              0        0  \n",
       "4    0           0              0        0  "
      ]
     },
     "execution_count": 26,
     "metadata": {},
     "output_type": "execute_result"
    }
   ],
   "source": [
    "# Encodage des tags multilabel\n",
    "from sklearn.preprocessing import MultiLabelBinarizer\n",
    "\n",
    "mlb = MultiLabelBinarizer()\n",
    "resultat = mlb.fit_transform(data['Tags'])\n",
    "dataTags = pd.DataFrame(resultat)\n",
    "dataTags.columns = mlb.classes_\n",
    "print(f'{dataTags.shape[0]}x{dataTags.shape[1]}')\n",
    "dataTags.head(5)"
   ]
  },
  {
   "cell_type": "markdown",
   "id": "b7854e9c",
   "metadata": {},
   "source": [
    "# ACP\n",
    "\n",
    "Afin de réduire la dimension, on affiche l'éboulis aux valeurs propres du problème, via une fonction."
   ]
  },
  {
   "cell_type": "code",
   "execution_count": 27,
   "id": "1a541ab6",
   "metadata": {},
   "outputs": [],
   "source": [
    "# Import des librairies\n",
    "from sklearn import decomposition\n",
    "from sklearn import preprocessing\n",
    "from fonctionsACP import *\n",
    "\n",
    "\n",
    "def affichageEboulis(n_comp, data):\n",
    "\n",
    "    # Export des colonnes quantitatives\n",
    "    data_pca = data\n",
    "\n",
    "    # Exctraction des données d'analyse\n",
    "    X = data_pca.values\n",
    "    names = data_pca.index\n",
    "    features = data_pca.columns\n",
    "\n",
    "    # Centrage et Réduction\n",
    "    std_scale = preprocessing.StandardScaler().fit(X)\n",
    "    X_scaled = std_scale.transform(X)\n",
    "\n",
    "    # Calcul des composantes principales (PCA)\n",
    "    pca = decomposition.PCA(n_components=n_comp)\n",
    "    pca.fit(X_scaled)\n",
    "\n",
    "    # Eboulis des valeurs propres\n",
    "    display_scree_plot(pca)"
   ]
  },
  {
   "cell_type": "markdown",
   "id": "f6e7175c",
   "metadata": {},
   "source": [
    "Application de la fonction aux deux bag of words :"
   ]
  },
  {
   "cell_type": "code",
   "execution_count": 29,
   "id": "f2c8200d",
   "metadata": {},
   "outputs": [
    {
     "data": {
      "image/png": "[encoded data removed]",
      "text/plain": [
       "<Figure size 432x288 with 1 Axes>"
      ]
     },
     "metadata": {
      "needs_background": "light"
     },
     "output_type": "display_data"
    }
   ],
   "source": [
    "# Nombre de composantes principales\n",
    "n_comp = 4000\n",
    "\n",
    "# Application de la fonction\n",
    "affichageEboulis(n_comp, dataTF)"
   ]
  },
  {
   "cell_type": "markdown",
   "id": "4216c52b",
   "metadata": {},
   "source": [
    "Basé sur ces résultats, on refait une extraction de features avec un compromis entre la variabilité et le nombre de features (3000) :"
   ]
  },
  {
   "cell_type": "code",
   "execution_count": 30,
   "id": "d974ebdf",
   "metadata": {},
   "outputs": [],
   "source": [
    "dataTF = extractTFIDF(corpus_LIGNES, SEUIL_MIN, SEUIL_MAX, 1500)"
   ]
  },
  {
   "cell_type": "markdown",
   "id": "5c3583d3",
   "metadata": {},
   "source": [
    "# Sauvegarde\n",
    "\n",
    "Concaténation des tags :"
   ]
  },
  {
   "cell_type": "code",
   "execution_count": 31,
   "id": "dfe3d13f",
   "metadata": {
    "scrolled": false
   },
   "outputs": [
    {
     "name": "stdout",
     "output_type": "stream",
     "text": [
      "12407x1500\n",
      "12407x1515\n"
     ]
    }
   ],
   "source": [
    "# TF-IDF\n",
    "dataTFTags = pd.concat([dataTF, dataTags], axis=1)\n",
    "print(f'{dataTF.shape[0]}x{dataTF.shape[1]}')\n",
    "print(f'{dataTFTags.shape[0]}x{dataTFTags.shape[1]}')"
   ]
  },
  {
   "cell_type": "markdown",
   "id": "f4210b5e",
   "metadata": {},
   "source": [
    "Export sans la colonne d'index :"
   ]
  },
  {
   "cell_type": "code",
   "execution_count": 32,
   "id": "857835c3",
   "metadata": {},
   "outputs": [],
   "source": [
    "data.to_csv('dataRaw_CUT.csv', index=False)\n",
    "dataTF.to_csv('TF-IDF_CUT.csv', index=False)\n",
    "dataTFTags.to_csv('TF-IDFTags_CUT.csv', index=False)"
   ]
  }
 ],
 "metadata": {
  "kernelspec": {
   "display_name": "Python 3 (ipykernel)",
   "language": "python",
   "name": "python3"
  },
  "language_info": {
   "codemirror_mode": {
    "name": "ipython",
    "version": 3
   },
   "file_extension": ".py",
   "mimetype": "text/x-python",
   "name": "python",
   "nbconvert_exporter": "python",
   "pygments_lexer": "ipython3",
   "version": "3.8.8"
  }
 },
 "nbformat": 4,
 "nbformat_minor": 5
}
