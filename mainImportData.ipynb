{
 "cells": [
  {
   "cell_type": "markdown",
   "id": "67ff49ff",
   "metadata": {},
   "source": [
    "# Import"
   ]
  },
  {
   "cell_type": "code",
   "execution_count": 1,
   "id": "840806cd",
   "metadata": {},
   "outputs": [],
   "source": [
    "import pandas as pd\n",
    "pd.set_option('display.max_columns', None)\n",
    "pd.set_option('display.max_rows', None)"
   ]
  },
  {
   "cell_type": "markdown",
   "id": "3383af63",
   "metadata": {},
   "source": [
    "**Import des données préfiltrées (score positif, réponses, favoris, vues) via la requête SQL suivante :**\n",
    "\n",
    "SELECT TOP 50000 Title, Body, Tags, Id, Score, ViewCount, FavoriteCount, AnswerCount\n",
    "\n",
    "FROM Posts \n",
    "\n",
    "WHERE PostTypeId = 1 AND ViewCount > 0 AND FavoriteCount > 0\n",
    "\n",
    "AND Score > 0 AND AnswerCount > 0 AND Id < 1000000\n",
    "\n",
    "**On effectue plusieurs requêtes en filtrant sur l'ID pour avoir environ 100.000 résultats.**"
   ]
  },
  {
   "cell_type": "code",
   "execution_count": 2,
   "id": "081ff2a4",
   "metadata": {},
   "outputs": [
    {
     "data": {
      "text/html": [
       "<div>\n",
       "<style scoped>\n",
       "    .dataframe tbody tr th:only-of-type {\n",
       "        vertical-align: middle;\n",
       "    }\n",
       "\n",
       "    .dataframe tbody tr th {\n",
       "        vertical-align: top;\n",
       "    }\n",
       "\n",
       "    .dataframe thead th {\n",
       "        text-align: right;\n",
       "    }\n",
       "</style>\n",
       "<table border=\"1\" class=\"dataframe\">\n",
       "  <thead>\n",
       "    <tr style=\"text-align: right;\">\n",
       "      <th></th>\n",
       "      <th>Title</th>\n",
       "      <th>Body</th>\n",
       "      <th>Tags</th>\n",
       "      <th>Id</th>\n",
       "      <th>Score</th>\n",
       "      <th>ViewCount</th>\n",
       "      <th>FavoriteCount</th>\n",
       "      <th>AnswerCount</th>\n",
       "    </tr>\n",
       "  </thead>\n",
       "  <tbody>\n",
       "    <tr>\n",
       "      <th>0</th>\n",
       "      <td>How to convert a Decimal to a Double in C#?</td>\n",
       "      <td>&lt;p&gt;I want to use a &lt;code&gt;Track-Bar&lt;/code&gt; to c...</td>\n",
       "      <td>&lt;c#&gt;&lt;floating-point&gt;&lt;type-conversion&gt;&lt;double&gt;&lt;...</td>\n",
       "      <td>4</td>\n",
       "      <td>759</td>\n",
       "      <td>63751</td>\n",
       "      <td>58</td>\n",
       "      <td>12</td>\n",
       "    </tr>\n",
       "    <tr>\n",
       "      <th>1</th>\n",
       "      <td>Why did the width collapse in the percentage w...</td>\n",
       "      <td>&lt;p&gt;I have an absolutely positioned &lt;code&gt;div&lt;/...</td>\n",
       "      <td>&lt;html&gt;&lt;css&gt;&lt;internet-explorer-7&gt;</td>\n",
       "      <td>6</td>\n",
       "      <td>313</td>\n",
       "      <td>22512</td>\n",
       "      <td>13</td>\n",
       "      <td>7</td>\n",
       "    </tr>\n",
       "    <tr>\n",
       "      <th>2</th>\n",
       "      <td>How do I calculate someone's age based on a Da...</td>\n",
       "      <td>&lt;p&gt;Given a &lt;code&gt;DateTime&lt;/code&gt; representing ...</td>\n",
       "      <td>&lt;c#&gt;&lt;.net&gt;&lt;datetime&gt;</td>\n",
       "      <td>9</td>\n",
       "      <td>2102</td>\n",
       "      <td>728867</td>\n",
       "      <td>485</td>\n",
       "      <td>70</td>\n",
       "    </tr>\n",
       "    <tr>\n",
       "      <th>3</th>\n",
       "      <td>Calculate relative time in C#</td>\n",
       "      <td>&lt;p&gt;Given a specific &lt;code&gt;DateTime&lt;/code&gt; valu...</td>\n",
       "      <td>&lt;c#&gt;&lt;datetime&gt;&lt;time&gt;&lt;datediff&gt;&lt;relative-time-s...</td>\n",
       "      <td>11</td>\n",
       "      <td>1611</td>\n",
       "      <td>188398</td>\n",
       "      <td>552</td>\n",
       "      <td>41</td>\n",
       "    </tr>\n",
       "    <tr>\n",
       "      <th>4</th>\n",
       "      <td>Determine a user's timezone</td>\n",
       "      <td>&lt;p&gt;Is there a standard way for a web server to...</td>\n",
       "      <td>&lt;html&gt;&lt;browser&gt;&lt;timezone&gt;&lt;user-agent&gt;&lt;timezone...</td>\n",
       "      <td>13</td>\n",
       "      <td>672</td>\n",
       "      <td>247258</td>\n",
       "      <td>157</td>\n",
       "      <td>27</td>\n",
       "    </tr>\n",
       "  </tbody>\n",
       "</table>\n",
       "</div>"
      ],
      "text/plain": [
       "                                               Title  \\\n",
       "0        How to convert a Decimal to a Double in C#?   \n",
       "1  Why did the width collapse in the percentage w...   \n",
       "2  How do I calculate someone's age based on a Da...   \n",
       "3                      Calculate relative time in C#   \n",
       "4                        Determine a user's timezone   \n",
       "\n",
       "                                                Body  \\\n",
       "0  <p>I want to use a <code>Track-Bar</code> to c...   \n",
       "1  <p>I have an absolutely positioned <code>div</...   \n",
       "2  <p>Given a <code>DateTime</code> representing ...   \n",
       "3  <p>Given a specific <code>DateTime</code> valu...   \n",
       "4  <p>Is there a standard way for a web server to...   \n",
       "\n",
       "                                                Tags  Id  Score  ViewCount  \\\n",
       "0  <c#><floating-point><type-conversion><double><...   4    759      63751   \n",
       "1                   <html><css><internet-explorer-7>   6    313      22512   \n",
       "2                               <c#><.net><datetime>   9   2102     728867   \n",
       "3  <c#><datetime><time><datediff><relative-time-s...  11   1611     188398   \n",
       "4  <html><browser><timezone><user-agent><timezone...  13    672     247258   \n",
       "\n",
       "   FavoriteCount  AnswerCount  \n",
       "0             58           12  \n",
       "1             13            7  \n",
       "2            485           70  \n",
       "3            552           41  \n",
       "4            157           27  "
      ]
     },
     "execution_count": 2,
     "metadata": {},
     "output_type": "execute_result"
    }
   ],
   "source": [
    "# Import des deux requêtes\n",
    "data1 = pd.read_csv('FILTERED_QueryResults.csv')\n",
    "# data2 = pd.read_csv('FILTERED_QueryResults-2.csv')\n",
    "# data3 = pd.read_csv('FILTERED_QueryResults-3.csv')\n",
    "\n",
    "# Concaténation\n",
    "data = pd.concat([data1])\n",
    "\n",
    "# Import des données tronquées pour les tests\n",
    "# data = pd.read_csv('QueryResults_NEW_LIGHT.csv')\n",
    "\n",
    "data.head(5)"
   ]
  },
  {
   "cell_type": "markdown",
   "id": "96bea21f",
   "metadata": {},
   "source": [
    "On supprime un certain nombre de lignes pour réduire la place dans la RAM :"
   ]
  },
  {
   "cell_type": "code",
   "execution_count": 3,
   "id": "53523f5f",
   "metadata": {},
   "outputs": [],
   "source": [
    "N_LIGNES = 20000\n",
    "data = data.iloc[:N_LIGNES, :]"
   ]
  },
  {
   "cell_type": "markdown",
   "id": "9c25c002",
   "metadata": {},
   "source": [
    "# Nettoyage des données\n",
    "\n",
    "### Filtrage\n",
    "\n",
    "On choisis de supprimer certaines des lignes comme suit :\n",
    "\n",
    "- Suppression des doublons,\n",
    "- Score positif,\n",
    "- Ayant des réponses.\n",
    "\n",
    "On supprime les colonnes qui ne sont pas pertinentes.\n",
    "\n",
    "Fonction de nettoyage du texte HTML :"
   ]
  },
  {
   "cell_type": "code",
   "execution_count": 4,
   "id": "7b3433bb",
   "metadata": {},
   "outputs": [
    {
     "name": "stdout",
     "output_type": "stream",
     "text": [
      "Avant : 20000\n",
      "Après : 20000\n"
     ]
    },
    {
     "data": {
      "text/html": [
       "<div>\n",
       "<style scoped>\n",
       "    .dataframe tbody tr th:only-of-type {\n",
       "        vertical-align: middle;\n",
       "    }\n",
       "\n",
       "    .dataframe tbody tr th {\n",
       "        vertical-align: top;\n",
       "    }\n",
       "\n",
       "    .dataframe thead th {\n",
       "        text-align: right;\n",
       "    }\n",
       "</style>\n",
       "<table border=\"1\" class=\"dataframe\">\n",
       "  <thead>\n",
       "    <tr style=\"text-align: right;\">\n",
       "      <th></th>\n",
       "      <th>Title</th>\n",
       "      <th>Body</th>\n",
       "      <th>Tags</th>\n",
       "    </tr>\n",
       "  </thead>\n",
       "  <tbody>\n",
       "    <tr>\n",
       "      <th>0</th>\n",
       "      <td>How to convert a Decimal to a Double in C#?</td>\n",
       "      <td>&lt;p&gt;I want to use a &lt;code&gt;Track-Bar&lt;/code&gt; to c...</td>\n",
       "      <td>&lt;c#&gt;&lt;floating-point&gt;&lt;type-conversion&gt;&lt;double&gt;&lt;...</td>\n",
       "    </tr>\n",
       "    <tr>\n",
       "      <th>1</th>\n",
       "      <td>Why did the width collapse in the percentage w...</td>\n",
       "      <td>&lt;p&gt;I have an absolutely positioned &lt;code&gt;div&lt;/...</td>\n",
       "      <td>&lt;html&gt;&lt;css&gt;&lt;internet-explorer-7&gt;</td>\n",
       "    </tr>\n",
       "    <tr>\n",
       "      <th>2</th>\n",
       "      <td>How do I calculate someone's age based on a Da...</td>\n",
       "      <td>&lt;p&gt;Given a &lt;code&gt;DateTime&lt;/code&gt; representing ...</td>\n",
       "      <td>&lt;c#&gt;&lt;.net&gt;&lt;datetime&gt;</td>\n",
       "    </tr>\n",
       "    <tr>\n",
       "      <th>3</th>\n",
       "      <td>Calculate relative time in C#</td>\n",
       "      <td>&lt;p&gt;Given a specific &lt;code&gt;DateTime&lt;/code&gt; valu...</td>\n",
       "      <td>&lt;c#&gt;&lt;datetime&gt;&lt;time&gt;&lt;datediff&gt;&lt;relative-time-s...</td>\n",
       "    </tr>\n",
       "    <tr>\n",
       "      <th>4</th>\n",
       "      <td>Determine a user's timezone</td>\n",
       "      <td>&lt;p&gt;Is there a standard way for a web server to...</td>\n",
       "      <td>&lt;html&gt;&lt;browser&gt;&lt;timezone&gt;&lt;user-agent&gt;&lt;timezone...</td>\n",
       "    </tr>\n",
       "  </tbody>\n",
       "</table>\n",
       "</div>"
      ],
      "text/plain": [
       "                                               Title  \\\n",
       "0        How to convert a Decimal to a Double in C#?   \n",
       "1  Why did the width collapse in the percentage w...   \n",
       "2  How do I calculate someone's age based on a Da...   \n",
       "3                      Calculate relative time in C#   \n",
       "4                        Determine a user's timezone   \n",
       "\n",
       "                                                Body  \\\n",
       "0  <p>I want to use a <code>Track-Bar</code> to c...   \n",
       "1  <p>I have an absolutely positioned <code>div</...   \n",
       "2  <p>Given a <code>DateTime</code> representing ...   \n",
       "3  <p>Given a specific <code>DateTime</code> valu...   \n",
       "4  <p>Is there a standard way for a web server to...   \n",
       "\n",
       "                                                Tags  \n",
       "0  <c#><floating-point><type-conversion><double><...  \n",
       "1                   <html><css><internet-explorer-7>  \n",
       "2                               <c#><.net><datetime>  \n",
       "3  <c#><datetime><time><datediff><relative-time-s...  \n",
       "4  <html><browser><timezone><user-agent><timezone...  "
      ]
     },
     "execution_count": 4,
     "metadata": {},
     "output_type": "execute_result"
    }
   ],
   "source": [
    "import numpy as np\n",
    "\n",
    "print(f'Avant : {data.shape[0]}')\n",
    "\n",
    "# Doublons\n",
    "data.drop_duplicates(inplace=True)\n",
    "\n",
    "# Score positif\n",
    "data.drop(data[data.Score < 0].index, inplace=True)\n",
    "\n",
    "# Ayant des réponses\n",
    "data.dropna(subset = ['AnswerCount'], inplace=True)\n",
    "print(f'Après : {data.shape[0]}')\n",
    "\n",
    "# Réindexaction\n",
    "data.reset_index(inplace=True)\n",
    "\n",
    "# Suppression de certaines colonnes pour alléger le dataframe\n",
    "data.drop(['index', 'Id', 'Score', 'ViewCount', 'AnswerCount', 'FavoriteCount'], axis=1, inplace=True)\n",
    "\n",
    "# Affichage\n",
    "data.head(5)"
   ]
  },
  {
   "cell_type": "markdown",
   "id": "43675c7d",
   "metadata": {},
   "source": [
    "La filtrage n'a plus d'impact sur les données d'entrée car elles ont déjà été filtrées par SQL."
   ]
  },
  {
   "cell_type": "markdown",
   "id": "621e5a0d",
   "metadata": {},
   "source": [
    "### Valeurs manquantes"
   ]
  },
  {
   "cell_type": "code",
   "execution_count": 5,
   "id": "c061db0c",
   "metadata": {},
   "outputs": [
    {
     "name": "stdout",
     "output_type": "stream",
     "text": [
      "Pourcentage de NaN Body = 0.0%\n",
      " \r",
      "Pourcentage de NaN Title = 0.0%\n",
      " \r",
      "Pourcentage de NaN Tag = 0.0%\n",
      "\n"
     ]
    }
   ],
   "source": [
    "# Calcul des valeurs manquantes sur chaque colonne\n",
    "isna_body = data['Body'].isna().sum()\n",
    "isna_title = data['Title'].isna().sum()\n",
    "isna_tag = data['Tags'].isna().sum()\n",
    "\n",
    "# Ratios en %\n",
    "isna_body = round(isna_body*100/data.shape[0], 2)\n",
    "isna_title = round(isna_title*100/data.shape[0], 2)\n",
    "isna_tag = round(isna_tag*100/data.shape[0], 2)\n",
    "\n",
    "# Affichage\n",
    "print(f'Pourcentage de NaN Body = {isna_body}%\\n',\n",
    "      f'\\rPourcentage de NaN Title = {isna_title}%\\n',\n",
    "      f'\\rPourcentage de NaN Tag = {isna_tag}%\\n')"
   ]
  },
  {
   "cell_type": "markdown",
   "id": "6006d621",
   "metadata": {},
   "source": [
    "### Traitement des tags\n",
    "\n",
    "On cherche ici à parser les tags entre chevrons et à les transformer en simples listes de mots."
   ]
  },
  {
   "cell_type": "code",
   "execution_count": 6,
   "id": "b566e3df",
   "metadata": {},
   "outputs": [],
   "source": [
    "def parsingTags(tags):\n",
    "    \n",
    "    # En enlève le premier et le dernier chevron\n",
    "    tags = tags[1:-1]\n",
    "    \n",
    "    # On sépare le string par \"><\"\n",
    "    tags = tags.split('><')\n",
    "    \n",
    "    # Retour\n",
    "    return tags"
   ]
  },
  {
   "cell_type": "markdown",
   "id": "5fe4a41c",
   "metadata": {},
   "source": [
    "Application de la fonction et aperçu :"
   ]
  },
  {
   "cell_type": "code",
   "execution_count": 7,
   "id": "bc0b8207",
   "metadata": {},
   "outputs": [
    {
     "data": {
      "text/html": [
       "<div>\n",
       "<style scoped>\n",
       "    .dataframe tbody tr th:only-of-type {\n",
       "        vertical-align: middle;\n",
       "    }\n",
       "\n",
       "    .dataframe tbody tr th {\n",
       "        vertical-align: top;\n",
       "    }\n",
       "\n",
       "    .dataframe thead th {\n",
       "        text-align: right;\n",
       "    }\n",
       "</style>\n",
       "<table border=\"1\" class=\"dataframe\">\n",
       "  <thead>\n",
       "    <tr style=\"text-align: right;\">\n",
       "      <th></th>\n",
       "      <th>Title</th>\n",
       "      <th>Body</th>\n",
       "      <th>Tags</th>\n",
       "    </tr>\n",
       "  </thead>\n",
       "  <tbody>\n",
       "    <tr>\n",
       "      <th>0</th>\n",
       "      <td>How to convert a Decimal to a Double in C#?</td>\n",
       "      <td>&lt;p&gt;I want to use a &lt;code&gt;Track-Bar&lt;/code&gt; to c...</td>\n",
       "      <td>[c#, floating-point, type-conversion, double, ...</td>\n",
       "    </tr>\n",
       "    <tr>\n",
       "      <th>1</th>\n",
       "      <td>Why did the width collapse in the percentage w...</td>\n",
       "      <td>&lt;p&gt;I have an absolutely positioned &lt;code&gt;div&lt;/...</td>\n",
       "      <td>[html, css, internet-explorer-7]</td>\n",
       "    </tr>\n",
       "    <tr>\n",
       "      <th>2</th>\n",
       "      <td>How do I calculate someone's age based on a Da...</td>\n",
       "      <td>&lt;p&gt;Given a &lt;code&gt;DateTime&lt;/code&gt; representing ...</td>\n",
       "      <td>[c#, .net, datetime]</td>\n",
       "    </tr>\n",
       "    <tr>\n",
       "      <th>3</th>\n",
       "      <td>Calculate relative time in C#</td>\n",
       "      <td>&lt;p&gt;Given a specific &lt;code&gt;DateTime&lt;/code&gt; valu...</td>\n",
       "      <td>[c#, datetime, time, datediff, relative-time-s...</td>\n",
       "    </tr>\n",
       "    <tr>\n",
       "      <th>4</th>\n",
       "      <td>Determine a user's timezone</td>\n",
       "      <td>&lt;p&gt;Is there a standard way for a web server to...</td>\n",
       "      <td>[html, browser, timezone, user-agent, timezone...</td>\n",
       "    </tr>\n",
       "  </tbody>\n",
       "</table>\n",
       "</div>"
      ],
      "text/plain": [
       "                                               Title  \\\n",
       "0        How to convert a Decimal to a Double in C#?   \n",
       "1  Why did the width collapse in the percentage w...   \n",
       "2  How do I calculate someone's age based on a Da...   \n",
       "3                      Calculate relative time in C#   \n",
       "4                        Determine a user's timezone   \n",
       "\n",
       "                                                Body  \\\n",
       "0  <p>I want to use a <code>Track-Bar</code> to c...   \n",
       "1  <p>I have an absolutely positioned <code>div</...   \n",
       "2  <p>Given a <code>DateTime</code> representing ...   \n",
       "3  <p>Given a specific <code>DateTime</code> valu...   \n",
       "4  <p>Is there a standard way for a web server to...   \n",
       "\n",
       "                                                Tags  \n",
       "0  [c#, floating-point, type-conversion, double, ...  \n",
       "1                   [html, css, internet-explorer-7]  \n",
       "2                               [c#, .net, datetime]  \n",
       "3  [c#, datetime, time, datediff, relative-time-s...  \n",
       "4  [html, browser, timezone, user-agent, timezone...  "
      ]
     },
     "execution_count": 7,
     "metadata": {},
     "output_type": "execute_result"
    }
   ],
   "source": [
    "data['Tags'] = data['Tags'].apply(parsingTags)\n",
    "data.head(5)"
   ]
  },
  {
   "cell_type": "markdown",
   "id": "3e740b24",
   "metadata": {},
   "source": [
    "Maintenant que nous avons les tags sous forme de liste pour chaque ligne, nous décidons de ne conserver que les tags les plus fréquents en effectuant les opérations suivantes :\n",
    "\n",
    "- Création d'une liste totale de tous les tags du dataframe par concaténation des listes de toutes les lignes,\n",
    "- Comptage des occurences des tags sur tout le dataframe,\n",
    "- Suppression des tags qui apparaissent moins de SEUIL fois,\n",
    "- Affichage de la répartition des tags retenus,\n",
    "- Création d'une liste unique des tags les plus fréquents.\n",
    "\n",
    "Seuil du nombre d'apparitions d'un tag pour qu'il soit retenu :"
   ]
  },
  {
   "cell_type": "code",
   "execution_count": 8,
   "id": "2d2520d6",
   "metadata": {},
   "outputs": [],
   "source": [
    "SEUIL_TAGS = 900"
   ]
  },
  {
   "cell_type": "markdown",
   "id": "db74a3bf",
   "metadata": {},
   "source": [
    "Application du tri :"
   ]
  },
  {
   "cell_type": "code",
   "execution_count": 9,
   "id": "4aa6fe70",
   "metadata": {},
   "outputs": [
    {
     "name": "stdout",
     "output_type": "stream",
     "text": [
      "5898 tags en entrée\n"
     ]
    },
    {
     "data": {
      "image/png": "[encoded data removed]",
      "text/plain": [
       "<Figure size 1152x288 with 1 Axes>"
      ]
     },
     "metadata": {
      "needs_background": "light"
     },
     "output_type": "display_data"
    },
    {
     "name": "stdout",
     "output_type": "stream",
     "text": [
      "6 tags en sortie\n"
     ]
    },
    {
     "data": {
      "text/html": [
       "<div>\n",
       "<style scoped>\n",
       "    .dataframe tbody tr th:only-of-type {\n",
       "        vertical-align: middle;\n",
       "    }\n",
       "\n",
       "    .dataframe tbody tr th {\n",
       "        vertical-align: top;\n",
       "    }\n",
       "\n",
       "    .dataframe thead th {\n",
       "        text-align: right;\n",
       "    }\n",
       "</style>\n",
       "<table border=\"1\" class=\"dataframe\">\n",
       "  <thead>\n",
       "    <tr style=\"text-align: right;\">\n",
       "      <th></th>\n",
       "      <th>Title</th>\n",
       "      <th>Body</th>\n",
       "      <th>Tags</th>\n",
       "    </tr>\n",
       "  </thead>\n",
       "  <tbody>\n",
       "    <tr>\n",
       "      <th>0</th>\n",
       "      <td>How to convert a Decimal to a Double in C#?</td>\n",
       "      <td>&lt;p&gt;I want to use a &lt;code&gt;Track-Bar&lt;/code&gt; to c...</td>\n",
       "      <td>[c#, floating-point, type-conversion, double, ...</td>\n",
       "    </tr>\n",
       "    <tr>\n",
       "      <th>1</th>\n",
       "      <td>Why did the width collapse in the percentage w...</td>\n",
       "      <td>&lt;p&gt;I have an absolutely positioned &lt;code&gt;div&lt;/...</td>\n",
       "      <td>[html, css, internet-explorer-7]</td>\n",
       "    </tr>\n",
       "    <tr>\n",
       "      <th>2</th>\n",
       "      <td>How do I calculate someone's age based on a Da...</td>\n",
       "      <td>&lt;p&gt;Given a &lt;code&gt;DateTime&lt;/code&gt; representing ...</td>\n",
       "      <td>[c#, .net, datetime]</td>\n",
       "    </tr>\n",
       "    <tr>\n",
       "      <th>3</th>\n",
       "      <td>Calculate relative time in C#</td>\n",
       "      <td>&lt;p&gt;Given a specific &lt;code&gt;DateTime&lt;/code&gt; valu...</td>\n",
       "      <td>[c#, datetime, time, datediff, relative-time-s...</td>\n",
       "    </tr>\n",
       "    <tr>\n",
       "      <th>4</th>\n",
       "      <td>Determine a user's timezone</td>\n",
       "      <td>&lt;p&gt;Is there a standard way for a web server to...</td>\n",
       "      <td>[html, browser, timezone, user-agent, timezone...</td>\n",
       "    </tr>\n",
       "  </tbody>\n",
       "</table>\n",
       "</div>"
      ],
      "text/plain": [
       "                                               Title  \\\n",
       "0        How to convert a Decimal to a Double in C#?   \n",
       "1  Why did the width collapse in the percentage w...   \n",
       "2  How do I calculate someone's age based on a Da...   \n",
       "3                      Calculate relative time in C#   \n",
       "4                        Determine a user's timezone   \n",
       "\n",
       "                                                Body  \\\n",
       "0  <p>I want to use a <code>Track-Bar</code> to c...   \n",
       "1  <p>I have an absolutely positioned <code>div</...   \n",
       "2  <p>Given a <code>DateTime</code> representing ...   \n",
       "3  <p>Given a specific <code>DateTime</code> valu...   \n",
       "4  <p>Is there a standard way for a web server to...   \n",
       "\n",
       "                                                Tags  \n",
       "0  [c#, floating-point, type-conversion, double, ...  \n",
       "1                   [html, css, internet-explorer-7]  \n",
       "2                               [c#, .net, datetime]  \n",
       "3  [c#, datetime, time, datediff, relative-time-s...  \n",
       "4  [html, browser, timezone, user-agent, timezone...  "
      ]
     },
     "execution_count": 9,
     "metadata": {},
     "output_type": "execute_result"
    }
   ],
   "source": [
    "import matplotlib.pyplot as plt\n",
    "\n",
    "# Concaténation de tous les tags du dataframe\n",
    "totalTags = []\n",
    "for index, x in data.iterrows():\n",
    "    totalTags = totalTags + x['Tags']\n",
    "\n",
    "# Nombre total de tags en entrée\n",
    "print(f'{len(set(totalTags))} tags en entrée')\n",
    "\n",
    "# Conversion en dataframe pour l'affichage du bargraph\n",
    "totalTags = pd.DataFrame(totalTags, columns=['Tags'])\n",
    "\n",
    "# On supprime les tags qui apparraissent peu\n",
    "counts = totalTags['Tags'].value_counts()\n",
    "totalTags = totalTags[~totalTags['Tags'].isin(counts[counts < SEUIL_TAGS].index)]\n",
    "\n",
    "# Affichage\n",
    "fig, axes = plt.subplots(figsize=(16, 4))\n",
    "fig.suptitle('Répartition des tags')\n",
    "totalTags['Tags'].value_counts(normalize=False).plot(kind='bar', width=0.1)\n",
    "plt.show()\n",
    "\n",
    "# Concaténation des tags retenus\n",
    "tagsRetenus = []\n",
    "for index, x in totalTags.iterrows():\n",
    "    tagsRetenus.append(x['Tags'])\n",
    "\n",
    "# Création d'une liste unique de tags retenus\n",
    "tagsRetenus = list(set(tagsRetenus))\n",
    "\n",
    "# Nombre total de tags en sortie\n",
    "print(f'{len(tagsRetenus)} tags en sortie')\n",
    "\n",
    "data.head(5)"
   ]
  },
  {
   "cell_type": "markdown",
   "id": "70e0bcea",
   "metadata": {},
   "source": [
    "Ensuite, une fonction de suppression des ces tags sur toutes les lignes est créée et appliquée :"
   ]
  },
  {
   "cell_type": "code",
   "execution_count": 10,
   "id": "f8da7afe",
   "metadata": {},
   "outputs": [
    {
     "data": {
      "text/html": [
       "<div>\n",
       "<style scoped>\n",
       "    .dataframe tbody tr th:only-of-type {\n",
       "        vertical-align: middle;\n",
       "    }\n",
       "\n",
       "    .dataframe tbody tr th {\n",
       "        vertical-align: top;\n",
       "    }\n",
       "\n",
       "    .dataframe thead th {\n",
       "        text-align: right;\n",
       "    }\n",
       "</style>\n",
       "<table border=\"1\" class=\"dataframe\">\n",
       "  <thead>\n",
       "    <tr style=\"text-align: right;\">\n",
       "      <th></th>\n",
       "      <th>Title</th>\n",
       "      <th>Body</th>\n",
       "      <th>Tags</th>\n",
       "    </tr>\n",
       "  </thead>\n",
       "  <tbody>\n",
       "    <tr>\n",
       "      <th>0</th>\n",
       "      <td>How to convert a Decimal to a Double in C#?</td>\n",
       "      <td>&lt;p&gt;I want to use a &lt;code&gt;Track-Bar&lt;/code&gt; to c...</td>\n",
       "      <td>[c#]</td>\n",
       "    </tr>\n",
       "    <tr>\n",
       "      <th>1</th>\n",
       "      <td>Why did the width collapse in the percentage w...</td>\n",
       "      <td>&lt;p&gt;I have an absolutely positioned &lt;code&gt;div&lt;/...</td>\n",
       "      <td>[]</td>\n",
       "    </tr>\n",
       "    <tr>\n",
       "      <th>2</th>\n",
       "      <td>How do I calculate someone's age based on a Da...</td>\n",
       "      <td>&lt;p&gt;Given a &lt;code&gt;DateTime&lt;/code&gt; representing ...</td>\n",
       "      <td>[.net, c#]</td>\n",
       "    </tr>\n",
       "    <tr>\n",
       "      <th>3</th>\n",
       "      <td>Calculate relative time in C#</td>\n",
       "      <td>&lt;p&gt;Given a specific &lt;code&gt;DateTime&lt;/code&gt; valu...</td>\n",
       "      <td>[c#]</td>\n",
       "    </tr>\n",
       "    <tr>\n",
       "      <th>4</th>\n",
       "      <td>Determine a user's timezone</td>\n",
       "      <td>&lt;p&gt;Is there a standard way for a web server to...</td>\n",
       "      <td>[]</td>\n",
       "    </tr>\n",
       "  </tbody>\n",
       "</table>\n",
       "</div>"
      ],
      "text/plain": [
       "                                               Title  \\\n",
       "0        How to convert a Decimal to a Double in C#?   \n",
       "1  Why did the width collapse in the percentage w...   \n",
       "2  How do I calculate someone's age based on a Da...   \n",
       "3                      Calculate relative time in C#   \n",
       "4                        Determine a user's timezone   \n",
       "\n",
       "                                                Body        Tags  \n",
       "0  <p>I want to use a <code>Track-Bar</code> to c...        [c#]  \n",
       "1  <p>I have an absolutely positioned <code>div</...          []  \n",
       "2  <p>Given a <code>DateTime</code> representing ...  [.net, c#]  \n",
       "3  <p>Given a specific <code>DateTime</code> valu...        [c#]  \n",
       "4  <p>Is there a standard way for a web server to...          []  "
      ]
     },
     "execution_count": 10,
     "metadata": {},
     "output_type": "execute_result"
    }
   ],
   "source": [
    "def suppressionTags(tags):\n",
    "    return list(set(tags).intersection(set(tagsRetenus)))\n",
    "\n",
    "data['Tags'] = data['Tags'].apply(suppressionTags)\n",
    "data.head(5)"
   ]
  },
  {
   "cell_type": "markdown",
   "id": "eaf3394e",
   "metadata": {},
   "source": [
    "Enfin, on supprime les lignes qui ne contiennent plus de tags :"
   ]
  },
  {
   "cell_type": "code",
   "execution_count": 11,
   "id": "93d79c21",
   "metadata": {},
   "outputs": [
    {
     "name": "stdout",
     "output_type": "stream",
     "text": [
      "11320 individus supprimés (20000 → 8680)\n"
     ]
    },
    {
     "data": {
      "text/html": [
       "<div>\n",
       "<style scoped>\n",
       "    .dataframe tbody tr th:only-of-type {\n",
       "        vertical-align: middle;\n",
       "    }\n",
       "\n",
       "    .dataframe tbody tr th {\n",
       "        vertical-align: top;\n",
       "    }\n",
       "\n",
       "    .dataframe thead th {\n",
       "        text-align: right;\n",
       "    }\n",
       "</style>\n",
       "<table border=\"1\" class=\"dataframe\">\n",
       "  <thead>\n",
       "    <tr style=\"text-align: right;\">\n",
       "      <th></th>\n",
       "      <th>Title</th>\n",
       "      <th>Body</th>\n",
       "      <th>Tags</th>\n",
       "    </tr>\n",
       "  </thead>\n",
       "  <tbody>\n",
       "    <tr>\n",
       "      <th>0</th>\n",
       "      <td>How to convert a Decimal to a Double in C#?</td>\n",
       "      <td>&lt;p&gt;I want to use a &lt;code&gt;Track-Bar&lt;/code&gt; to c...</td>\n",
       "      <td>[c#]</td>\n",
       "    </tr>\n",
       "    <tr>\n",
       "      <th>1</th>\n",
       "      <td>How do I calculate someone's age based on a Da...</td>\n",
       "      <td>&lt;p&gt;Given a &lt;code&gt;DateTime&lt;/code&gt; representing ...</td>\n",
       "      <td>[.net, c#]</td>\n",
       "    </tr>\n",
       "    <tr>\n",
       "      <th>2</th>\n",
       "      <td>Calculate relative time in C#</td>\n",
       "      <td>&lt;p&gt;Given a specific &lt;code&gt;DateTime&lt;/code&gt; valu...</td>\n",
       "      <td>[c#]</td>\n",
       "    </tr>\n",
       "    <tr>\n",
       "      <th>3</th>\n",
       "      <td>Difference between Math.Floor() and Math.Trunc...</td>\n",
       "      <td>&lt;p&gt;What is the difference between &lt;a href=\"htt...</td>\n",
       "      <td>[.net]</td>\n",
       "    </tr>\n",
       "    <tr>\n",
       "      <th>4</th>\n",
       "      <td>Filling a DataSet or a DataTable from a LINQ q...</td>\n",
       "      <td>&lt;p&gt;How do you expose a LINQ query as an ASMX w...</td>\n",
       "      <td>[c#]</td>\n",
       "    </tr>\n",
       "  </tbody>\n",
       "</table>\n",
       "</div>"
      ],
      "text/plain": [
       "                                               Title  \\\n",
       "0        How to convert a Decimal to a Double in C#?   \n",
       "1  How do I calculate someone's age based on a Da...   \n",
       "2                      Calculate relative time in C#   \n",
       "3  Difference between Math.Floor() and Math.Trunc...   \n",
       "4  Filling a DataSet or a DataTable from a LINQ q...   \n",
       "\n",
       "                                                Body        Tags  \n",
       "0  <p>I want to use a <code>Track-Bar</code> to c...        [c#]  \n",
       "1  <p>Given a <code>DateTime</code> representing ...  [.net, c#]  \n",
       "2  <p>Given a specific <code>DateTime</code> valu...        [c#]  \n",
       "3  <p>What is the difference between <a href=\"htt...      [.net]  \n",
       "4  <p>How do you expose a LINQ query as an ASMX w...        [c#]  "
      ]
     },
     "execution_count": 11,
     "metadata": {},
     "output_type": "execute_result"
    }
   ],
   "source": [
    "indexSuppr = []\n",
    "for i, x in data.iterrows():\n",
    "    if data.iloc[i, 2] == []:\n",
    "        indexSuppr.append(i)\n",
    "\n",
    "s1 = data.shape[0]\n",
    "\n",
    "data = data.drop(index=indexSuppr)  \n",
    "data.reset_index(inplace=True)\n",
    "\n",
    "s2 = data.shape[0]\n",
    "print(f'{s1-s2} individus supprimés ({s1} → {s2})')\n",
    "data.drop(['index'], axis=1, inplace=True)\n",
    "data.head(5)"
   ]
  },
  {
   "cell_type": "markdown",
   "id": "4f1dc0e0",
   "metadata": {},
   "source": [
    "### Traitement du texte\n",
    "\n",
    "Import d'un dictionnaire de mots relatifs à la programmation informatique. Ce sont des mots importants, par exemple ceux relatifs à des langages de programmation, qui nous aideront pour cibler nos tags :"
   ]
  },
  {
   "cell_type": "code",
   "execution_count": 12,
   "id": "fef24190",
   "metadata": {},
   "outputs": [],
   "source": [
    "import numpy as np\n",
    "filename = 'dicoProgramming.txt'\n",
    "\n",
    "# Récupération des mots du fichier texte\n",
    "texte = []\n",
    "with open(filename, 'r') as f:\n",
    "    for line in f.readlines():\n",
    "        texte.append(line.replace(\"\\n\", \"\"))\n",
    "\n",
    "# Mise en minuscule\n",
    "dictionnaireInfo = []\n",
    "for i in range(len(texte)):\n",
    "    dictionnaireInfo.append(texte[i].lower())\n",
    "\n",
    "# Second dictionnaire avec mots supplémentaires\n",
    "dictionnaireInfo2 = ['sqlite', 'sql', 'batch', 'shell', 'mysql',\n",
    "    'scsi', 'xor', 'android', 'ios', 'ascii', 'asp', 'api', 'ipa', 'apk',\n",
    "    'applet', 'assembler', 'bat', 'bcpl', 'cpl', 'css', 'csat', 'cvs',\n",
    "    'datalog', 'html', 'php', 'dhtml', 'glitch', 'github', 'java',\n",
    "    'javac', 'javascript', 'javafx', 'visualstudio', 'json', 'jupyter',\n",
    "    'lua', 'matlab', 'microsoft', 'js', 'framework', 'scratch', 'snippet',\n",
    "    'turing', 'xml', 'wml', 'xsl', 'tuple', 'vb', 'vba']"
   ]
  },
  {
   "cell_type": "markdown",
   "id": "40023563",
   "metadata": {},
   "source": [
    "On va maintenant nettoyer le texte des champs Body et Title en effectuant les actions suivantes :\n",
    "\n",
    "- Suppression des balises HTML avec BeautifulSoup,\n",
    "- Mise en minuscule,\n",
    "- Suppression des liens hypertexte,\n",
    "- Suppression des mots qui ne sont pas dans le dictionnaire ou qui ne sont pas reliés à l'informatique,\n",
    "- Suppression des contractions,\n",
    "- Retrait des nombres et de la ponctuation,\n",
    "- Retrait des caractères isolés qui en résultent ('s, 't, etc) sauf la lettre C qui est un langage de programmation,\n",
    "- Retrait des stopwords,\n",
    "- Stemming et Lemming des mots (on ne garde que la lemme). \"trying\" devient \"try\" par exemple.\n",
    "- Retrait des espaces en trop qui résulteraient des précédentes opérations.\n",
    "- Suppression des adjectifs et adverbes."
   ]
  },
  {
   "cell_type": "code",
   "execution_count": 13,
   "id": "982ba082",
   "metadata": {},
   "outputs": [],
   "source": [
    "from bs4 import BeautifulSoup\n",
    "import re\n",
    "import html as ihtml\n",
    "import nltk\n",
    "import contractions\n",
    "\n",
    "\"\"\"nltk.download('wordnet')\n",
    "nltk.download('punkt')\n",
    "nltk.download('averaged_perceptron_tagger')\n",
    "nltk.download('words')\n",
    "nltk.download('omw-1.4')\"\"\"\n",
    "\n",
    "# Mots du dictionnaire anglais\n",
    "from nltk.corpus import words\n",
    "dictionnaire = words.words()\n",
    "\n",
    "# Ajout de quelques mots relatifs à l'informatique et à nots tags\n",
    "dictionnaire = dictionnaire + dictionnaireInfo\n",
    "dictionnaire = list(set(dictionnaire))\n",
    "dictionnaire.sort()\n",
    "\n",
    "import gensim\n",
    "from gensim.parsing.preprocessing import STOPWORDS as stopwords\n",
    "from nltk.tokenize import ToktokTokenizer\n",
    "from nltk.tokenize import RegexpTokenizer\n",
    "from autocorrect import Speller\n",
    "from nltk.stem.wordnet import WordNetLemmatizer\n",
    "from nltk.stem.snowball import SnowballStemmer\n",
    "from nltk.stem import PorterStemmer\n",
    "\n",
    "# Transformation des stopwords en liste\n",
    "stopwords = list(stopwords)\n",
    "\n",
    "# Regex qui ne conserve que les lettres\n",
    "tokenizerLettres = RegexpTokenizer(r'[a-z]+')\n",
    "\n",
    "# Alphabet sans la lettre c (langage de programmation)\n",
    "alphabetSansC = ['a', 'b', 'd', 'e', 'f', 'g', 'h', 'i', 'j', 'k',\n",
    "                 'l', 'm', 'n', 'o', 'p', 'q', 'r', 's', 't', 'u',\n",
    "                 'v', 'w', 'x', 'y', 'z']\n",
    "\n",
    "# Initialisation du lemmatizer\n",
    "lemmatizer = WordNetLemmatizer()\n",
    "\n",
    "# Initialisation du stemmer\n",
    "# stemmer = PorterStemmer()\n",
    "stemmer = SnowballStemmer(language='english')\n",
    "\n",
    "# Initialisation du correcteur\n",
    "spell = Speller(lang='en')\n",
    "\n",
    "\n",
    "# Retrait des stopwords\n",
    "def removeWords(text, words):\n",
    "    \n",
    "    # Tokenisation du texte\n",
    "    text = nltk.word_tokenize(text)\n",
    "    # Retrait des stopwords en passant par des sets\n",
    "    text = list(set(text) - set(words))\n",
    "    # Regroupement du textes\n",
    "    text = \" \".join(text)\n",
    "    return text\n",
    "\n",
    "\n",
    "# Conservation uniquement des mots du dictionnaire\n",
    "def motsCorrects(text):\n",
    "    \n",
    "    # Tokenisation du texte\n",
    "    text = nltk.word_tokenize(text)\n",
    "    # On garde uniquement les mots du dictionnaire\n",
    "    # text = list(set(text) & set(dictionnaire))\n",
    "    text = [value for value in text if value in dictionnaire]\n",
    "    # Regroupement du textes\n",
    "    text = \" \".join(text)\n",
    "    return text\n",
    "\n",
    "\n",
    "# Lemmatizaion des mots en fonction de leur type (nom, verbe, etc)\n",
    "def lemmatize_text(text):\n",
    "    \n",
    "    # Découpage des mots en liste associé au tag du type de mot\n",
    "    tokens_tagged = nltk.pos_tag(nltk.word_tokenize(text))\n",
    "    \n",
    "    # Vecteur du texte lemmatisé\n",
    "    lemmatized_text = []\n",
    "    \n",
    "    # Boucle sur les mots et leurs tags\n",
    "    for word, tag in tokens_tagged:\n",
    "        # Adjectifs\n",
    "        if tag.startswith('J'):\n",
    "            # lemmatized_text.append(lemmatizer.lemmatize(word, 'a'))\n",
    "            lemmatized_text.append('')\n",
    "        # Adverbes\n",
    "        elif tag.startswith('R'):\n",
    "            # lemmatized_text.append(lemmatizer.lemmatize(word, 'r'))\n",
    "            lemmatized_text.append('')\n",
    "        # Verbes\n",
    "        elif tag.startswith('V'):\n",
    "            lemmatized_text.append(lemmatizer.lemmatize(word, 'v'))\n",
    "        # Noms\n",
    "        elif tag.startswith('N'):\n",
    "            lemmatized_text.append(lemmatizer.lemmatize(word, 'n'))\n",
    "        # Lematization simple pour le reste\n",
    "        else:\n",
    "            lemmatized_text.append(lemmatizer.lemmatize(word))\n",
    "    \n",
    "    # Recollement du texte\n",
    "    return \" \".join(lemmatized_text)\n",
    "\n",
    "\n",
    "# Stemming du texte\n",
    "def stemming_text(text):\n",
    "\n",
    "    text = nltk.word_tokenize(text)\n",
    "    stem_text = []\n",
    "    for word in text:\n",
    "        stem_text.append(stemmer.stem(word))\n",
    "    return \" \".join(stem_text)\n",
    "\n",
    "\n",
    "# Retrait des contractions et du slang\n",
    "def suppressionContractions(text):\n",
    "\n",
    "    # Tokenisation du texte\n",
    "    text = contractions.fix(text)\n",
    "    return text\n",
    "\n",
    "\n",
    "# Fonction de nettoyage du texte qui regroupe plusieurs opérations\n",
    "def clean_text(text):\n",
    "    \n",
    "    # Retrait du HTML par BeautifulSoup\n",
    "    text = BeautifulSoup(ihtml.unescape(text)).text\n",
    "\n",
    "    # Mise en minuscule\n",
    "    text = text.lower()\n",
    "    \n",
    "    # Retrait des liens\n",
    "    text = re.sub(r\"http[s]?://\\S+\", \"\", text)\n",
    "\n",
    "    # Retrait des contractions (doesn't) avant la ponctuation\n",
    "    text = suppressionContractions(text)\n",
    "    \n",
    "    # Retrait des lettres seules sauf le C\n",
    "    text = removeWords(text, alphabetSansC)\n",
    "    \n",
    "    # On ne garde que les mots de la langue anglaise\n",
    "    text = motsCorrects(text)\n",
    "\n",
    "    # Retrait de la ponctuation\n",
    "    text = tokenizerLettres.tokenize(text)\n",
    "    text = \" \".join(text)\n",
    "    \n",
    "    # Correction de l'orthographe (très couteux en ressources)\n",
    "    # text = spell(text)\n",
    "    \n",
    "    # Stemming des mots\n",
    "    # text = stemming_text(text)\n",
    "\n",
    "    # Lemmatisation des mots\n",
    "    text = lemmatize_text(text)\n",
    "\n",
    "    # Retrait des stopwords\n",
    "    text = removeWords(text, stopwords)\n",
    "    \n",
    "    # Retrait des espaces en trop \n",
    "    text = re.sub(r\"\\s+\", \" \", text)\n",
    "    \n",
    "    # Retour\n",
    "    return text"
   ]
  },
  {
   "cell_type": "markdown",
   "id": "9d766b4e",
   "metadata": {},
   "source": [
    "Affichage des stopwords :"
   ]
  },
  {
   "cell_type": "code",
   "execution_count": 14,
   "id": "2693356c",
   "metadata": {
    "scrolled": false
   },
   "outputs": [
    {
     "name": "stdout",
     "output_type": "stream",
     "text": [
      "337\n",
      "['a', 'about', 'above', 'across', 'after', 'afterwards', 'again', 'against', 'all', 'almost', 'alone', 'along', 'already', 'also', 'although', 'always', 'am', 'among', 'amongst', 'amoungst', 'amount', 'an', 'and', 'another', 'any', 'anyhow', 'anyone', 'anything', 'anyway', 'anywhere', 'are', 'around', 'as', 'at', 'back', 'be', 'became', 'because', 'become', 'becomes', 'becoming', 'been', 'before', 'beforehand', 'behind', 'being', 'below', 'beside', 'besides', 'between', 'beyond', 'bill', 'both', 'bottom', 'but', 'by', 'call', 'can', 'cannot', 'cant', 'co', 'computer', 'con', 'could', 'couldnt', 'cry', 'de', 'describe', 'detail', 'did', 'didn', 'do', 'does', 'doesn', 'doing', 'don', 'done', 'down', 'due', 'during', 'each', 'eg', 'eight', 'either', 'eleven', 'else', 'elsewhere', 'empty', 'enough', 'etc', 'even', 'ever', 'every', 'everyone', 'everything', 'everywhere', 'except', 'few', 'fifteen', 'fifty', 'fill', 'find', 'fire', 'first', 'five', 'for', 'former', 'formerly', 'forty', 'found', 'four', 'from', 'front', 'full', 'further', 'get', 'give', 'go', 'had', 'has', 'hasnt', 'have', 'he', 'hence', 'her', 'here', 'hereafter', 'hereby', 'herein', 'hereupon', 'hers', 'herself', 'him', 'himself', 'his', 'how', 'however', 'hundred', 'i', 'ie', 'if', 'in', 'inc', 'indeed', 'interest', 'into', 'is', 'it', 'its', 'itself', 'just', 'keep', 'kg', 'km', 'last', 'latter', 'latterly', 'least', 'less', 'ltd', 'made', 'make', 'many', 'may', 'me', 'meanwhile', 'might', 'mill', 'mine', 'more', 'moreover', 'most', 'mostly', 'move', 'much', 'must', 'my', 'myself', 'name', 'namely', 'neither', 'never', 'nevertheless', 'next', 'nine', 'no', 'nobody', 'none', 'noone', 'nor', 'not', 'nothing', 'now', 'nowhere', 'of', 'off', 'often', 'on', 'once', 'one', 'only', 'onto', 'or', 'other', 'others', 'otherwise', 'our', 'ours', 'ourselves', 'out', 'over', 'own', 'part', 'per', 'perhaps', 'please', 'put', 'quite', 'rather', 're', 'really', 'regarding', 'same', 'say', 'see', 'seem', 'seemed', 'seeming', 'seems', 'serious', 'several', 'she', 'should', 'show', 'side', 'since', 'sincere', 'six', 'sixty', 'so', 'some', 'somehow', 'someone', 'something', 'sometime', 'sometimes', 'somewhere', 'still', 'such', 'system', 'take', 'ten', 'than', 'that', 'the', 'their', 'them', 'themselves', 'then', 'thence', 'there', 'thereafter', 'thereby', 'therefore', 'therein', 'thereupon', 'these', 'they', 'thick', 'thin', 'third', 'this', 'those', 'though', 'three', 'through', 'throughout', 'thru', 'thus', 'to', 'together', 'too', 'top', 'toward', 'towards', 'twelve', 'twenty', 'two', 'un', 'under', 'unless', 'until', 'up', 'upon', 'us', 'used', 'using', 'various', 'very', 'via', 'was', 'we', 'well', 'were', 'what', 'whatever', 'when', 'whence', 'whenever', 'where', 'whereafter', 'whereas', 'whereby', 'wherein', 'whereupon', 'wherever', 'whether', 'which', 'while', 'whither', 'who', 'whoever', 'whole', 'whom', 'whose', 'why', 'will', 'with', 'within', 'without', 'would', 'yet', 'you', 'your', 'yours', 'yourself', 'yourselves']\n"
     ]
    }
   ],
   "source": [
    "print(len(stopwords))\n",
    "print(sorted(stopwords))"
   ]
  },
  {
   "cell_type": "markdown",
   "id": "22d0a453",
   "metadata": {},
   "source": [
    "Application de la fonction et exemple :"
   ]
  },
  {
   "cell_type": "code",
   "execution_count": 15,
   "id": "f6b27985",
   "metadata": {
    "scrolled": true
   },
   "outputs": [
    {
     "name": "stdout",
     "output_type": "stream",
     "text": [
      "\u001b[1mAvant traitement\u001b[0m : How to convert a Decimal to a Double in C#?\n",
      "\n",
      "<p>I want to use a <code>Track-Bar</code> to change a <code>Form</code>'s opacity.</p>\n",
      "<p>This is my code:</p>\n",
      "<pre class=\"lang-cs prettyprint-override\"><code>decimal trans = trackBar1.Value / 5000;\n",
      "this.Opacity = trans;\n",
      "</code></pre>\n",
      "<p>When I build the application, it gives the following error:</p>\n",
      "<blockquote>\n",
      "<pre class=\"lang-none prettyprint-override\"><code>Cannot implicitly convert type decimal to double\n",
      "</code></pre>\n",
      "</blockquote>\n",
      "<p>I have tried using <code>trans</code> and <code>double</code>, but then the <code>Control</code> doesn't work. This code worked fine in a past VB.NET project.</p>\n",
      "\n",
      "\n",
      "\u001b[1mAprès traitement\u001b[0m : double c convert\n",
      "\n",
      "work follow build form control use opacity project past want application decimal convert change error code try\n"
     ]
    }
   ],
   "source": [
    "# Ligne 1 avant traitement\n",
    "print('\\033[1mAvant traitement\\033[0m :', data['Title'][0])\n",
    "print()\n",
    "print(data['Body'][0])\n",
    "\n",
    "# Application de la fonction de nettoyage du texte\n",
    "data['Body'] = data['Body'].apply(clean_text)\n",
    "data['Title'] = data['Title'].apply(clean_text)\n",
    "\n",
    "# Ligne 1 après traitement\n",
    "print()\n",
    "print('\\033[1mAprès traitement\\033[0m :', data['Title'][0])\n",
    "print()\n",
    "print(data['Body'][0])"
   ]
  },
  {
   "cell_type": "markdown",
   "id": "e8961261",
   "metadata": {},
   "source": [
    "Vérification de l'extraction des contractions :"
   ]
  },
  {
   "cell_type": "code",
   "execution_count": 16,
   "id": "8dea9ef4",
   "metadata": {},
   "outputs": [
    {
     "name": "stdout",
     "output_type": "stream",
     "text": [
      "does not\n"
     ]
    }
   ],
   "source": [
    "print(suppressionContractions(\"doesn't\"))"
   ]
  },
  {
   "cell_type": "markdown",
   "id": "6c7fbf8d",
   "metadata": {},
   "source": [
    "Concaténation des colonnes Body et Title qui contiennent les mots. Pas de réelle nécessité de discerner les deux."
   ]
  },
  {
   "cell_type": "code",
   "execution_count": 17,
   "id": "71951c89",
   "metadata": {},
   "outputs": [],
   "source": [
    "data['TitleBody'] = data['Title'] + ' ' + data['Body']"
   ]
  },
  {
   "cell_type": "markdown",
   "id": "9f2fa07f",
   "metadata": {},
   "source": [
    "On supprime les lignes au TitleBody vide :"
   ]
  },
  {
   "cell_type": "code",
   "execution_count": 18,
   "id": "5cb4643b",
   "metadata": {},
   "outputs": [
    {
     "name": "stdout",
     "output_type": "stream",
     "text": [
      "1 individus supprimés (8680 → 8679)\n"
     ]
    }
   ],
   "source": [
    "indexSuppr = []\n",
    "for i, x in data.iterrows():\n",
    "    if x['Title'] == '' and x['Body'] == '':\n",
    "        indexSuppr.append(i)\n",
    "\n",
    "s1 = data.shape[0]\n",
    "\n",
    "data = data.drop(index=indexSuppr)\n",
    "data.reset_index()\n",
    "\n",
    "s2 = data.shape[0]\n",
    "print(f'{s1-s2} individus supprimés ({s1} → {s2})')"
   ]
  },
  {
   "cell_type": "markdown",
   "id": "98b912a3",
   "metadata": {},
   "source": [
    "Suppression des colonnes Title et Body, on va travailler sur TitleBody seulement pour plus de simplicité :"
   ]
  },
  {
   "cell_type": "code",
   "execution_count": 19,
   "id": "089b3e6d",
   "metadata": {},
   "outputs": [
    {
     "data": {
      "text/html": [
       "<div>\n",
       "<style scoped>\n",
       "    .dataframe tbody tr th:only-of-type {\n",
       "        vertical-align: middle;\n",
       "    }\n",
       "\n",
       "    .dataframe tbody tr th {\n",
       "        vertical-align: top;\n",
       "    }\n",
       "\n",
       "    .dataframe thead th {\n",
       "        text-align: right;\n",
       "    }\n",
       "</style>\n",
       "<table border=\"1\" class=\"dataframe\">\n",
       "  <thead>\n",
       "    <tr style=\"text-align: right;\">\n",
       "      <th></th>\n",
       "      <th>Tags</th>\n",
       "      <th>TitleBody</th>\n",
       "    </tr>\n",
       "  </thead>\n",
       "  <tbody>\n",
       "    <tr>\n",
       "      <th>0</th>\n",
       "      <td>[c#]</td>\n",
       "      <td>double c convert work follow build form contro...</td>\n",
       "    </tr>\n",
       "    <tr>\n",
       "      <th>1</th>\n",
       "      <td>[.net, c#]</td>\n",
       "      <td>base age type calculate birthday birthday pers...</td>\n",
       "    </tr>\n",
       "    <tr>\n",
       "      <th>2</th>\n",
       "      <td>[c#]</td>\n",
       "      <td>time relative calculate display value time day...</td>\n",
       "    </tr>\n",
       "    <tr>\n",
       "      <th>3</th>\n",
       "      <td>[.net]</td>\n",
       "      <td>difference net difference</td>\n",
       "    </tr>\n",
       "    <tr>\n",
       "      <th>4</th>\n",
       "      <td>[c#]</td>\n",
       "      <td>set result query set business type populate wa...</td>\n",
       "    </tr>\n",
       "  </tbody>\n",
       "</table>\n",
       "</div>"
      ],
      "text/plain": [
       "         Tags                                          TitleBody\n",
       "0        [c#]  double c convert work follow build form contro...\n",
       "1  [.net, c#]  base age type calculate birthday birthday pers...\n",
       "2        [c#]  time relative calculate display value time day...\n",
       "3      [.net]                          difference net difference\n",
       "4        [c#]  set result query set business type populate wa..."
      ]
     },
     "execution_count": 19,
     "metadata": {},
     "output_type": "execute_result"
    }
   ],
   "source": [
    "data.drop(['Title', 'Body'], axis=1, inplace=True)\n",
    "data.head(5)"
   ]
  },
  {
   "cell_type": "markdown",
   "id": "7051cb87",
   "metadata": {},
   "source": [
    "# Extraction de features\n",
    "\n",
    "### Texte\n",
    "\n",
    "Création du corpus :"
   ]
  },
  {
   "cell_type": "code",
   "execution_count": 20,
   "id": "b09df732",
   "metadata": {},
   "outputs": [],
   "source": [
    "# Concaténation de toutes les chaines de caractère du dataframe\n",
    "# Ou de toute les lignes pour faire le countvectorizer\n",
    "corpus_LIGNES = []\n",
    "corpus_MOTS = []\n",
    "for i, x in data.iterrows():\n",
    "    mots = nltk.word_tokenize(x['TitleBody'])\n",
    "    corpus_MOTS = corpus_MOTS + mots\n",
    "    corpus_LIGNES.append(x['TitleBody'])"
   ]
  },
  {
   "cell_type": "markdown",
   "id": "847239c2",
   "metadata": {},
   "source": [
    "Affichage du corpus des mots **après filtrage** dans l'ordre alphébatique :"
   ]
  },
  {
   "cell_type": "code",
   "execution_count": 21,
   "id": "2923f08c",
   "metadata": {},
   "outputs": [
    {
     "name": "stdout",
     "output_type": "stream",
     "text": [
      "5250\n",
      "['aa', 'aardvark', 'abandon', 'abbreviation', 'ability', 'abomination', 'abort', 'absence', 'absent', 'absolute', 'abstract', 'abstraction', 'abuse', 'academic', 'accelerate', 'acceleration', 'accent', 'accept', 'acceptable', 'acceptance', 'acception', 'access', 'accessibility', 'accident', 'accommodate', 'accompany', 'accomplish', 'accomplished', 'accord', 'account', 'accounting', 'accumulate', 'accuracy', 'accurate', 'accuse', 'accustom', 'ace', 'achievable', 'achieve', 'acid', 'acknowledge', 'acm', 'acme', 'acquaint', 'acquire', 'acquisition', 'acrobatics', 'acropolis', 'act', 'action', 'actionscript', 'activate', 'activation', 'activex', 'activity', 'actor', 'actuality', 'ad', 'ada', 'adapt', 'adapter', 'add', 'addend', 'addendum', 'addict', 'addition', 'address', 'adequate', 'adherence', 'adjacent', 'adjust', 'administration', 'administrator', 'admirable', 'admit', 'ado', 'adobe', 'adopt', 'adoption', 'adorner', 'adulation', 'advance', 'advantage', 'advantageous', 'advertising', 'advice', 'advise', 'ae', 'aero', 'aes', 'aesthetic', 'affect', 'affiliate', 'afford', 'afraid', 'afternoon', 'age', 'agenda', 'agent', 'aggregate', 'aggregation', 'agile', 'agility', 'ago', 'agree', 'agreement', 'ahem', 'ai', 'aid', 'aim', 'aiming', 'air', 'aircraft', 'aka', 'akin', 'aku', 'al', 'ala', 'alan', 'alarm', 'alas', 'albeit', 'album', 'alert', 'algebraic', 'algorithm', 'algorithmic', 'alias', 'align', 'alignment', 'alist', 'alive', 'allegro', 'allocate', 'allocation', 'allocator', 'allot', 'allow', 'allowance', 'alongside', 'alpha', 'alphabet', 'alphabetical', 'alright', 'alt', 'alter', 'alteration', 'alternate', 'alternative', 'alway', 'amateur', 'amaze', 'amazing', 'ambiguity', 'amendment', 'ampersand', 'amusement', 'analogue', 'analogy', 'analyse', 'analysis', 'analyst', 'analytics', 'analyze', 'analyzer', 'anatomy', 'ancestor', 'ancestry', 'anchor', 'android', 'anecdotal', 'angle', 'animal', 'animate', 'animation', 'annotate', 'annotation', 'announcement', 'annoy', 'annoyance', 'annoying', 'annoyingly', 'anon', 'anonymous', 'answer', 'ant', 'antenna', 'anti', 'anticipate', 'antipathy', 'antivirus', 'anybody', 'anyways', 'aop', 'apache', 'apart', 'apartment', 'api', 'apologize', 'apology', 'apostrophe', 'apparent', 'appeal', 'appealing', 'appear', 'appearance', 'append', 'appendix', 'appetite', 'apple', 'applet', 'appliance', 'applicable', 'application', 'apply', 'appreciate', 'apprenticeship', 'approach', 'approaching', 'appropriate', 'approval', 'approximation', 'apropos', 'ar', 'arbitrary', 'arc', 'arcane', 'archaic', 'architect', 'architecture', 'archive', 'area', 'arena', 'argue', 'argument', 'arise', 'arithmetic', 'arm', 'arrange', 'array', 'arrival', 'arrive', 'arrogance', 'arrow', 'arrows', 'arse', 'artefact', 'article', 'articulate', 'artifact', 'artist', 'ascend', 'ascending', 'ascertain', 'ascii', 'aside', 'ask', 'asker', 'asp', 'aspect', 'aspirin', 'assemble', 'assembler', 'assembly', 'assert', 'assertion', 'asset', 'assign', 'assignment', 'assist', 'assistance', 'associate', 'association', 'associative', 'assume', 'assumed', 'assuming', 'assumption', 'assure', 'ast', 'asterisk', 'astray', 'asynchronous', 'ate', 'atlas', 'atom', 'atomic', 'atomicity', 'atomics', 'attach', 'attachment', 'attack', 'attacker', 'attain', 'attempt', 'attention', 'attitude', 'attribute', 'audacity', 'audience', 'audio', 'audit', 'augment', 'august', 'aunt', 'authenticate', 'authentication', 'authenticator', 'author', 'authoritative', 'authorization', 'authorize', 'auto', 'automate', 'automatic', 'automation', 'automatize', 'autopsy', 'autosuggestion', 'avail', 'availability', 'avenue', 'average', 'averse', 'aversion', 'avoid', 'awake', 'award', 'aware', 'awesome', 'awful', 'awhile', 'awkward', 'ax', 'axis', 'b', 'bac', 'backed', 'background', 'backing', 'backlog', 'backside', 'backspace', 'backtrack', 'backup', 'backward', 'backwards', 'bacon', 'badge', 'baffle', 'bag', 'bake', 'bal', 'balance', 'balancer', 'ball', 'balloon', 'bam', 'ban', 'banana', 'bang', 'banging', 'bank', 'banker', 'banner', 'bar', 'bare', 'bark', 'barker', 'barking', 'baroque', 'barrier', 'barry', 'base', 'bash', 'basic', 'basis', 'bast', 'bastard', 'bat', 'batch', 'batik', 'batiste', 'battery', 'battle', 'baud', 'bay', 'bean', 'bear', 'beast', 'beat', 'beautifier', 'beautiful', 'beautify', 'beauty', 'bee', 'beer', 'beg', 'begin', 'beginner', 'beginning', 'behalf', 'behave', 'behavior', 'behaviour', 'behold', 'belief', 'believe', 'believer', 'bell', 'belong', 'belonging', 'ben', 'bend', 'beneath', 'benefit', 'berger', 'berry', 'bespeak', 'bespoke', 'best', 'bet', 'beta', 'better', 'beware', 'bewilder', 'bike', 'bile', 'billion', 'bin', 'binary', 'bind', 'binder', 'binding', 'binomial', 'biology', 'bios', 'bird', 'biri', 'birthday', 'bisect', 'bisection', 'bison', 'bit', 'bite', 'bitten', 'bitwise', 'bizarre', 'blackberry', 'blackfish', 'blackjack', 'blah', 'blair', 'blame', 'blaming', 'blank', 'blast', 'blaze', 'bleed', 'blend', 'blending', 'blind', 'blink', 'blinking', 'blistering', 'bloat', 'blob', 'block', 'blocker', 'blocking', 'blood', 'bloodshed', 'bloody', 'bloom', 'blow', 'blowing', 'blue', 'blueprint', 'blur', 'blurb', 'board', 'boast', 'boat', 'bob', 'body', 'bog', 'bogus', 'boil', 'boiler', 'bold', 'bolster', 'bom', 'bond', 'bonus', 'boo', 'book', 'bookkeeping', 'bookmark', 'bool', 'boolean', 'boomerang', 'boon', 'boost', 'boot', 'bootstrap', 'border', 'bordering', 'borderless', 'bore', 'boring', 'borrow', 'bos', 'boston', 'bother', 'bottleneck', 'bought', 'bounce', 'bound', 'boundary', 'bounding', 'bounty', 'bow', 'bowl', 'box', 'boxing', 'boy', 'brace', 'bracket', 'brad', 'brain', 'brake', 'branch', 'brand', 'brazil', 'break', 'breakdown', 'breaking', 'breed', 'breeze', 'brethren', 'brevity', 'brick', 'bridge', 'brief', 'briefly', 'bright', 'brilliant', 'bring', 'brittle', 'broadcast', 'broken', 'broker', 'brother', 'brought', 'brown', 'browse', 'browser', 'browsing', 'brulee', 'brush', 'brute', 'bu', 'bubble', 'bubbling', 'buck', 'bucket', 'buckle', 'buddy', 'budget', 'buff', 'buffer', 'bug', 'buggy', 'build', 'builder', 'building', 'buildup', 'built', 'bulb', 'bulk', 'bullet', 'bummer', 'bump', 'bunch', 'bundle', 'bundler', 'burden', 'bureau', 'burn', 'burning', 'bus', 'business', 'busy', 'butcher', 'button', 'buy', 'buzzy', 'bye', 'bypass', 'bytecode', 'c', 'ca', 'cab', 'cabin', 'cable', 'cache', 'cactus', 'cad', 'caffeine', 'cajole', 'cake', 'cal', 'calculate', 'calculating', 'calculation', 'calculator', 'calculus', 'calendar', 'caliber', 'calibrate', 'callable', 'callback', 'caller', 'calm', 'cam', 'camel', 'camelcase', 'camera', 'camp', 'canada', 'cancel', 'cancellation', 'candidate', 'cannon', 'canon', 'canonical', 'canvas', 'cap', 'capability', 'capacity', 'capital', 'capitalization', 'capitalize', 'captain', 'caption', 'capture', 'car', 'carat', 'carbon', 'card', 'cardholder', 'care', 'career', 'careful', 'careless', 'caret', 'carl', 'carlo', 'carriage', 'carrot', 'carry', 'cart', 'cascade', 'case', 'casing', 'cast', 'casting', 'castle', 'castor', 'cat', 'catastrophic', 'catch', 'catching', 'categorize', 'category', 'cater', 'caught', 'cause', 'causing', 'caveat', 'cc', 'ce', 'ceiling', 'cell', 'census', 'center', 'centralize', 'centric', 'centroid', 'century', 'certificate', 'certification', 'cest', 'chaff', 'chain', 'challenge', 'champ', 'chance', 'change', 'channel', 'chaos', 'chapter', 'char', 'character', 'characterize', 'charge', 'charm', 'chart', 'charting', 'chase', 'chat', 'cheap', 'cheat', 'cheating', 'check', 'checker', 'cheeky', 'chess', 'chief', 'child', 'chime', 'chip', 'choice', 'choke', 'cholesterol', 'chomp', 'choose', 'chooser', 'choosing', 'chop', 'chord', 'chore', 'chose', 'chosen', 'chrome', 'chromium', 'chronic', 'chuck', 'chunk', 'chunky', 'churn', 'cipher', 'circa', 'circle', 'circuit', 'circular', 'circumstance', 'circumvent', 'citizen', 'citizenship', 'city', 'civic', 'claim', 'clang', 'clarification', 'clarify', 'clarity', 'clash', 'class', 'classic', 'classification', 'classify', 'classpath', 'clause', 'clean', 'cleaner', 'cleaning', 'cleanliness', 'cleanly', 'cleanup', 'clear', 'clearer', 'clearing', 'clever', 'click', 'client', 'climb', 'cling', 'clip', 'clipper', 'cloak', 'clobber', 'clock', 'clog', 'clojure', 'clone', 'close', 'closer', 'closing', 'closure', 'clothe', 'cloud', 'cloudy', 'clover', 'clr', 'club', 'clue', 'cluster', 'clustering', 'clutch', 'clutter', 'coalesce', 'coat', 'cobol', 'cobra', 'cocoa', 'cod', 'code', 'codepage', 'coder', 'coding', 'coerce', 'coexist', 'coffee', 'coffeescript', 'coherence', 'coherent', 'coincide', 'coincidence', 'col', 'cold', 'collaborate', 'collaborative', 'collapse', 'collapsible', 'collate', 'collation', 'colleague', 'collect', 'collection', 'collector', 'college', 'collide', 'collision', 'colon', 'color', 'colorize', 'colour', 'column', 'comb', 'combat', 'combination', 'combinator', 'combine', 'combiner', 'combining', 'come', 'comet', 'comfort', 'comfortable', 'comma', 'command', 'comment', 'commercial', 'commercialize', 'commit', 'committee', 'commodore', 'common', 'commonality', 'commonly', 'commons', 'communicate', 'communication', 'community', 'compact', 'companion', 'company', 'comparative', 'comparator', 'compare', 'comparer', 'comparison', 'compatibility', 'compatible', 'compensate', 'competent', 'competition', 'competitor', 'compilation', 'compile', 'compiled', 'compiler', 'complain', 'complaint', 'complementary', 'complete', 'completeness', 'completion', 'complex', 'complexity', 'compliance', 'compliant', 'complicate', 'complication', 'comply', 'component', 'compose', 'composite', 'composition', 'compound', 'comprehend', 'comprehension', 'comprehensive', 'compress', 'compressible', 'compression', 'compressor', 'comprise', 'compromise', 'compulsory', 'computation', 'compute', 'concat', 'concatenate', 'concatenation', 'conceal', 'concentrate', 'concept', 'conceptual', 'concern', 'conch', 'concise', 'conciseness', 'conclude', 'conclusion', 'concrete', 'concurrency', 'concurrent', 'condense', 'condition', 'conditional', 'conference', 'confess', 'confidence', 'confident', 'configuration', 'configure', 'confine', 'confirm', 'confirmation', 'conflict', 'conform', 'confuse', 'confusion', 'conjecture', 'conjunction', 'conn', 'connect', 'connection', 'connectivity', 'connector', 'conscience', 'consecutive', 'consensus', 'consequence', 'conservation', 'consider', 'consideration', 'consist', 'consistency', 'consistent', 'console', 'consolidate', 'constant', 'constitute', 'constrain', 'constraint', 'construct', 'construction', 'constructor', 'consult', 'consultant', 'consume', 'consumer', 'consuming', 'consumption', 'contact', 'contain', 'container', 'content', 'contention', 'contest', 'context', 'continuation', 'continue', 'continuously', 'contra', 'contract', 'contradict', 'contrast', 'contributor', 'control', 'controller', 'controversy', 'convenience', 'convenient', 'convention', 'conversation', 'conversion', 'convert', 'converter', 'converting', 'convex', 'convey', 'convince', 'convincing', 'convolute', 'cook', 'cookbook', 'cool', 'cooler', 'cop', 'cope', 'copy', 'copyright', 'core', 'corner', 'corporation', 'correct', 'correction', 'correctly', 'correctness', 'correlate', 'correspond', 'corresponding', 'correspondingly', 'corrupt', 'corrupting', 'corruption', 'corruptor', 'cost', 'count', 'counter', 'counterpart', 'counting', 'countless', 'country', 'county', 'couple', 'coupon', 'courage', 'courier', 'course', 'court', 'courtesy', 'covariance', 'cover', 'coverage', 'cpan', 'crack', 'cracker', 'cracking', 'crafty', 'cramp', 'crank', 'crap', 'crash', 'crawl', 'crawler', 'craziness', 'crazy', 'create', 'creation', 'creative', 'creativity', 'creator', 'credential', 'credit', 'crept', 'crime', 'cringe', 'cripple', 'criteria', 'criterion', 'criticism', 'criticize', 'critique', 'crop', 'cross', 'crossing', 'crowd', 'crucial', 'cruel', 'cruise', 'crunch', 'crush', 'crutch', 'crypt', 'crypted', 'cryptic', 'cryptographic', 'cryptography', 'crystal', 'cs', 'css', 'cube', 'cull', 'culling', 'culprit', 'culture', 'cum', 'cumbersome', 'cup', 'cur', 'curiosity', 'curious', 'curiously', 'curl', 'curly', 'currency', 'curry', 'cursor', 'cursory', 'curve', 'custom', 'customer', 'cut', 'cute', 'cutting', 'cv', 'cvs', 'cycle', 'cyclic', 'cygwin', 'da', 'dad', 'daemon', 'daft', 'daily', 'dal', 'dale', 'damn', 'dan', 'dandy', 'dang', 'danger', 'dangerous', 'dao', 'dare', 'dark', 'darn', 'dash', 'data', 'database', 'dataflow', 'date', 'daughter', 'daunting', 'dawdle', 'day', 'daylight', 'dead', 'deadlock', 'deal', 'dealer', 'dealing', 'dealt', 'dean', 'dear', 'dearth', 'death', 'deb', 'debate', 'debating', 'debug', 'debugger', 'debugging', 'decade', 'decay', 'deceive', 'decent', 'decide', 'decimal', 'decipher', 'decision', 'deck', 'decker', 'declaration', 'declarative', 'declarator', 'declare', 'decline', 'decode', 'decompiler', 'decompose', 'decomposition', 'decompress', 'decompression', 'decorate', 'decoration', 'decorator', 'decrease', 'decrement', 'dedication', 'deduce', 'deep', 'deeply', 'default', 'defeat', 'defend', 'defense', 'defer', 'define', 'definite', 'definition', 'definitive', 'definitively', 'deflate', 'defunct', 'degenerate', 'degradation', 'degrade', 'degree', 'delay', 'delegate', 'delegation', 'delete', 'deletion', 'deliberate', 'delimit', 'delimiter', 'deliver', 'delivery', 'dell', 'delta', 'delve', 'demand', 'demanding', 'demarcation', 'demo', 'demonstrate', 'demonstration', 'demote', 'den', 'denominator', 'denote', 'dense', 'density', 'dent', 'deny', 'department', 'depend', 'dependable', 'dependency', 'dependent', 'depending', 'deploy', 'deployment', 'deprecate', 'deprecation', 'depth', 'derby', 'dereference', 'derivative', 'derive', 'derived', 'descend', 'descendant', 'descending', 'description', 'descriptive', 'descriptor', 'deserve', 'design', 'designate', 'designation', 'designer', 'designing', 'desirable', 'desire', 'desk', 'desperation', 'despite', 'dessert', 'destination', 'destroy', 'destruction', 'destructor', 'detach', 'detect', 'detection', 'detector', 'determine', 'determinism', 'deterministic', 'detour', 'detrimental', 'dev', 'develop', 'developer', 'development', 'deviation', 'device', 'devil', 'devote', 'dhtml', 'di', 'diagnostic', 'diagnostics', 'diagonal', 'diagram', 'dialect', 'diameter', 'diamond', 'dice', 'dictate', 'dictionary', 'die', 'diff', 'differ', 'difference', 'differential', 'differentiate', 'difficulty', 'diffusion', 'dig', 'digest', 'digging', 'digit', 'digital', 'dilemma', 'dim', 'dimension', 'dimensional', 'din', 'diner', 'dire', 'direct', 'direction', 'directive', 'directory', 'dirk', 'dirt', 'dirty', 'dis', 'disable', 'disabuse', 'disadvantage', 'disagreement', 'disallow', 'disappear', 'disappoint', 'disaster', 'disc', 'discard', 'discipline', 'disclaimer', 'disclosure', 'disconnect', 'discount', 'discourage', 'discover', 'discovery', 'discrepancy', 'discretion', 'discriminator', 'discus', 'discuss', 'discussion', 'disguise', 'disgust', 'dish', 'disk', 'dislike', 'disparate', 'dispatch', 'dispatcher', 'display', 'displayed', 'disposable', 'disposal', 'dispose', 'disposer', 'disprove', 'disqualify', 'disruption', 'dissecting', 'dissent', 'dissimilar', 'distance', 'distinct', 'distinction', 'distinguish', 'distort', 'distract', 'distribute', 'distribution', 'distributor', 'distrust', 'disturb', 'ditto', 'div', 'dive', 'diverse', 'diversity', 'divide', 'dividend', 'divider', 'division', 'divisor', 'django', 'doable', 'doc', 'doctor', 'document', 'documentation', 'dod', 'dodgy', 'doe', 'dog', 'dollar', 'dolor', 'dolt', 'dom', 'domain', 'donate', 'dong', 'donkey', 'door', 'dot', 'double', 'doubt', 'dow', 'downgrade', 'downside', 'dozen', 'draft', 'drag', 'dragged', 'dragging', 'dragon', 'drain', 'draw', 'drawback', 'drawing', 'drawn', 'drawstring', 'dread', 'dream', 'drift', 'drill', 'drilling', 'drink', 'drip', 'drive', 'driven', 'driver', 'driving', 'drop', 'dropping', 'drove', 'drupal', 'dry', 'dual', 'duck', 'duff', 'dumb', 'dummy', 'dump', 'dumping', 'duo', 'dup', 'duper', 'duplex', 'duplicate', 'duplication', 'duration', 'dust', 'dusting', 'duty', 'dwarf', 'dwell', 'dword', 'dynamic', 'dynamically', 'e', 'ea', 'eager', 'ear', 'earth', 'ease', 'easier', 'easiest', 'east', 'easy', 'eat', 'eating', 'eats', 'echo', 'eclipse', 'ecmascript', 'economy', 'ecosystem', 'edge', 'edit', 'edition', 'editor', 'editorial', 'educate', 'ee', 'effect', 'efficiency', 'efficient', 'effort', 'egg', 'eighty', 'el', 'elaborate', 'elaboration', 'electronics', 'elegance', 'elegant', 'element', 'elementary', 'elevate', 'elevation', 'elf', 'elide', 'eliminate', 'elimination', 'ellipses', 'ellipsis', 'elsif', 'elucidate', 'elusive', 'embark', 'embarrass', 'embed', 'embedded', 'embrace', 'emery', 'emit', 'emma', 'emphasis', 'emphasize', 'employ', 'employee', 'employer', 'employment', 'emulate', 'emulation', 'emulator', 'en', 'enable', 'encapsulate', 'encapsulation', 'enclose', 'enclosure', 'encode', 'encoding', 'encounter', 'encourage', 'encrypt', 'encryption', 'encyclopedic', 'end', 'endless', 'endure', 'energy', 'enforce', 'enforcement', 'engage', 'engine', 'engineer', 'engineering', 'enhance', 'enhancement', 'enjoy', 'enlarge', 'enlighten', 'enlightenment', 'enlist', 'ensure', 'entangle', 'enter', 'entering', 'enterprise', 'entertain', 'entirety', 'entity', 'entropy', 'entry', 'enumerate', 'enumeration', 'enumerator', 'envelope', 'environment', 'envisage', 'envision', 'eof', 'episode', 'epoch', 'epsilon', 'eq', 'equal', 'equality', 'equation', 'equinox', 'equipment', 'equivalence', 'equivalent', 'er', 'era', 'erase', 'erasure', 'eros', 'err', 'error', 'escape', 'essence', 'establish', 'estate', 'estimate', 'eta', 'eternal', 'etiquette', 'eval', 'evaluate', 'evaluation', 'evangelism', 'evangelist', 'eve', 'evening', 'event', 'evergreen', 'everlasting', 'everybody', 'everyday', 'evidence', 'evil', 'evolution', 'evolve', 'ex', 'exact', 'exaggerate', 'exam', 'examination', 'examine', 'example', 'exceed', 'excel', 'excellent', 'exception', 'exceptional', 'excerpt', 'excess', 'excessive', 'exchange', 'excite', 'exclamation', 'exclude', 'exclusion', 'excuse', 'exec', 'executable', 'execute', 'execution', 'executive', 'executor', 'exemplify', 'exercise', 'exhaust', 'exhibit', 'exist', 'existence', 'existent', 'exists', 'exit', 'expand', 'expander', 'expansion', 'expect', 'expectation', 'expense', 'expensive', 'experience', 'experiment', 'experimentation', 'expert', 'expiration', 'expire', 'expiry', 'explain', 'explaining', 'explanation', 'explanatory', 'explication', 'explicit', 'explode', 'exploder', 'exploit', 'explore', 'explorer', 'explosion', 'exponent', 'exponentiation', 'export', 'exporter', 'expose', 'exposure', 'express', 'expression', 'expressive', 'expressiveness', 'extend', 'extending', 'extensibility', 'extension', 'extensive', 'extent', 'extern', 'external', 'externalization', 'extol', 'extra', 'extract', 'extreme', 'eye', 'facade', 'face', 'facet', 'faceted', 'facilitate', 'facility', 'fact', 'factor', 'factory', 'fade', 'fail', 'failing', 'failure', 'fair', 'fake', 'fall', 'fallback', 'false', 'familiarity', 'family', 'fan', 'fancy', 'farm', 'farther', 'fashion', 'fast', 'faster', 'fat', 'fatal', 'fate', 'father', 'fault', 'faulty', 'favor', 'favorite', 'fe', 'fear', 'feature', 'federation', 'fee', 'feed', 'feedback', 'feel', 'feeling', 'felt', 'fence', 'fetch', 'fetching', 'fi', 'fiddle', 'fiddler', 'fiddling', 'field', 'fifo', 'fifth', 'fight', 'figure', 'file', 'filing', 'filter', 'filtering', 'filtration', 'fin', 'finalize', 'finance', 'finder', 'finding', 'fine', 'finer', 'finger', 'fingerprint', 'finish', 'finished', 'finishing', 'finite', 'firebird', 'firebug', 'firing', 'firm', 'firmly', 'firstly', 'fishing', 'fit', 'fitness', 'fix', 'fixation', 'fixed', 'fixing', 'fixture', 'fizz', 'flag', 'flair', 'flame', 'flash', 'flat', 'flatten', 'flattening', 'flavor', 'flavour', 'flaw', 'flex', 'flexibility', 'flicker', 'flight', 'flimsy', 'flip', 'float', 'floating', 'flood', 'floor', 'flot', 'flow', 'fluent', 'fluffy', 'fluid', 'flush', 'flushing', 'flux', 'fly', 'focus', 'fold', 'folder', 'folk', 'follow', 'following', 'font', 'foo', 'food', 'foolproof', 'foot', 'footer', 'footprint', 'fop', 'forage', 'forbid', 'forbidden', 'force', 'forcing', 'foreach', 'foreground', 'foreknowledge', 'forename', 'foresee', 'forever', 'forge', 'forget', 'forgetting', 'forgive', 'forgiving', 'forgotten', 'fork', 'form', 'formal', 'formalism', 'format', 'formula', 'formulate', 'forth', 'fortran', 'forum', 'forward', 'foundation', 'fount', 'fowler', 'fox', 'fraction', 'fragile', 'fragment', 'fragmentation', 'frame', 'framework', 'franco', 'fraught', 'free', 'freed', 'freedom', 'freeze', 'freezing', 'frequency', 'frequent', 'fresh', 'freshly', 'friction', 'frictionless', 'friend', 'friendship', 'fringe', 'frog', 'fruit', 'fruitless', 'frustration', 'fulfill', 'fuller', 'fun', 'function', 'functional', 'functionality', 'fundamental', 'funky', 'funnel', 'funny', 'furthermore', 'fusion', 'fuss', 'futile', 'future', 'fuzz', 'fuzzy', 'gain', 'gaining', 'gal', 'gallery', 'galloway', 'galore', 'game', 'gamma', 'gap', 'garbage', 'garden', 'gat', 'gate', 'gateway', 'gather', 'gathering', 'gauge', 'gauss', 'gaussian', 'gcc', 'gear', 'gecko', 'gem', 'gen', 'genealogy', 'general', 'generalization', 'generalize', 'generate', 'generating', 'generation', 'generator', 'generic', 'genius', 'gentle', 'geo', 'geology', 'geometry', 'gesture', 'getter', 'ghetto', 'gibbon', 'gif', 'gigantic', 'gist', 'git', 'github', 'glad', 'glade', 'glance', 'glancing', 'glare', 'glass', 'glassfish', 'glean', 'glee', 'glitch', 'glob', 'gloss', 'glow', 'glowing', 'glue', 'glut', 'gnome', 'gnu', 'goal', 'god', 'gold', 'goo', 'good', 'goodness', 'goodwill', 'goofy', 'gorilla', 'gory', 'gosling', 'got', 'goto', 'gotten', 'government', 'gpl', 'grab', 'grad', 'grade', 'graduate', 'graft', 'graham', 'grail', 'grain', 'grammar', 'granite', 'grant', 'granularity', 'grape', 'graph', 'graphic', 'graphical', 'grasp', 'grasping', 'grateful', 'gratify', 'grave', 'gravity', 'gray', 'greatly', 'green', 'greet', 'grey', 'grid', 'grieve', 'griffon', 'grin', 'grind', 'gripe', 'grit', 'groove', 'groovy', 'ground', 'group', 'grow', 'growl', 'growth', 'grunt', 'gt', 'gtk', 'guarantee', 'guard', 'guava', 'guess', 'guessing', 'guesswork', 'guidance', 'guide', 'guideline', 'guinea', 'guitar', 'gun', 'gunsmith', 'guru', 'gut', 'guy', 'ha', 'habit', 'hack', 'hacker', 'hackery', 'hacky', 'hair', 'hairy', 'half', 'halfway', 'halt', 'ham', 'hammer', 'hand', 'handbook', 'handful', 'handle', 'handler', 'handling', 'handshake', 'handy', 'hang', 'hanging', 'haphazard', 'happen', 'happening', 'happily', 'happy', 'harbour', 'hard', 'harder', 'hardware', 'harm', 'harmful', 'harmless', 'harness', 'hash', 'haskell', 'hassle', 'hasty', 'hat', 'hate', 'havoc', 'haystack', 'hazy', 'head', 'headache', 'header', 'heading', 'headless', 'headline', 'headphone', 'headroom', 'health', 'heap', 'heapy', 'hear', 'hearing', 'hearsay', 'heart', 'hearts', 'heat', 'heaven', 'heavy', 'heavyweight', 'heck', 'hefty', 'height', 'hell', 'hello', 'helm', 'help', 'helper', 'helpful', 'herb', 'heresy', 'heritage', 'hero', 'heroic', 'herring', 'hesitant', 'hex', 'hey', 'hi', 'hibernate', 'hidden', 'hide', 'hideous', 'hideously', 'hierarchy', 'high', 'higher', 'highlight', 'hike', 'hinder', 'hint', 'hire', 'history', 'hit', 'hitch', 'hoard', 'hobby', 'hobbyist', 'hod', 'hog', 'hold', 'holder', 'holding', 'hole', 'holiday', 'holocaust', 'holy', 'home', 'homemade', 'homework', 'honda', 'honest', 'honor', 'hood', 'hook', 'hookup', 'hop', 'hope', 'hopefully', 'horizon', 'horizontal', 'horizontally', 'horrible', 'horribly', 'horror', 'hose', 'host', 'hosting', 'hot', 'hotbox', 'hotel', 'hour', 'hourglass', 'house', 'hover', 'html', 'hub', 'hue', 'huh', 'hull', 'human', 'humane', 'hunch', 'hunt', 'hurting', 'hydrate', 'hypothesize', 'ice', 'iceland', 'icon', 'icons', 'id', 'ide', 'idea', 'ideal', 'ideally', 'identical', 'identification', 'identifier', 'identify', 'identity', 'ides', 'idiom', 'idiomatic', 'idiot', 'idle', 'iffy', 'ignorance', 'ignorant', 'ignore', 'illegal', 'illiterate', 'illuminate', 'illuminating', 'illustrate', 'illustrator', 'image', 'imagination', 'imagine', 'imitate', 'immature', 'immediate', 'immense', 'immutability', 'impact', 'impersonate', 'impersonation', 'implement', 'implementation', 'implication', 'implicit', 'implode', 'imply', 'import', 'importance', 'impose', 'imposition', 'impression', 'improve', 'improvement', 'improving', 'inability', 'inaccuracy', 'inaccurate', 'inactive', 'inactivity', 'inadequate', 'inadvertent', 'inappropriate', 'inbuilt', 'incantation', 'incarnation', 'inch', 'incident', 'inclination', 'include', 'included', 'inclusion', 'incoming', 'incompatibility', 'incompatible', 'incomplete', 'inconsistency', 'inconsistent', 'inconvenient', 'incorporate', 'incorporation', 'incorrect', 'increase', 'incredibly', 'increment', 'incremental', 'incur', 'indent', 'indentation', 'indention', 'independence', 'index', 'indexed', 'indexer', 'indexing', 'indicate', 'indication', 'indicator', 'indigo', 'indirection', 'individual', 'induce', 'industry', 'inefficiency', 'inefficient', 'inelegant', 'inequality', 'inexact', 'inexperienced', 'infer', 'inference', 'infinite', 'infinity', 'influence', 'inform', 'information', 'informative', 'infrared', 'infrastructure', 'infrequent', 'ing', 'ingredient', 'inherit', 'inheritance', 'inheritor', 'initialize', 'initiate', 'inject', 'injection', 'injector', 'inline', 'inn', 'inner', 'innermost', 'innovation', 'input', 'insane', 'insanity', 'inscrutable', 'insecure', 'insensitive', 'insert', 'inserter', 'insertion', 'inside', 'insight', 'insightful', 'insist', 'inspect', 'inspection', 'inspector', 'inspiration', 'inspire', 'instability', 'install', 'installation', 'installer', 'instance', 'instant', 'instantiation', 'instinct', 'instruction', 'instructional', 'instructions', 'instructive', 'instructor', 'instrument', 'instrumentation', 'insufficient', 'insulate', 'insult', 'int', 'integer', 'integral', 'integrate', 'integration', 'integrity', 'intelligence', 'intelligent', 'intellij', 'intend', 'intensive', 'intent', 'intention', 'intentional', 'inter', 'interact', 'interaction', 'interactive', 'interactivity', 'intercept', 'interchange', 'interconnection', 'interdependent', 'interesting', 'interface', 'interlock', 'intermediate', 'intermittent', 'intern', 'internals', 'internationalization', 'internship', 'interpolate', 'interpolation', 'interpose', 'interpret', 'interpretation', 'interpreter', 'interrelate', 'interrogate', 'interrogation', 'interrupt', 'intersect', 'intersection', 'interval', 'intervention', 'interview', 'interviewer', 'intimate', 'intricate', 'intrigue', 'intriguing', 'intrinsic', 'introduce', 'introduction', 'introspect', 'introspection', 'intuition', 'intuitive', 'inturn', 'invalid', 'invalidate', 'invalidation', 'invariably', 'inventory', 'inverse', 'inversion', 'invert', 'invest', 'investigate', 'investigating', 'investigation', 'investment', 'invisible', 'invitation', 'invite', 'invocation', 'invoice', 'invoke', 'involve', 'involvement', 'io', 'ipc', 'iron', 'irregardless', 'irregular', 'irrelevant', 'irrespective', 'irritate', 'irritating', 'island', 'iso', 'isolate', 'isolation', 'issue', 'italic', 'itch', 'item', 'iter', 'iterable', 'iterate', 'iteration', 'iterative', 'itinerary', 'ivy', 'jabber', 'jack', 'jag', 'jagged', 'jaggy', 'jar', 'jarg', 'jasper', 'java', 'javac', 'javafx', 'javascript', 'jay', 'jazz', 'jdbc', 'jdk', 'jeff', 'jeopardize', 'jerk', 'jersey', 'jess', 'jet', 'jetty', 'jimmy', 'jingle', 'jit', 'jni', 'job', 'joe', 'join', 'joke', 'jolt', 'josh', 'journal', 'journey', 'joy', 'jre', 'jscript', 'json', 'jsp', 'jsr', 'judge', 'judgment', 'juice', 'jump', 'junction', 'june', 'junior', 'junk', 'jurisdiction', 'justifiably', 'justification', 'justify', 'jvm', 'keen', 'ken', 'kept', 'kernel', 'key', 'keyboard', 'keylock', 'kick', 'kicker', 'kickoff', 'kill', 'killer', 'killing', 'kind', 'king', 'kingdom', 'kiss', 'kit', 'kludge', 'knew', 'knock', 'knocking', 'know', 'knowing', 'knowledge', 'knowledgeable', 'known', 'kung', 'kyle', 'la', 'lab', 'label', 'lack', 'lady', 'lag', 'laid', 'lambda', 'lame', 'lament', 'lamp', 'lan', 'land', 'landscape', 'language', 'languaged', 'languish', 'lapse', 'largish', 'larry', 'latch', 'latency', 'later', 'latex', 'latitude', 'laugh', 'launch', 'launcher', 'law', 'lax', 'lay', 'layer', 'layout', 'laziness', 'lazy', 'le', 'lea', 'lead', 'leader', 'leadership', 'leading', 'leaf', 'leak', 'leaky', 'leal', 'lean', 'leaner', 'leaning', 'leap', 'learn', 'learning', 'learnt', 'leave', 'lecture', 'lee', 'left', 'leg', 'legacy', 'legend', 'legitimate', 'lend', 'length', 'lengthy', 'lenient', 'leopard', 'lesser', 'lesson', 'let', 'letter', 'level', 'leverage', 'lexical', 'li', 'liberty', 'library', 'license', 'lie', 'lieu', 'life', 'lifetime', 'lifo', 'lift', 'light', 'lighter', 'lightweight', 'like', 'likelihood', 'likewise', 'limit', 'limitation', 'limiting', 'limp', 'line', 'linear', 'liner', 'lingua', 'link', 'linkage', 'linker', 'linking', 'linux', 'lisp', 'list', 'listen', 'listener', 'listening', 'listing', 'lit', 'lite', 'literal', 'literate', 'literature', 'little', 'live', 'living', 'llvm', 'lo', 'load', 'loaded', 'loader', 'loading', 'loan', 'lob', 'locale', 'locality', 'localization', 'localize', 'locate', 'location', 'locator', 'lock', 'locker', 'locking', 'lockout', 'log', 'logged', 'logger', 'logging', 'logic', 'login', 'logistics', 'logo', 'lone', 'long', 'longbow', 'longer', 'longevity', 'longish', 'longitude', 'longs', 'look', 'lookup', 'loop', 'loophole', 'looping', 'looseness', 'lop', 'lord', 'lose', 'losing', 'loss', 'lot', 'lotus', 'loud', 'love', 'loving', 'low', 'lower', 'lua', 'luck', 'lucky', 'luke', 'lunes', 'luxury', 'lynx', 'ma', 'mac', 'machine', 'machinery', 'macro', 'macrology', 'mad', 'madness', 'mag', 'magazine', 'magic', 'magnitude', 'mail', 'mailbox', 'mailer', 'maintain', 'maintainable', 'maintainer', 'maintenance', 'majority', 'maker', 'making', 'malformed', 'mammoth', 'man', 'manage', 'management', 'manager', 'mandatory', 'mangle', 'mangler', 'manifest', 'manipulate', 'manipulation', 'manner', 'mantissa', 'mantra', 'manual', 'manually', 'manufacturer', 'map', 'mapper', 'mar', 'marc', 'march', 'margin', 'marginal', 'maria', 'mark', 'markdown', 'marked', 'marker', 'market', 'marking', 'markup', 'marquee', 'marshal', 'marshaler', 'martin', 'mask', 'mason', 'mass', 'massage', 'massive', 'massively', 'master', 'match', 'matcher', 'matching', 'material', 'math', 'mathematical', 'matlab', 'matrix', 'matter', 'mature', 'maturity', 'maxim', 'maximize', 'maximum', 'maybe', 'maze', 'mbean', 'mean', 'meaning', 'meaningful', 'meaningless', 'meant', 'measurable', 'measure', 'measurement', 'measuring', 'mechanic', 'mechanism', 'mechanize', 'mediator', 'medium', 'meet', 'meeting', 'mel', 'melt', 'mem', 'member', 'membership', 'memo', 'memoization', 'memory', 'men', 'mental', 'mentalis', 'mentality', 'mention', 'mentor', 'menu', 'merchant', 'mercurial', 'mercy', 'merge', 'merger', 'merit', 'mess', 'message', 'messing', 'messy', 'met', 'meta', 'metaclass', 'metal', 'metallurgy', 'metaphor', 'method', 'methodology', 'methods', 'metric', 'metrics', 'metro', 'metronome', 'mi', 'mice', 'micro', 'microphone', 'microsecond', 'microsoft', 'middle', 'middleware', 'midnight', 'midst', 'mighty', 'migrate', 'migration', 'mike', 'mil', 'mile', 'mileage', 'milestone', 'milk', 'millennium', 'miller', 'million', 'millisecond', 'mime', 'mimic', 'min', 'mina', 'mind', 'minification', 'minify', 'minimal', 'minimization', 'minimize', 'minimum', 'mining', 'minor', 'minus', 'minute', 'minx', 'miny', 'miracle', 'misbehave', 'mischief', 'misconfiguration', 'misery', 'misguide', 'misinformation', 'mislead', 'mismatch', 'misnomer', 'misread', 'miss', 'missing', 'mission', 'mistake', 'mistaken', 'misunderstand', 'misunderstanding', 'misunderstood', 'misuse', 'mitigate', 'mix', 'mixture', 'mo', 'mobile', 'mobility', 'mocha', 'mock', 'mockable', 'mocker', 'mod', 'modal', 'mode', 'model', 'modern', 'modernize', 'modification', 'modifier', 'modify', 'modular', 'module', 'modulus', 'moire', 'mojo', 'molecule', 'moment', 'mon', 'money', 'mongrel', 'monitor', 'monkey', 'mono', 'monochrome', 'monorail', 'monotype', 'monster', 'month', 'morning', 'morph', 'moss', 'moth', 'mother', 'motion', 'motivate', 'motivation', 'motorcycle', 'motto', 'mould', 'mount', 'mountain', 'mouse', 'mousey', 'mout', 'mouth', 'movement', 'movie', 'moving', 'msdn', 'msvc', 'muddle', 'muff', 'mult', 'multicore', 'multidimensional', 'multiple', 'multiplication', 'multiplicity', 'multiplier', 'multiply', 'multithreaded', 'multitude', 'mundane', 'music', 'mustache', 'mutable', 'mutate', 'mutation', 'mute', 'mutex', 'myriad', 'mysql', 'mystery', 'mythical', 'nae', 'nag', 'nail', 'naive', 'naked', 'naming', 'nan', 'nant', 'narrow', 'nasty', 'nat', 'native', 'nature', 'naughty', 'navigate', 'navigation', 'navigator', 'near', 'nearest', 'neat', 'neatness', 'nebula', 'necessity', 'neck', 'need', 'needing', 'needle', 'negate', 'negation', 'negative', 'negativity', 'neighbor', 'nest', 'net', 'network', 'neutral', 'newcomer', 'newing', 'newline', 'newly', 'news', 'newsletter', 'newspaper', 'newton', 'nice', 'niche', 'nickname', 'nid', 'nifty', 'night', 'nightmare', 'nil', 'nineteen', 'ninety', 'nirvana', 'nitty', 'nix', 'node', 'nodelist', 'noggin', 'noise', 'noisy', 'nomenclature', 'nominate', 'non', 'nonblocking', 'nongenetic', 'nonportability', 'nonsense', 'nonzero', 'nope', 'normalization', 'normalize', 'nose', 'notation', 'notch', 'note', 'notebook', 'noteworthy', 'notice', 'notification', 'notify', 'notion', 'novel', 'novice', 'nowadays', 'nuance', 'nudge', 'nugget', 'nuisance', 'nul', 'null', 'nullable', 'number', 'numerical', 'nutshell', 'o', 'obey', 'obfuscate', 'obfuscation', 'obfuscator', 'object', 'objective', 'obligation', 'oblige', 'obscure', 'obscurity', 'observe', 'observer', 'obsolete', 'obstacle', 'obtain', 'obtrusion', 'obvious', 'obviously', 'ocaml', 'occur', 'occurrence', 'odbc', 'odd', 'oddity', 'offend', 'offer', 'offering', 'office', 'official', 'offset', 'oh', 'oki', 'older', 'omit', 'ongoing', 'onmouseover', 'onus', 'oop', 'opacity', 'opaque', 'open', 'opener', 'opengl', 'opening', 'opera', 'operand', 'operate', 'operating', 'operation', 'operational', 'operator', 'operators', 'opinion', 'opportunity', 'oppose', 'opposite', 'opt', 'opticon', 'optimal', 'optimization', 'optimize', 'option', 'optional', 'optionally', 'oracle', 'orange', 'orbit', 'orchestration', 'order', 'ordered', 'organization', 'organize', 'orient', 'orientate', 'orientation', 'origin', 'original', 'originate', 'orphan', 'os', 'oscilloscope', 'ought', 'outage', 'outbound', 'outcome', 'outdated', 'outer', 'outgo', 'outline', 'outlook', 'outperform', 'output', 'outset', 'outside', 'outweigh', 'overall', 'overcome', 'overcrowd', 'overflow', 'overhaul', 'overhead', 'overlap', 'overlay', 'overload', 'overloading', 'overlook', 'override', 'overrun', 'oversight', 'overtime', 'overuse', 'overview', 'overwhelm', 'overwrite', 'ow', 'owl', 'owner', 'ownership', 'oxygen', 'pa', 'pace', 'pack', 'package', 'packet', 'pad', 'padding', 'page', 'pager', 'pagination', 'pain', 'painful', 'painless', 'paint', 'painter', 'pair', 'palette', 'pan', 'pane', 'panel', 'panic', 'pant', 'paper', 'par', 'para', 'paradigm', 'paragraph', 'parallax', 'parallel', 'parallelism', 'parallelization', 'parallelize', 'param', 'parameter', 'paranoid', 'paraphrase', 'pardon', 'parent', 'parentheses', 'parenthesis', 'park', 'parley', 'parrot', 'parse', 'parsec', 'parser', 'partial', 'participate', 'particular', 'partition', 'partner', 'partnership', 'party', 'pas', 'pascal', 'pass', 'passage', 'passenger', 'passing', 'passionate', 'passman', 'password', 'past', 'paste', 'pastebin', 'pat', 'patch', 'patent', 'path', 'patient', 'patten', 'pattern', 'pause', 'pax', 'pay', 'payment', 'payoff', 'peace', 'peach', 'peachy', 'pear', 'peculiar', 'peek', 'peer', 'peg', 'pen', 'penalize', 'penalty', 'pend', 'pending', 'people', 'pep', 'pepperoni', 'percent', 'percentage', 'perception', 'perfect', 'perfection', 'perforce', 'perform', 'performance', 'performant', 'period', 'periodic', 'perl', 'permanent', 'permission', 'permissive', 'permit', 'permutation', 'permute', 'perpetrator', 'perplex', 'persist', 'persistence', 'persistent', 'persister', 'person', 'persona', 'perspective', 'persuade', 'pertain', 'pertinent', 'perusal', 'pesky', 'pet', 'peter', 'phantom', 'phase', 'phenomenon', 'phew', 'philosophy', 'phone', 'photo', 'photography', 'php', 'phrase', 'physic', 'physical', 'pi', 'pic', 'pick', 'picker', 'pickle', 'pickling', 'pickup', 'picture', 'piece', 'pig', 'pile', 'pilot', 'pimp', 'pin', 'ping', 'pinpoint', 'pint', 'pioneer', 'pip', 'pipe', 'pipeline', 'pistol', 'pitch', 'pity', 'pix', 'pixel', 'pizza', 'place', 'placement', 'plain', 'plan', 'plane', 'plant', 'plate', 'platform', 'play', 'playback', 'player', 'pleasing', 'pleasure', 'pleb', 'plenty', 'plethora', 'plot', 'plotting', 'plug', 'pluggable', 'plumb', 'plunge', 'plural', 'plus', 'ply', 'po', 'pocket', 'poco', 'pod', 'podge', 'poi', 'point', 'pointer', 'pointers', 'pointless', 'poison', 'poke', 'police', 'policy', 'polish', 'poll', 'poller', 'polling', 'pollute', 'polluting', 'polygon', 'polymorphic', 'polymorphism', 'pom', 'pool', 'pop', 'popularity', 'populate', 'population', 'pork', 'port', 'portability', 'portable', 'portion', 'portman', 'pose', 'posh', 'position', 'positional', 'posse', 'possibility', 'post', 'poster', 'posterity', 'postfix', 'posting', 'postscript', 'potential', 'pour', 'pow', 'power', 'practical', 'practice', 'praise', 'precede', 'precedence', 'precise', 'precision', 'predefine', 'predicate', 'predicator', 'predict', 'prefer', 'preferable', 'preferably', 'preference', 'preferred', 'prefix', 'preform', 'premature', 'premium', 'preparation', 'prepare', 'prerequisite', 'presence', 'present', 'presentation', 'presenter', 'preserve', 'preserver', 'preset', 'president', 'press', 'pressing', 'pressure', 'presumably', 'presume', 'presumption', 'pretend', 'pretty', 'prevalent', 'prevent', 'preventative', 'prevention', 'preview', 'price', 'primary', 'primitive', 'principal', 'principle', 'print', 'printer', 'printf', 'printing', 'prior', 'priority', 'prism', 'prius', 'privilege', 'prize', 'pro', 'prob', 'probability', 'probable', 'probe', 'problem', 'problematic', 'procedural', 'procedure', 'proceed', 'proceeds', 'process', 'processing', 'processor', 'proclaim', 'prod', 'produce', 'producer', 'product', 'productid', 'production', 'productive', 'productivity', 'professional', 'professor', 'proficient', 'profile', 'profiler', 'profit', 'profound', 'prog', 'program', 'programmatic', 'programmer', 'programming', 'progress', 'progression', 'prohibit', 'project', 'projection', 'proliferation', 'prolog', 'promise', 'promising', 'promote', 'prompt', 'prone', 'pronounce', 'proof', 'proofing', 'prop', 'propagate', 'propagation', 'proper', 'properly', 'property', 'proponent', 'proportion', 'proposal', 'propose', 'proprietary', 'proscriptive', 'prospect', 'protect', 'protection', 'protector', 'protocol', 'prototype', 'prove', 'proven', 'provide', 'provider', 'providing', 'provision', 'provoke', 'proxy', 'prudent', 'prune', 'pseudo', 'pseudocode', 'pseudorandom', 'psi', 'pst', 'public', 'publication', 'publicity', 'publish', 'publisher', 'pudding', 'pull', 'pump', 'pun', 'punch', 'punctuation', 'punt', 'purchase', 'pure', 'purge', 'purify', 'purity', 'purple', 'purpose', 'purr', 'pursuit', 'push', 'pushpin', 'puzzle', 'pyramidal', 'python', 'pythonic', 'qt', 'quack', 'quad', 'quake', 'qualifier', 'qualify', 'quality', 'quantify', 'quantity', 'quarrelsome', 'quarter', 'quartz', 'query', 'quest', 'question', 'queue', 'quick', 'quicken', 'quirk', 'quit', 'quits', 'quiz', 'quota', 'quotation', 'quote', 'r', 'ra', 'race', 'racer', 'rad', 'radio', 'radius', 'rage', 'raid', 'raise', 'raising', 'ram', 'ramp', 'ran', 'rand', 'random', 'randomize', 'randomly', 'randomness', 'range', 'rani', 'rank', 'ransom', 'rapid', 'rare', 'rarity', 'rate', 'rating', 'ratio', 'rational', 'rationale', 'rave', 'raw', 'rax', 'ray', 'rcs', 'rdf', 'reach', 'reachable', 'reaching', 'react', 'reaction', 'reactor', 'read', 'readability', 'readable', 'readd', 'reader', 'reading', 'ready', 'reality', 'realization', 'realize', 'realizing', 'reallocate', 'reallocation', 'realm', 'rear', 'rearrange', 'reason', 'reasonable', 'reasonably', 'reasoning', 'reassign', 'reassure', 'rebind', 'rebuild', 'rebuilt', 'recalculate', 'recall', 'receive', 'receiver', 'recenter', 'recipe', 'recipient', 'reclaim', 'recode', 'recognition', 'recognize', 'recommend', 'recommendation', 'recompilation', 'recompile', 'recon', 'reconnect', 'record', 'recorder', 'recover', 'recreate', 'recreation', 'rect', 'rectangle', 'rectangular', 'rectify', 'recur', 'recurse', 'recursion', 'recursive', 'recycle', 'red', 'redefine', 'redeploy', 'redesign', 'redirect', 'redirection', 'redisplay', 'redistribute', 'redistribution', 'redraw', 'reduce', 'reducing', 'reduction', 'redundancy', 'redundant', 'ref', 'refactoring', 'refer', 'reference', 'referrer', 'refining', 'reflect', 'reflection', 'reflective', 'reflector', 'refresh', 'refreshing', 'refuse', 'regain', 'regard', 'regardless', 'regenerate', 'regex', 'region', 'register', 'registration', 'registry', 'regression', 'regret', 'regular', 'regularly', 'rehydrate', 'reinstall', 'reinvent', 'reiterate', 'relate', 'relation', 'relational', 'relationship', 'relative', 'relativity', 'relaunch', 'relax', 'relaxation', 'relay', 'release', 'relevance', 'relevant', 'reliability', 'reliable', 'reliance', 'reliant', 'relic', 'relieve', 'relist', 'reload', 'relot', 'rely', 'remain', 'remainder', 'remains', 'remark', 'remedy', 'remember', 'reminder', 'reminiscent', 'remote', 'removal', 'remove', 'removing', 'rename', 'rend', 'render', 'renderer', 'rendering', 'renew', 'reopen', 'reorder', 'rep', 'repaint', 'repeat', 'repeatable', 'repeater', 'repertoire', 'repetition', 'repetitive', 'rephrase', 'repl', 'replace', 'replacement', 'replicate', 'replication', 'reply', 'report', 'reposition', 'repository', 'represent', 'representation', 'representative', 'reproduce', 'reproduction', 'reputation', 'request', 'require', 'requirement', 'rerun', 'research', 'resend', 'reserve', 'reset', 'reshuffle', 'reside', 'resin', 'resistance', 'resize', 'resizer', 'resolution', 'resolve', 'resolver', 'resort', 'resource', 'resp', 'respect', 'respective', 'respectively', 'respond', 'respondent', 'response', 'responsibility', 'responsive', 'rest', 'restart', 'restate', 'restaurant', 'restful', 'restore', 'restraint', 'restrict', 'restriction', 'restrictive', 'restring', 'result', 'resultant', 'resume', 'ret', 'retain', 'retention', 'rethrow', 'retire', 'retrieval', 'retrieve', 'retry', 'return', 'reuse', 'rev', 'reveal', 'reversal', 'reverse', 'reversi', 'reversing', 'review', 'revise', 'revision', 'revive', 'rewind', 'rewire', 'reword', 'rework', 'rewrite', 'rhino', 'ribbon', 'rich', 'richly', 'richness', 'rick', 'rid', 'riddle', 'rigamarole', 'right', 'ring', 'rip', 'ripe', 'risk', 'risky', 'road', 'roaming', 'rob', 'robot', 'robust', 'robustness', 'rock', 'rocket', 'rogue', 'roi', 'role', 'roll', 'rollback', 'rookie', 'room', 'root', 'rope', 'rotate', 'rotating', 'rotation', 'rotator', 'rough', 'round', 'rounding', 'rout', 'route', 'router', 'routine', 'routing', 'row', 'rpg', 'rub', 'rubber', 'ruby', 'ruin', 'rule', 'ruler', 'rumor', 'run', 'rune', 'runnable', 'runner', 'running', 'rush', 'rusty', 'sacrifice', 'sad', 'safari', 'safe', 'safety', 'sake', 'sal', 'salary', 'sale', 'salesman', 'salt', 'salty', 'salutation', 'salvation', 'sam', 'sample', 'sampler', 'sand', 'sandbox', 'sane', 'sanitize', 'sanity', 'sans', 'satellite', 'satisfactory', 'satisfy', 'sauce', 'sausage', 'save', 'saver', 'saving', 'saw', 'sax', 'scaffold', 'scala', 'scalable', 'scalar', 'scale', 'scaling', 'scan', 'scanner', 'scanning', 'scarce', 'scare', 'scatter', 'scenario', 'scene', 'schedule', 'schema', 'scheme', 'schlemiel', 'school', 'science', 'scientist', 'scintilla', 'scoff', 'scope', 'score', 'scour', 'scouring', 'scout', 'scrap', 'scrapbook', 'scrape', 'scratch', 'scream', 'screen', 'screw', 'screwing', 'script', 'scripting', 'scroll', 'scrounge', 'scrub', 'scry', 'sdk', 'se', 'sea', 'seal', 'seam', 'seamless', 'seamlessness', 'search', 'searching', 'season', 'seat', 'sec', 'second', 'secret', 'section', 'secure', 'security', 'seed', 'seedy', 'seeing', 'seek', 'segment', 'segmentation', 'segregation', 'seidel', 'seldom', 'select', 'selection', 'selective', 'selector', 'selenium', 'self', 'sell', 'semantics', 'semaphore', 'semi', 'semicolon', 'send', 'sender', 'sending', 'sense', 'sensible', 'sensor', 'sent', 'sentence', 'sentiment', 'sentinel', 'separate', 'separation', 'separator', 'sequence', 'sequential', 'ser', 'serge', 'serial', 'serialization', 'serialize', 'series', 'serif', 'serve', 'server', 'service', 'servlet', 'session', 'set', 'seta', 'setter', 'setting', 'settle', 'setup', 'seven', 'sever', 'severe', 'severity', 'sex', 'sh', 'sha', 'shade', 'shader', 'shadow', 'shaky', 'shall', 'shallow', 'shape', 'share', 'shebang', 'sheep', 'sheer', 'sheet', 'shell', 'shepherd', 'shift', 'shifting', 'shine', 'ship', 'shipment', 'shipping', 'shock', 'shoot', 'shop', 'shopping', 'shore', 'short', 'shortcoming', 'shorten', 'shorter', 'shorthand', 'shot', 'shoulder', 'showdown', 'showing', 'shrink', 'shuffle', 'shunt', 'shut', 'shutdown', 'shutting', 'si', 'sibling', 'sidenote', 'sieve', 'sift', 'sifting', 'sig', 'sigh', 'sight', 'sign', 'signal', 'signature', 'signer', 'significance', 'signify', 'signum', 'silence', 'silent', 'silver', 'similarity', 'simple', 'simpler', 'simplicity', 'simplification', 'simplify', 'simulate', 'simulation', 'simulator', 'sine', 'singleton', 'sink', 'sip', 'sit', 'site', 'sitting', 'situate', 'situation', 'size', 'sizer', 'skeet', 'skeleton', 'sketch', 'sketchy', 'skew', 'skill', 'skilled', 'skim', 'skin', 'skip', 'skipping', 'sky', 'slack', 'slap', 'slash', 'sleazy', 'sleeker', 'sleep', 'sleepless', 'sleeve', 'slice', 'slicing', 'slick', 'slickness', 'slide', 'slider', 'slight', 'slim', 'slip', 'slippery', 'slope', 'sloppy', 'slot', 'slow', 'slowdown', 'slowly', 'slows', 'slug', 'slurp', 'smack', 'smalltalk', 'smart', 'smatter', 'smell', 'smite', 'smorgasbord', 'snag', 'snail', 'snake', 'snap', 'snapping', 'snapshot', 'sneaky', 'sniff', 'sniffer', 'snip', 'snipe', 'snippet', 'soap', 'soc', 'sock', 'socket', 'softball', 'software', 'solicit', 'solo', 'solution', 'solve', 'solver', 'somebody', 'someday', 'someplace', 'somewhat', 'somewhen', 'son', 'song', 'sonic', 'sooner', 'sop', 'sophisticate', 'sorry', 'sort', 'sortable', 'sot', 'soul', 'sound', 'soup', 'source', 'sourceforge', 'space', 'spade', 'spaghetti', 'span', 'spare', 'spark', 'sparkle', 'sparse', 'spawn', 'spawning', 'speak', 'speaker', 'speaking', 'spec', 'special', 'specialization', 'specialize', 'specie', 'specific', 'specifically', 'specification', 'specificly', 'specifier', 'specify', 'specs', 'specter', 'spectrum', 'speculation', 'speech', 'speed', 'speeding', 'spell', 'spelunk', 'spend', 'spending', 'spent', 'spew', 'spike', 'spin', 'spinner', 'spirit', 'spit', 'splash', 'splice', 'spline', 'splint', 'split', 'splitter', 'splitting', 'splotchy', 'spoil', 'spool', 'sport', 'sporty', 'spot', 'spread', 'spring', 'sprinkle', 'sql', 'sqlite', 'square', 'squeak', 'squeeze', 'squiggle', 'squirrel', 'squirrelfish', 'sri', 'st', 'stab', 'stability', 'stable', 'stack', 'staff', 'stag', 'stage', 'staggering', 'staging', 'stale', 'stamp', 'stand', 'standard', 'standardize', 'standpoint', 'stapler', 'staring', 'start', 'starter', 'starting', 'state', 'stateless', 'statement', 'static', 'statically', 'statistic', 'status', 'stay', 'stdin', 'steal', 'steam', 'steep', 'steer', 'step', 'stepping', 'sterilize', 'stewardship', 'stick', 'sticky', 'stifle', 'stile', 'sting', 'stink', 'stir', 'stock', 'stolen', 'stomach', 'stone', 'stop', 'storage', 'store', 'storm', 'story', 'stra', 'straight', 'straightforward', 'strange', 'strapper', 'strategy', 'straw', 'stream', 'streamline', 'street', 'strength', 'stress', 'stressful', 'stretch', 'strict', 'strictness', 'strike', 'string', 'stringent', 'strip', 'stripping', 'stroke', 'strongly', 'structure', 'struggle', 'struggling', 'stub', 'stuck', 'student', 'studio', 'study', 'stuff', 'stuffed', 'stum', 'stumble', 'stumbling', 'stupid', 'style', 'stylesheet', 'stylish', 'stylus', 'sub', 'subclass', 'subcontrol', 'subentry', 'subindex', 'subject', 'subjective', 'submission', 'submit', 'subpackage', 'subquestion', 'subscribe', 'subscriber', 'subscript', 'subscription', 'subsequent', 'subset', 'subsidiary', 'subsonic', 'substitute', 'substitution', 'substring', 'subsystem', 'subtitle', 'subtle', 'subtlety', 'subtract', 'subtraction', 'subversion', 'succeed', 'succeeding', 'success', 'succession', 'successive', 'successor', 'suck', 'suds', 'suffer', 'suffice', 'sufficient', 'suffix', 'sugar', 'suggest', 'suggestion', 'suit', 'suitability', 'suitable', 'suite', 'sum', 'summarize', 'summary', 'summation', 'summer', 'summit', 'summon', 'sun', 'sunk', 'sunny', 'super', 'superclass', 'superior', 'superiority', 'supplier', 'supply', 'support', 'suppose', 'suppress', 'suppression', 'sur', 'sure', 'surf', 'surface', 'surfboard', 'surname', 'surprise', 'surprising', 'surprisingly', 'surrogate', 'surround', 'survey', 'survive', 'suspect', 'suspend', 'suspicion', 'suspicious', 'swab', 'swallow', 'swap', 'sway', 'swear', 'swearword', 'sweep', 'sweet', 'swift', 'swig', 'swim', 'swing', 'swipe', 'switch', 'switching', 'symbol', 'symbolic', 'symptom', 'sync', 'synch', 'synchronization', 'synchronize', 'syndicate', 'syndication', 'synonym', 'syntactic', 'syntax', 'synthesis', 'synthesizer', 'ta', 'tab', 'table', 'tablet', 'tabular', 'tabulate', 'tack', 'tackle', 'tackling', 'tag', 'tail', 'tailor', 'talk', 'tall', 'taller', 'tamper', 'tan', 'tangle', 'tank', 'tao', 'tap', 'tapestry', 'tar', 'target', 'task', 'taste', 'taught', 'tax', 'taxi', 'tcl', 'teach', 'teaching', 'team', 'teamwork', 'tear', 'teardown', 'tech', 'technica', 'technique', 'technology', 'ted', 'tedious', 'teeny', 'teeth', 'telemetry', 'telephone', 'tell', 'temp', 'temperature', 'template', 'temple', 'temporal', 'tend', 'tendency', 'tense', 'term', 'terminal', 'terminate', 'termination', 'terminator', 'terminology', 'terrace', 'terrain', 'terrible', 'territory', 'terry', 'terse', 'tesseract', 'test', 'testa', 'tester', 'testing', 'testone', 'text', 'textbook', 'textile', 'texture', 'th', 'thank', 'thanks', 'theater', 'theft', 'theirs', 'theme', 'theoretical', 'theory', 'therefor', 'thereof', 'thicket', 'thing', 'think', 'thinking', 'thirteen', 'tho', 'thorny', 'thorough', 'thought', 'thoughtful', 'thousand', 'thow', 'thrash', 'thread', 'thready', 'threat', 'threshold', 'threw', 'thrift', 'throat', 'throbber', 'throttle', 'throughput', 'throw', 'throwing', 'thrown', 'thumb', 'thumbnail', 'thunderbird', 'thunderstorm', 'thunk', 'thwart', 'ti', 'tick', 'ticker', 'ticket', 'tidy', 'tie', 'tier', 'tiered', 'tiff', 'tiger', 'tight', 'tightly', 'til', 'tilde', 'tile', 'till', 'timbre', 'time', 'timeliness', 'timer', 'timetable', 'timing', 'tint', 'tiny', 'tip', 'tire', 'title', 'tk', 'today', 'toggle', 'token', 'told', 'tolerate', 'tomahawk', 'tomcat', 'tomorrow', 'ton', 'tone', 'toner', 'tongue', 'tony', 'tool', 'toolbox', 'tooling', 'topic', 'topmost', 'torch', 'torn', 'torque', 'torrent', 'torture', 'toss', 'tossup', 'total', 'tote', 'toto', 'touch', 'tour', 'tourism', 'town', 'toy', 'toying', 'trace', 'tracer', 'track', 'tracker', 'tracking', 'trade', 'trader', 'trading', 'traffic', 'trail', 'trailing', 'train', 'training', 'transact', 'transaction', 'transactional', 'transceiver', 'transfer', 'transform', 'transformation', 'transformer', 'transient', 'transition', 'translate', 'translation', 'transmit', 'transparency', 'transparent', 'transport', 'trap', 'trash', 'travel', 'traversal', 'traverse', 'traversion', 'tray', 'tread', 'treat', 'treatment', 'trebuchet', 'tree', 'trend', 'triage', 'trial', 'triangle', 'triangulation', 'trick', 'trickery', 'tricky', 'trident', 'trifle', 'trigger', 'trim', 'trimming', 'trip', 'triple', 'trivial', 'trouble', 'trough', 'truly', 'trump', 'truncate', 'truncation', 'trunk', 'trust', 'truth', 'try', 'tue', 'tumble', 'tune', 'tuning', 'tunnel', 'tup', 'tuple', 'turbo', 'turn', 'turner', 'turning', 'tut', 'tutorial', 'twain', 'tweak', 'tweet', 'twice', 'twiddling', 'twist', 'twister', 'twitter', 'twofold', 'type', 'typecast', 'typed', 'typical', 'typo', 'typography', 'u', 'ugh', 'ugliness', 'ultimate', 'umlaut', 'unaccepted', 'unaffected', 'unanswered', 'unappealing', 'unassigned', 'unattached', 'unattended', 'unauthorized', 'unaware', 'unbalance', 'unbind', 'unblock', 'unbound', 'unbounded', 'uncaught', 'uncertain', 'uncertainty', 'unchanging', 'uncheck', 'unchecked', 'unclear', 'unclick', 'uncompress', 'uncontrolled', 'undecorated', 'undefined', 'undergo', 'underlie', 'underline', 'underlying', 'underneath', 'underscore', 'understand', 'understanding', 'understood', 'undertake', 'undocumented', 'uneasy', 'unescape', 'unexpected', 'unfamiliar', 'unfreed', 'unhandled', 'unhook', 'uniform', 'uniformly', 'unify', 'uninitiated', 'unintended', 'uninterrupted', 'union', 'unique', 'uniqueness', 'unit', 'unity', 'universal', 'university', 'unknow', 'unknown', 'unlike', 'unlimited', 'unload', 'unlock', 'unlocker', 'unmanaged', 'unnecessary', 'unneeded', 'unnoticed', 'unnumbered', 'unordered', 'unpack', 'unrecognized', 'unreferenced', 'unrefined', 'unrelated', 'unresolved', 'unroll', 'unrooted', 'unsafe', 'unsaved', 'unselect', 'unset', 'unsigned', 'unsorted', 'unstretched', 'unstripped', 'unsuccessful', 'unsure', 'unterminated', 'untested', 'untitled', 'untrue', 'untrusted', 'unuse', 'unused', 'unwanted', 'unwind', 'unwinding', 'unwrap', 'upcoming', 'update', 'upgrade', 'upper', 'upset', 'upside', 'upwards', 'usability', 'usage', 'use', 'useful', 'usefulness', 'useless', 'user', 'usual', 'utility', 'utilization', 'utilize', 'vague', 'vain', 'valid', 'validate', 'validation', 'validity', 'valuable', 'value', 'van', 'vanilla', 'vanish', 'vanity', 'var', 'vara', 'variable', 'variant', 'variation', 'variety', 'vary', 'vast', 'vat', 'vb', 'vector', 'vehicle', 'vein', 'velocity', 'vendor', 'venture', 'verb', 'verbatim', 'verbose', 'verbosity', 'verification', 'verify', 'versatile', 'verse', 'version', 'versus', 'vertex', 'vertical', 'viable', 'vice', 'vicinity', 'victim', 'video', 'view', 'viewer', 'viewpoint', 'villa', 'vim', 'vine', 'vintage', 'violate', 'violation', 'virtual', 'virus', 'visibility', 'visible', 'vision', 'visit', 'visitable', 'visitor', 'vista', 'visual', 'visualization', 'visualize', 'visualizer', 'vital', 'voice', 'void', 'volition', 'volume', 'volumetry', 'voodoo', 'vote', 'voting', 'wack', 'wagon', 'wait', 'wake', 'waken', 'walk', 'walker', 'walking', 'wall', 'walnut', 'wan', 'wand', 'wander', 'want', 'wanting', 'war', 'warcraft', 'warm', 'warn', 'warning', 'warrant', 'warranty', 'wary', 'waste', 'wasting', 'watch', 'watchdog', 'watching', 'water', 'watermark', 'wave', 'wavelet', 'way', 'weakness', 'wealth', 'weapon', 'weather', 'weave', 'web', 'wed', 'wedge', 'wee', 'weed', 'week', 'weekday', 'weekend', 'weel', 'weigh', 'weight', 'weird', 'weirdness', 'welcome', 'wen', 'whack', 'whatnot', 'whatsoever', 'wheel', 'wheelbarrow', 'whichever', 'whilst', 'whim', 'whip', 'whirling', 'whisper', 'wholly', 'whomever', 'whoop', 'wicked', 'wicket', 'width', 'wife', 'wild', 'win', 'wince', 'wind', 'window', 'wine', 'wing', 'winkle', 'winning', 'winter', 'wipe', 'wire', 'wireless', 'wiring', 'wisdom', 'wise', 'wish', 'wither', 'wizard', 'wonder', 'wonderful', 'wondering', 'wonky', 'woof', 'woohoo', 'word', 'work', 'workable', 'workbench', 'workbook', 'worked', 'worker', 'working', 'workplace', 'workspace', 'world', 'worry', 'worrying', 'worse', 'worst', 'worth', 'worthless', 'wound', 'wow', 'wrap', 'wrapper', 'wrapping', 'write', 'writer', 'writing', 'wrong', 'x', 'xml', 'xna', 'xor', 'xsl', 'xslt', 'ya', 'yahoo', 'yaml', 'yank', 'ye', 'yea', 'yeah', 'year', 'yell', 'yellow', 'yep', 'yes', 'yesterday', 'yield', 'yo', 'york', 'youth', 'yuck', 'z', 'zac', 'zealous', 'zebra', 'zero', 'zip', 'zipping', 'zombie', 'zone', 'zoom']\n"
     ]
    }
   ],
   "source": [
    "# Affichage\n",
    "LONGUEUR_CORPUS = len(set(corpus_MOTS))\n",
    "print(LONGUEUR_CORPUS)\n",
    "print(sorted(set(corpus_MOTS)))"
   ]
  },
  {
   "cell_type": "markdown",
   "id": "b585a5d1",
   "metadata": {},
   "source": [
    "Affichage du corpus des lignes dans l'ordre du dataframe :"
   ]
  },
  {
   "cell_type": "code",
   "execution_count": 22,
   "id": "aa0d4e09",
   "metadata": {},
   "outputs": [
    {
     "name": "stdout",
     "output_type": "stream",
     "text": [
      "8679\n"
     ]
    }
   ],
   "source": [
    "print(len(corpus_LIGNES))\n",
    "# print(corpus_LIGNES)"
   ]
  },
  {
   "cell_type": "markdown",
   "id": "aa15f47c",
   "metadata": {},
   "source": [
    "On va maintenant extraire des features de ce corpus.\n",
    "On considère le seuil N comme le nombre minimum de l'apparition d'un mot dans le corpus pour qu'il soit pris en compte dans l'encodage des résultats. Cela permet de filtrer les mots peu utilisés, similairement à ce que l'on a fait pour les tags."
   ]
  },
  {
   "cell_type": "code",
   "execution_count": 23,
   "id": "b6f76a76",
   "metadata": {},
   "outputs": [],
   "source": [
    "# On filtre les mots qui apparaissent seulement plus de X fois\n",
    "SEUIL_MIN = 2\n",
    "\n",
    "# On filtre les mots qui apparaissent dans X% des cas\n",
    "SEUIL_MAX = 0.5"
   ]
  },
  {
   "cell_type": "markdown",
   "id": "e0f37701",
   "metadata": {},
   "source": [
    "On crée des fonctions d'extraction de features :"
   ]
  },
  {
   "cell_type": "code",
   "execution_count": 24,
   "id": "477ace5c",
   "metadata": {},
   "outputs": [],
   "source": [
    "from sklearn.feature_extraction.text import TfidfVectorizer\n",
    "\n",
    "\n",
    "def extractTFIDF(lignes, SEUIL_MIN, SEUIL_MAX, *args):\n",
    "    \n",
    "    try:\n",
    "        vectorizer = TfidfVectorizer(min_df=SEUIL_MIN, max_df=SEUIL_MAX, max_features=args[0])\n",
    "    except:\n",
    "        vectorizer = TfidfVectorizer(min_df=SEUIL_MIN, max_df=SEUIL_MAX)\n",
    "    \n",
    "    vectors = vectorizer.fit_transform(corpus_LIGNES)\n",
    "    feature_names = vectorizer.get_feature_names_out()\n",
    "    dense = vectors.todense()\n",
    "    denselist = dense.tolist()\n",
    "    return pd.DataFrame(denselist, columns=feature_names)"
   ]
  },
  {
   "cell_type": "markdown",
   "id": "b2afdd5b",
   "metadata": {},
   "source": [
    "Application des fonctions :"
   ]
  },
  {
   "cell_type": "code",
   "execution_count": 25,
   "id": "013df137",
   "metadata": {
    "scrolled": true
   },
   "outputs": [
    {
     "name": "stdout",
     "output_type": "stream",
     "text": [
      "8679x3463\n"
     ]
    }
   ],
   "source": [
    "dataTF = extractTFIDF(corpus_LIGNES, SEUIL_MIN, SEUIL_MAX)\n",
    "\n",
    "print(f'{dataTF.shape[0]}x{dataTF.shape[1]}')"
   ]
  },
  {
   "cell_type": "markdown",
   "id": "9c0634e1",
   "metadata": {},
   "source": [
    "### Tags\n",
    "\n",
    "One hot encoding des tags :"
   ]
  },
  {
   "cell_type": "code",
   "execution_count": 26,
   "id": "4a66b907",
   "metadata": {},
   "outputs": [
    {
     "name": "stdout",
     "output_type": "stream",
     "text": [
      "8679x6\n"
     ]
    },
    {
     "data": {
      "text/html": [
       "<div>\n",
       "<style scoped>\n",
       "    .dataframe tbody tr th:only-of-type {\n",
       "        vertical-align: middle;\n",
       "    }\n",
       "\n",
       "    .dataframe tbody tr th {\n",
       "        vertical-align: top;\n",
       "    }\n",
       "\n",
       "    .dataframe thead th {\n",
       "        text-align: right;\n",
       "    }\n",
       "</style>\n",
       "<table border=\"1\" class=\"dataframe\">\n",
       "  <thead>\n",
       "    <tr style=\"text-align: right;\">\n",
       "      <th></th>\n",
       "      <th>.net</th>\n",
       "      <th>c#</th>\n",
       "      <th>c++</th>\n",
       "      <th>java</th>\n",
       "      <th>javascript</th>\n",
       "      <th>python</th>\n",
       "    </tr>\n",
       "  </thead>\n",
       "  <tbody>\n",
       "    <tr>\n",
       "      <th>0</th>\n",
       "      <td>0</td>\n",
       "      <td>1</td>\n",
       "      <td>0</td>\n",
       "      <td>0</td>\n",
       "      <td>0</td>\n",
       "      <td>0</td>\n",
       "    </tr>\n",
       "    <tr>\n",
       "      <th>1</th>\n",
       "      <td>1</td>\n",
       "      <td>1</td>\n",
       "      <td>0</td>\n",
       "      <td>0</td>\n",
       "      <td>0</td>\n",
       "      <td>0</td>\n",
       "    </tr>\n",
       "    <tr>\n",
       "      <th>2</th>\n",
       "      <td>0</td>\n",
       "      <td>1</td>\n",
       "      <td>0</td>\n",
       "      <td>0</td>\n",
       "      <td>0</td>\n",
       "      <td>0</td>\n",
       "    </tr>\n",
       "    <tr>\n",
       "      <th>3</th>\n",
       "      <td>1</td>\n",
       "      <td>0</td>\n",
       "      <td>0</td>\n",
       "      <td>0</td>\n",
       "      <td>0</td>\n",
       "      <td>0</td>\n",
       "    </tr>\n",
       "    <tr>\n",
       "      <th>4</th>\n",
       "      <td>0</td>\n",
       "      <td>1</td>\n",
       "      <td>0</td>\n",
       "      <td>0</td>\n",
       "      <td>0</td>\n",
       "      <td>0</td>\n",
       "    </tr>\n",
       "  </tbody>\n",
       "</table>\n",
       "</div>"
      ],
      "text/plain": [
       "   .net  c#  c++  java  javascript  python\n",
       "0     0   1    0     0           0       0\n",
       "1     1   1    0     0           0       0\n",
       "2     0   1    0     0           0       0\n",
       "3     1   0    0     0           0       0\n",
       "4     0   1    0     0           0       0"
      ]
     },
     "execution_count": 26,
     "metadata": {},
     "output_type": "execute_result"
    }
   ],
   "source": [
    "# Encodage des tags multilabel\n",
    "from sklearn.preprocessing import MultiLabelBinarizer\n",
    "\n",
    "mlb = MultiLabelBinarizer()\n",
    "resultat = mlb.fit_transform(data['Tags'])\n",
    "dataTags = pd.DataFrame(resultat)\n",
    "dataTags.columns = mlb.classes_\n",
    "print(f'{dataTags.shape[0]}x{dataTags.shape[1]}')\n",
    "dataTags.head(5)"
   ]
  },
  {
   "cell_type": "markdown",
   "id": "b7854e9c",
   "metadata": {},
   "source": [
    "# ACP\n",
    "\n",
    "Afin de réduire la dimension, on affiche l'éboulis aux valeurs propres du problème, via une fonction."
   ]
  },
  {
   "cell_type": "code",
   "execution_count": 27,
   "id": "1a541ab6",
   "metadata": {},
   "outputs": [],
   "source": [
    "# Import des librairies\n",
    "from sklearn import decomposition\n",
    "from sklearn import preprocessing\n",
    "from fonctionsACP import *\n",
    "\n",
    "\n",
    "def affichageEboulis(n_comp, data):\n",
    "\n",
    "    # Export des colonnes quantitatives\n",
    "    data_pca = data\n",
    "\n",
    "    # Exctraction des données d'analyse\n",
    "    X = data_pca.values\n",
    "    names = data_pca.index\n",
    "    features = data_pca.columns\n",
    "\n",
    "    # Centrage et Réduction\n",
    "    std_scale = preprocessing.StandardScaler().fit(X)\n",
    "    X_scaled = std_scale.transform(X)\n",
    "\n",
    "    # Calcul des composantes principales (PCA)\n",
    "    pca = decomposition.PCA(n_components=n_comp)\n",
    "    pca.fit(X_scaled)\n",
    "\n",
    "    # Eboulis des valeurs propres\n",
    "    display_scree_plot(pca)"
   ]
  },
  {
   "cell_type": "markdown",
   "id": "f6e7175c",
   "metadata": {},
   "source": [
    "Application de la fonction aux deux bag of words :"
   ]
  },
  {
   "cell_type": "code",
   "execution_count": 29,
   "id": "f2c8200d",
   "metadata": {},
   "outputs": [
    {
     "data": {
      "image/png": "[encoded data removed]",
      "text/plain": [
       "<Figure size 432x288 with 1 Axes>"
      ]
     },
     "metadata": {
      "needs_background": "light"
     },
     "output_type": "display_data"
    }
   ],
   "source": [
    "# Nombre de composantes principales\n",
    "n_comp = 3000\n",
    "\n",
    "# Application de la fonction\n",
    "affichageEboulis(n_comp, dataTF)"
   ]
  },
  {
   "cell_type": "markdown",
   "id": "4216c52b",
   "metadata": {},
   "source": [
    "Basé sur ces résultats, on refait une extraction de features avec un compromis entre la variabilité et le nombre de features :"
   ]
  },
  {
   "cell_type": "code",
   "execution_count": 30,
   "id": "d974ebdf",
   "metadata": {},
   "outputs": [],
   "source": [
    "dataTF = extractTFIDF(corpus_LIGNES, SEUIL_MIN, SEUIL_MAX, 1500)"
   ]
  },
  {
   "cell_type": "markdown",
   "id": "5c3583d3",
   "metadata": {},
   "source": [
    "# Sauvegarde\n",
    "\n",
    "Concaténation des tags :"
   ]
  },
  {
   "cell_type": "code",
   "execution_count": 31,
   "id": "dfe3d13f",
   "metadata": {
    "scrolled": false
   },
   "outputs": [
    {
     "name": "stdout",
     "output_type": "stream",
     "text": [
      "8679x1500\n",
      "8679x1506\n"
     ]
    }
   ],
   "source": [
    "# TF-IDF\n",
    "dataTFTags = pd.concat([dataTF, dataTags], axis=1)\n",
    "print(f'{dataTF.shape[0]}x{dataTF.shape[1]}')\n",
    "print(f'{dataTFTags.shape[0]}x{dataTFTags.shape[1]}')"
   ]
  },
  {
   "cell_type": "markdown",
   "id": "f4210b5e",
   "metadata": {},
   "source": [
    "Export sans la colonne d'index :"
   ]
  },
  {
   "cell_type": "code",
   "execution_count": 32,
   "id": "857835c3",
   "metadata": {},
   "outputs": [],
   "source": [
    "data.to_csv('dataRaw_CUT.csv', index=False)\n",
    "dataTF.to_csv('TF-IDF_CUT.csv', index=False)\n",
    "dataTFTags.to_csv('TF-IDFTags_CUT.csv', index=False)"
   ]
  },
  {
   "cell_type": "code",
   "execution_count": null,
   "id": "1f557fb5",
   "metadata": {},
   "outputs": [],
   "source": [
    "# data.head(5)"
   ]
  },
  {
   "cell_type": "code",
   "execution_count": null,
   "id": "02b154f8",
   "metadata": {},
   "outputs": [],
   "source": [
    "# dataTF.head(5)"
   ]
  },
  {
   "cell_type": "code",
   "execution_count": null,
   "id": "0a0e08f1",
   "metadata": {},
   "outputs": [],
   "source": [
    "# dataTFTags.head(5)"
   ]
  }
 ],
 "metadata": {
  "kernelspec": {
   "display_name": "Python 3 (ipykernel)",
   "language": "python",
   "name": "python3"
  },
  "language_info": {
   "codemirror_mode": {
    "name": "ipython",
    "version": 3
   },
   "file_extension": ".py",
   "mimetype": "text/x-python",
   "name": "python",
   "nbconvert_exporter": "python",
   "pygments_lexer": "ipython3",
   "version": "3.9.7"
  }
 },
 "nbformat": 4,
 "nbformat_minor": 5
}
